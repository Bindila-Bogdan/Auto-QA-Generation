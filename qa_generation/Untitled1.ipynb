{
 "cells": [
  {
   "cell_type": "code",
   "execution_count": 1,
   "id": "286860b4-43cb-43f3-a262-8ef4e2079be4",
   "metadata": {
    "tags": []
   },
   "outputs": [
    {
     "name": "stdout",
     "output_type": "stream",
     "text": [
      "Archive:  folds.zip\n",
      "   creating: -distiluse-base-multilingual-cased-v1_3015/\n",
      "  inflating: -distiluse-base-multilingual-cased-v1_3015/test_fold_one.csv  \n",
      "  inflating: -distiluse-base-multilingual-cased-v1_3015/test_fold_two.csv  \n",
      "  inflating: -distiluse-base-multilingual-cased-v1_3015/train_fold_one.csv  \n",
      "  inflating: -distiluse-base-multilingual-cased-v1_3015/train_fold_two.csv  \n",
      "   creating: -paraphrase-multilingual-MiniLM-L12-v2_3015/\n",
      "  inflating: -paraphrase-multilingual-MiniLM-L12-v2_3015/test_fold_one.csv  \n",
      "  inflating: -paraphrase-multilingual-MiniLM-L12-v2_3015/test_fold_two.csv  \n",
      "  inflating: -paraphrase-multilingual-MiniLM-L12-v2_3015/train_fold_one.csv  \n",
      "  inflating: -paraphrase-multilingual-MiniLM-L12-v2_3015/train_fold_two.csv  \n"
     ]
    }
   ],
   "source": [
    "unzip folds.zip"
   ]
  },
  {
   "cell_type": "code",
   "execution_count": null,
   "id": "096206b4-1e83-442a-9226-acd565142720",
   "metadata": {},
   "outputs": [],
   "source": []
  }
 ],
 "metadata": {
  "kernelspec": {
   "display_name": "Bash",
   "language": "bash",
   "name": "bash"
  },
  "language_info": {
   "codemirror_mode": "shell",
   "file_extension": ".sh",
   "mimetype": "text/x-sh",
   "name": "bash"
  }
 },
 "nbformat": 4,
 "nbformat_minor": 5
}
