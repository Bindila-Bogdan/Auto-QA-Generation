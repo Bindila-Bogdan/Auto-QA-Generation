{
 "cells": [
  {
   "cell_type": "code",
   "outputs": [
    {
     "name": "stdout",
     "output_type": "stream",
     "text": [
      "Collecting seaborn\n",
      "  Downloading seaborn-0.13.2-py3-none-any.whl.metadata (5.4 kB)\n",
      "Requirement already satisfied: numpy!=1.24.0,>=1.20 in c:\\users\\szond\\anaconda3\\envs\\automated-qa-generation\\lib\\site-packages (from seaborn) (1.23.5)\n",
      "Requirement already satisfied: pandas>=1.2 in c:\\users\\szond\\anaconda3\\envs\\automated-qa-generation\\lib\\site-packages (from seaborn) (2.2.0)\n",
      "Requirement already satisfied: matplotlib!=3.6.1,>=3.4 in c:\\users\\szond\\anaconda3\\envs\\automated-qa-generation\\lib\\site-packages (from seaborn) (3.5.3)\n",
      "Requirement already satisfied: cycler>=0.10 in c:\\users\\szond\\anaconda3\\envs\\automated-qa-generation\\lib\\site-packages (from matplotlib!=3.6.1,>=3.4->seaborn) (0.12.1)\n",
      "Requirement already satisfied: fonttools>=4.22.0 in c:\\users\\szond\\anaconda3\\envs\\automated-qa-generation\\lib\\site-packages (from matplotlib!=3.6.1,>=3.4->seaborn) (4.47.2)\n",
      "Requirement already satisfied: kiwisolver>=1.0.1 in c:\\users\\szond\\anaconda3\\envs\\automated-qa-generation\\lib\\site-packages (from matplotlib!=3.6.1,>=3.4->seaborn) (1.4.5)\n",
      "Requirement already satisfied: packaging>=20.0 in c:\\users\\szond\\anaconda3\\envs\\automated-qa-generation\\lib\\site-packages (from matplotlib!=3.6.1,>=3.4->seaborn) (20.9)\n",
      "Requirement already satisfied: pillow>=6.2.0 in c:\\users\\szond\\anaconda3\\envs\\automated-qa-generation\\lib\\site-packages (from matplotlib!=3.6.1,>=3.4->seaborn) (10.2.0)\n",
      "Requirement already satisfied: pyparsing>=2.2.1 in c:\\users\\szond\\anaconda3\\envs\\automated-qa-generation\\lib\\site-packages (from matplotlib!=3.6.1,>=3.4->seaborn) (3.1.1)\n",
      "Requirement already satisfied: python-dateutil>=2.7 in c:\\users\\szond\\anaconda3\\envs\\automated-qa-generation\\lib\\site-packages (from matplotlib!=3.6.1,>=3.4->seaborn) (2.8.2)\n",
      "Requirement already satisfied: pytz>=2020.1 in c:\\users\\szond\\anaconda3\\envs\\automated-qa-generation\\lib\\site-packages (from pandas>=1.2->seaborn) (2022.7.1)\n",
      "Requirement already satisfied: tzdata>=2022.7 in c:\\users\\szond\\anaconda3\\envs\\automated-qa-generation\\lib\\site-packages (from pandas>=1.2->seaborn) (2023.4)\n",
      "Requirement already satisfied: six>=1.5 in c:\\users\\szond\\anaconda3\\envs\\automated-qa-generation\\lib\\site-packages (from python-dateutil>=2.7->matplotlib!=3.6.1,>=3.4->seaborn) (1.16.0)\n",
      "Downloading seaborn-0.13.2-py3-none-any.whl (294 kB)\n",
      "   ---------------------------------------- 0.0/294.9 kB ? eta -:--:--\n",
      "   - -------------------------------------- 10.2/294.9 kB ? eta -:--:--\n",
      "   - -------------------------------------- 10.2/294.9 kB ? eta -:--:--\n",
      "   ---------- ---------------------------- 81.9/294.9 kB 919.0 kB/s eta 0:00:01\n",
      "   ------------------ ------------------- 143.4/294.9 kB 950.9 kB/s eta 0:00:01\n",
      "   --------------------------- ------------ 204.8/294.9 kB 1.1 MB/s eta 0:00:01\n",
      "   ---------------------------------------- 294.9/294.9 kB 1.2 MB/s eta 0:00:00\n",
      "Installing collected packages: seaborn\n",
      "Successfully installed seaborn-0.13.2\n"
     ]
    }
   ],
   "source": [
    "!pip install seaborn"
   ],
   "metadata": {
    "collapsed": false,
    "ExecuteTime": {
     "end_time": "2024-02-02T17:57:27.659365500Z",
     "start_time": "2024-02-02T17:57:19.985813100Z"
    }
   },
   "id": "f47ac9a55e2f000b",
   "execution_count": 2
  },
  {
   "cell_type": "code",
   "outputs": [
    {
     "data": {
      "text/plain": "   Question no                                           Question  \\\n0           23  Wanneer moet ik contact opnemen met het zieken...   \n1           24  Hoe kan ik contact opnemen met de ZGT poliklin...   \n2           25  Wat is het telefoonnummer van de afdeling radi...   \n3           26  Wat moet ik doen als ik vragen of complicaties...   \n4           27  Wat is het emailadres van de Vereniging aangeb...   \n\n                                            Answer_x  \\\n0  Als er problemen zijn op de eerste avond of na...   \n1  U kunt bellen naar 088 708 53 96 tussen 8.30-1...   \n2  Het telefoonnummer van de afdeling radiologie ...   \n3  U kunt tijdens kantooruren contact opnemen met...   \n4  Het emailadres van de Vereniging aangeboren he...   \n\n                                             Section  Unnamed: 0  topic_id  \\\n0  Anale fissuur --- Wanneer contact opnemen met ...         170         0   \n1  Anesthesie, jongeren (POS) --- Vragen --- Moch...          50         0   \n2  Echografie, armen _ benen (spieren & gewrichte...          30         0   \n3  Gebroken heup --- Vragen --- Bij vragen of com...          80         0   \n4  Congenitale heupdysplasie --- Informatie --- V...          20        61   \n\n                                           filename  \\\n0                                     Anale fissuur   \n1                        Anesthesie, jongeren (POS)   \n2  Echografie, armen _ benen (spieren & gewrichten)   \n3                                     Gebroken heup   \n4                         Congenitale heupdysplasie   \n\n                                        header  \\\n0  Wanneer contact opnemen met het ziekenhuis?   \n1                                       Vragen   \n2                   Afzeggen van het onderzoek   \n3                                       Vragen   \n4                                   Informatie   \n\n                                        section_text            Fold  \\\n0  Als er zich de eerste avond of nacht na de ing...  train_fold_one   \n1  Mocht u nog vragen hebben na het lezen van dez...  train_fold_one   \n2  Mocht u om wat voor reden dan ook de afspraak ...  train_fold_one   \n3  Bij vragen of complicaties kunt u tot twee wek...  train_fold_one   \n4  Vereniging aangeboren heupafwijkingen Oudstraa...  train_fold_one   \n\n                                                Fact  \\\n0   {'entityType': 'Phone', 'value': '+31887087878'}   \n1   {'entityType': 'Phone', 'value': '+31887085396'}   \n2   {'entityType': 'Phone', 'value': '+31887083700'}   \n3   {'entityType': 'Phone', 'value': '+31887085233'}   \n4  {'entityType': 'Email', 'value': 'info@heupafw...   \n\n  Declined_to_answer_on_train_fold_one  \\\n0                                 True   \n1                                  NaN   \n2                                  NaN   \n3                                  NaN   \n4                                 True   \n\n                            Answer_on_train_fold_one  \\\n0         This document does not answer the question   \n1                                                NaN   \n2                      Telefoonnummer: 088 708 37 00   \n3  U kunt op werkdagen tussen 08.00 en 16.30 uur ...   \n4  This document does not provide the email addre...   \n\n  Declined_to_answer_on_train_fold_two  \\\n0                                  NaN   \n1                                  NaN   \n2                                 True   \n3                                  NaN   \n4                                 True   \n\n                            Answer_on_train_fold_two  \n0                                                NaN  \n1                                                NaN  \n2  The context does not provide information about...  \n3  U kunt altijd contact opnemen met een medewerk...  \n4         This document does not answer the question  ",
      "text/html": "<div>\n<style scoped>\n    .dataframe tbody tr th:only-of-type {\n        vertical-align: middle;\n    }\n\n    .dataframe tbody tr th {\n        vertical-align: top;\n    }\n\n    .dataframe thead th {\n        text-align: right;\n    }\n</style>\n<table border=\"1\" class=\"dataframe\">\n  <thead>\n    <tr style=\"text-align: right;\">\n      <th></th>\n      <th>Question no</th>\n      <th>Question</th>\n      <th>Answer_x</th>\n      <th>Section</th>\n      <th>Unnamed: 0</th>\n      <th>topic_id</th>\n      <th>filename</th>\n      <th>header</th>\n      <th>section_text</th>\n      <th>Fold</th>\n      <th>Fact</th>\n      <th>Declined_to_answer_on_train_fold_one</th>\n      <th>Answer_on_train_fold_one</th>\n      <th>Declined_to_answer_on_train_fold_two</th>\n      <th>Answer_on_train_fold_two</th>\n    </tr>\n  </thead>\n  <tbody>\n    <tr>\n      <th>0</th>\n      <td>23</td>\n      <td>Wanneer moet ik contact opnemen met het zieken...</td>\n      <td>Als er problemen zijn op de eerste avond of na...</td>\n      <td>Anale fissuur --- Wanneer contact opnemen met ...</td>\n      <td>170</td>\n      <td>0</td>\n      <td>Anale fissuur</td>\n      <td>Wanneer contact opnemen met het ziekenhuis?</td>\n      <td>Als er zich de eerste avond of nacht na de ing...</td>\n      <td>train_fold_one</td>\n      <td>{'entityType': 'Phone', 'value': '+31887087878'}</td>\n      <td>True</td>\n      <td>This document does not answer the question</td>\n      <td>NaN</td>\n      <td>NaN</td>\n    </tr>\n    <tr>\n      <th>1</th>\n      <td>24</td>\n      <td>Hoe kan ik contact opnemen met de ZGT poliklin...</td>\n      <td>U kunt bellen naar 088 708 53 96 tussen 8.30-1...</td>\n      <td>Anesthesie, jongeren (POS) --- Vragen --- Moch...</td>\n      <td>50</td>\n      <td>0</td>\n      <td>Anesthesie, jongeren (POS)</td>\n      <td>Vragen</td>\n      <td>Mocht u nog vragen hebben na het lezen van dez...</td>\n      <td>train_fold_one</td>\n      <td>{'entityType': 'Phone', 'value': '+31887085396'}</td>\n      <td>NaN</td>\n      <td>NaN</td>\n      <td>NaN</td>\n      <td>NaN</td>\n    </tr>\n    <tr>\n      <th>2</th>\n      <td>25</td>\n      <td>Wat is het telefoonnummer van de afdeling radi...</td>\n      <td>Het telefoonnummer van de afdeling radiologie ...</td>\n      <td>Echografie, armen _ benen (spieren &amp; gewrichte...</td>\n      <td>30</td>\n      <td>0</td>\n      <td>Echografie, armen _ benen (spieren &amp; gewrichten)</td>\n      <td>Afzeggen van het onderzoek</td>\n      <td>Mocht u om wat voor reden dan ook de afspraak ...</td>\n      <td>train_fold_one</td>\n      <td>{'entityType': 'Phone', 'value': '+31887083700'}</td>\n      <td>NaN</td>\n      <td>Telefoonnummer: 088 708 37 00</td>\n      <td>True</td>\n      <td>The context does not provide information about...</td>\n    </tr>\n    <tr>\n      <th>3</th>\n      <td>26</td>\n      <td>Wat moet ik doen als ik vragen of complicaties...</td>\n      <td>U kunt tijdens kantooruren contact opnemen met...</td>\n      <td>Gebroken heup --- Vragen --- Bij vragen of com...</td>\n      <td>80</td>\n      <td>0</td>\n      <td>Gebroken heup</td>\n      <td>Vragen</td>\n      <td>Bij vragen of complicaties kunt u tot twee wek...</td>\n      <td>train_fold_one</td>\n      <td>{'entityType': 'Phone', 'value': '+31887085233'}</td>\n      <td>NaN</td>\n      <td>U kunt op werkdagen tussen 08.00 en 16.30 uur ...</td>\n      <td>NaN</td>\n      <td>U kunt altijd contact opnemen met een medewerk...</td>\n    </tr>\n    <tr>\n      <th>4</th>\n      <td>27</td>\n      <td>Wat is het emailadres van de Vereniging aangeb...</td>\n      <td>Het emailadres van de Vereniging aangeboren he...</td>\n      <td>Congenitale heupdysplasie --- Informatie --- V...</td>\n      <td>20</td>\n      <td>61</td>\n      <td>Congenitale heupdysplasie</td>\n      <td>Informatie</td>\n      <td>Vereniging aangeboren heupafwijkingen Oudstraa...</td>\n      <td>train_fold_one</td>\n      <td>{'entityType': 'Email', 'value': 'info@heupafw...</td>\n      <td>True</td>\n      <td>This document does not provide the email addre...</td>\n      <td>True</td>\n      <td>This document does not answer the question</td>\n    </tr>\n  </tbody>\n</table>\n</div>"
     },
     "execution_count": 3,
     "metadata": {},
     "output_type": "execute_result"
    }
   ],
   "source": [
    "import pandas as pd\n",
    "import seaborn as sns\n",
    "sns.set()\n",
    "# Load the dataset\n",
    "file_path = './answer_on_train_fold_two.csv'\n",
    "data = pd.read_csv(file_path)\n",
    "\n",
    "# Inspect the first few rows of the dataframe to understand its structure\n",
    "data.head()\n"
   ],
   "metadata": {
    "collapsed": true,
    "ExecuteTime": {
     "end_time": "2024-02-02T17:57:31.391144500Z",
     "start_time": "2024-02-02T17:57:27.665402100Z"
    }
   },
   "id": "initial_id",
   "execution_count": 3
  },
  {
   "cell_type": "code",
   "outputs": [
    {
     "data": {
      "text/plain": "{'Fold_one_right_dataset': 0.0,\n 'Fold_one_wrong_dataset': 0.0,\n 'Fold_two_right_dataset': 0.0,\n 'Fold_two_wrong_dataset': 0.0}"
     },
     "execution_count": 4,
     "metadata": {},
     "output_type": "execute_result"
    }
   ],
   "source": [
    "# Calculate the percentages required\n",
    "# First, define a function to check if an answer is given or declined\n",
    "def is_answered(answer, declined):\n",
    "    return not(pd.isnull(answer) or declined)\n",
    "\n",
    "# Apply this function to each fold\n",
    "data['Answered_fold_one'] = data.apply(lambda x: is_answered(x['Answer_on_train_fold_one'], x['Declined_to_answer_on_train_fold_one']), axis=1)\n",
    "data['Answered_fold_two'] = data.apply(lambda x: is_answered(x['Answer_on_train_fold_two'], x['Declined_to_answer_on_train_fold_two']), axis=1)\n",
    "\n",
    "# Calculate percentages\n",
    "answer_stats = {\n",
    "    'Fold_one_right_dataset': data[data['Fold'] == 'train_fold_one']['Answered_fold_one'].mean(),\n",
    "    'Fold_one_wrong_dataset': data[data['Fold'] != 'train_fold_one']['Answered_fold_one'].mean(),\n",
    "    'Fold_two_right_dataset': data[data['Fold'] == 'train_fold_two']['Answered_fold_two'].mean(),\n",
    "    'Fold_two_wrong_dataset': data[data['Fold'] != 'train_fold_two']['Answered_fold_two'].mean(),\n",
    "}\n",
    "\n",
    "answer_stats\n"
   ],
   "metadata": {
    "collapsed": false,
    "ExecuteTime": {
     "end_time": "2024-02-02T17:57:31.568253300Z",
     "start_time": "2024-02-02T17:57:31.356886500Z"
    }
   },
   "id": "295ca25b3fd57b09",
   "execution_count": 4
  },
  {
   "cell_type": "code",
   "outputs": [
    {
     "data": {
      "text/plain": "{'Fold_one_right_dataset': 0.5733333333333334,\n 'Fold_one_wrong_dataset': 0.07518796992481203,\n 'Fold_two_right_dataset': 0.6240601503759399,\n 'Fold_two_wrong_dataset': 0.12}"
     },
     "execution_count": 5,
     "metadata": {},
     "output_type": "execute_result"
    }
   ],
   "source": [
    "# It seems the previous calculation did not correctly interpret the Declined_to_answer columns as boolean.\n",
    "# Let's correct the data by explicitly converting any non-null entries in the Declined_to_answer columns to True, \n",
    "# and any NaN entries to False.\n",
    "\n",
    "# Convert 'Declined_to_answer' columns to boolean where NaN is False and any non-null is True\n",
    "data['Declined_to_answer_on_train_fold_one'] = data['Declined_to_answer_on_train_fold_one'].notnull()\n",
    "data['Declined_to_answer_on_train_fold_two'] = data['Declined_to_answer_on_train_fold_two'].notnull()\n",
    "\n",
    "# Recalculate the answered status with the corrected boolean columns\n",
    "data['Answered_fold_one'] = data.apply(lambda x: is_answered(x['Answer_on_train_fold_one'], x['Declined_to_answer_on_train_fold_one']), axis=1)\n",
    "data['Answered_fold_two'] = data.apply(lambda x: is_answered(x['Answer_on_train_fold_two'], x['Declined_to_answer_on_train_fold_two']), axis=1)\n",
    "\n",
    "# Recalculate the percentages\n",
    "answer_stats_corrected = {\n",
    "    'Fold_one_right_dataset': data[data['Fold'] == 'train_fold_one']['Answered_fold_one'].mean(),\n",
    "    'Fold_one_wrong_dataset': data[data['Fold'] != 'train_fold_one']['Answered_fold_one'].mean(),\n",
    "    'Fold_two_right_dataset': data[data['Fold'] == 'train_fold_two']['Answered_fold_two'].mean(),\n",
    "    'Fold_two_wrong_dataset': data[data['Fold'] != 'train_fold_two']['Answered_fold_two'].mean(),\n",
    "}\n",
    "\n",
    "answer_stats_corrected\n"
   ],
   "metadata": {
    "collapsed": false,
    "ExecuteTime": {
     "end_time": "2024-02-02T17:57:31.858248300Z",
     "start_time": "2024-02-02T17:57:31.449833400Z"
    }
   },
   "id": "da7deb42e558e293",
   "execution_count": 5
  },
  {
   "cell_type": "code",
   "outputs": [
    {
     "data": {
      "text/plain": "{'Fold_one_right_dataset': '43 out of 75',\n 'Fold_one_wrong_dataset': '10 out of 133',\n 'Fold_two_right_dataset': '83 out of 133',\n 'Fold_two_wrong_dataset': '9 out of 75'}"
     },
     "execution_count": 6,
     "metadata": {},
     "output_type": "execute_result"
    }
   ],
   "source": [
    "# Calculate the full numbers (x out of n) for each scenario\n",
    "def calculate_full_numbers(data, fold_col, answered_col):\n",
    "    total = len(data)\n",
    "    answered = data[answered_col].sum()\n",
    "    return answered, total\n",
    "\n",
    "# Calculate numbers for fold one with the right dataset\n",
    "answered_fold_one_right, total_fold_one_right = calculate_full_numbers(data[data['Fold'] == 'train_fold_one'], 'Fold', 'Answered_fold_one')\n",
    "\n",
    "# Calculate numbers for fold one with the wrong dataset\n",
    "answered_fold_one_wrong, total_fold_one_wrong = calculate_full_numbers(data[data['Fold'] != 'train_fold_one'], 'Fold', 'Answered_fold_one')\n",
    "\n",
    "# Calculate numbers for fold two with the right dataset\n",
    "answered_fold_two_right, total_fold_two_right = calculate_full_numbers(data[data['Fold'] == 'train_fold_two'], 'Fold', 'Answered_fold_two')\n",
    "\n",
    "# Calculate numbers for fold two with the wrong dataset\n",
    "answered_fold_two_wrong, total_fold_two_wrong = calculate_full_numbers(data[data['Fold'] != 'train_fold_two'], 'Fold', 'Answered_fold_two')\n",
    "\n",
    "full_numbers = {\n",
    "    'Fold_one_right_dataset': f\"{answered_fold_one_right} out of {total_fold_one_right}\",\n",
    "    'Fold_one_wrong_dataset': f\"{answered_fold_one_wrong} out of {total_fold_one_wrong}\",\n",
    "    'Fold_two_right_dataset': f\"{answered_fold_two_right} out of {total_fold_two_right}\",\n",
    "    'Fold_two_wrong_dataset': f\"{answered_fold_two_wrong} out of {total_fold_two_wrong}\",\n",
    "}\n",
    "\n",
    "full_numbers"
   ],
   "metadata": {
    "collapsed": false,
    "ExecuteTime": {
     "end_time": "2024-02-02T17:57:31.952772200Z",
     "start_time": "2024-02-02T17:57:31.503697900Z"
    }
   },
   "id": "705de055f4e05ef3",
   "execution_count": 6
  },
  {
   "cell_type": "markdown",
   "source": [
    "{'Fold_one_right_dataset': 0.5733333333333334,\n",
    " 'Fold_one_wrong_dataset': 0.07518796992481203,\n",
    " 'Fold_two_right_dataset': 0.6240601503759399,\n",
    " 'Fold_two_wrong_dataset': 0.12}\n",
    " \n",
    "When the correct dataset for fold one was loaded, the model provided an answer \n",
    "57.33\n",
    "%\n",
    "57.33% of the time.\n",
    "When the wrong dataset for fold one was used, the model attempted to provide an answer \n",
    "7.52\n",
    "%\n",
    "7.52% of the time.\n",
    "When the correct dataset for fold two was loaded, the model provided an answer \n",
    "62.41\n",
    "%\n",
    "62.41% of the time.\n",
    "When the wrong dataset for fold two was used, the model attempted to provide an answer \n",
    "12.00\n",
    "%\n",
    "12.00% of the time.\n",
    "\n",
    "{'Fold_one_right_dataset': '43 out of 75',\n",
    " 'Fold_one_wrong_dataset': '10 out of 133',\n",
    " 'Fold_two_right_dataset': '83 out of 133',\n",
    " 'Fold_two_wrong_dataset': '9 out of 75'}"
   ],
   "metadata": {
    "collapsed": false
   },
   "id": "d771c6b0d3cc3ec3"
  },
  {
   "cell_type": "code",
   "outputs": [
    {
     "name": "stderr",
     "output_type": "stream",
     "text": [
      "C:\\Users\\szond\\anaconda3\\envs\\Automated-QA-Generation\\lib\\site-packages\\nltk\\translate\\bleu_score.py:552: UserWarning: \n",
      "The hypothesis contains 0 counts of 2-gram overlaps.\n",
      "Therefore the BLEU score evaluates to 0, independently of\n",
      "how many N-gram overlaps of lower order it contains.\n",
      "Consider using lower n-gram order or use SmoothingFunction()\n",
      "  warnings.warn(_msg)\n",
      "C:\\Users\\szond\\anaconda3\\envs\\Automated-QA-Generation\\lib\\site-packages\\nltk\\translate\\bleu_score.py:552: UserWarning: \n",
      "The hypothesis contains 0 counts of 3-gram overlaps.\n",
      "Therefore the BLEU score evaluates to 0, independently of\n",
      "how many N-gram overlaps of lower order it contains.\n",
      "Consider using lower n-gram order or use SmoothingFunction()\n",
      "  warnings.warn(_msg)\n",
      "C:\\Users\\szond\\anaconda3\\envs\\Automated-QA-Generation\\lib\\site-packages\\nltk\\translate\\bleu_score.py:552: UserWarning: \n",
      "The hypothesis contains 0 counts of 4-gram overlaps.\n",
      "Therefore the BLEU score evaluates to 0, independently of\n",
      "how many N-gram overlaps of lower order it contains.\n",
      "Consider using lower n-gram order or use SmoothingFunction()\n",
      "  warnings.warn(_msg)\n"
     ]
    },
    {
     "data": {
      "text/plain": "(0.07342406181123531, 0.07769184150295552)"
     },
     "execution_count": 7,
     "metadata": {},
     "output_type": "execute_result"
    }
   ],
   "source": [
    "from nltk.translate.bleu_score import sentence_bleu\n",
    "\n",
    "# Filter the data to include only pairs where the answer is in the fold it is answering\n",
    "# and is not declined/empty, and the fact column is empty.\n",
    "data_filtered_fold_one = data[(data['Fold'] == 'train_fold_one') & (data['Answered_fold_one']) & (data['Fact'].isnull())]\n",
    "data_filtered_fold_two = data[(data['Fold'] == 'train_fold_two') & (data['Answered_fold_two']) & (data['Fact'].isnull())]\n",
    "\n",
    "# Define a function to calculate BLEU score for a given reference and candidate sentence\n",
    "def calculate_bleu(reference, candidate):\n",
    "    # Preprocess the sentences: Tokenization could be done here if necessary\n",
    "    reference = [reference.split()]  # BLEU expects a list of references\n",
    "    candidate = candidate.split()\n",
    "    # Calculate BLEU score\n",
    "    return sentence_bleu(reference, candidate)\n",
    "\n",
    "# Calculate BLEU scores for fold one and fold two\n",
    "bleu_scores_fold_one = [calculate_bleu(ref, cand) for ref, cand in zip(data_filtered_fold_one['Answer_x'], data_filtered_fold_one['Answer_on_train_fold_one'])]\n",
    "bleu_scores_fold_two = [calculate_bleu(ref, cand) for ref, cand in zip(data_filtered_fold_two['Answer_x'], data_filtered_fold_two['Answer_on_train_fold_two'])]\n",
    "\n",
    "# Aggregate BLEU scores\n",
    "avg_bleu_score_fold_one = sum(bleu_scores_fold_one) / len(bleu_scores_fold_one) if bleu_scores_fold_one else 0\n",
    "avg_bleu_score_fold_two = sum(bleu_scores_fold_two) / len(bleu_scores_fold_two) if bleu_scores_fold_two else 0\n",
    "\n",
    "(avg_bleu_score_fold_one, avg_bleu_score_fold_two)\n"
   ],
   "metadata": {
    "collapsed": false,
    "ExecuteTime": {
     "end_time": "2024-02-02T17:57:34.192792400Z",
     "start_time": "2024-02-02T17:57:31.555713Z"
    }
   },
   "id": "4cdbd215c28ebf72",
   "execution_count": 7
  },
  {
   "cell_type": "markdown",
   "source": [
    "For fold one, the average BLEU score is approximately \n",
    "0.0734\n",
    "0.0734.\n",
    "For fold two, the average BLEU score is approximately \n",
    "0.0777\n",
    "0.0777."
   ],
   "metadata": {
    "collapsed": false
   },
   "id": "4d159330e8a60b7"
  },
  {
   "cell_type": "code",
   "outputs": [
    {
     "data": {
      "text/plain": "<Figure size 600x400 with 1 Axes>",
      "image/png": "[encoded data removed]"
     },
     "metadata": {},
     "output_type": "display_data"
    },
    {
     "data": {
      "text/plain": "<Figure size 600x400 with 1 Axes>",
      "image/png": "[encoded data removed]"
     },
     "metadata": {},
     "output_type": "display_data"
    },
    {
     "data": {
      "text/plain": "<Figure size 600x400 with 1 Axes>",
      "image/png": "[encoded data removed]"
     },
     "metadata": {},
     "output_type": "display_data"
    },
    {
     "data": {
      "text/plain": "<Figure size 600x400 with 1 Axes>",
      "image/png": "[encoded data removed]"
     },
     "metadata": {},
     "output_type": "display_data"
    }
   ],
   "source": [
    "import matplotlib.pyplot as plt\n",
    "\n",
    "# Define a function to create individual histogram and boxplot for BLEU scores\n",
    "def plot_individual_scores(scores, title, score_type):\n",
    "    plt.figure(figsize=(6, 4))\n",
    "    \n",
    "    if score_type == 'histogram':\n",
    "        # Histogram\n",
    "        plt.hist(scores, bins=20, color='skyblue')\n",
    "        plt.title(f'Histogram of {title} BLEU Scores')\n",
    "        plt.xlabel('BLEU Score')\n",
    "        plt.ylabel('Frequency')\n",
    "    elif score_type == 'boxplot':\n",
    "        # Boxplot\n",
    "        plt.boxplot(scores, vert=False, patch_artist=True)\n",
    "        plt.title(f'Boxplot of {title} BLEU Scores')\n",
    "        plt.xlabel('BLEU Score')\n",
    "\n",
    "    plt.tight_layout()\n",
    "    plt.show()\n",
    "\n",
    "# Create separate histograms and boxplots for fold one and fold two BLEU scores\n",
    "plot_individual_scores(bleu_scores_fold_one, 'Fold One', 'histogram')\n",
    "plot_individual_scores(bleu_scores_fold_one, 'Fold One', 'boxplot')\n",
    "plot_individual_scores(bleu_scores_fold_two, 'Fold Two', 'histogram')\n",
    "plot_individual_scores(bleu_scores_fold_two, 'Fold Two', 'boxplot')\n"
   ],
   "metadata": {
    "collapsed": false,
    "ExecuteTime": {
     "end_time": "2024-02-02T17:57:35.890221800Z",
     "start_time": "2024-02-02T17:57:34.189788200Z"
    }
   },
   "id": "5e1e9374cbed61bc",
   "execution_count": 8
  },
  {
   "cell_type": "code",
   "outputs": [],
   "source": [
    "# Define a function to save individual histogram and boxplot for scores to a file\n",
    "def save_plot_scores(scores, title, score_type, folder_path):\n",
    "    plt.figure(figsize=(6, 4))\n",
    "    \n",
    "    if score_type == 'histogram':\n",
    "        # Histogram\n",
    "        plt.hist(scores, bins=20, color='skyblue')\n",
    "        plt.title(f'Histogram of {title} BLEU Scores')\n",
    "        plt.xlabel('BLEU Score')\n",
    "        plt.ylabel('Frequency')\n",
    "        filename = f\"{folder_path}/{title}_Histogram.png\"\n",
    "    elif score_type == 'boxplot':\n",
    "        # Boxplot\n",
    "        plt.boxplot(scores, vert=False, patch_artist=True)\n",
    "        plt.title(f'Boxplot of {title} BLEU Scores')\n",
    "        plt.xlabel('BLEU Score')\n",
    "        filename = f\"{folder_path}/{title}_Boxplot.png\"\n",
    "\n",
    "    plt.tight_layout()\n",
    "    plt.savefig(filename)\n",
    "    plt.close()\n",
    "\n",
    "# Directory where the plots will be saved\n",
    "results_folder = './results'\n",
    "\n",
    "# Code to save the histograms and boxplots for BLEU scores to files\n",
    "save_plot_scores(bleu_scores_fold_one, 'Fold_One', 'histogram', results_folder)\n",
    "save_plot_scores(bleu_scores_fold_one, 'Fold_One', 'boxplot', results_folder)\n",
    "save_plot_scores(bleu_scores_fold_two, 'Fold_Two', 'histogram', results_folder)\n",
    "save_plot_scores(bleu_scores_fold_two, 'Fold_Two', 'boxplot', results_folder)\n",
    "\n",
    "# The resulting filenames will be:\n",
    "# For fold one histogram: /mnt/data/results/Fold_One_Histogram.png\n",
    "# For fold one boxplot: /mnt/data/results/Fold_One_Boxplot.png\n",
    "# For fold two histogram: /mnt/data/results/Fold_Two_Histogram.png\n",
    "# For fold two boxplot: /mnt/data/results/Fold_Two_Boxplot.png\n"
   ],
   "metadata": {
    "collapsed": false,
    "ExecuteTime": {
     "end_time": "2024-02-02T17:57:36.784692400Z",
     "start_time": "2024-02-02T17:57:35.890560300Z"
    }
   },
   "id": "2c9f270eb911776d",
   "execution_count": 9
  },
  {
   "cell_type": "markdown",
   "source": [
    "# Rouge"
   ],
   "metadata": {
    "collapsed": false
   },
   "id": "e98326483e2bb259"
  },
  {
   "cell_type": "code",
   "outputs": [
    {
     "data": {
      "text/plain": "['Fold_One_BLEURT_Boxplot.png',\n 'Fold_One_BLEURT_Histogram.png',\n 'Fold_One_Boxplot.png',\n 'Fold_One_Histogram.png',\n 'Fold_One_ROUGE-1_Boxplot.png',\n 'Fold_One_ROUGE-1_Histogram.png',\n 'Fold_One_ROUGE-2_Boxplot.png',\n 'Fold_One_ROUGE-2_Histogram.png',\n 'Fold_One_ROUGE-L_Boxplot.png',\n 'Fold_One_ROUGE-L_Histogram.png',\n 'Fold_One_ROUGE_Scores_Combined_Boxplot.png',\n 'Fold_One_ROUGE_Scores_Combined_Histogram.png',\n 'Fold_Two_BLEURT_Boxplot.png',\n 'Fold_Two_BLEURT_Histogram.png',\n 'Fold_Two_Boxplot.png',\n 'Fold_Two_Histogram.png',\n 'Fold_Two_ROUGE-1_Boxplot.png',\n 'Fold_Two_ROUGE-1_Histogram.png',\n 'Fold_Two_ROUGE-2_Boxplot.png',\n 'Fold_Two_ROUGE-2_Histogram.png',\n 'Fold_Two_ROUGE-L_Boxplot.png',\n 'Fold_Two_ROUGE-L_Histogram.png',\n 'Fold_Two_ROUGE_Scores_Combined_Boxplot.png',\n 'Fold_Two_ROUGE_Scores_Combined_Histogram.png']"
     },
     "execution_count": 10,
     "metadata": {},
     "output_type": "execute_result"
    }
   ],
   "source": [
    "# Since the previous attempt to calculate ROUGE scores using a custom function failed, let's try using the 'rouge_score' library.\n",
    "\n",
    "from rouge_score import rouge_scorer\n",
    "import os\n",
    "\n",
    "# Initialize the rouge scorer\n",
    "scorer = rouge_scorer.RougeScorer(['rouge1', 'rouge2', 'rougeL'], use_stemmer=True)\n",
    "\n",
    "# Define a function to calculate ROUGE scores for a list of reference-candidate sentence pairs\n",
    "def calculate_rouge_scores(references, candidates):\n",
    "    rouge_1_scores = []\n",
    "    rouge_2_scores = []\n",
    "    rouge_l_scores = []\n",
    "    \n",
    "    for ref, cand in zip(references, candidates):\n",
    "        scores = scorer.score(ref, cand)\n",
    "        rouge_1_scores.append(scores['rouge1'].fmeasure)\n",
    "        rouge_2_scores.append(scores['rouge2'].fmeasure)\n",
    "        rouge_l_scores.append(scores['rougeL'].fmeasure)\n",
    "    \n",
    "    return rouge_1_scores, rouge_2_scores, rouge_l_scores\n",
    "\n",
    "# Calculate ROUGE scores for fold one and fold two\n",
    "rouge_1_scores_fold_one, rouge_2_scores_fold_one, rouge_l_scores_fold_one = calculate_rouge_scores(\n",
    "    data_filtered_fold_one['Answer_x'], data_filtered_fold_one['Answer_on_train_fold_one']\n",
    ")\n",
    "\n",
    "rouge_1_scores_fold_two, rouge_2_scores_fold_two, rouge_l_scores_fold_two = calculate_rouge_scores(\n",
    "    data_filtered_fold_two['Answer_x'], data_filtered_fold_two['Answer_on_train_fold_two']\n",
    ")\n",
    "\n",
    "# Define a function to save individual histogram and boxplot for scores to a file\n",
    "def save_plot_scores(scores, title, score_type, folder_path):\n",
    "    plt.figure(figsize=(6, 4))\n",
    "    \n",
    "    if score_type == 'histogram':\n",
    "        # Histogram\n",
    "        plt.hist(scores, bins=20, color='skyblue')\n",
    "        plt.title(f'Histogram of {title} Scores')\n",
    "        plt.xlabel('Score')\n",
    "        plt.ylabel('Frequency')\n",
    "        filename = f\"{folder_path}/{title}_Histogram.png\"\n",
    "    elif score_type == 'boxplot':\n",
    "        # Boxplot\n",
    "        plt.boxplot(scores, vert=False, patch_artist=True)\n",
    "        plt.title(f'Boxplot of {title} Scores')\n",
    "        plt.xlabel('Score')\n",
    "        filename = f\"{folder_path}/{title}_Boxplot.png\"\n",
    "\n",
    "    plt.tight_layout()\n",
    "    plt.savefig(filename)\n",
    "    plt.close()\n",
    "\n",
    "# Directory where the plots will be saved\n",
    "results_folder = './results'\n",
    "\n",
    "# Create the results directory if it does not exist\n",
    "os.makedirs(results_folder, exist_ok=True)\n",
    "\n",
    "# Save the histograms and boxplots for ROUGE scores to files\n",
    "save_plot_scores(rouge_1_scores_fold_one, 'Fold_One_ROUGE-1', 'histogram', results_folder)\n",
    "save_plot_scores(rouge_1_scores_fold_one, 'Fold_One_ROUGE-1', 'boxplot', results_folder)\n",
    "save_plot_scores(rouge_2_scores_fold_one, 'Fold_One_ROUGE-2', 'histogram', results_folder)\n",
    "save_plot_scores(rouge_2_scores_fold_one, 'Fold_One_ROUGE-2', 'boxplot', results_folder)\n",
    "save_plot_scores(rouge_l_scores_fold_one, 'Fold_One_ROUGE-L', 'histogram', results_folder)\n",
    "save_plot_scores(rouge_l_scores_fold_one, 'Fold_One_ROUGE-L', 'boxplot', results_folder)\n",
    "\n",
    "save_plot_scores(rouge_1_scores_fold_two, 'Fold_Two_ROUGE-1', 'histogram', results_folder)\n",
    "save_plot_scores(rouge_1_scores_fold_two, 'Fold_Two_ROUGE-1', 'boxplot', results_folder)\n",
    "save_plot_scores(rouge_2_scores_fold_two, 'Fold_Two_ROUGE-2', 'histogram', results_folder)\n",
    "save_plot_scores(rouge_2_scores_fold_two, 'Fold_Two_ROUGE-2', 'boxplot', results_folder)\n",
    "save_plot_scores(rouge_l_scores_fold_two, 'Fold_Two_ROUGE-L', 'histogram', results_folder)\n",
    "save_plot_scores(rouge_l_scores_fold_two, 'Fold_Two_ROUGE-L', 'boxplot', results_folder)\n",
    "\n",
    "# Return the paths to the saved plots\n",
    "os.listdir(results_folder)\n"
   ],
   "metadata": {
    "collapsed": false,
    "ExecuteTime": {
     "end_time": "2024-02-02T17:57:40.197932500Z",
     "start_time": "2024-02-02T17:57:36.789192500Z"
    }
   },
   "id": "4b0f112b30afa183",
   "execution_count": 10
  },
  {
   "cell_type": "code",
   "outputs": [
    {
     "name": "stdout",
     "output_type": "stream",
     "text": [
      "Average ROUGE-1 score for Fold One: 0.3121114967325757\n",
      "Average ROUGE-2 score for Fold One: 0.18806539457299593\n",
      "Average ROUGE-L score for Fold One: 0.2594977255370399\n",
      "Average ROUGE-1 score for Fold Two: 0.2612439604062285\n",
      "Average ROUGE-2 score for Fold Two: 0.1544656763371391\n",
      "Average ROUGE-L score for Fold Two: 0.2224395807348011\n"
     ]
    }
   ],
   "source": [
    "# Calculate the average ROUGE scores for fold one\n",
    "avg_rouge_1_fold_one = sum(rouge_1_scores_fold_one) / len(rouge_1_scores_fold_one)\n",
    "avg_rouge_2_fold_one = sum(rouge_2_scores_fold_one) / len(rouge_2_scores_fold_one)\n",
    "avg_rouge_l_fold_one = sum(rouge_l_scores_fold_one) / len(rouge_l_scores_fold_one)\n",
    "\n",
    "# Print the average ROUGE scores for fold one\n",
    "print(\"Average ROUGE-1 score for Fold One:\", avg_rouge_1_fold_one)\n",
    "print(\"Average ROUGE-2 score for Fold One:\", avg_rouge_2_fold_one)\n",
    "print(\"Average ROUGE-L score for Fold One:\", avg_rouge_l_fold_one)\n",
    "\n",
    "# Assuming similar variables exist for fold two, calculate and print their averages\n",
    "avg_rouge_1_fold_two = sum(rouge_1_scores_fold_two) / len(rouge_1_scores_fold_two)\n",
    "avg_rouge_2_fold_two = sum(rouge_2_scores_fold_two) / len(rouge_2_scores_fold_two)\n",
    "avg_rouge_l_fold_two = sum(rouge_l_scores_fold_two) / len(rouge_l_scores_fold_two)\n",
    "\n",
    "# Print the average ROUGE scores for fold two\n",
    "print(\"Average ROUGE-1 score for Fold Two:\", avg_rouge_1_fold_two)\n",
    "print(\"Average ROUGE-2 score for Fold Two:\", avg_rouge_2_fold_two)\n",
    "print(\"Average ROUGE-L score for Fold Two:\", avg_rouge_l_fold_two)\n"
   ],
   "metadata": {
    "collapsed": false,
    "ExecuteTime": {
     "end_time": "2024-02-02T17:57:40.280281100Z",
     "start_time": "2024-02-02T17:57:40.172663400Z"
    }
   },
   "id": "95d8fca99214923e",
   "execution_count": 11
  },
  {
   "cell_type": "code",
   "outputs": [
    {
     "name": "stdout",
     "output_type": "stream",
     "text": [
      "['Fold_One_BLEURT_Boxplot.png', 'Fold_One_BLEURT_Histogram.png', 'Fold_One_Boxplot.png', 'Fold_One_Histogram.png', 'Fold_One_ROUGE-1_Boxplot.png', 'Fold_One_ROUGE-1_Histogram.png', 'Fold_One_ROUGE-2_Boxplot.png', 'Fold_One_ROUGE-2_Histogram.png', 'Fold_One_ROUGE-L_Boxplot.png', 'Fold_One_ROUGE-L_Histogram.png', 'Fold_One_ROUGE_Scores_Combined_Boxplot.png', 'Fold_One_ROUGE_Scores_Combined_Histogram.png', 'Fold_Two_BLEURT_Boxplot.png', 'Fold_Two_BLEURT_Histogram.png', 'Fold_Two_Boxplot.png', 'Fold_Two_Histogram.png', 'Fold_Two_ROUGE-1_Boxplot.png', 'Fold_Two_ROUGE-1_Histogram.png', 'Fold_Two_ROUGE-2_Boxplot.png', 'Fold_Two_ROUGE-2_Histogram.png', 'Fold_Two_ROUGE-L_Boxplot.png', 'Fold_Two_ROUGE-L_Histogram.png', 'Fold_Two_ROUGE_Scores_Combined_Boxplot.png', 'Fold_Two_ROUGE_Scores_Combined_Histogram.png']\n"
     ]
    }
   ],
   "source": [
    "import matplotlib.pyplot as plt\n",
    "import os\n",
    "\n",
    "# Function to save a combined boxplot for ROUGE-1, ROUGE-2, and ROUGE-L scores for a single fold\n",
    "def save_combined_rouge_boxplot(scores_rouge1, scores_rouge2, scores_rougeL, title, folder_path):\n",
    "    plt.figure(figsize=(10, 6))\n",
    "    data = [scores_rouge1, scores_rouge2, scores_rougeL]\n",
    "    plt.boxplot(data, vert=False, patch_artist=True, labels=['ROUGE-1', 'ROUGE-2', 'ROUGE-L'])\n",
    "    plt.title(f'Combined Boxplot of {title}')\n",
    "    plt.xlabel('Score')\n",
    "    filename = f\"{folder_path}/{title}_Combined_Boxplot.png\"\n",
    "    plt.tight_layout()\n",
    "    plt.savefig(filename)\n",
    "    plt.close()\n",
    "\n",
    "# Directory where the plots will be saved\n",
    "results_folder = './results'\n",
    "\n",
    "# Create the results directory if it does not exist\n",
    "os.makedirs(results_folder, exist_ok=True)\n",
    "\n",
    "# Save the combined boxplots for both folds\n",
    "save_combined_rouge_boxplot(rouge_1_scores_fold_one, rouge_2_scores_fold_one, rouge_l_scores_fold_one, 'Fold_One_ROUGE_Scores', results_folder)\n",
    "save_combined_rouge_boxplot(rouge_1_scores_fold_two, rouge_2_scores_fold_two, rouge_l_scores_fold_two, 'Fold_Two_ROUGE_Scores', results_folder)\n",
    "\n",
    "# Optionally, list the files in the results directory to verify the plots have been saved\n",
    "files_in_results_folder = os.listdir(results_folder)\n",
    "print(files_in_results_folder)\n"
   ],
   "metadata": {
    "collapsed": false,
    "ExecuteTime": {
     "end_time": "2024-02-02T17:57:40.583519400Z",
     "start_time": "2024-02-02T17:57:40.188040400Z"
    }
   },
   "id": "cb1c1586d7d294e5",
   "execution_count": 12
  },
  {
   "cell_type": "code",
   "outputs": [
    {
     "name": "stdout",
     "output_type": "stream",
     "text": [
      "['Fold_One_BLEURT_Boxplot.png', 'Fold_One_BLEURT_Histogram.png', 'Fold_One_Boxplot.png', 'Fold_One_Histogram.png', 'Fold_One_ROUGE-1_Boxplot.png', 'Fold_One_ROUGE-1_Histogram.png', 'Fold_One_ROUGE-2_Boxplot.png', 'Fold_One_ROUGE-2_Histogram.png', 'Fold_One_ROUGE-L_Boxplot.png', 'Fold_One_ROUGE-L_Histogram.png', 'Fold_One_ROUGE_Scores_Combined_Boxplot.png', 'Fold_One_ROUGE_Scores_Combined_Histogram.png', 'Fold_Two_BLEURT_Boxplot.png', 'Fold_Two_BLEURT_Histogram.png', 'Fold_Two_Boxplot.png', 'Fold_Two_Histogram.png', 'Fold_Two_ROUGE-1_Boxplot.png', 'Fold_Two_ROUGE-1_Histogram.png', 'Fold_Two_ROUGE-2_Boxplot.png', 'Fold_Two_ROUGE-2_Histogram.png', 'Fold_Two_ROUGE-L_Boxplot.png', 'Fold_Two_ROUGE-L_Histogram.png', 'Fold_Two_ROUGE_Scores_Combined_Boxplot.png', 'Fold_Two_ROUGE_Scores_Combined_Histogram.png']\n"
     ]
    }
   ],
   "source": [
    "import matplotlib.pyplot as plt\n",
    "import os\n",
    "import numpy as np\n",
    "\n",
    "# Function to save a combined histogram for ROUGE-1, ROUGE-2, and ROUGE-L scores for a single fold\n",
    "def save_combined_rouge_histogram(scores_rouge1, scores_rouge2, scores_rougeL, title, folder_path):\n",
    "    plt.figure(figsize=(10, 6))\n",
    "    bins = np.linspace(0, 1, 20)  # Adjust the range and bin size as appropriate for your scores\n",
    "    \n",
    "    plt.hist(scores_rouge1, bins, alpha=0.5, label='ROUGE-1', color='skyblue')\n",
    "    plt.hist(scores_rouge2, bins, alpha=0.5, label='ROUGE-2', color='lightgreen')\n",
    "    plt.hist(scores_rougeL, bins, alpha=0.5, label='ROUGE-L', color='salmon')\n",
    "    \n",
    "    plt.title(f'Combined Histogram of {title}')\n",
    "    plt.xlabel('Score')\n",
    "    plt.ylabel('Frequency')\n",
    "    plt.legend(loc='upper left')\n",
    "    filename = f\"{folder_path}/{title}_Combined_Histogram.png\"\n",
    "    \n",
    "    plt.tight_layout()\n",
    "    plt.savefig(filename)\n",
    "    plt.close()\n",
    "\n",
    "# Directory where the plots will be saved\n",
    "results_folder = './results'\n",
    "\n",
    "# Ensure the results directory exists\n",
    "os.makedirs(results_folder, exist_ok=True)\n",
    "\n",
    "# Save the combined histograms for both folds\n",
    "save_combined_rouge_histogram(rouge_1_scores_fold_one, rouge_2_scores_fold_one, rouge_l_scores_fold_one, 'Fold_One_ROUGE_Scores', results_folder)\n",
    "save_combined_rouge_histogram(rouge_1_scores_fold_two, rouge_2_scores_fold_two, rouge_l_scores_fold_two, 'Fold_Two_ROUGE_Scores', results_folder)\n",
    "\n",
    "# Optionally, list the files in the results directory to verify the plots have been saved\n",
    "files_in_results_folder = os.listdir(results_folder)\n",
    "print(files_in_results_folder)\n"
   ],
   "metadata": {
    "collapsed": false,
    "ExecuteTime": {
     "end_time": "2024-02-02T17:57:41.266810600Z",
     "start_time": "2024-02-02T17:57:40.582688900Z"
    }
   },
   "id": "6148455ee676afc2",
   "execution_count": 13
  },
  {
   "cell_type": "code",
   "outputs": [],
   "source": [
    "# Bleurt"
   ],
   "metadata": {
    "collapsed": false,
    "ExecuteTime": {
     "end_time": "2024-02-02T17:57:41.351796900Z",
     "start_time": "2024-02-02T17:57:41.253032200Z"
    }
   },
   "id": "81172ee5537d583",
   "execution_count": 14
  },
  {
   "cell_type": "code",
   "outputs": [
    {
     "name": "stdout",
     "output_type": "stream",
     "text": [
      "Requirement already satisfied: tensorflow in c:\\users\\szond\\anaconda3\\envs\\automated-qa-generation\\lib\\site-packages (2.12.0)\n",
      "Requirement already satisfied: tensorflow-intel==2.12.0 in c:\\users\\szond\\anaconda3\\envs\\automated-qa-generation\\lib\\site-packages (from tensorflow) (2.12.0)\n",
      "Requirement already satisfied: absl-py>=1.0.0 in c:\\users\\szond\\anaconda3\\envs\\automated-qa-generation\\lib\\site-packages (from tensorflow-intel==2.12.0->tensorflow) (1.4.0)\n",
      "Requirement already satisfied: astunparse>=1.6.0 in c:\\users\\szond\\anaconda3\\envs\\automated-qa-generation\\lib\\site-packages (from tensorflow-intel==2.12.0->tensorflow) (1.6.3)\n",
      "Requirement already satisfied: flatbuffers>=2.0 in c:\\users\\szond\\anaconda3\\envs\\automated-qa-generation\\lib\\site-packages (from tensorflow-intel==2.12.0->tensorflow) (23.5.26)\n",
      "Requirement already satisfied: gast<=0.4.0,>=0.2.1 in c:\\users\\szond\\anaconda3\\envs\\automated-qa-generation\\lib\\site-packages (from tensorflow-intel==2.12.0->tensorflow) (0.4.0)\n",
      "Requirement already satisfied: google-pasta>=0.1.1 in c:\\users\\szond\\anaconda3\\envs\\automated-qa-generation\\lib\\site-packages (from tensorflow-intel==2.12.0->tensorflow) (0.2.0)\n",
      "Requirement already satisfied: h5py>=2.9.0 in c:\\users\\szond\\anaconda3\\envs\\automated-qa-generation\\lib\\site-packages (from tensorflow-intel==2.12.0->tensorflow) (3.10.0)\n",
      "Requirement already satisfied: jax>=0.3.15 in c:\\users\\szond\\anaconda3\\envs\\automated-qa-generation\\lib\\site-packages (from tensorflow-intel==2.12.0->tensorflow) (0.4.23)\n",
      "Requirement already satisfied: libclang>=13.0.0 in c:\\users\\szond\\anaconda3\\envs\\automated-qa-generation\\lib\\site-packages (from tensorflow-intel==2.12.0->tensorflow) (16.0.6)\n",
      "Requirement already satisfied: numpy<1.24,>=1.22 in c:\\users\\szond\\anaconda3\\envs\\automated-qa-generation\\lib\\site-packages (from tensorflow-intel==2.12.0->tensorflow) (1.23.5)\n",
      "Requirement already satisfied: opt-einsum>=2.3.2 in c:\\users\\szond\\anaconda3\\envs\\automated-qa-generation\\lib\\site-packages (from tensorflow-intel==2.12.0->tensorflow) (3.3.0)\n",
      "Requirement already satisfied: packaging in c:\\users\\szond\\anaconda3\\envs\\automated-qa-generation\\lib\\site-packages (from tensorflow-intel==2.12.0->tensorflow) (20.9)\n",
      "Requirement already satisfied: protobuf!=4.21.0,!=4.21.1,!=4.21.2,!=4.21.3,!=4.21.4,!=4.21.5,<5.0.0dev,>=3.20.3 in c:\\users\\szond\\anaconda3\\envs\\automated-qa-generation\\lib\\site-packages (from tensorflow-intel==2.12.0->tensorflow) (4.23.3)\n",
      "Requirement already satisfied: setuptools in c:\\users\\szond\\anaconda3\\envs\\automated-qa-generation\\lib\\site-packages (from tensorflow-intel==2.12.0->tensorflow) (69.0.3)\n",
      "Requirement already satisfied: six>=1.12.0 in c:\\users\\szond\\anaconda3\\envs\\automated-qa-generation\\lib\\site-packages (from tensorflow-intel==2.12.0->tensorflow) (1.16.0)\n",
      "Requirement already satisfied: termcolor>=1.1.0 in c:\\users\\szond\\anaconda3\\envs\\automated-qa-generation\\lib\\site-packages (from tensorflow-intel==2.12.0->tensorflow) (2.4.0)\n",
      "Requirement already satisfied: typing-extensions>=3.6.6 in c:\\users\\szond\\anaconda3\\envs\\automated-qa-generation\\lib\\site-packages (from tensorflow-intel==2.12.0->tensorflow) (4.9.0)\n",
      "Requirement already satisfied: wrapt<1.15,>=1.11.0 in c:\\users\\szond\\anaconda3\\envs\\automated-qa-generation\\lib\\site-packages (from tensorflow-intel==2.12.0->tensorflow) (1.14.1)\n",
      "Requirement already satisfied: grpcio<2.0,>=1.24.3 in c:\\users\\szond\\anaconda3\\envs\\automated-qa-generation\\lib\\site-packages (from tensorflow-intel==2.12.0->tensorflow) (1.60.0)\n",
      "Requirement already satisfied: tensorboard<2.13,>=2.12 in c:\\users\\szond\\anaconda3\\envs\\automated-qa-generation\\lib\\site-packages (from tensorflow-intel==2.12.0->tensorflow) (2.12.3)\n",
      "Requirement already satisfied: tensorflow-estimator<2.13,>=2.12.0 in c:\\users\\szond\\anaconda3\\envs\\automated-qa-generation\\lib\\site-packages (from tensorflow-intel==2.12.0->tensorflow) (2.12.0)\n",
      "Requirement already satisfied: keras<2.13,>=2.12.0 in c:\\users\\szond\\anaconda3\\envs\\automated-qa-generation\\lib\\site-packages (from tensorflow-intel==2.12.0->tensorflow) (2.12.0)\n",
      "Requirement already satisfied: tensorflow-io-gcs-filesystem>=0.23.1 in c:\\users\\szond\\anaconda3\\envs\\automated-qa-generation\\lib\\site-packages (from tensorflow-intel==2.12.0->tensorflow) (0.31.0)\n",
      "Requirement already satisfied: wheel<1.0,>=0.23.0 in c:\\users\\szond\\anaconda3\\envs\\automated-qa-generation\\lib\\site-packages (from astunparse>=1.6.0->tensorflow-intel==2.12.0->tensorflow) (0.41.2)\n",
      "Requirement already satisfied: ml-dtypes>=0.2.0 in c:\\users\\szond\\anaconda3\\envs\\automated-qa-generation\\lib\\site-packages (from jax>=0.3.15->tensorflow-intel==2.12.0->tensorflow) (0.3.2)\n",
      "Requirement already satisfied: scipy>=1.9 in c:\\users\\szond\\anaconda3\\envs\\automated-qa-generation\\lib\\site-packages (from jax>=0.3.15->tensorflow-intel==2.12.0->tensorflow) (1.12.0)\n",
      "Requirement already satisfied: google-auth<3,>=1.6.3 in c:\\users\\szond\\anaconda3\\envs\\automated-qa-generation\\lib\\site-packages (from tensorboard<2.13,>=2.12->tensorflow-intel==2.12.0->tensorflow) (2.26.2)\n",
      "Requirement already satisfied: google-auth-oauthlib<1.1,>=0.5 in c:\\users\\szond\\anaconda3\\envs\\automated-qa-generation\\lib\\site-packages (from tensorboard<2.13,>=2.12->tensorflow-intel==2.12.0->tensorflow) (1.0.0)\n",
      "Requirement already satisfied: markdown>=2.6.8 in c:\\users\\szond\\anaconda3\\envs\\automated-qa-generation\\lib\\site-packages (from tensorboard<2.13,>=2.12->tensorflow-intel==2.12.0->tensorflow) (3.5.2)\n",
      "Requirement already satisfied: requests<3,>=2.21.0 in c:\\users\\szond\\anaconda3\\envs\\automated-qa-generation\\lib\\site-packages (from tensorboard<2.13,>=2.12->tensorflow-intel==2.12.0->tensorflow) (2.31.0)\n",
      "Requirement already satisfied: tensorboard-data-server<0.8.0,>=0.7.0 in c:\\users\\szond\\anaconda3\\envs\\automated-qa-generation\\lib\\site-packages (from tensorboard<2.13,>=2.12->tensorflow-intel==2.12.0->tensorflow) (0.7.2)\n",
      "Requirement already satisfied: werkzeug>=1.0.1 in c:\\users\\szond\\anaconda3\\envs\\automated-qa-generation\\lib\\site-packages (from tensorboard<2.13,>=2.12->tensorflow-intel==2.12.0->tensorflow) (3.0.1)\n",
      "Requirement already satisfied: pyparsing>=2.0.2 in c:\\users\\szond\\anaconda3\\envs\\automated-qa-generation\\lib\\site-packages (from packaging->tensorflow-intel==2.12.0->tensorflow) (3.1.1)\n",
      "Requirement already satisfied: cachetools<6.0,>=2.0.0 in c:\\users\\szond\\anaconda3\\envs\\automated-qa-generation\\lib\\site-packages (from google-auth<3,>=1.6.3->tensorboard<2.13,>=2.12->tensorflow-intel==2.12.0->tensorflow) (5.3.2)\n",
      "Requirement already satisfied: pyasn1-modules>=0.2.1 in c:\\users\\szond\\anaconda3\\envs\\automated-qa-generation\\lib\\site-packages (from google-auth<3,>=1.6.3->tensorboard<2.13,>=2.12->tensorflow-intel==2.12.0->tensorflow) (0.3.0)\n",
      "Requirement already satisfied: rsa<5,>=3.1.4 in c:\\users\\szond\\anaconda3\\envs\\automated-qa-generation\\lib\\site-packages (from google-auth<3,>=1.6.3->tensorboard<2.13,>=2.12->tensorflow-intel==2.12.0->tensorflow) (4.9)\n",
      "Requirement already satisfied: requests-oauthlib>=0.7.0 in c:\\users\\szond\\anaconda3\\envs\\automated-qa-generation\\lib\\site-packages (from google-auth-oauthlib<1.1,>=0.5->tensorboard<2.13,>=2.12->tensorflow-intel==2.12.0->tensorflow) (1.3.1)\n",
      "Requirement already satisfied: charset-normalizer<4,>=2 in c:\\users\\szond\\anaconda3\\envs\\automated-qa-generation\\lib\\site-packages (from requests<3,>=2.21.0->tensorboard<2.13,>=2.12->tensorflow-intel==2.12.0->tensorflow) (3.3.2)\n",
      "Requirement already satisfied: idna<4,>=2.5 in c:\\users\\szond\\anaconda3\\envs\\automated-qa-generation\\lib\\site-packages (from requests<3,>=2.21.0->tensorboard<2.13,>=2.12->tensorflow-intel==2.12.0->tensorflow) (3.4)\n",
      "Requirement already satisfied: urllib3<3,>=1.21.1 in c:\\users\\szond\\anaconda3\\envs\\automated-qa-generation\\lib\\site-packages (from requests<3,>=2.21.0->tensorboard<2.13,>=2.12->tensorflow-intel==2.12.0->tensorflow) (1.26.18)\n",
      "Requirement already satisfied: certifi>=2017.4.17 in c:\\users\\szond\\anaconda3\\envs\\automated-qa-generation\\lib\\site-packages (from requests<3,>=2.21.0->tensorboard<2.13,>=2.12->tensorflow-intel==2.12.0->tensorflow) (2023.11.17)\n",
      "Requirement already satisfied: MarkupSafe>=2.1.1 in c:\\users\\szond\\anaconda3\\envs\\automated-qa-generation\\lib\\site-packages (from werkzeug>=1.0.1->tensorboard<2.13,>=2.12->tensorflow-intel==2.12.0->tensorflow) (2.1.3)\n",
      "Requirement already satisfied: pyasn1<0.6.0,>=0.4.6 in c:\\users\\szond\\anaconda3\\envs\\automated-qa-generation\\lib\\site-packages (from pyasn1-modules>=0.2.1->google-auth<3,>=1.6.3->tensorboard<2.13,>=2.12->tensorflow-intel==2.12.0->tensorflow) (0.5.1)\n",
      "Requirement already satisfied: oauthlib>=3.0.0 in c:\\users\\szond\\anaconda3\\envs\\automated-qa-generation\\lib\\site-packages (from requests-oauthlib>=0.7.0->google-auth-oauthlib<1.1,>=0.5->tensorboard<2.13,>=2.12->tensorflow-intel==2.12.0->tensorflow) (3.2.2)\n"
     ]
    },
    {
     "name": "stderr",
     "output_type": "stream",
     "text": [
      "fatal: destination path 'bleurt' already exists and is not an empty directory.\n"
     ]
    },
    {
     "name": "stdout",
     "output_type": "stream",
     "text": [
      "Processing c:\\programming\\automated-qa-generation\\qa-gen\\evaluation\\bleurt\n",
      "  Preparing metadata (setup.py): started\n",
      "  Preparing metadata (setup.py): finished with status 'done'\n",
      "Requirement already satisfied: pandas in c:\\users\\szond\\anaconda3\\envs\\automated-qa-generation\\lib\\site-packages (from BLEURT==0.0.2) (2.2.0)\n",
      "Requirement already satisfied: numpy in c:\\users\\szond\\anaconda3\\envs\\automated-qa-generation\\lib\\site-packages (from BLEURT==0.0.2) (1.23.5)\n",
      "Requirement already satisfied: scipy in c:\\users\\szond\\anaconda3\\envs\\automated-qa-generation\\lib\\site-packages (from BLEURT==0.0.2) (1.12.0)\n",
      "Requirement already satisfied: tensorflow in c:\\users\\szond\\anaconda3\\envs\\automated-qa-generation\\lib\\site-packages (from BLEURT==0.0.2) (2.12.0)\n",
      "Requirement already satisfied: tf-slim>=1.1 in c:\\users\\szond\\anaconda3\\envs\\automated-qa-generation\\lib\\site-packages (from BLEURT==0.0.2) (1.1.0)\n",
      "Requirement already satisfied: sentencepiece in c:\\users\\szond\\anaconda3\\envs\\automated-qa-generation\\lib\\site-packages (from BLEURT==0.0.2) (0.1.99)\n",
      "Requirement already satisfied: absl-py>=0.2.2 in c:\\users\\szond\\anaconda3\\envs\\automated-qa-generation\\lib\\site-packages (from tf-slim>=1.1->BLEURT==0.0.2) (1.4.0)\n",
      "Requirement already satisfied: python-dateutil>=2.8.2 in c:\\users\\szond\\anaconda3\\envs\\automated-qa-generation\\lib\\site-packages (from pandas->BLEURT==0.0.2) (2.8.2)\n",
      "Requirement already satisfied: pytz>=2020.1 in c:\\users\\szond\\anaconda3\\envs\\automated-qa-generation\\lib\\site-packages (from pandas->BLEURT==0.0.2) (2022.7.1)\n",
      "Requirement already satisfied: tzdata>=2022.7 in c:\\users\\szond\\anaconda3\\envs\\automated-qa-generation\\lib\\site-packages (from pandas->BLEURT==0.0.2) (2023.4)\n",
      "Requirement already satisfied: tensorflow-intel==2.12.0 in c:\\users\\szond\\anaconda3\\envs\\automated-qa-generation\\lib\\site-packages (from tensorflow->BLEURT==0.0.2) (2.12.0)\n",
      "Requirement already satisfied: astunparse>=1.6.0 in c:\\users\\szond\\anaconda3\\envs\\automated-qa-generation\\lib\\site-packages (from tensorflow-intel==2.12.0->tensorflow->BLEURT==0.0.2) (1.6.3)\n",
      "Requirement already satisfied: flatbuffers>=2.0 in c:\\users\\szond\\anaconda3\\envs\\automated-qa-generation\\lib\\site-packages (from tensorflow-intel==2.12.0->tensorflow->BLEURT==0.0.2) (23.5.26)\n",
      "Requirement already satisfied: gast<=0.4.0,>=0.2.1 in c:\\users\\szond\\anaconda3\\envs\\automated-qa-generation\\lib\\site-packages (from tensorflow-intel==2.12.0->tensorflow->BLEURT==0.0.2) (0.4.0)\n",
      "Requirement already satisfied: google-pasta>=0.1.1 in c:\\users\\szond\\anaconda3\\envs\\automated-qa-generation\\lib\\site-packages (from tensorflow-intel==2.12.0->tensorflow->BLEURT==0.0.2) (0.2.0)\n",
      "Requirement already satisfied: h5py>=2.9.0 in c:\\users\\szond\\anaconda3\\envs\\automated-qa-generation\\lib\\site-packages (from tensorflow-intel==2.12.0->tensorflow->BLEURT==0.0.2) (3.10.0)\n",
      "Requirement already satisfied: jax>=0.3.15 in c:\\users\\szond\\anaconda3\\envs\\automated-qa-generation\\lib\\site-packages (from tensorflow-intel==2.12.0->tensorflow->BLEURT==0.0.2) (0.4.23)\n",
      "Requirement already satisfied: libclang>=13.0.0 in c:\\users\\szond\\anaconda3\\envs\\automated-qa-generation\\lib\\site-packages (from tensorflow-intel==2.12.0->tensorflow->BLEURT==0.0.2) (16.0.6)\n",
      "Requirement already satisfied: opt-einsum>=2.3.2 in c:\\users\\szond\\anaconda3\\envs\\automated-qa-generation\\lib\\site-packages (from tensorflow-intel==2.12.0->tensorflow->BLEURT==0.0.2) (3.3.0)\n",
      "Requirement already satisfied: packaging in c:\\users\\szond\\anaconda3\\envs\\automated-qa-generation\\lib\\site-packages (from tensorflow-intel==2.12.0->tensorflow->BLEURT==0.0.2) (20.9)\n",
      "Requirement already satisfied: protobuf!=4.21.0,!=4.21.1,!=4.21.2,!=4.21.3,!=4.21.4,!=4.21.5,<5.0.0dev,>=3.20.3 in c:\\users\\szond\\anaconda3\\envs\\automated-qa-generation\\lib\\site-packages (from tensorflow-intel==2.12.0->tensorflow->BLEURT==0.0.2) (4.23.3)\n",
      "Requirement already satisfied: setuptools in c:\\users\\szond\\anaconda3\\envs\\automated-qa-generation\\lib\\site-packages (from tensorflow-intel==2.12.0->tensorflow->BLEURT==0.0.2) (69.0.3)\n",
      "Requirement already satisfied: six>=1.12.0 in c:\\users\\szond\\anaconda3\\envs\\automated-qa-generation\\lib\\site-packages (from tensorflow-intel==2.12.0->tensorflow->BLEURT==0.0.2) (1.16.0)\n",
      "Requirement already satisfied: termcolor>=1.1.0 in c:\\users\\szond\\anaconda3\\envs\\automated-qa-generation\\lib\\site-packages (from tensorflow-intel==2.12.0->tensorflow->BLEURT==0.0.2) (2.4.0)\n",
      "Requirement already satisfied: typing-extensions>=3.6.6 in c:\\users\\szond\\anaconda3\\envs\\automated-qa-generation\\lib\\site-packages (from tensorflow-intel==2.12.0->tensorflow->BLEURT==0.0.2) (4.9.0)\n",
      "Requirement already satisfied: wrapt<1.15,>=1.11.0 in c:\\users\\szond\\anaconda3\\envs\\automated-qa-generation\\lib\\site-packages (from tensorflow-intel==2.12.0->tensorflow->BLEURT==0.0.2) (1.14.1)\n",
      "Requirement already satisfied: grpcio<2.0,>=1.24.3 in c:\\users\\szond\\anaconda3\\envs\\automated-qa-generation\\lib\\site-packages (from tensorflow-intel==2.12.0->tensorflow->BLEURT==0.0.2) (1.60.0)\n",
      "Requirement already satisfied: tensorboard<2.13,>=2.12 in c:\\users\\szond\\anaconda3\\envs\\automated-qa-generation\\lib\\site-packages (from tensorflow-intel==2.12.0->tensorflow->BLEURT==0.0.2) (2.12.3)\n",
      "Requirement already satisfied: tensorflow-estimator<2.13,>=2.12.0 in c:\\users\\szond\\anaconda3\\envs\\automated-qa-generation\\lib\\site-packages (from tensorflow-intel==2.12.0->tensorflow->BLEURT==0.0.2) (2.12.0)\n",
      "Requirement already satisfied: keras<2.13,>=2.12.0 in c:\\users\\szond\\anaconda3\\envs\\automated-qa-generation\\lib\\site-packages (from tensorflow-intel==2.12.0->tensorflow->BLEURT==0.0.2) (2.12.0)\n",
      "Requirement already satisfied: tensorflow-io-gcs-filesystem>=0.23.1 in c:\\users\\szond\\anaconda3\\envs\\automated-qa-generation\\lib\\site-packages (from tensorflow-intel==2.12.0->tensorflow->BLEURT==0.0.2) (0.31.0)\n",
      "Requirement already satisfied: wheel<1.0,>=0.23.0 in c:\\users\\szond\\anaconda3\\envs\\automated-qa-generation\\lib\\site-packages (from astunparse>=1.6.0->tensorflow-intel==2.12.0->tensorflow->BLEURT==0.0.2) (0.41.2)\n",
      "Requirement already satisfied: ml-dtypes>=0.2.0 in c:\\users\\szond\\anaconda3\\envs\\automated-qa-generation\\lib\\site-packages (from jax>=0.3.15->tensorflow-intel==2.12.0->tensorflow->BLEURT==0.0.2) (0.3.2)\n",
      "Requirement already satisfied: google-auth<3,>=1.6.3 in c:\\users\\szond\\anaconda3\\envs\\automated-qa-generation\\lib\\site-packages (from tensorboard<2.13,>=2.12->tensorflow-intel==2.12.0->tensorflow->BLEURT==0.0.2) (2.26.2)\n",
      "Requirement already satisfied: google-auth-oauthlib<1.1,>=0.5 in c:\\users\\szond\\anaconda3\\envs\\automated-qa-generation\\lib\\site-packages (from tensorboard<2.13,>=2.12->tensorflow-intel==2.12.0->tensorflow->BLEURT==0.0.2) (1.0.0)\n",
      "Requirement already satisfied: markdown>=2.6.8 in c:\\users\\szond\\anaconda3\\envs\\automated-qa-generation\\lib\\site-packages (from tensorboard<2.13,>=2.12->tensorflow-intel==2.12.0->tensorflow->BLEURT==0.0.2) (3.5.2)\n",
      "Requirement already satisfied: requests<3,>=2.21.0 in c:\\users\\szond\\anaconda3\\envs\\automated-qa-generation\\lib\\site-packages (from tensorboard<2.13,>=2.12->tensorflow-intel==2.12.0->tensorflow->BLEURT==0.0.2) (2.31.0)\n",
      "Requirement already satisfied: tensorboard-data-server<0.8.0,>=0.7.0 in c:\\users\\szond\\anaconda3\\envs\\automated-qa-generation\\lib\\site-packages (from tensorboard<2.13,>=2.12->tensorflow-intel==2.12.0->tensorflow->BLEURT==0.0.2) (0.7.2)\n",
      "Requirement already satisfied: werkzeug>=1.0.1 in c:\\users\\szond\\anaconda3\\envs\\automated-qa-generation\\lib\\site-packages (from tensorboard<2.13,>=2.12->tensorflow-intel==2.12.0->tensorflow->BLEURT==0.0.2) (3.0.1)\n",
      "Requirement already satisfied: pyparsing>=2.0.2 in c:\\users\\szond\\anaconda3\\envs\\automated-qa-generation\\lib\\site-packages (from packaging->tensorflow-intel==2.12.0->tensorflow->BLEURT==0.0.2) (3.1.1)\n",
      "Requirement already satisfied: cachetools<6.0,>=2.0.0 in c:\\users\\szond\\anaconda3\\envs\\automated-qa-generation\\lib\\site-packages (from google-auth<3,>=1.6.3->tensorboard<2.13,>=2.12->tensorflow-intel==2.12.0->tensorflow->BLEURT==0.0.2) (5.3.2)\n",
      "Requirement already satisfied: pyasn1-modules>=0.2.1 in c:\\users\\szond\\anaconda3\\envs\\automated-qa-generation\\lib\\site-packages (from google-auth<3,>=1.6.3->tensorboard<2.13,>=2.12->tensorflow-intel==2.12.0->tensorflow->BLEURT==0.0.2) (0.3.0)\n",
      "Requirement already satisfied: rsa<5,>=3.1.4 in c:\\users\\szond\\anaconda3\\envs\\automated-qa-generation\\lib\\site-packages (from google-auth<3,>=1.6.3->tensorboard<2.13,>=2.12->tensorflow-intel==2.12.0->tensorflow->BLEURT==0.0.2) (4.9)\n",
      "Requirement already satisfied: requests-oauthlib>=0.7.0 in c:\\users\\szond\\anaconda3\\envs\\automated-qa-generation\\lib\\site-packages (from google-auth-oauthlib<1.1,>=0.5->tensorboard<2.13,>=2.12->tensorflow-intel==2.12.0->tensorflow->BLEURT==0.0.2) (1.3.1)\n",
      "Requirement already satisfied: charset-normalizer<4,>=2 in c:\\users\\szond\\anaconda3\\envs\\automated-qa-generation\\lib\\site-packages (from requests<3,>=2.21.0->tensorboard<2.13,>=2.12->tensorflow-intel==2.12.0->tensorflow->BLEURT==0.0.2) (3.3.2)\n",
      "Requirement already satisfied: idna<4,>=2.5 in c:\\users\\szond\\anaconda3\\envs\\automated-qa-generation\\lib\\site-packages (from requests<3,>=2.21.0->tensorboard<2.13,>=2.12->tensorflow-intel==2.12.0->tensorflow->BLEURT==0.0.2) (3.4)\n",
      "Requirement already satisfied: urllib3<3,>=1.21.1 in c:\\users\\szond\\anaconda3\\envs\\automated-qa-generation\\lib\\site-packages (from requests<3,>=2.21.0->tensorboard<2.13,>=2.12->tensorflow-intel==2.12.0->tensorflow->BLEURT==0.0.2) (1.26.18)\n",
      "Requirement already satisfied: certifi>=2017.4.17 in c:\\users\\szond\\anaconda3\\envs\\automated-qa-generation\\lib\\site-packages (from requests<3,>=2.21.0->tensorboard<2.13,>=2.12->tensorflow-intel==2.12.0->tensorflow->BLEURT==0.0.2) (2023.11.17)\n",
      "Requirement already satisfied: MarkupSafe>=2.1.1 in c:\\users\\szond\\anaconda3\\envs\\automated-qa-generation\\lib\\site-packages (from werkzeug>=1.0.1->tensorboard<2.13,>=2.12->tensorflow-intel==2.12.0->tensorflow->BLEURT==0.0.2) (2.1.3)\n",
      "Requirement already satisfied: pyasn1<0.6.0,>=0.4.6 in c:\\users\\szond\\anaconda3\\envs\\automated-qa-generation\\lib\\site-packages (from pyasn1-modules>=0.2.1->google-auth<3,>=1.6.3->tensorboard<2.13,>=2.12->tensorflow-intel==2.12.0->tensorflow->BLEURT==0.0.2) (0.5.1)\n",
      "Requirement already satisfied: oauthlib>=3.0.0 in c:\\users\\szond\\anaconda3\\envs\\automated-qa-generation\\lib\\site-packages (from requests-oauthlib>=0.7.0->google-auth-oauthlib<1.1,>=0.5->tensorboard<2.13,>=2.12->tensorflow-intel==2.12.0->tensorflow->BLEURT==0.0.2) (3.2.2)\n",
      "Building wheels for collected packages: BLEURT\n",
      "  Building wheel for BLEURT (setup.py): started\n",
      "  Building wheel for BLEURT (setup.py): finished with status 'done'\n",
      "  Created wheel for BLEURT: filename=BLEURT-0.0.2-py3-none-any.whl size=16460624 sha256=297938f6254140fae3efc239f73e49aacdba767504cd183c7bdc18fb10434f23\n",
      "  Stored in directory: C:\\Users\\szond\\AppData\\Local\\Temp\\pip-ephem-wheel-cache-tj1qfvwc\\wheels\\9e\\3e\\d6\\623eb6f2597b5df4315da15e33ecafa18acc6ae6fd25d43226\n",
      "Successfully built BLEURT\n",
      "Installing collected packages: BLEURT\n",
      "  Attempting uninstall: BLEURT\n",
      "    Found existing installation: BLEURT 0.0.2\n",
      "    Uninstalling BLEURT-0.0.2:\n",
      "      Successfully uninstalled BLEURT-0.0.2\n",
      "Successfully installed BLEURT-0.0.2\n"
     ]
    }
   ],
   "source": [
    "!pip install tensorflow\n",
    "!git clone https://github.com/google-research/bleurt.git\n",
    "!cd bleurt & pip install .\n"
   ],
   "metadata": {
    "collapsed": false,
    "ExecuteTime": {
     "end_time": "2024-02-02T17:57:57.389885300Z",
     "start_time": "2024-02-02T17:57:41.317221100Z"
    }
   },
   "id": "37a79c597ca38302",
   "execution_count": 15
  },
  {
   "cell_type": "code",
   "outputs": [
    {
     "name": "stderr",
     "output_type": "stream",
     "text": [
      "SYSTEM_WGETRC = c:/progra~1/wget/etc/wgetrc\n",
      "syswgetrc = C:\\Program Files (x86)\\GnuWin32/etc/wgetrc\n",
      "--2024-02-02 18:57:57--  https://storage.googleapis.com/bleurt-oss-21/BLEURT-20.zip\n",
      "Resolving storage.googleapis.com... 142.250.179.187, 142.250.179.219, 142.251.36.27, ...\n",
      "Connecting to storage.googleapis.com|142.250.179.187|:443... connected.\n",
      "ERROR: cannot verify storage.googleapis.com's certificate, issued by `/C=US/O=Google Trust Services LLC/CN=GTS CA 1C3':\n",
      "  Unable to locally verify the issuer's authority.\n",
      "ERROR: certificate common name `*.storage.googleapis.com' doesn't match requested host name `storage.googleapis.com'.\n",
      "To connect to storage.googleapis.com insecurely, use `--no-check-certificate'.\n",
      "Unable to establish SSL connection.\n",
      "'unzip' is not recognized as an internal or external command,\n",
      "operable program or batch file.\n"
     ]
    }
   ],
   "source": [
    "# Download the BLEURT-20 checkpoint\n",
    "!wget https://storage.googleapis.com/bleurt-oss-21/BLEURT-20.zip\n",
    "\n",
    "# Unzip the downloaded checkpoint\n",
    "!unzip BLEURT-20.zip\n"
   ],
   "metadata": {
    "collapsed": false,
    "ExecuteTime": {
     "end_time": "2024-02-02T17:57:57.883235900Z",
     "start_time": "2024-02-02T17:57:57.386804400Z"
    }
   },
   "id": "e25a2320424bd991",
   "execution_count": 16
  },
  {
   "cell_type": "code",
   "outputs": [
    {
     "name": "stdout",
     "output_type": "stream",
     "text": [
      "Average BLEURT Score for Fold One: 0.5916975402250523\n",
      "Average BLEURT Score for Fold Two: 0.5170760126896652\n"
     ]
    }
   ],
   "source": [
    "from bleurt import score\n",
    "\n",
    "# Assume you have initialized and set up BLEURT as per the instructions\n",
    "checkpoint = \"./bleurt/BLEURT-20\"  # Update this path\n",
    "scorer = score.BleurtScorer(checkpoint)\n",
    "\n",
    "# Filter the data to include only pairs where the answer is in the fold it is answering,\n",
    "# is not declined/empty, and the fact column is empty.\n",
    "data_filtered_fold_one = data[(data['Fold'] == 'train_fold_one') & (data['Answered_fold_one']) & (data['Fact'].isnull())]\n",
    "data_filtered_fold_two = data[(data['Fold'] == 'train_fold_two') & (data['Answered_fold_two']) & (data['Fact'].isnull())]\n",
    "\n",
    "# Define a function to calculate BLEURT score for a given reference and candidate sentence\n",
    "def calculate_bleurt(reference, candidate):\n",
    "    # BLEURT expects the reference and candidate as strings directly\n",
    "    scores = scorer.score(references=[reference], candidates=[candidate])\n",
    "    # Return the first score (since we're scoring one pair at a time)\n",
    "    return scores[0]\n",
    "\n",
    "# Calculate BLEURT scores for fold one and fold two\n",
    "bleurt_scores_fold_one = [calculate_bleurt(ref, cand) for ref, cand in zip(data_filtered_fold_one['Answer_x'], data_filtered_fold_one['Answer_on_train_fold_one'])]\n",
    "bleurt_scores_fold_two = [calculate_bleurt(ref, cand) for ref, cand in zip(data_filtered_fold_two['Answer_x'], data_filtered_fold_two['Answer_on_train_fold_two'])]\n",
    "\n",
    "# Aggregate BLEURT scores\n",
    "avg_bleurt_score_fold_one = sum(bleurt_scores_fold_one) / len(bleurt_scores_fold_one) if bleurt_scores_fold_one else 0\n",
    "avg_bleurt_score_fold_two = sum(bleurt_scores_fold_two) / len(bleurt_scores_fold_two) if bleurt_scores_fold_two else 0\n",
    "\n",
    "print(\"Average BLEURT Score for Fold One:\", avg_bleurt_score_fold_one)\n",
    "print(\"Average BLEURT Score for Fold Two:\", avg_bleurt_score_fold_two)\n"
   ],
   "metadata": {
    "collapsed": false,
    "ExecuteTime": {
     "end_time": "2024-02-02T18:14:37.221168700Z",
     "start_time": "2024-02-02T17:57:57.821898Z"
    }
   },
   "id": "f32f5bdc74dba87f",
   "execution_count": 17
  },
  {
   "cell_type": "code",
   "outputs": [
    {
     "name": "stdout",
     "output_type": "stream",
     "text": [
      "['Fold_One_BLEURT_Boxplot.png', 'Fold_One_BLEURT_Histogram.png', 'Fold_One_Boxplot.png', 'Fold_One_Histogram.png', 'Fold_One_ROUGE-1_Boxplot.png', 'Fold_One_ROUGE-1_Histogram.png', 'Fold_One_ROUGE-2_Boxplot.png', 'Fold_One_ROUGE-2_Histogram.png', 'Fold_One_ROUGE-L_Boxplot.png', 'Fold_One_ROUGE-L_Histogram.png', 'Fold_One_ROUGE_Scores_Combined_Boxplot.png', 'Fold_One_ROUGE_Scores_Combined_Histogram.png', 'Fold_Two_BLEURT_Boxplot.png', 'Fold_Two_BLEURT_Histogram.png', 'Fold_Two_Boxplot.png', 'Fold_Two_Histogram.png', 'Fold_Two_ROUGE-1_Boxplot.png', 'Fold_Two_ROUGE-1_Histogram.png', 'Fold_Two_ROUGE-2_Boxplot.png', 'Fold_Two_ROUGE-2_Histogram.png', 'Fold_Two_ROUGE-L_Boxplot.png', 'Fold_Two_ROUGE-L_Histogram.png', 'Fold_Two_ROUGE_Scores_Combined_Boxplot.png', 'Fold_Two_ROUGE_Scores_Combined_Histogram.png']\n"
     ]
    }
   ],
   "source": [
    "import matplotlib.pyplot as plt\n",
    "import os\n",
    "\n",
    "# Define a function to save individual histogram and boxplot for BLEURT scores to a file\n",
    "def save_plot_scores(scores, title, score_type, folder_path):\n",
    "    plt.figure(figsize=(6, 4))\n",
    "    \n",
    "    if score_type == 'histogram':\n",
    "        # Histogram\n",
    "        plt.hist(scores, bins=20, color='skyblue')\n",
    "        plt.title(f'Histogram of {title} Scores')\n",
    "        plt.xlabel('Score')\n",
    "        plt.ylabel('Frequency')\n",
    "        filename = f\"{folder_path}/{title}_Histogram.png\"\n",
    "    elif score_type == 'boxplot':\n",
    "        # Boxplot\n",
    "        plt.boxplot(scores, vert=False, patch_artist=True)\n",
    "        plt.title(f'Boxplot of {title} Scores')\n",
    "        plt.xlabel('Score')\n",
    "        filename = f\"{folder_path}/{title}_Boxplot.png\"\n",
    "\n",
    "    plt.tight_layout()\n",
    "    plt.savefig(filename)\n",
    "    plt.close()\n",
    "\n",
    "# Directory where the plots will be saved\n",
    "results_folder = './results'\n",
    "\n",
    "# Create the results directory if it does not exist\n",
    "os.makedirs(results_folder, exist_ok=True)\n",
    "\n",
    "# Save the histograms and boxplots for BLEURT scores to files\n",
    "save_plot_scores(bleurt_scores_fold_one, 'Fold_One_BLEURT', 'histogram', results_folder)\n",
    "save_plot_scores(bleurt_scores_fold_one, 'Fold_One_BLEURT', 'boxplot', results_folder)\n",
    "save_plot_scores(bleurt_scores_fold_two, 'Fold_Two_BLEURT', 'histogram', results_folder)\n",
    "save_plot_scores(bleurt_scores_fold_two, 'Fold_Two_BLEURT', 'boxplot', results_folder)\n",
    "\n",
    "# Optionally, list the files in the results directory to verify the plots have been saved\n",
    "files_in_results_folder = os.listdir(results_folder)\n",
    "print(files_in_results_folder)\n"
   ],
   "metadata": {
    "collapsed": false,
    "ExecuteTime": {
     "end_time": "2024-02-02T18:14:38.136184100Z",
     "start_time": "2024-02-02T18:14:37.232160500Z"
    }
   },
   "id": "1cac2417adee3f8e",
   "execution_count": 18
  },
  {
   "cell_type": "markdown",
   "source": [
    "# Entity"
   ],
   "metadata": {
    "collapsed": false
   },
   "id": "e9a0117397de7cab"
  },
  {
   "cell_type": "code",
   "outputs": [
    {
     "name": "stderr",
     "output_type": "stream",
     "text": [
      "C:\\Users\\szond\\AppData\\Local\\Temp\\ipykernel_23892\\4226868502.py:42: SettingWithCopyWarning: \n",
      "A value is trying to be set on a copy of a slice from a DataFrame.\n",
      "Try using .loc[row_indexer,col_indexer] = value instead\n",
      "\n",
      "See the caveats in the documentation: https://pandas.pydata.org/pandas-docs/stable/user_guide/indexing.html#returning-a-view-versus-a-copy\n",
      "  data_with_fact['Verification_Result'] = data_with_fact.apply(extract_and_verify_info, axis=1)\n"
     ]
    },
    {
     "data": {
      "text/plain": "                                            Question  \\\n0  Wanneer moet ik contact opnemen met het zieken...   \n1  Hoe kan ik contact opnemen met de ZGT poliklin...   \n2  Wat is het telefoonnummer van de afdeling radi...   \n3  Wat moet ik doen als ik vragen of complicaties...   \n4  Wat is het emailadres van de Vereniging aangeb...   \n\n                                                Fact  Verification_Result  \n0   {'entityType': 'Phone', 'value': '+31887087878'}                False  \n1   {'entityType': 'Phone', 'value': '+31887085396'}                False  \n2   {'entityType': 'Phone', 'value': '+31887083700'}                False  \n3   {'entityType': 'Phone', 'value': '+31887085233'}                False  \n4  {'entityType': 'Email', 'value': 'info@heupafw...                False  ",
      "text/html": "<div>\n<style scoped>\n    .dataframe tbody tr th:only-of-type {\n        vertical-align: middle;\n    }\n\n    .dataframe tbody tr th {\n        vertical-align: top;\n    }\n\n    .dataframe thead th {\n        text-align: right;\n    }\n</style>\n<table border=\"1\" class=\"dataframe\">\n  <thead>\n    <tr style=\"text-align: right;\">\n      <th></th>\n      <th>Question</th>\n      <th>Fact</th>\n      <th>Verification_Result</th>\n    </tr>\n  </thead>\n  <tbody>\n    <tr>\n      <th>0</th>\n      <td>Wanneer moet ik contact opnemen met het zieken...</td>\n      <td>{'entityType': 'Phone', 'value': '+31887087878'}</td>\n      <td>False</td>\n    </tr>\n    <tr>\n      <th>1</th>\n      <td>Hoe kan ik contact opnemen met de ZGT poliklin...</td>\n      <td>{'entityType': 'Phone', 'value': '+31887085396'}</td>\n      <td>False</td>\n    </tr>\n    <tr>\n      <th>2</th>\n      <td>Wat is het telefoonnummer van de afdeling radi...</td>\n      <td>{'entityType': 'Phone', 'value': '+31887083700'}</td>\n      <td>False</td>\n    </tr>\n    <tr>\n      <th>3</th>\n      <td>Wat moet ik doen als ik vragen of complicaties...</td>\n      <td>{'entityType': 'Phone', 'value': '+31887085233'}</td>\n      <td>False</td>\n    </tr>\n    <tr>\n      <th>4</th>\n      <td>Wat is het emailadres van de Vereniging aangeb...</td>\n      <td>{'entityType': 'Email', 'value': 'info@heupafw...</td>\n      <td>False</td>\n    </tr>\n  </tbody>\n</table>\n</div>"
     },
     "execution_count": 19,
     "metadata": {},
     "output_type": "execute_result"
    }
   ],
   "source": [
    "import re\n",
    "import json\n",
    "# Display the head of the dataframe where the 'Fact' column is not empty\n",
    "data_with_fact = data[data['Fact'].notnull()]\n",
    "\n",
    "# Display the first few rows of this filtered dataframe\n",
    "data_with_fact.head()\n",
    "\n",
    "\n",
    "def extract_and_verify_info(row):\n",
    "    # Extracting the fact value\n",
    "    fact_info = json.loads(row['Fact'].replace(\"'\", \"\\\"\"))\n",
    "    fact_type = fact_info['entityType']\n",
    "    fact_value = fact_info['value']\n",
    "    \n",
    "    # Choosing the right answer based on the fold\n",
    "    if row['Fold'] == 'train_fold_one' and row['Answered_fold_one']:\n",
    "        answer = row['Answer_on_train_fold_one']\n",
    "    elif row['Fold'] == 'train_fold_two' and row['Answered_fold_two']:\n",
    "        answer = row['Answer_on_train_fold_two']\n",
    "    else:\n",
    "        return False  # No answer or not the right fold\n",
    "    \n",
    "    # Normalize and extract information based on fact type\n",
    "    if fact_type == 'Email':\n",
    "        pattern = r'\\b[A-Za-z0-9._%+-]+@[A-Za-z0-9.-]+\\.[A-Z|a-z]{2,}\\b'\n",
    "        extracted_emails = re.findall(pattern, answer)\n",
    "        normalized_fact_value = fact_value.lower()\n",
    "        return normalized_fact_value in [email.lower() for email in extracted_emails]\n",
    "    \n",
    "    elif fact_type == 'Phone':\n",
    "        pattern = r'\\+?\\d[\\d -]{8,}\\d'\n",
    "        extracted_phones = re.findall(pattern, answer)\n",
    "        # Normalize by removing spaces, dashes, and leading zeros\n",
    "        normalized_fact_value = fact_value.replace(\" \", \"\").replace(\"-\", \"\").lstrip(\"0\")\n",
    "        normalized_extracted_phones = [phone.replace(\" \", \"\").replace(\"-\", \"\").lstrip(\"0\") for phone in extracted_phones]\n",
    "        return normalized_fact_value in normalized_extracted_phones\n",
    "    \n",
    "    return False\n",
    "\n",
    "# Apply the function to each row in the dataframe where 'Fact' is not empty\n",
    "data_with_fact['Verification_Result'] = data_with_fact.apply(extract_and_verify_info, axis=1)\n",
    "\n",
    "# Check the results\n",
    "data_with_fact[['Question', 'Fact', 'Verification_Result']].head()\n"
   ],
   "metadata": {
    "collapsed": false,
    "ExecuteTime": {
     "end_time": "2024-02-02T18:14:38.243077400Z",
     "start_time": "2024-02-02T18:14:38.174650500Z"
    }
   },
   "id": "b47462c8a6c17a46",
   "execution_count": 19
  },
  {
   "cell_type": "code",
   "outputs": [
    {
     "name": "stdout",
     "output_type": "stream",
     "text": [
      "Empty DataFrame\n",
      "Columns: [Question no, Question, Answer_x, Section, Unnamed: 0, topic_id, filename, header, section_text, Fold, Fact, Declined_to_answer_on_train_fold_one, Answer_on_train_fold_one, Declined_to_answer_on_train_fold_two, Answer_on_train_fold_two, Answered_fold_one, Answered_fold_two, Verification_Result]\n",
      "Index: []\n",
      "Empty DataFrame\n",
      "Columns: [Question no, Question, Answer_x, Section, Unnamed: 0, topic_id, filename, header, section_text, Fold, Fact, Declined_to_answer_on_train_fold_one, Answer_on_train_fold_one, Declined_to_answer_on_train_fold_two, Answer_on_train_fold_two, Answered_fold_one, Answered_fold_two, Verification_Result]\n",
      "Index: []\n"
     ]
    },
    {
     "ename": "ZeroDivisionError",
     "evalue": "division by zero",
     "output_type": "error",
     "traceback": [
      "\u001B[1;31m---------------------------------------------------------------------------\u001B[0m",
      "\u001B[1;31mZeroDivisionError\u001B[0m                         Traceback (most recent call last)",
      "Cell \u001B[1;32mIn[20], line 11\u001B[0m\n\u001B[0;32m      9\u001B[0m \u001B[38;5;66;03m# Calculate percentages\u001B[39;00m\n\u001B[0;32m     10\u001B[0m percentage_correct_fold_one \u001B[38;5;241m=\u001B[39m \u001B[38;5;28mlen\u001B[39m(verified_fold_one) \u001B[38;5;241m/\u001B[39m \u001B[38;5;28mlen\u001B[39m(data_with_fact[data_with_fact[\u001B[38;5;124m'\u001B[39m\u001B[38;5;124mFold\u001B[39m\u001B[38;5;124m'\u001B[39m] \u001B[38;5;241m==\u001B[39m \u001B[38;5;124m'\u001B[39m\u001B[38;5;124mtrain_fold_one\u001B[39m\u001B[38;5;124m'\u001B[39m]) \u001B[38;5;241m*\u001B[39m \u001B[38;5;241m100\u001B[39m\n\u001B[1;32m---> 11\u001B[0m percentage_correct_fold_two \u001B[38;5;241m=\u001B[39m \u001B[38;5;28;43mlen\u001B[39;49m\u001B[43m(\u001B[49m\u001B[43mverified_fold_two\u001B[49m\u001B[43m)\u001B[49m\u001B[43m \u001B[49m\u001B[38;5;241;43m/\u001B[39;49m\u001B[43m \u001B[49m\u001B[38;5;28;43mlen\u001B[39;49m\u001B[43m(\u001B[49m\u001B[43mdata_with_fact\u001B[49m\u001B[43m[\u001B[49m\u001B[43mdata_with_fact\u001B[49m\u001B[43m[\u001B[49m\u001B[38;5;124;43m'\u001B[39;49m\u001B[38;5;124;43mFold\u001B[39;49m\u001B[38;5;124;43m'\u001B[39;49m\u001B[43m]\u001B[49m\u001B[43m \u001B[49m\u001B[38;5;241;43m==\u001B[39;49m\u001B[43m \u001B[49m\u001B[38;5;124;43m'\u001B[39;49m\u001B[38;5;124;43mtrain_fold_two\u001B[39;49m\u001B[38;5;124;43m'\u001B[39;49m\u001B[43m]\u001B[49m\u001B[43m)\u001B[49m \u001B[38;5;241m*\u001B[39m \u001B[38;5;241m100\u001B[39m\n\u001B[0;32m     13\u001B[0m \u001B[38;5;28mprint\u001B[39m(\u001B[38;5;124mf\u001B[39m\u001B[38;5;124m\"\u001B[39m\u001B[38;5;124mPercentage correct for Fold One: \u001B[39m\u001B[38;5;132;01m{\u001B[39;00mpercentage_correct_fold_one\u001B[38;5;132;01m}\u001B[39;00m\u001B[38;5;124m%\u001B[39m\u001B[38;5;124m\"\u001B[39m)\n\u001B[0;32m     14\u001B[0m \u001B[38;5;28mprint\u001B[39m(\u001B[38;5;124mf\u001B[39m\u001B[38;5;124m\"\u001B[39m\u001B[38;5;124mPercentage correct for Fold Two: \u001B[39m\u001B[38;5;132;01m{\u001B[39;00mpercentage_correct_fold_two\u001B[38;5;132;01m}\u001B[39;00m\u001B[38;5;124m%\u001B[39m\u001B[38;5;124m\"\u001B[39m)\n",
      "\u001B[1;31mZeroDivisionError\u001B[0m: division by zero"
     ]
    }
   ],
   "source": [
    "# Assuming the 'Verification_Result' column exists in 'data_with_fact'\n",
    "\n",
    "# Filter verified results for each fold\n",
    "verified_fold_one = data_with_fact[(data_with_fact['Fold'] == 'train_fold_one') & (data_with_fact['Verification_Result'])]\n",
    "verified_fold_two = data_with_fact[(data_with_fact['Fold'] == 'train_fold_two') & (data_with_fact['Verification_Result'])]\n",
    "print(verified_fold_one.head())\n",
    "print(verified_fold_two.head())\n",
    "\n",
    "# Calculate percentages\n",
    "percentage_correct_fold_one = len(verified_fold_one) / len(data_with_fact[data_with_fact['Fold'] == 'train_fold_one']) * 100\n",
    "percentage_correct_fold_two = len(verified_fold_two) / len(data_with_fact[data_with_fact['Fold'] == 'train_fold_two']) * 100\n",
    "\n",
    "print(f\"Percentage correct for Fold One: {percentage_correct_fold_one}%\")\n",
    "print(f\"Percentage correct for Fold Two: {percentage_correct_fold_two}%\")\n"
   ],
   "metadata": {
    "collapsed": false,
    "ExecuteTime": {
     "end_time": "2024-02-02T18:14:40.465620900Z",
     "start_time": "2024-02-02T18:14:38.208707900Z"
    }
   },
   "id": "ac31111142646808",
   "execution_count": 20
  },
  {
   "cell_type": "code",
   "outputs": [],
   "source": [],
   "metadata": {
    "collapsed": false,
    "ExecuteTime": {
     "start_time": "2024-02-02T18:14:40.468005300Z"
    }
   },
   "id": "f727a2b96a82c7b3",
   "execution_count": null
  },
  {
   "cell_type": "code",
   "outputs": [],
   "source": [],
   "metadata": {
    "collapsed": false,
    "ExecuteTime": {
     "end_time": "2024-02-02T18:14:40.521388800Z",
     "start_time": "2024-02-02T18:14:40.475367700Z"
    }
   },
   "id": "f67894ab47d0137f"
  }
 ],
 "metadata": {
  "kernelspec": {
   "display_name": "Python 3",
   "language": "python",
   "name": "python3"
  },
  "language_info": {
   "codemirror_mode": {
    "name": "ipython",
    "version": 2
   },
   "file_extension": ".py",
   "mimetype": "text/x-python",
   "name": "python",
   "nbconvert_exporter": "python",
   "pygments_lexer": "ipython2",
   "version": "2.7.6"
  }
 },
 "nbformat": 4,
 "nbformat_minor": 5
}
