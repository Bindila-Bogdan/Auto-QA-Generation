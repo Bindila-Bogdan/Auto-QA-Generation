{
 "cells": [
  {
   "cell_type": "markdown",
   "id": "1a2d14907764cfac",
   "metadata": {},
   "source": [
    "# Question-Answer Pair Generation Using Large Language Models\n",
    "\n",
    "## Overview\n",
    "This notebook presents an innovative approach for generating high-quality question-answer pairs. Leveraging a Large Language Model (LLM), we aim to create a dataset that can be used for a variety of applications, particularly in fields requiring precise and accurate information retrieval, such as in medical contexts.\n",
    "\n",
    "## Process Outline\n",
    "Our approach is divided into four key steps:\n",
    "\n",
    "### 1. Source Document Filtering\n",
    "- **Objective**: To streamline the selection of relevant source material from a vast array of documents.\n",
    "- **Method**: Implement a filtering mechanism that narrows down the number of source documents and selects pertinent paragraphs for subsequent processing.\n",
    "\n",
    "### 2. Question Generation\n",
    "- **Objective**: To formulate high-quality question candidates.\n",
    "- **Method**: Utilize the capabilities of a Large Language Model, employing advanced prompt engineering techniques. Questions are designed to elicit responses that can either be direct extracts from selected source documents (PDFs) or concise, fact-based answers.\n",
    "\n",
    "### 3. Automated Filtering of Q&A Pairs\n",
    "- **Objective**: To refine the generated question-answer pairs and ensure their relevance and quality.\n",
    "- **Methods**:\n",
    "  - **N-gram Similarity**: Assess the similarity between the question and its context to filter out unrelated pairs.\n",
    "  - **LLM Scoring**: Use a score provided by the LLM for the relatedness between the question and context.\n",
    "  - **Text Embedding Vectors**: Create embeddings for questions to identify and remove highly similar questions.\n"
   ]
  },
  {
   "cell_type": "code",
   "execution_count": 1,
   "id": "5c6c309db8bc119f",
   "metadata": {
    "ExecuteTime": {
     "end_time": "2024-01-10T09:43:16.830743300Z",
     "start_time": "2024-01-10T09:42:57.919853800Z"
    },
    "collapsed": false,
    "jupyter": {
     "outputs_hidden": false
    }
   },
   "outputs": [
    {
     "name": "stdout",
     "output_type": "stream",
     "text": [
      "Requirement already satisfied: langchain in c:\\programming\\automated-qa-generation\\env\\lib\\site-packages (0.1.0)\n",
      "Requirement already satisfied: PyYAML>=5.3 in c:\\programming\\automated-qa-generation\\env\\lib\\site-packages (from langchain) (6.0.1)\n",
      "Requirement already satisfied: SQLAlchemy<3,>=1.4 in c:\\programming\\automated-qa-generation\\env\\lib\\site-packages (from langchain) (2.0.25)\n",
      "Requirement already satisfied: aiohttp<4.0.0,>=3.8.3 in c:\\programming\\automated-qa-generation\\env\\lib\\site-packages (from langchain) (3.9.1)\n",
      "Requirement already satisfied: dataclasses-json<0.7,>=0.5.7 in c:\\programming\\automated-qa-generation\\env\\lib\\site-packages (from langchain) (0.6.3)\n",
      "Requirement already satisfied: jsonpatch<2.0,>=1.33 in c:\\programming\\automated-qa-generation\\env\\lib\\site-packages (from langchain) (1.33)\n",
      "Requirement already satisfied: langchain-community<0.1,>=0.0.9 in c:\\programming\\automated-qa-generation\\env\\lib\\site-packages (from langchain) (0.0.11)\n",
      "Requirement already satisfied: langchain-core<0.2,>=0.1.7 in c:\\programming\\automated-qa-generation\\env\\lib\\site-packages (from langchain) (0.1.9)\n",
      "Requirement already satisfied: langsmith<0.1.0,>=0.0.77 in c:\\programming\\automated-qa-generation\\env\\lib\\site-packages (from langchain) (0.0.79)\n",
      "Requirement already satisfied: numpy<2,>=1 in c:\\programming\\automated-qa-generation\\env\\lib\\site-packages (from langchain) (1.26.3)\n",
      "Requirement already satisfied: pydantic<3,>=1 in c:\\programming\\automated-qa-generation\\env\\lib\\site-packages (from langchain) (2.5.3)\n",
      "Requirement already satisfied: requests<3,>=2 in c:\\programming\\automated-qa-generation\\env\\lib\\site-packages (from langchain) (2.31.0)\n",
      "Requirement already satisfied: tenacity<9.0.0,>=8.1.0 in c:\\programming\\automated-qa-generation\\env\\lib\\site-packages (from langchain) (8.2.3)\n",
      "Requirement already satisfied: attrs>=17.3.0 in c:\\programming\\automated-qa-generation\\env\\lib\\site-packages (from aiohttp<4.0.0,>=3.8.3->langchain) (23.2.0)\n",
      "Requirement already satisfied: multidict<7.0,>=4.5 in c:\\programming\\automated-qa-generation\\env\\lib\\site-packages (from aiohttp<4.0.0,>=3.8.3->langchain) (6.0.4)\n",
      "Requirement already satisfied: yarl<2.0,>=1.0 in c:\\programming\\automated-qa-generation\\env\\lib\\site-packages (from aiohttp<4.0.0,>=3.8.3->langchain) (1.9.4)\n",
      "Requirement already satisfied: frozenlist>=1.1.1 in c:\\programming\\automated-qa-generation\\env\\lib\\site-packages (from aiohttp<4.0.0,>=3.8.3->langchain) (1.4.1)\n",
      "Requirement already satisfied: aiosignal>=1.1.2 in c:\\programming\\automated-qa-generation\\env\\lib\\site-packages (from aiohttp<4.0.0,>=3.8.3->langchain) (1.3.1)\n",
      "Requirement already satisfied: marshmallow<4.0.0,>=3.18.0 in c:\\programming\\automated-qa-generation\\env\\lib\\site-packages (from dataclasses-json<0.7,>=0.5.7->langchain) (3.20.2)\n",
      "Requirement already satisfied: typing-inspect<1,>=0.4.0 in c:\\programming\\automated-qa-generation\\env\\lib\\site-packages (from dataclasses-json<0.7,>=0.5.7->langchain) (0.9.0)\n",
      "Requirement already satisfied: jsonpointer>=1.9 in c:\\programming\\automated-qa-generation\\env\\lib\\site-packages (from jsonpatch<2.0,>=1.33->langchain) (2.4)\n",
      "Requirement already satisfied: anyio<5,>=3 in c:\\programming\\automated-qa-generation\\env\\lib\\site-packages (from langchain-core<0.2,>=0.1.7->langchain) (4.2.0)\n",
      "Requirement already satisfied: packaging<24.0,>=23.2 in c:\\programming\\automated-qa-generation\\env\\lib\\site-packages (from langchain-core<0.2,>=0.1.7->langchain) (23.2)\n",
      "Requirement already satisfied: annotated-types>=0.4.0 in c:\\programming\\automated-qa-generation\\env\\lib\\site-packages (from pydantic<3,>=1->langchain) (0.6.0)\n",
      "Requirement already satisfied: pydantic-core==2.14.6 in c:\\programming\\automated-qa-generation\\env\\lib\\site-packages (from pydantic<3,>=1->langchain) (2.14.6)\n",
      "Requirement already satisfied: typing-extensions>=4.6.1 in c:\\programming\\automated-qa-generation\\env\\lib\\site-packages (from pydantic<3,>=1->langchain) (4.9.0)\n",
      "Requirement already satisfied: charset-normalizer<4,>=2 in c:\\programming\\automated-qa-generation\\env\\lib\\site-packages (from requests<3,>=2->langchain) (3.3.2)\n",
      "Requirement already satisfied: idna<4,>=2.5 in c:\\programming\\automated-qa-generation\\env\\lib\\site-packages (from requests<3,>=2->langchain) (3.6)\n",
      "Requirement already satisfied: urllib3<3,>=1.21.1 in c:\\programming\\automated-qa-generation\\env\\lib\\site-packages (from requests<3,>=2->langchain) (2.1.0)\n",
      "Requirement already satisfied: certifi>=2017.4.17 in c:\\programming\\automated-qa-generation\\env\\lib\\site-packages (from requests<3,>=2->langchain) (2023.11.17)\n",
      "Requirement already satisfied: greenlet!=0.4.17 in c:\\programming\\automated-qa-generation\\env\\lib\\site-packages (from SQLAlchemy<3,>=1.4->langchain) (3.0.3)\n",
      "Requirement already satisfied: sniffio>=1.1 in c:\\programming\\automated-qa-generation\\env\\lib\\site-packages (from anyio<5,>=3->langchain-core<0.2,>=0.1.7->langchain) (1.3.0)\n",
      "Requirement already satisfied: mypy-extensions>=0.3.0 in c:\\programming\\automated-qa-generation\\env\\lib\\site-packages (from typing-inspect<1,>=0.4.0->dataclasses-json<0.7,>=0.5.7->langchain) (1.0.0)\n"
     ]
    },
    {
     "name": "stderr",
     "output_type": "stream",
     "text": [
      "\n",
      "[notice] A new release of pip is available: 23.2.1 -> 23.3.2\n",
      "[notice] To update, run: python.exe -m pip install --upgrade pip\n"
     ]
    },
    {
     "name": "stdout",
     "output_type": "stream",
     "text": [
      "Requirement already satisfied: openai in c:\\programming\\automated-qa-generation\\env\\lib\\site-packages (1.7.0)\n",
      "Requirement already satisfied: anyio<5,>=3.5.0 in c:\\programming\\automated-qa-generation\\env\\lib\\site-packages (from openai) (4.2.0)\n",
      "Requirement already satisfied: distro<2,>=1.7.0 in c:\\programming\\automated-qa-generation\\env\\lib\\site-packages (from openai) (1.9.0)\n",
      "Requirement already satisfied: httpx<1,>=0.23.0 in c:\\programming\\automated-qa-generation\\env\\lib\\site-packages (from openai) (0.26.0)\n",
      "Requirement already satisfied: pydantic<3,>=1.9.0 in c:\\programming\\automated-qa-generation\\env\\lib\\site-packages (from openai) (2.5.3)\n",
      "Requirement already satisfied: sniffio in c:\\programming\\automated-qa-generation\\env\\lib\\site-packages (from openai) (1.3.0)\n",
      "Requirement already satisfied: tqdm>4 in c:\\programming\\automated-qa-generation\\env\\lib\\site-packages (from openai) (4.66.1)\n",
      "Requirement already satisfied: typing-extensions<5,>=4.7 in c:\\programming\\automated-qa-generation\\env\\lib\\site-packages (from openai) (4.9.0)\n",
      "Requirement already satisfied: idna>=2.8 in c:\\programming\\automated-qa-generation\\env\\lib\\site-packages (from anyio<5,>=3.5.0->openai) (3.6)\n",
      "Requirement already satisfied: certifi in c:\\programming\\automated-qa-generation\\env\\lib\\site-packages (from httpx<1,>=0.23.0->openai) (2023.11.17)\n",
      "Requirement already satisfied: httpcore==1.* in c:\\programming\\automated-qa-generation\\env\\lib\\site-packages (from httpx<1,>=0.23.0->openai) (1.0.2)\n",
      "Requirement already satisfied: h11<0.15,>=0.13 in c:\\programming\\automated-qa-generation\\env\\lib\\site-packages (from httpcore==1.*->httpx<1,>=0.23.0->openai) (0.14.0)\n",
      "Requirement already satisfied: annotated-types>=0.4.0 in c:\\programming\\automated-qa-generation\\env\\lib\\site-packages (from pydantic<3,>=1.9.0->openai) (0.6.0)\n",
      "Requirement already satisfied: pydantic-core==2.14.6 in c:\\programming\\automated-qa-generation\\env\\lib\\site-packages (from pydantic<3,>=1.9.0->openai) (2.14.6)\n",
      "Requirement already satisfied: colorama in c:\\programming\\automated-qa-generation\\env\\lib\\site-packages (from tqdm>4->openai) (0.4.6)\n"
     ]
    },
    {
     "name": "stderr",
     "output_type": "stream",
     "text": [
      "\n",
      "[notice] A new release of pip is available: 23.2.1 -> 23.3.2\n",
      "[notice] To update, run: python.exe -m pip install --upgrade pip\n"
     ]
    },
    {
     "name": "stdout",
     "output_type": "stream",
     "text": [
      "Requirement already satisfied: seaborn in c:\\programming\\automated-qa-generation\\env\\lib\\site-packages (0.13.1)\n",
      "Requirement already satisfied: numpy!=1.24.0,>=1.20 in c:\\programming\\automated-qa-generation\\env\\lib\\site-packages (from seaborn) (1.26.3)\n",
      "Requirement already satisfied: pandas>=1.2 in c:\\programming\\automated-qa-generation\\env\\lib\\site-packages (from seaborn) (2.1.4)\n",
      "Requirement already satisfied: matplotlib!=3.6.1,>=3.4 in c:\\programming\\automated-qa-generation\\env\\lib\\site-packages (from seaborn) (3.8.2)\n",
      "Requirement already satisfied: contourpy>=1.0.1 in c:\\programming\\automated-qa-generation\\env\\lib\\site-packages (from matplotlib!=3.6.1,>=3.4->seaborn) (1.2.0)\n",
      "Requirement already satisfied: cycler>=0.10 in c:\\programming\\automated-qa-generation\\env\\lib\\site-packages (from matplotlib!=3.6.1,>=3.4->seaborn) (0.12.1)\n",
      "Requirement already satisfied: fonttools>=4.22.0 in c:\\programming\\automated-qa-generation\\env\\lib\\site-packages (from matplotlib!=3.6.1,>=3.4->seaborn) (4.47.0)\n",
      "Requirement already satisfied: kiwisolver>=1.3.1 in c:\\programming\\automated-qa-generation\\env\\lib\\site-packages (from matplotlib!=3.6.1,>=3.4->seaborn) (1.4.5)\n",
      "Requirement already satisfied: packaging>=20.0 in c:\\programming\\automated-qa-generation\\env\\lib\\site-packages (from matplotlib!=3.6.1,>=3.4->seaborn) (23.2)\n",
      "Requirement already satisfied: pillow>=8 in c:\\programming\\automated-qa-generation\\env\\lib\\site-packages (from matplotlib!=3.6.1,>=3.4->seaborn) (10.2.0)\n",
      "Requirement already satisfied: pyparsing>=2.3.1 in c:\\programming\\automated-qa-generation\\env\\lib\\site-packages (from matplotlib!=3.6.1,>=3.4->seaborn) (3.1.1)\n",
      "Requirement already satisfied: python-dateutil>=2.7 in c:\\programming\\automated-qa-generation\\env\\lib\\site-packages (from matplotlib!=3.6.1,>=3.4->seaborn) (2.8.2)\n",
      "Requirement already satisfied: pytz>=2020.1 in c:\\programming\\automated-qa-generation\\env\\lib\\site-packages (from pandas>=1.2->seaborn) (2023.3.post1)\n",
      "Requirement already satisfied: tzdata>=2022.1 in c:\\programming\\automated-qa-generation\\env\\lib\\site-packages (from pandas>=1.2->seaborn) (2023.4)\n",
      "Requirement already satisfied: six>=1.5 in c:\\programming\\automated-qa-generation\\env\\lib\\site-packages (from python-dateutil>=2.7->matplotlib!=3.6.1,>=3.4->seaborn) (1.16.0)\n"
     ]
    },
    {
     "name": "stderr",
     "output_type": "stream",
     "text": [
      "\n",
      "[notice] A new release of pip is available: 23.2.1 -> 23.3.2\n",
      "[notice] To update, run: python.exe -m pip install --upgrade pip\n"
     ]
    },
    {
     "name": "stdout",
     "output_type": "stream",
     "text": [
      "Requirement already satisfied: matplotlib in c:\\programming\\automated-qa-generation\\env\\lib\\site-packages (3.8.2)\n",
      "Requirement already satisfied: contourpy>=1.0.1 in c:\\programming\\automated-qa-generation\\env\\lib\\site-packages (from matplotlib) (1.2.0)\n",
      "Requirement already satisfied: cycler>=0.10 in c:\\programming\\automated-qa-generation\\env\\lib\\site-packages (from matplotlib) (0.12.1)\n",
      "Requirement already satisfied: fonttools>=4.22.0 in c:\\programming\\automated-qa-generation\\env\\lib\\site-packages (from matplotlib) (4.47.0)\n",
      "Requirement already satisfied: kiwisolver>=1.3.1 in c:\\programming\\automated-qa-generation\\env\\lib\\site-packages (from matplotlib) (1.4.5)\n",
      "Requirement already satisfied: numpy<2,>=1.21 in c:\\programming\\automated-qa-generation\\env\\lib\\site-packages (from matplotlib) (1.26.3)\n",
      "Requirement already satisfied: packaging>=20.0 in c:\\programming\\automated-qa-generation\\env\\lib\\site-packages (from matplotlib) (23.2)\n",
      "Requirement already satisfied: pillow>=8 in c:\\programming\\automated-qa-generation\\env\\lib\\site-packages (from matplotlib) (10.2.0)\n",
      "Requirement already satisfied: pyparsing>=2.3.1 in c:\\programming\\automated-qa-generation\\env\\lib\\site-packages (from matplotlib) (3.1.1)\n",
      "Requirement already satisfied: python-dateutil>=2.7 in c:\\programming\\automated-qa-generation\\env\\lib\\site-packages (from matplotlib) (2.8.2)\n",
      "Requirement already satisfied: six>=1.5 in c:\\programming\\automated-qa-generation\\env\\lib\\site-packages (from python-dateutil>=2.7->matplotlib) (1.16.0)\n"
     ]
    },
    {
     "name": "stderr",
     "output_type": "stream",
     "text": [
      "\n",
      "[notice] A new release of pip is available: 23.2.1 -> 23.3.2\n",
      "[notice] To update, run: python.exe -m pip install --upgrade pip\n"
     ]
    },
    {
     "name": "stdout",
     "output_type": "stream",
     "text": [
      "Requirement already satisfied: pandas in c:\\programming\\automated-qa-generation\\env\\lib\\site-packages (2.1.4)\n",
      "Requirement already satisfied: numpy<2,>=1.26.0 in c:\\programming\\automated-qa-generation\\env\\lib\\site-packages (from pandas) (1.26.3)\n",
      "Requirement already satisfied: python-dateutil>=2.8.2 in c:\\programming\\automated-qa-generation\\env\\lib\\site-packages (from pandas) (2.8.2)\n",
      "Requirement already satisfied: pytz>=2020.1 in c:\\programming\\automated-qa-generation\\env\\lib\\site-packages (from pandas) (2023.3.post1)\n",
      "Requirement already satisfied: tzdata>=2022.1 in c:\\programming\\automated-qa-generation\\env\\lib\\site-packages (from pandas) (2023.4)\n",
      "Requirement already satisfied: six>=1.5 in c:\\programming\\automated-qa-generation\\env\\lib\\site-packages (from python-dateutil>=2.8.2->pandas) (1.16.0)\n"
     ]
    },
    {
     "name": "stderr",
     "output_type": "stream",
     "text": [
      "\n",
      "[notice] A new release of pip is available: 23.2.1 -> 23.3.2\n",
      "[notice] To update, run: python.exe -m pip install --upgrade pip\n"
     ]
    },
    {
     "name": "stdout",
     "output_type": "stream",
     "text": [
      "Requirement already satisfied: scikit-learn in c:\\programming\\automated-qa-generation\\env\\lib\\site-packages (1.3.2)\n",
      "Requirement already satisfied: numpy<2.0,>=1.17.3 in c:\\programming\\automated-qa-generation\\env\\lib\\site-packages (from scikit-learn) (1.26.3)\n",
      "Requirement already satisfied: scipy>=1.5.0 in c:\\programming\\automated-qa-generation\\env\\lib\\site-packages (from scikit-learn) (1.11.4)\n",
      "Requirement already satisfied: joblib>=1.1.1 in c:\\programming\\automated-qa-generation\\env\\lib\\site-packages (from scikit-learn) (1.3.2)\n",
      "Requirement already satisfied: threadpoolctl>=2.0.0 in c:\\programming\\automated-qa-generation\\env\\lib\\site-packages (from scikit-learn) (3.2.0)\n"
     ]
    },
    {
     "name": "stderr",
     "output_type": "stream",
     "text": [
      "\n",
      "[notice] A new release of pip is available: 23.2.1 -> 23.3.2\n",
      "[notice] To update, run: python.exe -m pip install --upgrade pip\n"
     ]
    },
    {
     "name": "stdout",
     "output_type": "stream",
     "text": [
      "Requirement already satisfied: nltk in c:\\programming\\automated-qa-generation\\env\\lib\\site-packages (3.8.1)\n",
      "Requirement already satisfied: click in c:\\programming\\automated-qa-generation\\env\\lib\\site-packages (from nltk) (8.1.7)\n",
      "Requirement already satisfied: joblib in c:\\programming\\automated-qa-generation\\env\\lib\\site-packages (from nltk) (1.3.2)\n",
      "Requirement already satisfied: regex>=2021.8.3 in c:\\programming\\automated-qa-generation\\env\\lib\\site-packages (from nltk) (2023.12.25)\n",
      "Requirement already satisfied: tqdm in c:\\programming\\automated-qa-generation\\env\\lib\\site-packages (from nltk) (4.66.1)\n",
      "Requirement already satisfied: colorama in c:\\programming\\automated-qa-generation\\env\\lib\\site-packages (from click->nltk) (0.4.6)\n"
     ]
    },
    {
     "name": "stderr",
     "output_type": "stream",
     "text": [
      "\n",
      "[notice] A new release of pip is available: 23.2.1 -> 23.3.2\n",
      "[notice] To update, run: python.exe -m pip install --upgrade pip\n"
     ]
    },
    {
     "name": "stdout",
     "output_type": "stream",
     "text": [
      "Requirement already satisfied: tiktoken in c:\\programming\\automated-qa-generation\\env\\lib\\site-packages (0.5.2)\n",
      "Requirement already satisfied: regex>=2022.1.18 in c:\\programming\\automated-qa-generation\\env\\lib\\site-packages (from tiktoken) (2023.12.25)\n",
      "Requirement already satisfied: requests>=2.26.0 in c:\\programming\\automated-qa-generation\\env\\lib\\site-packages (from tiktoken) (2.31.0)\n",
      "Requirement already satisfied: charset-normalizer<4,>=2 in c:\\programming\\automated-qa-generation\\env\\lib\\site-packages (from requests>=2.26.0->tiktoken) (3.3.2)\n",
      "Requirement already satisfied: idna<4,>=2.5 in c:\\programming\\automated-qa-generation\\env\\lib\\site-packages (from requests>=2.26.0->tiktoken) (3.6)\n",
      "Requirement already satisfied: urllib3<3,>=1.21.1 in c:\\programming\\automated-qa-generation\\env\\lib\\site-packages (from requests>=2.26.0->tiktoken) (2.1.0)\n",
      "Requirement already satisfied: certifi>=2017.4.17 in c:\\programming\\automated-qa-generation\\env\\lib\\site-packages (from requests>=2.26.0->tiktoken) (2023.11.17)\n"
     ]
    },
    {
     "name": "stderr",
     "output_type": "stream",
     "text": [
      "\n",
      "[notice] A new release of pip is available: 23.2.1 -> 23.3.2\n",
      "[notice] To update, run: python.exe -m pip install --upgrade pip\n"
     ]
    }
   ],
   "source": [
    "!pip install langchain\n",
    "!pip install openai\n",
    "!pip install seaborn\n",
    "!pip install matplotlib\n",
    "!pip install pandas\n",
    "!pip install scikit-learn\n",
    "!pip install nltk\n",
    "!pip install tiktoken"
   ]
  },
  {
   "cell_type": "code",
   "execution_count": 2,
   "id": "729506e67e41378e",
   "metadata": {
    "ExecuteTime": {
     "end_time": "2024-01-10T09:43:16.963621800Z",
     "start_time": "2024-01-10T09:43:16.833473Z"
    },
    "collapsed": false,
    "jupyter": {
     "outputs_hidden": false
    }
   },
   "outputs": [],
   "source": [
    "%load_ext autoreload\n",
    "%autoreload 2"
   ]
  },
  {
   "cell_type": "code",
   "execution_count": 3,
   "id": "407b728e4814574c",
   "metadata": {
    "ExecuteTime": {
     "end_time": "2024-01-10T09:43:17.897011100Z",
     "start_time": "2024-01-10T09:43:16.963621800Z"
    },
    "collapsed": false,
    "jupyter": {
     "outputs_hidden": false
    }
   },
   "outputs": [
    {
     "name": "stderr",
     "output_type": "stream",
     "text": [
      "[nltk_data] Downloading package punkt to\n",
      "[nltk_data]     C:\\Users\\szond\\AppData\\Roaming\\nltk_data...\n",
      "[nltk_data]   Package punkt is already up-to-date!\n",
      "[nltk_data] Downloading package stopwords to\n",
      "[nltk_data]     C:\\Users\\szond\\AppData\\Roaming\\nltk_data...\n",
      "[nltk_data]   Package stopwords is already up-to-date!\n"
     ]
    },
    {
     "data": {
      "text/plain": [
       "True"
      ]
     },
     "execution_count": 3,
     "metadata": {},
     "output_type": "execute_result"
    }
   ],
   "source": [
    "import nltk\n",
    "nltk.download('punkt')\n",
    "nltk.download('stopwords')"
   ]
  },
  {
   "cell_type": "markdown",
   "id": "16186156ab8ffcd9",
   "metadata": {},
   "source": [
    "## Load data"
   ]
  },
  {
   "cell_type": "code",
   "execution_count": 1,
   "id": "8fd7061afa64ddf4",
   "metadata": {
    "ExecuteTime": {
     "end_time": "2024-01-10T09:45:35.511623200Z",
     "start_time": "2024-01-10T09:43:17.901441900Z"
    },
    "collapsed": false,
    "jupyter": {
     "outputs_hidden": false
    }
   },
   "outputs": [],
   "source": [
    "import json\n",
    "with open(\"../scripts/datascraping/data/flyers_text.json\", 'r') as file:\n",
    "    data = json.load(file)\n",
    "\n",
    "docs = []\n",
    "for title, doc in data.items():\n",
    "    for header, section in data.items():\n",
    "        docs.append(str({title: {header: section}}))\n",
    "\n"
   ]
  },
  {
   "cell_type": "markdown",
   "id": "60acd29d8f184518",
   "metadata": {},
   "source": [
    "## Source Document Filtering"
   ]
  },
  {
   "cell_type": "code",
   "execution_count": 5,
   "id": "90bd13f93ab75a4d",
   "metadata": {
    "ExecuteTime": {
     "end_time": "2024-01-10T09:48:17.668223800Z",
     "start_time": "2024-01-10T09:45:35.693321400Z"
    },
    "collapsed": false,
    "jupyter": {
     "outputs_hidden": false
    }
   },
   "outputs": [
    {
     "data": {
      "text/plain": [
       "[\"{'Strikte isolatie': {'Sesquiterpene lactone mix': {'22. Sesquiterpene lactone mixWat is sesquiterpene lactone mix?': 'Deze mix bestaat uit 3 bestanddelen: \\\\n- Alantolactone; \\\\n- Costunolide; \\\\n- Dehydrocostunolide. Deze mix noemen we in de rest van de folder S-mix.Deze stoffen komen vooral voor bij composieten (bloemen). Dit zijn bijvoorbeeld duizendblad, wormkruid, valkruid, chrysant, kamille en moederkruid.', 'Wat zijn de verschijnselen van een SL-mix allergie?': 'Wanneer u allergisch bent voor deze stoffen krijgt u allergisch contacteczeem. Dit krijgt u vooral op de handen. Op lichaamsdelen, die niet bedekt zijn met kleding, kunt u ook eczeem krijgen door verwelkte plantendelen of soms door pollen. Gebruikt u waar deze stoffen in zijn gebruikt? Ook dan kunt u eczeem krijgen.', 'Wat kan ik doen tegen mijn SL-mix allergie?': 'Vermijd het contact met de bestanddelen van deze mix. Lees voor aanschaf van een product goed het etiket, controleer of er bestanddelen van deze mix in voorkomen. Vraag om advies aan uw apotheker/drogist.', 'Waar kom ik SL-mix tegen?': 'In verschillende cosmetica zitten ingrediënten van deze plantenfamilie. In zalven/crèmes, tincturen en lotions kunnen ingrediënten van deze planten zitten. Dit zijn vooral middelen voor het genezen van wonden en huidontstekingen.', 'Kruisreacties': 'Patiënten die reageren op sesquiterpene lactone mix kunnen ook reageren op extracten (tincturen) zoals laurier.'}}}\",\n",
       " \"{'PROMS, begeleidende informatie, chirurgie': {'Elektromyografie (EMG)': {'Elektromyografie': '(EMG) Klinische neurofysiologie (KNF) is het medisch specialisme dat zich bezighoudt met het registreren van de functies van de hersenen, zenuwbanen en spieren. Er worden in ZGT verschillende onderzoeken verricht op de KNF afdeling, één daarvan is een EMG (Elektromyografie). In ziekenhuis locatie Almelo kunt u zich melden bij de balie polikliniek neurologie, routenummer 0.5. In ziekenhuislocatie Hengelo kunt u zich melden bij de balie polikliniek neurologie, routenummer 0.9.', 'EMG': 'Elektromyografie is een onderzoek waarbij de werking van de zenuwen en spieren wordt gemeten en geregistreerd. Bij het zenuwgeleidingsonderzoek worden op uw armen en/of benen elektroden aangebracht. Met een klein apparaat worden vervolgens stroomschokjes toegediend. De stroomschokjes zijn ongevaarlijk, ze kunnen (iets) onaangenaam aanvoelen. In enkele gevallen zal de arts het onderzoek willen uitbreiden met een onderzoek naar de activiteit van de spieren. De neuroloog prikt met een dunne naaldelektrode in enkele spieren. U wordt dan gevraagd om de betreffende spier aan te spannen en te ontspannen. De duur van het onderzoek is afhankelijk van de hoeveelheid zenuwen en/of spieren die gemeten moeten worden. Reken op ongeveer 20 tot 40 minuten. Het onderzoek wordt uitgevoerd door de KNF-laborant en bij het spieronderzoek is ook een neuroloog aanwezig.', 'Voorbereiding': 'Op de dag van het onderzoek mag u geen bodylotion of olie gebruiken. Bodylotion of olie kan de meting beïnvloeden. Voor het onderzoek is het belangrijk dat u warme handen en/of voeten hebt, dus bij koud weer graag warm kleden. Indien de handen en/of voeten nog te koud zijn voor het onderzoek zullen ze worden opgewarmd in een speciaal bad.', 'Uitslag': 'De uitslag van het onderzoek krijgt u tijdens het eerstvolgende bezoek aan de neuroloog of een andere verwijzend specialist.', 'Belangrijke telefoonnummers': 'Voor het maken en wijzigen van afspraken kunt u contact opnemen met het secretariaat neurologie ZGT: Telefoonnummer 088 708 43 20. Voor vragen over het onderzoek kunt u contact opnemen met de KNF afdeling. Dit is mogelijk van maandag t/m donderdag van 15.30 tot 16.30 uur. \\\\n- Ziekenhuislocatie Almelo, telefoonnummer 088 708 33 13. \\\\n- Ziekenhuislocatie Hengelo, telefoonnummer 088 708 54 16', 'Check uw dossier op MijnZGT': 'MijnZGT is het patiëntenportaal van ZGT. U kunt op MijnZGT via uw computer, tablet of mobiel delen van uw medisch dossier inzien, persoonlijke gegevens checken, of bijvoorbeeld vragenlijsten invullen die wij voor u hebben klaargezet. Kijk voor meer info op: zgt.nl/mijnzgt.'}}}\",\n",
       " \"{'Choline PET-scan, Bijschildklier': {'Herbeoordeling buikklachten, SEH': {'Herbeoordeling buikklachten': 'U bent vandaag op de afdeling spoedeisende hulp (SEH) van ZGT geweest in verband met buikklachten en bij aanhoudende klachten moet u een dag na het bezoek terugkomen om de buikklachten opnieuw te laten beoordelen. Deze folder geeft u meer informatie over een aantal zaken die in uw situatie van toepassing (kunnen) zijn.', 'Waarom moet u terugkomen?': 'Op de SEH is onderzoek gedaan naar uw buikklachten. De oorzaak is toen nog niet vastgesteld. Bij sommige patiënten zien we dat de klachten na een dag toenemen. Dit kan een aanleiding zijn voor opnieuw beoordeling, bloedafname en in sommige gevallen andere aanvullende diagnostiek.', 'Wat te doen tot aan de afspraak van morgen?': 'Het feit dat u naar huis mag gaan, betekent niet dat uw klachten weg zijn. De volgende zaken zijn voor u van belang: \\\\n- U wordt verwacht op de SEH in ZGT Almelo: Maandag t/m vrijdag 8.30 u/ Zaterdag of zondag: 9.00 u. \\\\n- Tegen de pijn kunt u paracetamol gebruiken (zie folder pijnstilling na SEH-bezoek). \\\\n- Tot zes uur voor de uw afspraak op de SEH mag u nog eten. De zes uur voorafgaande aan uw afspraak dient u nuchter te blijven. \\\\n- Tot twee uur voor uw afspraak mag u alleen heldere vloeistoffen drinken. Heldere vloeistoffen zijn water en thee zonder suiker en/of melk. \\\\n- Bent u klachtenvrij en ziet u af van herbeoordeling, dan kunt u contact opnemen via één van de volgende telefoonnummers: o Spoedeisende hulp, 088 708 78 78. o Poliklinische chirurgie, 088 708 52 31.', 'Wanneer contact opnemen met de SEH?': 'In de volgende situaties kunt u contact opnemen met de SEH: \\\\n- Bij snel stijgende koorts en/of koude rillingen. \\\\n- Bij verergering van de buikklachten. \\\\n- Bij een algeheel zieker voelen.', 'Vragen': 'Heeft u naar aanleiding van deze folder vragen, neem dan contact op met Polikliniek Chirurgie. Bij spoed buiten kantooruren neemt u contact op met de SEH.', 'Telefonische bereikbaarheid': 'Polikliniek Chirurgie/Gastro enterologie, 088 708 52 31. Spoedeisende hulp, 088 708 78 78.', 'Check uw dossier op MijnZGT': 'MijnZGT is het patiëntenportaal van ZGT. U kunt op MijnZGT via uw computer, tablet of mobiel delen van uw medisch dossier inzien, persoonlijke gegevens checken, of bijvoorbeeld vragenlijsten invullen die wij voor u hebben klaargezet. Kijk voor meer informatie op: zgt.nl/mijnzgt.'}}}\",\n",
       " \"{'Borstkliniek Oost-Nederland': {'Carboplatin_Pemetrexed, patiënteninformatie': {'Het verloop van de carboplatin/pemetrexed kuur': 'U begint met een chemokuur. Deze kuur bestaat uit twee medicijnen. 1. Carboplatin 2. Pemetrexed', '1 2': '3 4 5 6 7 8 9 10 11 12 13 14 15 16 17 18 19 20 21', 'C': 'P', 'Wijze van toediening:': 'De medicijnen worden u toegediend via een infuus in een ader in uw hand of arm. Deze behandeling vindt plaats op de dagbehandeling oncologie van de ZGT. De toediening duurt ongeveer anderhalf uur. De kuur wordt afhankelijk van de bloeduitslagen om de drie weken gegeven.', 'Naast de algemene bijwerkingen kunnen de volgende specifieke bijwerkingen optreden:': '- Bij koorts boven de 38,5° moet u contact met ons opnemen. \\\\n- Uw haar gaat in principe niet uitvallen, mogelijk wordt het alleen wat dunner. \\\\n- Eén week voordat u start met de chemotherapie krijgt u een vitamine B12 injectie, dit wordt om de negen weken herhaald zolang u aan het kuren bent. Dit wordt gegeven om de werking en de verdraagzaamheid van pemetrexed te verbeteren. \\\\n- Eén week voordat u start met de chemotherapie gaat u starten met foliumzuur, elke ochtend één tablet. Hier gaat u mee door tot en met drie weken na de laatste chemokuur. Dit wordt gegeven om de werking en de verdraagzaamheid van pemetrexed te verbeteren. \\\\n- Het is mogelijk dat na enkele kuren uw gehoor (blijvend) wat afneemt. Geef dit door aan uw arts of verpleegkundig specialist. \\\\n- Resten cytostatica kunnen tot dag vijf in het lichaamsvocht (onder meer urine, ontlasting, sperma, en braaksel) aanwezig zijn. In het ziekenhuis krijgt u adviezen over hoe u hiermee om kunt gaan. Als u klachten krijgt die u niet vertrouwt mag u altijd contact met ons opnemen.', 'Check uw dossier op MijnZGT': 'MijnZGT is het patiëntenportaal van ZGT. U kunt op MijnZGT via uw computer, tablet of mobiel delen van uw medisch dossier inzien, persoonlijke gegevens checken, of bijvoorbeeld vragenlijsten invullen die wij voor u hebben klaargezet. Kijk voor meer informatie op: zgt.nl/mijnzgt.'}}}\",\n",
       " \"{'Adalimumab': {'Skiascopie met atropine': {'Skiascopie met atropine': 'Skiascopie is een onderzoek naar de sterkte (of eventuele brilafwijking) van de ogen. Er worden verschillende proefglaasjes voor het oog gehouden terwijl de patiënt naar een lampje kijkt.', 'Waarom druppels': 'Voor dit onderzoek is het noodzakelijk dat de pupillen en de accommodatiespieren van het oog geheel ontspannen zijn. Dit wordt bereikt door de ogen te druppelen met atropine. Als de druppels goed ingewerkt zijn, is de pupil groot en kan de patiënt last hebben van wazig zien en (zon)licht. Het is daarom raadzaam om een goede zonnebril of een pet te dragen. Het wazig zien en de overgevoeligheid voor licht kunnen 1-2 weken aanhouden.', 'Druppelschema': 'U moet twee dagen voor het onderzoek beginnen met het druppelen van beide ogen. Dit doet u tweemaal per dag. Op de dag van het onderzoek druppelt u nog één keer. In totaal heeft elk oog dus 5 druppels gehad. Dit ziet er als volgt uit.', 'Ochtend': 'Avond 2 dagen voor het geplande onderzoek 1 druppel in beide ogen 1 druppel in beide ogen 1 dag voor het geplande onderzoek 1 druppel in beide ogen 1 druppel in beide ogen Dag van onderzoek 1 druppel in beide ogen', 'Hoe druppel je de ogen': '- Zet het flesje oogdruppels klaar met een papieren zakdoekje ernaast. \\\\n- Uw kind kan het beste op de rug gaan liggen. \\\\n- Met duim en wijsvinger van één hand houdt u de oogleden van het oog open. \\\\n- U neemt vervolgens het geopende flesje in uw andere hand. \\\\n- U laat één druppel in het geopende oog vallen, het liefst op het witte gedeelte. \\\\n- Vervolgens het gedruppelde oog laten sluiten en met een doekje afvegen. \\\\n- Op dezelfde wijze druppelt u het andere oog. \\\\n- Indien u twijfelt of de druppel er wel in is gekomen, graag nogmaals druppelen. \\\\n- Na het druppelen altijd uw handen wassen.', 'Wanneer moet u contact opnemen': 'Overgevoeligheid treedt zeer zelden op. De volgende overgevoeligheidsreacties kunnen voorkomen. \\\\n- koorts \\\\n- sufheid \\\\n- braken \\\\n- rode uitslag in het gezicht of op de armen \\\\n- diarree \\\\n- droge mond (veel willen drinken) Als één van deze symptomen optreedt, neem dan direct contact op met uw huisarts. Neem ook contact op met de orthoptist waar u onder behandeling bent.', 'Belangrijk is om het flesje altijd buiten': 'bereik van kinderen houden! De druppels zijn namelijk bij inname giftig.', 'Vragen': 'Heeft u nog vragen of wilt u meer informatie? Kijk dan op onze website of neem contact op met het secretariaat van de polikliniek oogheelkunde telefoonnummer 088 708 31 40 Website: zgt.nl/oogheelkunde', 'Check uw dossier op MijnZGT': 'MijnZGT is het patiëntenportaal van ZGT. U kunt op MijnZGT via uw computer, tablet of mobiel delen van uw medisch dossier inzien, persoonlijke gegevens checken, of bijvoorbeeld vragenlijsten invullen die wij voor u hebben klaargezet. Kijk voor meer informatie op: zgt.nl/mijnzgt.'}}}\",\n",
       " \"{'Isothiazolinone mix allergie': {'Echopunctie mamma_oksel': {'Echopunctie mamma/oksel': 'Onlangs is bij u een afwijking in de borst of in de oksel gezien. Daarom is u geadviseerd om nader onderzoek te laten verrichten. Om te bepalen of de afwijking goedaardig of kwaadaardig is, is het noodzakelijk dat er een klein stukje weefsel wordt verwijderd. Dit noemen wij een biopsie.', 'Belangrijk om te weten': '- Draag losse, comfortabele kleding. \\\\n- Draag een stevige BH, of neem er een mee, voor steun van de borst na het onderzoek.', 'Voorbereiding': 'Voor dit onderzoek is geen voorbereiding nodig.', 'Medicijnen': 'In principe kunt u uw medicijnen op de gebruikelijke manier innemen. Als u met medicijnen moet stoppen, wordt u door uw behandelend arts op de hoogte gesteld.', 'Verloop van het onderzoek': 'Met behulp van echografie kan de juiste plaats voor een eventuele punctie worden bepaald. Aan de hand van de structuur van de afwijking die met de echo te zien is, wordt bepaald of het te puncteren gebied wel of niet verdoofd wordt. Wordt er gekozen voor een punctie met verdoving, dan krijgt u een plaatselijke verdoving door middel van een injectie. Er wordt een klein sneetje in de huid gemaakt zodat er via een naald materiaal verkregen kan worden. Dit materiaal (biopt) wordt opgestuurd naar het pathologisch laboratorium voor microscopisch onderzoek. De uitslag krijgt u van de chirurg op de mammapolikliniek. Wanneer er gekozen wordt voor een punctie zonder verdoving, dan wordt er met een dunne naald met daaraan een slangetje materiaal uit het te puncteren gebied opgezogen. De reden dat dit niet verdoofd wordt, is dat bij deze punctie geen sneetje in de huid wordt gemaakt en dat de injectie voor de verdoving net zo gevoelig is als de punctie zelf. Zo nodig wordt dit materiaal opgestuurd naar het pathologisch laboratorium.', 'Duur van het onderzoek': 'Het onderzoek duurt ongeveer 20 minuten.', 'Vragen': 'Heeft u na het lezen van deze informatie nog vragen, stel deze gerust. Wij willen ze graag voor u beantwoorden. Op werkdagen is de afdeling radiologie tussen 08.30 – 12.30 uur en van 13.00 - 16.30 uur telefonisch bereikbaar op het volgende telefoonnummer: 088 708 37 00.', 'Check uw dossier op MijnZGT': 'MijnZGT is het patiëntenportaal van ZGT. U kunt op MijnZGT via uw computer, tablet of mobiel delen van uw medisch dossier inzien, persoonlijke gegevens checken, of bijvoorbeeld vragenlijsten invullen die wij voor u hebben klaargezet. Kijk voor meer informatie op: zgt.nl/mijnzgt.'}}}\",\n",
       " '{\"Röntgenfoto\\'s algemeen\": {\\'Dexamethason, rituximab, cyclofosfamide, patiënteninformatie\\': {\\'Het verloop van Dexamethason/ Rituximab/ Cyclofosfamide (DRC) kuur\\': \\'U begint met een chemokuur. Deze kuur bestaat uit drie medicijnen: 1. Dexamethason 2. Rituximab 3. Cyclofosfamide (=endoxantabletten)\\', \\'1 2\\': \\'3 4 5 6 7 8 9 10 11 12 13 14 15 16 17 18 19 20 21 D R C C\\', \\'C\\': \\'C\\', \\'C \\': \\'C\\', \\'Wijze van toediening:\\': \\'Dexamethason en rituximab worden toegediend via een infuus in een ader in uw arm of hand. Deze behandeling vindt plaats op de dagbehandeling oncologie van ZGT. Om een allergische reactie op rituximab te voorkomen, krijgt u vooraf via het infuus medicijnen. Het is belangrijk dat u eventuele klachten tijdens de toediening direct meldt aan de oncologieverpleegkundige. De toediening duurt ongeveer drie en een half uur. De eerste en tweede kuur duren langer aangezien de rituximab dan langzamer inloopt. Cyclofosfamide (=endoxan) kunt u zelf innemen, want dit zijn tabletten. U start hiermee op de avond van dag één en gaat hiermee door tot en met de ochtend van dag zes. De volgende kuur start in principe drie weken na dag één als de bloeduitslagen goed zijn. Naast de algemene bijwerkingen kunnen de volgende specifieke bijwerkingen optreden: \\\\n- Bij koorts boven de 38.5° C moet u contact met ons opnemen. \\\\n- Uw haar gaat in principe niet uitvallen, mogelijk wordt het alleen wat dunner. \\\\n- Cyclofosfamide kan klachten geven die lijken op een blaasontsteking. Daarom is het aan te bevelen anderhalf tot twee liter te drinken per dag. Ook is het goed deze klachten te melden bij uw arts. \\\\n- Resten cytostatica kunnen tot dag tien in het lichaamsvocht (onder meer urine, ontlasting, sperma, speeksel en braaksel) aanwezig zijn. In het ziekenhuis krijgt u advies hoe u hiermee om kunt gaan. Als u klachten krijgt die u niet vertrouwd, mag u altijd contact met ons opnemen.\\', \\'Check uw dossier op MijnZGT\\': \\'MijnZGT is het patiëntenportaal van ZGT. U kunt op MijnZGT via uw computer, tablet of mobiel delen van uw medisch dossier inzien, persoonlijke gegevens checken, of bijvoorbeeld vragenlijsten invullen die wij voor u hebben klaargezet. Kijk voor meer informatie op: zgt.nl/mijnzgt.\\'}}}',\n",
       " \"{'Patiëntenportaal radiologie': {'Transitietoets IBD': {'Kennis en zelfstandigheid tijdens transitie': 'Vul deze lijst in zonder hulp van internet of ouders. Als je iets niet weet is dat niet erg, schrijf dit gewoon op of zet een vraagteken. Probeer zoveel mogelijk in te vullen. Naam: Geboortedatum: Naam van je dokter: Opleiding/school: Datum van vandaag: 1a. Hoe zelfstandig vind jij dat je bent als het gaat om je ziekte? Niet zelfstandig zeer zelfstandig 1b. Kun je benoemen hoe jouw chronische darmziekte genoemd wordt? 2. Zou je kunnen aanwijzen waar de ziekte in jouw maag-darmkanaal zit? 3. Welke klachten had je voordat je wist dat je een chronische darmziekte had? 5a. Kun je benoemen wat een opvlamming/exacerbatie voor staat 5b. Welke klachten passen bij een opvlamming? Kun je twee voorbeelden noemen? 6. Kun je beschrijven wat op de langere termijn mogelijke gevolgen van de chronische darmziekte voor jouw gezondheid kunnen zijn? 7. Kun je de gevolgen benoemen voor jouw gezondheid/ziekte/behandeling bij het drinken van alcohol, roken en gebruik van drugs? 8. Welke onderzoeken zijn er gedaan om jouw chronische darmziekte te ontdekken? 9. Kun je benoemen op welke manier wij kunnen onderzoeken hoeveel ontsteking er in jouw darm zit? 10. Kun je benoemen waarom een darmonderzoek (colonoscopie) gedaan wordt? Zoja, weet je ook waarom dit in de toekomst herhaald moet worden? 11. Kun je benoemen wat er wordt bedoeld met de transitiepoli? 13. Gebruik je medicijnen voor je ziekte? Ja nee 14. Kun je benoemen wat de naam van deze medicijnen zijn en hoe vaak je ze moet gebruiken? 15. Kun jij benoemen welke medicijnen gebruikt kunnen worden om jouw chronische darmziekte weer rustig te krijgen? 16. Zijn er naast medicijnen ook andere manieren om een chronische darmziekte te behandelen? Zo ja, zou je deze kunnen benoemen? 17. Wat is het meest van toepassing op jouw situatie? Ja, altijd Ja, vaak Ja, soms Nee, nooit Ik kan accepteren dat ik de rest van mijn leven deze ziekte zal hebben 18. Ben je al eens minstens een weekend zonder je ouders weggeweest? (bijvoorbeeld om te logeren of vakantie) Ja nee 19. Zo ja, vertel hoe dit ging. Ondervond je veel last van je ziekte en de leefregels die erbij horen (zoals bijvoorbeeld medicijnen innemen)? 20. In hoeverre vind je jezelf klaar voor de overstap naar de zorg voor volwassenen? Helemaal nog niet klaar Helemaal klaar voor Aanvullingen/toevoegingen, tips of verbeteringen.'}}}\",\n",
       " \"{'Toluenesulphonamide formaldehyde resin': {'Vervoer (taxi) na ontslag uit het ziekenhuis': {'(Taxi-)vervoer na ontslag uit het ziekenhuis': 'In deze folder leest u over het vervoer per taxi na uw ontslag uit het ziekenhuis.', 'Wilt u (taxi-)vervoer regelen vanuit ZGT?': 'Vanaf 1 juli 2017 is het vervoer met de taxi in Twente veranderd. Het zittend ziekenvervoer wordt niet meer door de zorgverzekeraars vergoed. Voor bepaalde groepen wordt hierop een uitzondering gemaakt.', 'Zorgverzekeraar': 'Informeer bij uw zorgverzekeraar of u in aanmerking komt voor een vergoeding in de vervoerskosten. De reden van taxivervoer en de wijze waarop u verzekerd bent, bepalen of u voor een vergoeding in aanmerking komt. Indien u niet voor vergoeding in aanmerking komt zijn de kosten voor het gebruik van een taxi of rolstoeltaxi voor eigen rekening. Het ziekenhuis is niet verantwoordelijk voor het regelen van vervoer na ontslag uit het ziekenhuis. De secretaresse van de afdeling kan een taxi voor u regelen, de kosten dient u zelf aan de taxichauffeur te betalen. Deze kosten kunt u niet indienen bij het ziekenhuis. Heeft u een rolstoel nodig? Dan kan u deze huren of lenen bij de thuiszorgwinkel aan de Zorgboulevard van ZGT.', 'Bent u lid van de Regiotaxi?': 'Ook dan is het verstandig om contact op te nemen met uw gemeente over de mogelijkheden van het gebruik van taxivervoer vanuit het ziekenhuis. Meer informatie over vervoer in uw gemeente kunt u vinden op de website van uw gemeente. Op ikwilvervoer.nl leest u welke alternatieven er in uw gemeente zijn.'}}}\",\n",
       " \"{'Compositae mix': {'Botmeting (DEXA)': {'Botmeting (DEXA)': '(meting van de botdichtheid) Uw behandelend arts heeft u voor het maken van een dexascan verwezen naar de afdeling radiologie (röntgen). Een dexa-onderzoek wordt door een radiologisch laborant met behulp van een speciaal röntgenapparaat gemaakt. Tijdens het onderzoek wordt een minimale hoeveelheid röntgenstraling toegepast. Dit apparaat kan de hoeveelheid kalk in uw botten meten. Dit wordt vergeleken met waarden die gemiddeld horen bij uw leeftijd en geslacht. Het onderzoek wordt daarna beoordeeld door een radioloog.', 'Melden': 'Op het afgesproken tijdstip mag u zich melden, bij de balie van de radiologie. De baliemedewerker verwijst u naar de juiste wachtruimte.', 'Belangrijk om te weten': '- Zwangerschap: Röntgenstralen kunnen gevaarlijk zijn voor het ongeboren kind. Als u zwanger bent, of denkt te zijn, moet u dit vóór het onderzoek melden. \\\\n- Drie dagen voorafgaand aan het onderzoek mag u geen röntgencontrastonderzoeken en/of nucleair geneeskundige onderzoeken hebben gehad. Deze onderzoeken kunnen namelijk invloed hebben op de meting.', 'Voorbereiding': 'Voor het maken van deze scan is geen voorbereiding nodig.', 'Verloop van het onderzoek': 'De radiologisch laborant haalt u op uit de wachtruimte en neemt u mee naar de kleedkamer. Bij het maken van een foto is het belangrijk dat het lichaamsdeel waar het om gaat zo min mogelijk door kleding wordt bedekt. De laborant zegt u welke kleding u uit moet doen. U gaat op uw rug op de onderzoekstafel liggen met een kussen onder uw benen. U ligt hierbij niet in een tunnel. Er wordt eerst een scan van uw lendenwervels gemaakt (onderrug). Vervolgens wordt er een scan van de zijkant van uw wervels gemaakt. U kunt op uw rug blijven liggen, het toestel draait om u heen. Vervolgens haalt de radiologisch laborant het kussen onder uw benen weg en maakt daarna een scan van uw linker heup.', 'Duur van het onderzoek': 'Het onderzoek duurt ongeveer 15 minuten.', 'Uitslag': 'De uitslag van het onderzoek krijgt u van de arts die het onderzoek heeft aangevraagd. Deze uitslag is ongeveer drie werkdagen na het onderzoek bekend bij de aanvrager.', 'Vragen': 'Mocht u na het lezen van deze informatie nog vragen hebben, stel deze gerust. Wij willen ze graag voor u beantwoorden. Op werkdagen is de afdeling radiologie tussen 08.30 – 12.30 uur en van 13.00 - 16.30 uur telefonisch bereikbaar op het volgende telefoonnummer: 088 708 37 00.', 'Check uw dossier op MijnZGT': 'MijnZGT is het patiëntenportaal van ZGT. U kunt op MijnZGT via uw computer, tablet of mobiel delen van uw medisch dossier inzien, persoonlijke gegevens checken, of bijvoorbeeld vragenlijsten invullen die wij voor u hebben klaargezet. Kijk voor meer informatie op: zgt.nl/mijnzgt.'}}}\",\n",
       " \"{'Triggerfinger': {'FLOT, patiënteninformatie': {'Het verloop van de FLOT kuur': 'U begint met een chemokuur. Deze kuur bestaat uit vier medicijnen. 1. Fluorouracil (=5FU) 2. Leucovorin (=folinezuur) 3. Oxaliplatin 4. Taxotere (=docetaxel) 1 2 3 4 5 6 7 8 9 10 11 12 13 14 F L O T', 'Wijze van toediening:': 'De medicijnen worden u toegediend via een infuus in een ader in uw hand of arm. Deze behandeling vindt plaats op de verpleegafdeling oncologie van ZGT. Voor deze chemokuur wordt u één nacht opgenomen. De volgende kuur start in principe twee weken na dag één als de bloeduitslagen goed zijn.', 'Naast de algemene bijwerkingen kunnen de volgende specifieke bijwerkingen optreden:': '- Bij koorts boven de 38.5°C moet u contact met ons opnemen. \\\\n- Uw haar kan gaan uitvallen. Dit is van tijdelijke aard en begint meestal twee à drie weken na de eerste toediening. Haaruitval begint meestal met een pijnlijke hoofdhuid. \\\\n- Het komt af en toe voor dat iemand allergisch reageert op deze kuur. \\\\n- Klachten van spier- en/of gewrichtspijn kunnen voorkomen. U mag hiervoor zo nodig tot maximaal vier keer daags 1000 mg paracetamol innemen. \\\\n- U kunt vocht vasthouden en daardoor in gewicht toenemen. \\\\n- U kunt last krijgen van tintelingen en/of een doof gevoel in de vingertoppen en/of tenen. Meldt dit bij een volgend bezoek aan uw behandelend specialist. \\\\n- Drink zo min mogelijk koude dranken en kleed u zo warm mogelijk aan. \\\\n- Tijdens de toediening van oxaliplatin kan een pijnlijk, prikkelend gevoel ontstaan in de arm. Hiervoor krijgt u een warme doek op de infuus arm. Ook kunt u van huis een kruik meenemen die wij dan voor u vullen met warm water. \\\\n- Soms kan een gespannen gevoel in de keel of hals ontstaan. Dit doet zich meestal voor tijdens of vlak na de toediening. Het verdwijnt over het algemeen vrij snel. Kenmerken zijn: moeilijk slikken of praten, benauwdheid, spanning in de kaken, vreemd gevoel in de tong \\\\n- Resten cytostatica kunnen tot dag acht in het lichaamsvocht (onder meer in urine, ontlasting, sperma, speeksel en braaksel) aanwezig zijn. Als u klachten krijgt die u niet vertrouwt mag u altijd contact met ons opnemen.', 'Check uw dossier op MijnZGT': 'MijnZGT is het patiëntenportaal van ZGT. U kunt op MijnZGT via uw computer, tablet of mobiel delen van uw medisch dossier inzien, persoonlijke gegevens checken, of bijvoorbeeld vragenlijsten invullen die wij voor u hebben klaargezet. Kijk voor meer informatie op: zgt.nl/mijnzgt.'}}}\",\n",
       " \"{'Huidallergietest': {'Carboplatin_paclitaxel_pembrolizumab, patiënteninformatie': {'Het verloop van de carboplatin/paclitaxel/ pembrolizumab kuur': 'U begint met een combinatie therapie bestaande uit chemotherapie en immunotherapie. Deze kuur bestaat uit drie medicijnen. 1. Carboplatin 2. Paclitaxel (=Taxol) 3. Pembrolizumab (immunotherapie) 1 2 3 4 5 6 7 8 9 10 11 12 13 14 15 16 17 18 19 20 21 C P P', 'Wijze van toediening:': 'De medicijnen worden u toegediend via een infuus in een ader in uw hand of arm. Deze behandeling vindt plaats op de dagbehandeling oncologie van ZGT. Om een allergische reactie op paclitaxel te voorkomen krijgt u vooraf via het infuus medicijnen. Het is belangrijk dat u eventuele klachten tijdens de toediening direct meldt aan de oncologieverpleegkundige. De totale toediening duurt ongeveer vier uur. De kuur wordt afhankelijk van de bloeduitslagen om de drie weken gegeven.', 'Naast de algemene bijwerkingen kunnen de volgende specifieke bijwerkingen': 'optreden: \\\\n- Bij koorts boven de 38,5° moet u contact met ons opnemen. \\\\n- U kunt een griepachtig gevoel, spierpijn en pijnlijke gewrichten krijgen die over het algemeen een aantal dagen aanhouden. U mag zo nodig maximaal vier keer per dag 1000 mg paracetamol innemen. \\\\n- Uw haar gaat uitvallen. Dit is van tijdelijke aard en begint meestal twee á drie weken na de eerste toediening. Haaruitval begint meestal met een pijnlijke hoofdhuid. Een machtiging voor een eventuele haarwerk kunt u vragen aan de oncologieverpleegkundige. \\\\n- U kunt last krijgen van tintelingen en/of een doof gevoel in tenen, voetzolen en in de vingertoppen. Dit graag even melden bij een volgend bezoek aan het ziekenhuis. \\\\n- Resten chemotherapie kunnen tot dag vijf in het lichaamsvocht (onder meer urine, ontlasting, sperma en braaksel) aanwezig zijn. In het ziekenhuis krijgt u adviezen hoe u hiermee om kunt gaan.', 'De bijwerkingen van pembrolizumab staan beschreven in de bijgeleverde folder en': 'waarschuwingskaart. Als u klachten krijgt die u niet vertrouwd mag u altijd contact met ons opnemen.', 'Check uw dossier op MijnZGT': 'MijnZGT is het patiëntenportaal van ZGT. U kunt op MijnZGT via uw computer, tablet of mobiel delen van uw medisch dossier inzien, persoonlijke gegevens checken, of bijvoorbeeld vragenlijsten invullen die wij voor u hebben klaargezet. Kijk voor meer informatie op: zgt.nl/mijnzgt.'}}}\",\n",
       " \"{'Blaaskatheter': {'CRITICS II studie, arm 3, paclitaxel_carboplatin radiotherapie': {'Het verloop van de Critics II studie, arm 3,': 'Paclitaxel/Carboplatin/Radiotherapie U begint met een chemokuur gecombineerd met radiotherapie. Deze kuur bestaat uit twee medicijnen en de radiotherapie. Het schema ziet er als volgt uit. 1. Paclitaxel 2. Carboplatin 3. Radiotherapie 1 2 3 4 5 6 7 P R R R R', 'C R Wijze van toediening:': 'Wij dienen u de medicijnen toe via een infuus in een ader in uw hand of arm. Deze behandeling vindt plaats op de dagbehandeling oncologie van ZGT. Om een allergische reactie op paclitaxel te voorkomen krijgt u vooraf via het infuus medicijnen. Het is belangrijk dat u eventuele klachten tijdens de toediening direct meldt aan de oncologieverpleegkundige. De totale toediening duurt ongeveer drie uur. De kuur wordt, afhankelijk van de bloeduitslagen, om de zeven dagen gegeven. Na de chemokuur op dag één, krijgt u de radiotherapie. Deze wordt wekelijks van maandag tot en met vrijdag gegeven. In totaal krijgt u hiervan vijf kuren.', 'Naast de algemene bijwerkingen kunnen de volgende specifieke bijwerkingen optreden:': '- Bij koorts boven de 38,5° moet u contact met ons opnemen. \\\\n- U kunt een griepachtig gevoel, spierpijn en pijnlijke gewrichten krijgen die over het algemeen een aantal dagen aanhouden. U mag zonodig maximaal vier keer daags 1000 mg paracetamol innemen. \\\\n- Uw haar gaat van deze kuur in principe niet uitvallen, mogelijk wordt het alleen wat dunner. \\\\n- U kunt last krijgen van tintelingen en/of een doof gevoel in tenen, voetzolen en in de vingertoppen. Dit graag even melden bij een volgend bezoek aan het ziekenhuis. \\\\n- Het komt af en toe voor dat iemand, ondanks vooraf toegediende medicatie via het infuus, allergisch reageert op deze kuur (tijdens toediening). \\\\n- Resten cytostatica kunnen tot dag vijf in het lichaamsvocht ( onder meer urine, ontlasting, sperma en braaksel) aanwezig zijn. In het ziekenhuis krijgt u adviezen hoe u hiermee om kunt gaan. Als u klachten krijgt die u niet vertrouwt, mag u altijd contact met ons opnemen.', 'Check uw dossier op MijnZGT': 'MijnZGT is het patiëntenportaal van ZGT. U kunt op MijnZGT via uw computer, tablet of mobiel delen van uw medisch dossier inzien, persoonlijke gegevens checken, of bijvoorbeeld vragenlijsten invullen die wij voor u hebben klaargezet. Kijk voor meer informatie op: zgt.nl/mijnzgt.'}}}\",\n",
       " \"{'Schildklierscan (met technetium)': {'Patiëntenportaal KNO': {'Patiëntenportaal KNO Wat kan MijnZGT voor u betekenen?': 'ZGT vindt het belangrijk dat het contact tussen het ziekenhuis en de patiënt zo toegankelijk mogelijk is. ZGT biedt u dan ook de mogelijkheid om via het patiëntenportaal MijnZGT online uw patiëntgegevens te controleren, (vervolg)afspraken te maken en bijvoorbeeld een vragenformulier in te vullen. Dit zijn eerste stappen waarmee ZGT uw aandeel in het online regelen van uw zorg vergroot. Via dit portaal breidt ZGT zijn online dienstverlening uit. Het patiëntenportaal maakt gebruik van een beveiligde verbinding.', 'Inloggen': 'Ga naar zgt.nl en klik daar op MijnZGT. Om in te loggen op het patiëntenportaal vragen we naar uw DigiD. Heeft u nog geen DigiD, dan kunt u via de website www.digid.nl uw eigen DigiD aanvragen. Met uw persoonlijke DigiD (een gebruikersnaam en wachtwoord) kunt u zich identificeren op websites van de overheid en van organisaties die een overheidstaak uitvoeren. Zo weten deze organisaties dat ze echt met u te maken hebben. Zodra u bent ingelogd in het patiëntenportaal MijnZGT, kunt u via het menu aan de linkerkant van de pagina verschillende acties uitvoeren.', 'Zelf uw registratie controleren': 'Via MijnZGT kunt u zelf op de pagina “Patiëntgegevens” eenvoudig controleren hoe u geregistreerd staat bij ZGT. Zo ziet u uw geboortedatum, adresgegevens, contactinformatie en de gegevens van uw zorgverzekeraar. Staan hier gegevens die niet kloppen, dan kunt u wijzigingen doorgeven per e-mail via patiëntenregistratie@zgt.nl. Uw e-mailadres kunt u zelf online wijzigen. U kunt wijzigingen in uw gegevens ook altijd doorgeven bij de balie in de centrale hal van beide ziekenhuislocaties. Vergeet daarbij niet om uw identiteitsbewijs mee te nemen!', 'Zelf een herhaal afspraak plannen': 'Via de pagina “Afspraak maken” is het voor u mogelijk om online een afspraak te maken voor een eerste afspraak of een herhaalafspraak bij de polikliniek KNO. Ook kunt u online een combinatie-consult plannen waarbij het consult bij de KNO-arts voorafgegaan wordt door een gehooronderzoek. Online een eerste afspraak maken is mogelijk voor: \\\\n- Slechthorendheid, Oorsuizen en Tinnitus \\\\n- Duizeligheidsklachten \\\\n- Snurken \\\\n- Overige keel, neus- en oorklachten. Alle herhaalconsulten kunnen online via MijnZGT worden gepland voor zowel de locatie Almelo, Hengelo en de buitenpolikliniek Rijssen. Afspraken die u online plant vinden plaats bij de KNO-arts en bij de assistente.', 'Afspraken inzien en wijzigen': 'In het afsprakenoverzicht kunt u alle afspraken inzien die er voor u gepland zijn bij specialismen die op dat moment al live zijn met het patiëntenportaal. Deze afspraken kunnen digitaal gewijzigd of geannuleerd worden tot 24 uur van tevoren.', 'Contact': 'Heeft u vragen over het gebruiken van het patiëntenportaal MijnZGT? Neem dan contact op met ZGT, polikliniek keel-neus- oorheelkunde, telefoonnummer 088 708 33 50 (tijdens kantooruren)'}}}\",\n",
       " \"{'MRI onderbuik': {'Botuline toxine behandeling (ZGT Almelo)': {'Botuline toxine behandeling': 'Binnenkort komt u naar ziekenhuislocatie Almelo voor een botuline toxine behandeling. In deze folder kunt u meer lezen over de gang van zaken tijdens en na de behandeling.', 'De voorbereiding': 'Voor deze behandeling is geen aparte voorbereiding nodig. U mag dus ook gewoon eten en drinken. Wij verzoeken u zich bij de balie van de polikliniek neurologie te melden, routenummer 0.5. Een laborant KNF zal u daar verder begeleiden.', 'De botuline toxine behandeling': 'Doel van de behandeling is het opheffen van een te grote spierspanning in een of meerdere spieren. De stof botuline toxine kan de spierspanning op korte termijn verminderen/normaliseren. De duur van het effect, is in het algemeen twee tot drie maanden. De behandeling vindt plaats op de afdeling klinische neurofysiologie. U zit op een stoel of ligt op een onderzoeksbank waarna de medisch specialist een klein naaldje inbrengt in de betreffende spier. Vervolgens wordt de stof botuline toxine ingespoten. Soms voert de medisch specialist tegelijkertijd een EMG (elektrisch spieronderzoek) uit om de precieze plaats van inspuiting te bepalen. Voor het onderzoek is geen verdoving nodig. Het prikje voelt u even maar is goed te verdragen.', 'Duur van de behandeling': 'De behandeling duurt tien tot twintig minuten.', 'Resultaat van de behandeling': 'Een week na de behandeling begint de stof botuline toxine zijn werk te doen. De spierspanning zal dan langzaam minder worden. Na drie weken is het effect volledig merkbaar en houdt dan gemiddeld twee maanden aan. Daarna kan het nodig zijn de behandeling regelmatig te herhalen.', 'Vragen': 'Mocht u vragen hebben over de behandeling stel ze dan gerust. U kunt telefonisch contact opnemen met het secretariaat van de polikliniek neurologie, telefoonnummer 088 708 43 20.', 'Check uw dossier op MijnZGT': 'MijnZGT is het patiëntenportaal van ZGT. U kunt op MijnZGT via uw computer, tablet of mobiel delen van uw medisch dossier inzien, persoonlijke gegevens checken, of bijvoorbeeld vragenlijsten invullen die wij voor u hebben klaargezet. Kijk voor meer info op zgt.nl/mijnzgt.'}}}\",\n",
       " \"{'Video interactie begeleiding (VIB) op de afdeling geboorte': {'Edje heeft kriebel': {'heeft last van kriebel!': 'Op een dag heeft Edje erge kriebel in zijn elleboog. Hij begint te krabben. Soms is de jeuk zo erg, dat Edje er ’s nachts niet van kan slapen. De dokter geeft Edje een speciale zalf. ‘Alleen op de kriebelplekjes smeren hoor!’ zegt de dokter. Na een paar dagen wordt het kriebelplekje minder rood. En het jeukt ook niet meer zo. Het kriebelplekje is weg. Edje heeft geen jeuk meer. Trots laat hij het aan Babetje zien. Komt die kriebelplek nog weer terug? Edje weet het niet. Maar als de kriebelplek terugkomt, dan weet Edje wel wat hij moet doen! Colofon Help! Edje heeft last van eczeem is een uitgave van ZGT, bureau communicatie. Uitgave: ZGT bureau communicatie Teksten: ZGT Ontwerp: Morskieft Ontwerpers Kijk voor meer uitgaven van Edje en Babetje brochures op zgt.nl 50 / feb 10'}}}\",\n",
       " \"{'NovaSure bij overmatig bloedverlies': {'Instructiekaart, voor verdacht besmette patiënt': {'-': 'U bent mogelijk in contact geweest met een gevaarlijke stof.', '- ': 'Indien nodig zullen wij u opvangen in beschermende kleding. \\\\n- Wij vragen uw begrip en geduld hiervoor.'}}}\",\n",
       " \"{'Dieet bij verhoogd cholesterol': {'Herbeoordeling buikklachten, SEH': {'Herbeoordeling buikklachten': 'U bent vandaag op de afdeling spoedeisende hulp (SEH) van ZGT geweest in verband met buikklachten en bij aanhoudende klachten moet u een dag na het bezoek terugkomen om de buikklachten opnieuw te laten beoordelen. Deze folder geeft u meer informatie over een aantal zaken die in uw situatie van toepassing (kunnen) zijn.', 'Waarom moet u terugkomen?': 'Op de SEH is onderzoek gedaan naar uw buikklachten. De oorzaak is toen nog niet vastgesteld. Bij sommige patiënten zien we dat de klachten na een dag toenemen. Dit kan een aanleiding zijn voor opnieuw beoordeling, bloedafname en in sommige gevallen andere aanvullende diagnostiek.', 'Wat te doen tot aan de afspraak van morgen?': 'Het feit dat u naar huis mag gaan, betekent niet dat uw klachten weg zijn. De volgende zaken zijn voor u van belang: \\\\n- U wordt verwacht op de SEH in ZGT Almelo: Maandag t/m vrijdag 8.30 u/ Zaterdag of zondag: 9.00 u. \\\\n- Tegen de pijn kunt u paracetamol gebruiken (zie folder pijnstilling na SEH-bezoek). \\\\n- Tot zes uur voor de uw afspraak op de SEH mag u nog eten. De zes uur voorafgaande aan uw afspraak dient u nuchter te blijven. \\\\n- Tot twee uur voor uw afspraak mag u alleen heldere vloeistoffen drinken. Heldere vloeistoffen zijn water en thee zonder suiker en/of melk. \\\\n- Bent u klachtenvrij en ziet u af van herbeoordeling, dan kunt u contact opnemen via één van de volgende telefoonnummers: o Spoedeisende hulp, 088 708 78 78. o Poliklinische chirurgie, 088 708 52 31.', 'Wanneer contact opnemen met de SEH?': 'In de volgende situaties kunt u contact opnemen met de SEH: \\\\n- Bij snel stijgende koorts en/of koude rillingen. \\\\n- Bij verergering van de buikklachten. \\\\n- Bij een algeheel zieker voelen.', 'Vragen': 'Heeft u naar aanleiding van deze folder vragen, neem dan contact op met Polikliniek Chirurgie. Bij spoed buiten kantooruren neemt u contact op met de SEH.', 'Telefonische bereikbaarheid': 'Polikliniek Chirurgie/Gastro enterologie, 088 708 52 31. Spoedeisende hulp, 088 708 78 78.', 'Check uw dossier op MijnZGT': 'MijnZGT is het patiëntenportaal van ZGT. U kunt op MijnZGT via uw computer, tablet of mobiel delen van uw medisch dossier inzien, persoonlijke gegevens checken, of bijvoorbeeld vragenlijsten invullen die wij voor u hebben klaargezet. Kijk voor meer informatie op: zgt.nl/mijnzgt.'}}}\",\n",
       " \"{'Budesonide bij IBD': {'Cycluskalender': {'Cycluskalender': 'Op de cycluskalender kunt u bijhouden op welke dagen u vaginaal bloedverlies heeft. U kunt precies aangeven hoe licht of hevig het bloedverlies is. 40057124 / mrt-11 1 2 3 4 5 6 7 8 9 10 11 12 13 14 15 16 17 18 19 20 21 22 23 24 25 26 27 28 29 30 31 Januari Februari Maart April Mei Juni Juli Augustus September Oktober November December Bloedverlies Heel licht Licht Normaal Hevig'}}}\",\n",
       " \"{'Slikmechanisme logopedie': {'EEG na slaapdeprivatie': {'EEG na slaaponthouding (slaapdeprivatie)': 'Klinische neurofysiologie is het medisch specialisme dat zich bezighoudt met het registreren van de functies van de hersenen, zenuwbanen en spieren. Er worden in ZGT verschillende onderzoeken verricht. Eén daarvan is een EEG (elektro-encefalografie) na slaapdeprivatie. Deze onderzoeken vinden plaats binnen de KNF afdeling. In ziekenhuislocatie Almelo kunt u zich melden bij de balie polikliniek neurologie, routenummer 0.5. In ziekenhuislocatie Hengelo kunt u zich melden bij de balie polikliniek neurologie, routenummer 0.9.', 'EEG na slaaponthouding (slaapdeprivatie) ': 'Bij een elektro-encefalografie wordt met behulp van elektroden de hersenactiviteit gemeten. De bedoeling van een slaapdeprivatie is dat de hersenen extra vermoeid worden. U krijgt voor het onderzoek een soort badmuts op uw hoofd, met daarin 20 elektroden. Via een gaatje in de elektrode wordt er wat geleidingsgel aangebracht en licht over de huid gekrast. Daarnaast krijgt u nog enkele losse elektroden geplakt. Aan het begin van de registratie wordt u een paar keer gevraagd de ogen te openen en te sluiten. Een paar minuten diep te zuchten. En er zal nog een lamp in verschillende frequenties gaan flitsen. Daarna wordt u met rust gelaten en mag u proberen te slapen. De totale duur van het onderzoek bedraagt anderhalf tot twee uur.', 'Voorbereiding': 'U dient voorafgaand aan het onderzoek 24 uur wakker te blijven en geen cafeïne houdende dranken te gebruiken. Wij raden u aan om tijdens het onderzoek gemakkelijke kleding te dragen. Wilt u thuis vóór het onderzoek uw haren wassen (met shampoo zonder conditioner) en géén haarlak, gel, versteviger of iets dergelijks gebruiken.', 'Na het onderzoek': 'Het is verstandig om u naar het ziekenhuis te laten brengen en u na dit onderzoek te laten ophalen, omdat u slaperig kunt zijn van het wakker blijven.', 'Uitslag': 'De uitslag van het onderzoek krijgt u tijdens het eerstvolgende bezoek aan de neuroloog, tenzij anders met u is afgesproken.', 'Belangrijke telefoonnummers': 'Voor het maken en wijzigen van afspraken kunt u contact opnemen met het secretariaat neurologieZGT: Telefoonnummer 088 708 43 20 Voor vragen over het onderzoek kunt u contact opnemen met de KNF afdeling. Dit is mogelijk van maandag tot en met donderdag van 15.30 tot 16.30 uur. \\\\n- Locatie Almelo, telefoonnummer 088 708 33 13. \\\\n- Locatie Hengelo, telefoonnummer 088 708 54 16.', 'Check uw dossier op MijnZGT': 'MijnZGT is het patiëntenportaal van ZGT. U kunt op MijnZGT via uw computer, tablet of mobiel delen van uw medisch dossier inzien, persoonlijke gegevens checken, of bijvoorbeeld vragenlijsten invullen die wij voor u hebben klaargezet. Kijk voor meer informatie op: zgt.nl/mijnzgt.'}}}\"]"
      ]
     },
     "execution_count": 5,
     "metadata": {},
     "output_type": "execute_result"
    }
   ],
   "source": [
    "import random\n",
    "docs = [doc for doc in docs if len(doc) < 3000]\n",
    "sample = random.sample(docs, 20)\n",
    "\n",
    "sample"
   ]
  },
  {
   "cell_type": "markdown",
   "id": "55fa0f5c1104e72e",
   "metadata": {},
   "source": [
    "## Question Generation"
   ]
  },
  {
   "cell_type": "code",
   "execution_count": 6,
   "id": "e079c366a000388b",
   "metadata": {
    "ExecuteTime": {
     "end_time": "2024-01-10T09:48:18.119129700Z",
     "start_time": "2024-01-10T09:48:17.698105Z"
    },
    "collapsed": false,
    "jupyter": {
     "outputs_hidden": false
    }
   },
   "outputs": [
    {
     "data": {
      "text/plain": [
       "'\\nfrom prompt_factory import PromptFactory\\nfrom question_generation import  QuestionGenerator\\ntemplate = \\'\\'\\'\\n        Gedraag je als een {role} die online informatie zoekt.\\n        Patiënten stellen meestal vragen als:\\n            \"Mijn neusslang is eruit gevallen, wat moet ik doen?\",\\n            \"Wanneer mag ik niet in bad bevallen?\"\\n        in het formaat: \\n        {format}\\n\\n        {document}\\n        \\n        Stel {n} vragen die beantwoord kunnen worden op basis van deze paragraaf in het json formaat:\\n        {format}\\n        \\'\\'\\'\\n\\nroles = [\\n    \\'Patiënt\\',\\n    \\'Nieuwe Ouder\\',\\n    \\'Oudere Patiënt\\',\\n    \\'Persoon die een Tweede Mening Zoekt\\',\\n    \\'Reiziger die Medisch Advies Na Reizen Zoekt\\',\\n    \\'Zorgverlener die Informatie Zoekt\\']\\n\\nprompt_factory = PromptFactory(prompt=template,roles=roles)\\n\\nQuestionGenerator = QuestionGenerator()\\nresults = [(doc, \\n            QuestionGenerator.generate_questions(\\n                prompt_factory.generate_prompt(doc, 5))) \\n           for doc in sample]\\nresults\\n'"
      ]
     },
     "execution_count": 6,
     "metadata": {},
     "output_type": "execute_result"
    }
   ],
   "source": [
    "import pandas as pd\n",
    "\"\"\"\n",
    "from prompt_factory import PromptFactory\n",
    "from question_generation import  QuestionGenerator\n",
    "template = '''\n",
    "        Gedraag je als een {role} die online informatie zoekt.\n",
    "        Patiënten stellen meestal vragen als:\n",
    "            \"Mijn neusslang is eruit gevallen, wat moet ik doen?\",\n",
    "            \"Wanneer mag ik niet in bad bevallen?\"\n",
    "        in het formaat: \n",
    "        {format}\n",
    "\n",
    "        {document}\n",
    "        \n",
    "        Stel {n} vragen die beantwoord kunnen worden op basis van deze paragraaf in het json formaat:\n",
    "        {format}\n",
    "        '''\n",
    "\n",
    "roles = [\n",
    "    'Patiënt',\n",
    "    'Nieuwe Ouder',\n",
    "    'Oudere Patiënt',\n",
    "    'Persoon die een Tweede Mening Zoekt',\n",
    "    'Reiziger die Medisch Advies Na Reizen Zoekt',\n",
    "    'Zorgverlener die Informatie Zoekt']\n",
    "\n",
    "prompt_factory = PromptFactory(prompt=template,roles=roles)\n",
    "\n",
    "QuestionGenerator = QuestionGenerator()\n",
    "results = [(doc, \n",
    "            QuestionGenerator.generate_questions(\n",
    "                prompt_factory.generate_prompt(doc, 5))) \n",
    "           for doc in sample]\n",
    "results\n",
    "\"\"\""
   ]
  },
  {
   "cell_type": "code",
   "execution_count": 7,
   "id": "222d75058bd216c4",
   "metadata": {
    "ExecuteTime": {
     "end_time": "2024-01-10T09:48:18.288103700Z",
     "start_time": "2024-01-10T09:48:18.130143700Z"
    },
    "collapsed": false,
    "jupyter": {
     "outputs_hidden": false
    }
   },
   "outputs": [
    {
     "data": {
      "text/plain": [
       "'\\nfrom qa_generation import QAGenerator\\nfrom prompt_factory import PromptFactory\\n\\ntemplate = \\'\\'\\'\\n        Gedraag je als een {role} die online informatie zoekt.\\n        Patiënten stellen meestal vragen als:\\n        {{\\n        \"question\": \\n            \"Hoe kan ik een verstopte voedingssonde doorspoelen?\"\\n        \"answer\":\\n            \"Om een verstopte\\n            voedingssonde door te\\n            spoelen, kunt u de volgende\\n            stappen proberen:\\n            1. Sluit de spuit\\n            rechtstreeks aan op\\n            de sonde (niet op het\\n            voedingssysteem).\\n            Als er een\\n            verstopping is in het\\n            voedingssysteem,\\n            kunt u dit vervangen.\\n            2. Neem een spuit van\\n            10 cc en spuit met\\n            lichte druk lauwwarm\\n            water door de\\n            voedingssonde.\\n            Herhaal dit zo nodig\\n            nog een keer.\\n            3. Als het oplossen van\\n            de verstopping niet\\n            lukt, laat dan\\n            lauwwarm water 30\\n            minuten inwerken en\\n            herhaal de\\n            bovenstaande\\n            procedure nogmaals.\\n            4. Als u de verstopping\\n            kunt zien, kunt u\\n            proberen om de\\n            voedingssonde op\\n            die plek zachtjes te\\n            kneden. Als de\\n            verstopping dan\\n            loskomt, kunt u het\\n            doorspuiten met\\n            lauwwarm water.\\n            Belangrijk: Gebruik nooit een\\n            voerdraad of\\n            koolzuurhoudend bronwater\\n            of frisdranken, omdat dit kan\\n            leiden tot perforatie.\\n            Daarnaast wordt het afraden\\n            om natriumbicarbonaat te\\n            gebruiken als medicatie de\\n            oorzaak is van de\\n            verstopping, omdat dit de\\n            verstopping groter kan\\n            maken.\"\\n        }}\\n\\n        in het json formaat: \\n        {format}\\n\\n        {document}\\n        \\n        Stel {n} vragen die beantwoord kunnen worden op basis van deze paragraaf in het formaat:\\n        {format}\\n        \\'\\'\\'\\n\\nroles = [\\n    \\'Patiënt\\',\\n    \\'Nieuwe Ouder\\',\\n    \\'Oudere Patiënt\\',\\n    \\'Persoon die een Tweede Mening Zoekt\\',\\n    \\'Reiziger die Medisch Advies Na Reizen Zoekt\\',\\n    \\'Zorgverlener die Informatie Zoekt\\']\\n\\nprompt_factory = PromptFactory(prompt=template,roles=roles)\\n\\nnum_questions_per_doc = 5 \\n\\nQAGenerator = QAGenerator()\\n# Generate the data\\ndata = []\\nfor doc in sample:\\n    for _ in range(num_questions_per_doc):\\n        try:\\n            qa = QAGenerator.generate_qa(prompt_factory.generate_prompt(doc, 1))\\n            data.append({\\'Document\\': doc, \\'Question\\': qa.question, \\'Answer\\': qa.answer})\\n        except Exception as e:\\n            print(f\"Failed to generate QA for document: {doc}. Error: {e}\")\\n            continue\\n\\n# Convert to DataFrame\\ndf = pd.DataFrame(data)\\n\\n# Display the DataFrame\\nprint(df)\\n'"
      ]
     },
     "execution_count": 7,
     "metadata": {},
     "output_type": "execute_result"
    }
   ],
   "source": [
    "\"\"\"\n",
    "from qa_generation import QAGenerator\n",
    "from prompt_factory import PromptFactory\n",
    "\n",
    "template = '''\n",
    "        Gedraag je als een {role} die online informatie zoekt.\n",
    "        Patiënten stellen meestal vragen als:\n",
    "        {{\n",
    "        \"question\": \n",
    "            \"Hoe kan ik een verstopte voedingssonde doorspoelen?\"\n",
    "        \"answer\":\n",
    "            \"Om een verstopte\n",
    "            voedingssonde door te\n",
    "            spoelen, kunt u de volgende\n",
    "            stappen proberen:\n",
    "            1. Sluit de spuit\n",
    "            rechtstreeks aan op\n",
    "            de sonde (niet op het\n",
    "            voedingssysteem).\n",
    "            Als er een\n",
    "            verstopping is in het\n",
    "            voedingssysteem,\n",
    "            kunt u dit vervangen.\n",
    "            2. Neem een spuit van\n",
    "            10 cc en spuit met\n",
    "            lichte druk lauwwarm\n",
    "            water door de\n",
    "            voedingssonde.\n",
    "            Herhaal dit zo nodig\n",
    "            nog een keer.\n",
    "            3. Als het oplossen van\n",
    "            de verstopping niet\n",
    "            lukt, laat dan\n",
    "            lauwwarm water 30\n",
    "            minuten inwerken en\n",
    "            herhaal de\n",
    "            bovenstaande\n",
    "            procedure nogmaals.\n",
    "            4. Als u de verstopping\n",
    "            kunt zien, kunt u\n",
    "            proberen om de\n",
    "            voedingssonde op\n",
    "            die plek zachtjes te\n",
    "            kneden. Als de\n",
    "            verstopping dan\n",
    "            loskomt, kunt u het\n",
    "            doorspuiten met\n",
    "            lauwwarm water.\n",
    "            Belangrijk: Gebruik nooit een\n",
    "            voerdraad of\n",
    "            koolzuurhoudend bronwater\n",
    "            of frisdranken, omdat dit kan\n",
    "            leiden tot perforatie.\n",
    "            Daarnaast wordt het afraden\n",
    "            om natriumbicarbonaat te\n",
    "            gebruiken als medicatie de\n",
    "            oorzaak is van de\n",
    "            verstopping, omdat dit de\n",
    "            verstopping groter kan\n",
    "            maken.\"\n",
    "        }}\n",
    "\n",
    "        in het json formaat: \n",
    "        {format}\n",
    "\n",
    "        {document}\n",
    "        \n",
    "        Stel {n} vragen die beantwoord kunnen worden op basis van deze paragraaf in het formaat:\n",
    "        {format}\n",
    "        '''\n",
    "\n",
    "roles = [\n",
    "    'Patiënt',\n",
    "    'Nieuwe Ouder',\n",
    "    'Oudere Patiënt',\n",
    "    'Persoon die een Tweede Mening Zoekt',\n",
    "    'Reiziger die Medisch Advies Na Reizen Zoekt',\n",
    "    'Zorgverlener die Informatie Zoekt']\n",
    "\n",
    "prompt_factory = PromptFactory(prompt=template,roles=roles)\n",
    "\n",
    "num_questions_per_doc = 5 \n",
    "\n",
    "QAGenerator = QAGenerator()\n",
    "# Generate the data\n",
    "data = []\n",
    "for doc in sample:\n",
    "    for _ in range(num_questions_per_doc):\n",
    "        try:\n",
    "            qa = QAGenerator.generate_qa(prompt_factory.generate_prompt(doc, 1))\n",
    "            data.append({'Document': doc, 'Question': qa.question, 'Answer': qa.answer})\n",
    "        except Exception as e:\n",
    "            print(f\"Failed to generate QA for document: {doc}. Error: {e}\")\n",
    "            continue\n",
    "\n",
    "# Convert to DataFrame\n",
    "df = pd.DataFrame(data)\n",
    "\n",
    "# Display the DataFrame\n",
    "print(df)\n",
    "\"\"\""
   ]
  },
  {
   "cell_type": "code",
   "execution_count": 8,
   "id": "3adf1961391d6c5d",
   "metadata": {
    "ExecuteTime": {
     "end_time": "2024-01-10T09:48:24.187448200Z",
     "start_time": "2024-01-10T09:48:18.712568100Z"
    },
    "collapsed": false,
    "jupyter": {
     "outputs_hidden": false
    }
   },
   "outputs": [
    {
     "name": "stderr",
     "output_type": "stream",
     "text": [
      "C:\\Programming\\Automated-QA-Generation\\env\\Lib\\site-packages\\langchain_core\\_api\\deprecation.py:117: LangChainDeprecationWarning: The class `langchain_community.llms.openai.OpenAI` was deprecated in langchain-community 0.1.0 and will be removed in 0.2.0. Use langchain_openai.OpenAI instead.\n",
      "  warn_deprecated(\n"
     ]
    },
    {
     "ename": "ValidationError",
     "evalue": "1 validation error for OpenAI\n__root__\n  Did not find openai_api_key, please add an environment variable `OPENAI_API_KEY` which contains it, or pass `openai_api_key` as a named parameter. (type=value_error)",
     "output_type": "error",
     "traceback": [
      "\u001b[1;31m---------------------------------------------------------------------------\u001b[0m",
      "\u001b[1;31mValidationError\u001b[0m                           Traceback (most recent call last)",
      "Cell \u001b[1;32mIn[8], line 44\u001b[0m\n\u001b[0;32m     40\u001b[0m prompt_factory \u001b[38;5;241m=\u001b[39m PromptFactory(prompt\u001b[38;5;241m=\u001b[39mtemplate,roles\u001b[38;5;241m=\u001b[39mroles)\n\u001b[0;32m     42\u001b[0m num_questions_per_doc \u001b[38;5;241m=\u001b[39m \u001b[38;5;241m5\u001b[39m \n\u001b[1;32m---> 44\u001b[0m QAGenerator \u001b[38;5;241m=\u001b[39m \u001b[43mQAGenerator\u001b[49m\u001b[43m(\u001b[49m\u001b[43m)\u001b[49m\n\u001b[0;32m     45\u001b[0m \u001b[38;5;66;03m# Generate the data\u001b[39;00m\n\u001b[0;32m     46\u001b[0m data \u001b[38;5;241m=\u001b[39m []\n",
      "File \u001b[1;32mC:\\Programming\\Automated-QA-Generation\\qa-gen\\qa_generation.py:52\u001b[0m, in \u001b[0;36mQAGenerator.__init__\u001b[1;34m(self, temperature, max_tokens)\u001b[0m\n\u001b[0;32m     49\u001b[0m \u001b[38;5;28mself\u001b[39m\u001b[38;5;241m.\u001b[39mmax_tokens \u001b[38;5;241m=\u001b[39m max_tokens\n\u001b[0;32m     51\u001b[0m \u001b[38;5;66;03m# Initialize the OpenAI API and Langchain LLM\u001b[39;00m\n\u001b[1;32m---> 52\u001b[0m \u001b[38;5;28mself\u001b[39m\u001b[38;5;241m.\u001b[39mllm \u001b[38;5;241m=\u001b[39m \u001b[43mOpenAI\u001b[49m\u001b[43m(\u001b[49m\u001b[43mmodel_name\u001b[49m\u001b[38;5;241;43m=\u001b[39;49m\u001b[38;5;124;43m\"\u001b[39;49m\u001b[38;5;124;43mgpt-3.5-turbo-instruct\u001b[39;49m\u001b[38;5;124;43m\"\u001b[39;49m\u001b[43m,\u001b[49m\n\u001b[0;32m     53\u001b[0m \u001b[43m                      \u001b[49m\u001b[43mtemperature\u001b[49m\u001b[38;5;241;43m=\u001b[39;49m\u001b[43mtemperature\u001b[49m\u001b[43m,\u001b[49m\n\u001b[0;32m     54\u001b[0m \u001b[43m                      \u001b[49m\u001b[43mmax_tokens\u001b[49m\u001b[38;5;241;43m=\u001b[39;49m\u001b[43mmax_tokens\u001b[49m\u001b[43m)\u001b[49m\n\u001b[0;32m     55\u001b[0m \u001b[38;5;28mself\u001b[39m\u001b[38;5;241m.\u001b[39mllm_fixer \u001b[38;5;241m=\u001b[39m \u001b[38;5;28mself\u001b[39m\u001b[38;5;241m.\u001b[39mllm\n",
      "File \u001b[1;32mC:\\Programming\\Automated-QA-Generation\\env\\Lib\\site-packages\\langchain_core\\_api\\deprecation.py:171\u001b[0m, in \u001b[0;36mdeprecated.<locals>.deprecate.<locals>.finalize.<locals>.warn_if_direct_instance\u001b[1;34m(self, *args, **kwargs)\u001b[0m\n\u001b[0;32m    169\u001b[0m     warned \u001b[38;5;241m=\u001b[39m \u001b[38;5;28;01mTrue\u001b[39;00m\n\u001b[0;32m    170\u001b[0m     emit_warning()\n\u001b[1;32m--> 171\u001b[0m \u001b[38;5;28;01mreturn\u001b[39;00m \u001b[43mwrapped\u001b[49m\u001b[43m(\u001b[49m\u001b[38;5;28;43mself\u001b[39;49m\u001b[43m,\u001b[49m\u001b[43m \u001b[49m\u001b[38;5;241;43m*\u001b[39;49m\u001b[43margs\u001b[49m\u001b[43m,\u001b[49m\u001b[43m \u001b[49m\u001b[38;5;241;43m*\u001b[39;49m\u001b[38;5;241;43m*\u001b[39;49m\u001b[43mkwargs\u001b[49m\u001b[43m)\u001b[49m\n",
      "File \u001b[1;32mC:\\Programming\\Automated-QA-Generation\\env\\Lib\\site-packages\\langchain_core\\load\\serializable.py:107\u001b[0m, in \u001b[0;36mSerializable.__init__\u001b[1;34m(self, **kwargs)\u001b[0m\n\u001b[0;32m    106\u001b[0m \u001b[38;5;28;01mdef\u001b[39;00m \u001b[38;5;21m__init__\u001b[39m(\u001b[38;5;28mself\u001b[39m, \u001b[38;5;241m*\u001b[39m\u001b[38;5;241m*\u001b[39mkwargs: Any) \u001b[38;5;241m-\u001b[39m\u001b[38;5;241m>\u001b[39m \u001b[38;5;28;01mNone\u001b[39;00m:\n\u001b[1;32m--> 107\u001b[0m     \u001b[38;5;28;43msuper\u001b[39;49m\u001b[43m(\u001b[49m\u001b[43m)\u001b[49m\u001b[38;5;241;43m.\u001b[39;49m\u001b[38;5;21;43m__init__\u001b[39;49m\u001b[43m(\u001b[49m\u001b[38;5;241;43m*\u001b[39;49m\u001b[38;5;241;43m*\u001b[39;49m\u001b[43mkwargs\u001b[49m\u001b[43m)\u001b[49m\n\u001b[0;32m    108\u001b[0m     \u001b[38;5;28mself\u001b[39m\u001b[38;5;241m.\u001b[39m_lc_kwargs \u001b[38;5;241m=\u001b[39m kwargs\n",
      "File \u001b[1;32mC:\\Programming\\Automated-QA-Generation\\env\\Lib\\site-packages\\pydantic\\v1\\main.py:341\u001b[0m, in \u001b[0;36mBaseModel.__init__\u001b[1;34m(__pydantic_self__, **data)\u001b[0m\n\u001b[0;32m    339\u001b[0m values, fields_set, validation_error \u001b[38;5;241m=\u001b[39m validate_model(__pydantic_self__\u001b[38;5;241m.\u001b[39m\u001b[38;5;18m__class__\u001b[39m, data)\n\u001b[0;32m    340\u001b[0m \u001b[38;5;28;01mif\u001b[39;00m validation_error:\n\u001b[1;32m--> 341\u001b[0m     \u001b[38;5;28;01mraise\u001b[39;00m validation_error\n\u001b[0;32m    342\u001b[0m \u001b[38;5;28;01mtry\u001b[39;00m:\n\u001b[0;32m    343\u001b[0m     object_setattr(__pydantic_self__, \u001b[38;5;124m'\u001b[39m\u001b[38;5;124m__dict__\u001b[39m\u001b[38;5;124m'\u001b[39m, values)\n",
      "\u001b[1;31mValidationError\u001b[0m: 1 validation error for OpenAI\n__root__\n  Did not find openai_api_key, please add an environment variable `OPENAI_API_KEY` which contains it, or pass `openai_api_key` as a named parameter. (type=value_error)"
     ]
    }
   ],
   "source": [
    "from qa_generation import QAGenerator\n",
    "from prompt_factory import PromptFactory\n",
    "\n",
    "template = '''\n",
    "        Gedraag je als een {role} die online informatie zoekt.\n",
    "        Patiënten stellen meestal vragen als:\n",
    "{{\n",
    "    \"qa_list\": [\n",
    "        {{\n",
    "            \"question\": \"Hoe kan ik een verstopte voedingssonde doorspoelen?\",\n",
    "            \"answer\": \"Om een verstopte voedingssonde door te spoelen, kunt u de volgende stappen proberen: 1. Sluit de spuit rechtstreeks aan op de sonde (niet op het voedingssysteem). Als er een verstopping is in het voedingssysteem, kunt u dit vervangen. 2. Neem een spuit van 10 cc en spuit met lichte druk lauwwarm water door de voedingssonde. Herhaal dit zo nodig nog een keer. 3. Als het oplossen van de verstopping niet lukt, laat dan lauwwarm water 30 minuten inwerken en herhaal de bovenstaande procedure nogmaals. 4. Als u de verstopping kunt zien, kunt u proberen om de voedingssonde op die plek zachtjes te kneden. Als de verstopping dan loskomt, kunt u het doorspuiten met lauwwarm water. Belangrijk: Gebruik nooit een voerdraad of koolzuurhoudend bronwater of frisdranken, omdat dit kan leiden tot perforatie. Daarnaast wordt het afraden om natriumbicarbonaat te gebruiken als medicatie de oorzaak is van de verstopping, omdat dit de verstopping groter kan maken.\"\n",
    "        }}\n",
    "    ]\n",
    "}}\n",
    "\n",
    "\n",
    "        in het json formaat: \n",
    "        {format}\n",
    "        \n",
    "Document Informatie:\n",
    "        {document}\n",
    "        \n",
    "        Belangrijke Opmerking: Bij het genereren van vragen, gebruik specifieke termen en benamingen uit het document in plaats van algemene termen zoals 'dit onderzoek' of 'die procedure'. Verwijs direct naar de procedure of het document met de exacte naam om nauwkeurigheid en duidelijkheid in de vragen te waarborgen. Vermijd algemeenheden en zorg ervoor dat elke vraag direct gerelateerd is aan de verstrekte documentinformatie.\n",
    "\n",
    "        \n",
    "        Stel {n} vragen die beantwoord kunnen worden op basis van deze paragraaf in het formaat:\n",
    "        {format}\n",
    "        \n",
    "        Zorg ervoor dat elke vraag en antwoord paar in een geldig JSON-formaat is. Dit betekent dat vragen en antwoorden tussen dubbele aanhalingstekens moeten staan, en de algemene structuur moet overeenkomen met het vereiste JSON-schema.\n",
    "        '''\n",
    "\n",
    "roles = [\n",
    "    'Patiënt',\n",
    "    'Nieuwe Ouder',\n",
    "    'Oudere Patiënt',\n",
    "    'Persoon die een Tweede Mening Zoekt',\n",
    "    'Reiziger die Medisch Advies Na Reizen Zoekt',\n",
    "    'Zorgverlener die Informatie Zoekt']\n",
    "\n",
    "prompt_factory = PromptFactory(prompt=template,roles=roles)\n",
    "\n",
    "num_questions_per_doc = 5 \n",
    "\n",
    "QAGenerator = QAGenerator()\n",
    "# Generate the data\n",
    "data = []\n",
    "for doc in sample:\n",
    "    try:\n",
    "        qa_list = QAGenerator.generate_qas(prompt_factory.generate_prompt(doc, num_questions_per_doc))\n",
    "        for qa in qa_list:\n",
    "            data.append({'Document': doc, 'Question': qa.question, 'Answer': qa.answer})\n",
    "    except Exception as e:\n",
    "            print(f\"Failed to generate QA for document: {doc}. Error: {e}\")\n",
    "            continue\n",
    "\n",
    "# Convert to DataFrame\n",
    "df = pd.DataFrame(data)\n",
    "\n",
    "# Display the DataFrame\n",
    "print(df)\n"
   ]
  },
  {
   "cell_type": "code",
   "execution_count": null,
   "id": "245c8223a8b75e7f",
   "metadata": {
    "ExecuteTime": {
     "start_time": "2024-01-10T09:48:24.169232800Z"
    },
    "collapsed": false,
    "jupyter": {
     "outputs_hidden": false
    }
   },
   "outputs": [],
   "source": []
  },
  {
   "cell_type": "markdown",
   "id": "af3bd7a431f754b",
   "metadata": {},
   "source": [
    "## Automated Filtering of Q&A Pairs\n",
    "#### N-gram Similarity"
   ]
  },
  {
   "cell_type": "code",
   "execution_count": null,
   "id": "f82ffddf580632b0",
   "metadata": {
    "ExecuteTime": {
     "start_time": "2024-01-10T09:48:24.173979400Z"
    },
    "collapsed": false,
    "jupyter": {
     "outputs_hidden": false
    }
   },
   "outputs": [],
   "source": [
    "import pandas as pd\n",
    "from nltk.util import ngrams\n",
    "from nltk import word_tokenize\n",
    "from nltk.corpus import stopwords\n",
    "import string\n",
    "from ngram_filter import ngram_similarity \n",
    "\n",
    "df['Question-Context Similarity'] = df.apply(lambda row: ngram_similarity(row['Question'], row['Document'], 2), axis=1)\n",
    "df['Answer-Context Similarity'] = df.apply(lambda row: ngram_similarity(row['Answer'], row['Document'], 2), axis=1)\n",
    "\n",
    "# Display the updated DataFrame\n",
    "print(df)\n"
   ]
  },
  {
   "cell_type": "markdown",
   "id": "d26d0c94a2e5eff6",
   "metadata": {},
   "source": [
    "## Basic Statistics and Visualization of ngramsimilarity Similarity Scores"
   ]
  },
  {
   "cell_type": "code",
   "execution_count": null,
   "id": "f1367bb3578bf36b",
   "metadata": {
    "ExecuteTime": {
     "start_time": "2024-01-10T09:48:24.178514Z"
    },
    "collapsed": false,
    "jupyter": {
     "outputs_hidden": false
    }
   },
   "outputs": [],
   "source": [
    "import pandas as pd\n",
    "import matplotlib.pyplot as plt\n",
    "import seaborn as sns\n",
    "\n",
    "# Display basic statistics\n",
    "print(\"Basic Statistics for Question-Context Similarity:\")\n",
    "print(df['Question-Context Similarity'].describe())\n",
    "\n",
    "print(\"\\nBasic Statistics for Answer-Context Similarity:\")\n",
    "print(df['Answer-Context Similarity'].describe())\n",
    "\n",
    "# Histogram for Question-Context Similarity\n",
    "plt.figure(figsize=(10, 6))\n",
    "sns.histplot(df['Question-Context Similarity'], kde=True, bins=20)\n",
    "plt.title('Distribution of Question-Context Similarity')\n",
    "plt.xlabel('Similarity Score')\n",
    "plt.ylabel('Frequency')\n",
    "plt.show()\n",
    "\n",
    "# Histogram for Answer-Context Similarity\n",
    "plt.figure(figsize=(10, 6))\n",
    "sns.histplot(df['Answer-Context Similarity'], kde=True, bins=20)\n",
    "plt.title('Distribution of Answer-Context Similarity')\n",
    "plt.xlabel('Similarity Score')\n",
    "plt.ylabel('Frequency')\n",
    "plt.show()\n",
    "\n",
    "# Box plots for a side-by-side comparison\n",
    "plt.figure(figsize=(10, 6))\n",
    "sns.boxplot(data=df[['Question-Context Similarity', 'Answer-Context Similarity']])\n",
    "plt.title('Box Plot of Similarity Scores')\n",
    "plt.ylabel('Similarity Score')\n",
    "plt.show()\n"
   ]
  },
  {
   "cell_type": "code",
   "execution_count": null,
   "id": "1dfb3ceb9c1cbab5",
   "metadata": {
    "ExecuteTime": {
     "start_time": "2024-01-10T09:48:24.184884900Z"
    },
    "collapsed": false,
    "jupyter": {
     "outputs_hidden": false
    }
   },
   "outputs": [],
   "source": []
  },
  {
   "cell_type": "markdown",
   "id": "d66534a2fd7c839c",
   "metadata": {},
   "source": [
    "#### Vector similarity"
   ]
  },
  {
   "cell_type": "code",
   "execution_count": null,
   "id": "4063754818d68290",
   "metadata": {
    "ExecuteTime": {
     "end_time": "2024-01-10T09:48:24.191774600Z",
     "start_time": "2024-01-10T09:48:24.190433300Z"
    },
    "collapsed": false,
    "jupyter": {
     "outputs_hidden": false
    }
   },
   "outputs": [],
   "source": [
    "from vector_filter import precompute_embeddings\n",
    "\n",
    "embeddings = precompute_embeddings(df, 'Question')\n"
   ]
  },
  {
   "cell_type": "code",
   "execution_count": null,
   "id": "cab3783ee8d00c06",
   "metadata": {
    "ExecuteTime": {
     "start_time": "2024-01-10T09:48:24.197855700Z"
    },
    "collapsed": false,
    "jupyter": {
     "outputs_hidden": false
    }
   },
   "outputs": [],
   "source": [
    "import matplotlib.pyplot as plt\n",
    "import numpy as np\n",
    "from vector_filter import create_similarity_matrix\n",
    "\n",
    "\n",
    "similarity_matrix = create_similarity_matrix(embeddings)\n",
    "\n",
    "num_rows = similarity_matrix.shape[0]\n",
    "\n",
    "# Compute minimum similarities for each row, excluding self-similarity\n",
    "min_similarities = [np.min(row) for i, row in enumerate(similarity_matrix)]\n",
    "plt.figure(figsize=(10, 6))\n",
    "plt.hist(min_similarities, bins=20, range=(0, 1))\n",
    "plt.title('Histogram of Minimum Cosine Similarities')\n",
    "plt.xlabel('Minimum Cosine Similarity')\n",
    "plt.ylabel('Number of Rows')\n",
    "plt.grid(True)\n",
    "plt.show()"
   ]
  },
  {
   "cell_type": "code",
   "execution_count": null,
   "id": "8828a67c0109bf0c",
   "metadata": {
    "ExecuteTime": {
     "start_time": "2024-01-10T09:48:24.202490200Z"
    },
    "collapsed": false,
    "jupyter": {
     "outputs_hidden": false
    }
   },
   "outputs": [],
   "source": [
    "df\n"
   ]
  },
  {
   "cell_type": "code",
   "execution_count": null,
   "id": "fbfb8afa3294a5ef",
   "metadata": {
    "ExecuteTime": {
     "start_time": "2024-01-10T09:48:24.206241400Z"
    },
    "collapsed": false,
    "jupyter": {
     "outputs_hidden": false
    }
   },
   "outputs": [],
   "source": [
    "from vector_filter import filter_dataframe\n",
    "\n",
    "#df = filter_dataframe(df, embeddings, threshold=0.8)\n"
   ]
  },
  {
   "cell_type": "markdown",
   "id": "63ae6feb2d769778",
   "metadata": {},
   "source": [
    "#### LLM Scoring"
   ]
  },
  {
   "cell_type": "code",
   "execution_count": null,
   "id": "650847dd9a2eebd5",
   "metadata": {
    "ExecuteTime": {
     "start_time": "2024-01-10T09:48:24.212470700Z"
    },
    "collapsed": false,
    "jupyter": {
     "outputs_hidden": false
    }
   },
   "outputs": [],
   "source": [
    "from qa_filtering import estimate_relevance\n",
    "\n",
    "df['LLM Score'] = df.apply(lambda row: estimate_relevance(row['Question'], row['Document']), axis=1)\n",
    "\n",
    "plt.figure(figsize=(10, 6))\n",
    "plt.hist(df['LLM Score'], bins=10, range=(0, 100))\n",
    "plt.title('Histogram of LLM Scores')\n",
    "plt.xlabel('LLM Score')\n",
    "plt.ylabel('Number of Rows')\n",
    "plt.grid(True)\n",
    "plt.show()"
   ]
  },
  {
   "cell_type": "markdown",
   "id": "69ee902da2eb2dc1",
   "metadata": {},
   "source": [
    "## Export Q&A Pairs"
   ]
  },
  {
   "cell_type": "code",
   "execution_count": null,
   "id": "3fd39a727cda4981",
   "metadata": {
    "ExecuteTime": {
     "start_time": "2024-01-10T09:48:24.217551700Z"
    },
    "collapsed": false,
    "jupyter": {
     "outputs_hidden": false
    }
   },
   "outputs": [],
   "source": [
    "df.to_csv('./output.csv')"
   ]
  },
  {
   "cell_type": "code",
   "execution_count": null,
   "id": "af0521bf00884206",
   "metadata": {
    "ExecuteTime": {
     "start_time": "2024-01-10T09:48:24.222233Z"
    },
    "collapsed": false,
    "jupyter": {
     "outputs_hidden": false
    }
   },
   "outputs": [],
   "source": [
    "df\n"
   ]
  },
  {
   "cell_type": "code",
   "execution_count": null,
   "id": "f3ee7b2ff7da54de",
   "metadata": {
    "ExecuteTime": {
     "start_time": "2024-01-10T09:48:24.227287400Z"
    },
    "collapsed": false,
    "jupyter": {
     "outputs_hidden": false
    }
   },
   "outputs": [],
   "source": []
  },
  {
   "cell_type": "code",
   "execution_count": null,
   "id": "76df93cf42a01abc",
   "metadata": {
    "ExecuteTime": {
     "start_time": "2024-01-10T09:48:24.229704200Z"
    },
    "collapsed": false,
    "jupyter": {
     "outputs_hidden": false
    }
   },
   "outputs": [],
   "source": []
  },
  {
   "cell_type": "code",
   "execution_count": null,
   "id": "4251b6ca4abb2f6a",
   "metadata": {
    "ExecuteTime": {
     "start_time": "2024-01-10T09:48:24.234720900Z"
    },
    "collapsed": false,
    "jupyter": {
     "outputs_hidden": false
    }
   },
   "outputs": [],
   "source": []
  },
  {
   "cell_type": "code",
   "execution_count": null,
   "id": "5348f230a06fdb78",
   "metadata": {
    "ExecuteTime": {
     "start_time": "2024-01-10T09:48:24.237078200Z"
    },
    "collapsed": false,
    "jupyter": {
     "outputs_hidden": false
    }
   },
   "outputs": [],
   "source": []
  },
  {
   "cell_type": "code",
   "execution_count": null,
   "id": "d0441a0ce23ddf03",
   "metadata": {
    "ExecuteTime": {
     "start_time": "2024-01-10T09:48:24.240504700Z"
    },
    "collapsed": false,
    "jupyter": {
     "outputs_hidden": false
    }
   },
   "outputs": [],
   "source": []
  },
  {
   "cell_type": "code",
   "execution_count": null,
   "id": "3f518a44f4699800",
   "metadata": {
    "ExecuteTime": {
     "start_time": "2024-01-10T09:48:24.243544100Z"
    },
    "collapsed": false,
    "jupyter": {
     "outputs_hidden": false
    }
   },
   "outputs": [],
   "source": []
  },
  {
   "cell_type": "code",
   "execution_count": null,
   "id": "d364889b905aecaf",
   "metadata": {
    "ExecuteTime": {
     "start_time": "2024-01-10T09:48:24.247209800Z"
    },
    "collapsed": false,
    "jupyter": {
     "outputs_hidden": false
    }
   },
   "outputs": [],
   "source": []
  },
  {
   "cell_type": "code",
   "execution_count": null,
   "id": "b84c7fd476e9c5f0",
   "metadata": {
    "ExecuteTime": {
     "start_time": "2024-01-10T09:48:24.251156600Z"
    },
    "collapsed": false,
    "jupyter": {
     "outputs_hidden": false
    }
   },
   "outputs": [],
   "source": []
  }
 ],
 "metadata": {
  "kernelspec": {
   "display_name": "Python",
   "language": "python",
   "name": "python3"
  },
  "language_info": {
   "codemirror_mode": {
    "name": "ipython",
    "version": 3
   },
   "file_extension": ".py",
   "mimetype": "text/x-python",
   "name": "python",
   "nbconvert_exporter": "python",
   "pygments_lexer": "ipython3",
   "version": "3.8.10"
  }
 },
 "nbformat": 4,
 "nbformat_minor": 5
}
