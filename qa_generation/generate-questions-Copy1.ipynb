{
 "cells": [
  {
   "cell_type": "code",
   "execution_count": 1,
   "id": "407b728e4814574c",
   "metadata": {
    "ExecuteTime": {
     "end_time": "2024-01-10T09:43:17.897011100Z",
     "start_time": "2024-01-10T09:43:16.963621800Z"
    },
    "collapsed": false,
    "jupyter": {
     "outputs_hidden": false
    }
   },
   "outputs": [
    {
     "name": "stderr",
     "output_type": "stream",
     "text": [
      "[nltk_data] Downloading package punkt to /home/jovyan/nltk_data...\n",
      "[nltk_data]   Package punkt is already up-to-date!\n",
      "[nltk_data] Downloading package stopwords to /home/jovyan/nltk_data...\n",
      "[nltk_data]   Package stopwords is already up-to-date!\n"
     ]
    },
    {
     "data": {
      "text/plain": [
       "True"
      ]
     },
     "execution_count": 1,
     "metadata": {},
     "output_type": "execute_result"
    }
   ],
   "source": [
    "import nltk\n",
    "nltk.download('punkt')\n",
    "nltk.download('stopwords')"
   ]
  },
  {
   "cell_type": "code",
   "execution_count": 2,
   "id": "439470d9-bd5b-4f6a-b975-3c0af2524cc4",
   "metadata": {
    "tags": []
   },
   "outputs": [],
   "source": [
    "fname = \"train_fold_one\"\n",
    "basepath = \"./-paraphrase-multilingual-MiniLM-L12-v2_3015\""
   ]
  },
  {
   "cell_type": "markdown",
   "id": "16186156ab8ffcd9",
   "metadata": {},
   "source": [
    "## Load data"
   ]
  },
  {
   "cell_type": "code",
   "execution_count": 3,
   "id": "8fd7061afa64ddf4",
   "metadata": {
    "ExecuteTime": {
     "end_time": "2024-01-10T09:45:35.511623200Z",
     "start_time": "2024-01-10T09:43:17.901441900Z"
    },
    "collapsed": false,
    "jupyter": {
     "outputs_hidden": false
    }
   },
   "outputs": [],
   "source": [
    "import pandas as pd\n",
    "\n",
    "def loadData(fname, basepath):\n",
    "    sample = pd.read_csv(f\"{basepath}/{fname}.csv\")\n",
    "    sample['Document'] = sample.apply(lambda row: ': '.join(row.astype(str)), axis=1)\n",
    "    return sample"
   ]
  },
  {
   "cell_type": "markdown",
   "id": "55fa0f5c1104e72e",
   "metadata": {},
   "source": [
    "## Question Generation"
   ]
  },
  {
   "cell_type": "code",
   "execution_count": 4,
   "id": "3adf1961391d6c5d",
   "metadata": {
    "ExecuteTime": {
     "end_time": "2024-01-10T09:48:24.187448200Z",
     "start_time": "2024-01-10T09:48:18.712568100Z"
    },
    "collapsed": false,
    "jupyter": {
     "outputs_hidden": false
    }
   },
   "outputs": [],
   "source": [
    "from qa_generation import QAGenerator\n",
    "from prompt_factory import PromptFactory\n",
    "from tqdm.notebook import tqdm\n",
    "\n",
    "template = '''\n",
    "        Gedraag je als een {role} die online informatie zoekt.\n",
    "        Patiënten stellen meestal vragen als:\n",
    "{{\n",
    "    \"qa_list\": [\n",
    "        {{\n",
    "            \"question\": \"Hoe kan ik een verstopte voedingssonde doorspoelen?\",\n",
    "            \"answer\": \"Om een verstopte voedingssonde door te spoelen, kunt u de volgende stappen proberen: 1. Sluit de spuit rechtstreeks aan op de sonde (niet op het voedingssysteem). Als er een verstopping is in het voedingssysteem, kunt u dit vervangen. 2. Neem een spuit van 10 cc en spuit met lichte druk lauwwarm water door de voedingssonde. Herhaal dit zo nodig nog een keer. 3. Als het oplossen van de verstopping niet lukt, laat dan lauwwarm water 30 minuten inwerken en herhaal de bovenstaande procedure nogmaals. 4. Als u de verstopping kunt zien, kunt u proberen om de voedingssonde op die plek zachtjes te kneden. Als de verstopping dan loskomt, kunt u het doorspuiten met lauwwarm water. Belangrijk: Gebruik nooit een voerdraad of koolzuurhoudend bronwater of frisdranken, omdat dit kan leiden tot perforatie. Daarnaast wordt het afraden om natriumbicarbonaat te gebruiken als medicatie de oorzaak is van de verstopping, omdat dit de verstopping groter kan maken.\"\n",
    "        }}\n",
    "    ]\n",
    "}}\n",
    "\n",
    "\n",
    "        in het json formaat: \n",
    "        {format}\n",
    "\n",
    "Document Informatie:\n",
    "        {document}\n",
    "\n",
    "        Belangrijke Opmerking: Bij het genereren van vragen, gebruik specifieke termen en benamingen uit het document in plaats van algemene termen zoals 'dit onderzoek' of 'die procedure'. Verwijs direct naar de procedure of het document met de exacte naam om nauwkeurigheid en duidelijkheid in de vragen te waarborgen. Vermijd algemeenheden en zorg ervoor dat elke vraag direct gerelateerd is aan de verstrekte documentinformatie.\n",
    "\n",
    "\n",
    "        Stel {n} vragen die beantwoord kunnen worden op basis van deze paragraaf in het formaat:\n",
    "        {format}\n",
    "\n",
    "        Zorg ervoor dat elke vraag en antwoord paar in een geldig JSON-formaat is. Dit betekent dat vragen en antwoorden tussen dubbele aanhalingstekens moeten staan, en de algemene structuur moet overeenkomen met het vereiste JSON-schema.\n",
    "        '''\n",
    "\n",
    "roles = [\n",
    "    'Patiënt',\n",
    "    'Nieuwe Ouder',\n",
    "    'Oudere Patiënt',\n",
    "    'Persoon die een Tweede Mening Zoekt',\n",
    "    'Reiziger die Medisch Advies Na Reizen Zoekt',\n",
    "    'Zorgverlener die Informatie Zoekt']\n",
    "\n",
    "prompt_factory = PromptFactory(prompt=template,roles=roles)\n",
    "\n",
    "num_questions_per_doc = 5\n",
    "\n",
    "QAGenerator = QAGenerator()\n",
    "# Generate the data\n",
    "import pandas as pd\n",
    "from tqdm import tqdm\n",
    "\n",
    "\n",
    "def generateQuestions(df):\n",
    "    data = []\n",
    "    for index, row in tqdm(df.iterrows(), total=df.shape[0],desc=\"Generating QAs\"):\n",
    "        doc = row[\"Document\"]\n",
    "        # Do something with col1 and col2\n",
    "        try:\n",
    "            for i in range(2):\n",
    "                qa_list = QAGenerator.generate_qas(prompt_factory.generate_prompt(doc, num_questions_per_doc))\n",
    "                for qa in qa_list:\n",
    "                    new_row = row.to_dict()\n",
    "                    new_row['Question'] = qa.question\n",
    "                    new_row['Answer'] = qa.answer\n",
    "                    data.append(new_row)\n",
    "\n",
    "        except Exception as e:\n",
    "                print(f\"Failed to generate QA for doc: {doc[:100]}. Error: {e}\")\n",
    "                continue\n",
    "    if(len(data) == 0):\n",
    "       return pd.DataFrame()\n",
    "    result = pd.DataFrame(data)\n",
    "    result = result.dropna(subset=['Document', 'Question', 'Answer'])\n",
    "    result = result[(result['Document'] != '') & (result['Question'] != '') & (result['Answer'] != '')]\n",
    "    return result\n"
   ]
  },
  {
   "cell_type": "code",
   "execution_count": 5,
   "id": "8611a865-d4cd-4424-af52-f6554f672c60",
   "metadata": {},
   "outputs": [],
   "source": [
    "from fact_qa import FactQAGenerator\n",
    "from prompt_factory import PromptFactory\n",
    "import langchain\n",
    "\n",
    "template = '''\n",
    "Gedraag je als iemand die online informatie zoekt en stelt vragen gebaseerd op specifieke feiten zoals locatie, telefoonnummer, naam, enzovoort.\n",
    "\n",
    "Patiënten of gebruikers kunnen bijvoorbeeld vragen stellen als:\n",
    "{{\n",
    "    \"qa_list\": [\n",
    "        {{\n",
    "            \"question\": \"Wat is het telefoonnummer van de kliniek voor noodgevallen?\",\n",
    "            \"answer\": \"Het telefoonnummer van de kliniek voor noodgevallen is 012-345-6789.\"\n",
    "        }},\n",
    "        {{\n",
    "            \"question\": \"Waar is de hoofdingang van het ziekenhuis gelegen?\",\n",
    "            \"answer\": \"De hoofdingang van het ziekenhuis is gelegen aan de Eerste Gezondheidsstraat 123 in Amsterdam.\"\n",
    "        }}\n",
    "        // meer vragen en antwoorden gebaseerd op specifieke feiten\n",
    "    ]\n",
    "}}\n",
    "\n",
    "in het json formaat:\n",
    "{format}\n",
    "\n",
    "Document Informatie:\n",
    "{document}\n",
    "\n",
    "Belangrijke Opmerking: Bij het genereren van vragen, gebruik specifieke termen en benamingen uit het document in plaats van algemene termen. Verwijs direct naar de specifieke feit (zoals locatie, telefoonnummer, naam) om nauwkeurigheid en duidelijkheid in de vragen te waarborgen. Vermijd algemeenheden.\n",
    "\n",
    "Maak vragen die beantwoord kunnen worden met de volgende informatie: {fact}\n",
    "\n",
    "Stel {n} vragen die beantwoord kunnen worden op basis van deze paragraaf in het formaat:\n",
    "{format}\n",
    "\n",
    "Zorg ervoor dat elke vraag en antwoord paar in een geldig JSON-formaat is. Dit betekent dat vragen en antwoorden tussen dubbele aanhalingstekens moeten staan, en de algemene structuur moet overeenkomen met het vereiste JSON-schema.\n",
    "        '''\n",
    "\n",
    "base_prompt = langchain.PromptTemplate(\n",
    "            template=template,\n",
    "            input_variables=['fact', 'n', 'document', 'format']\n",
    "        )\n",
    "\n",
    "num_questions_per_doc = 5\n",
    "\n",
    "FactQAGenerator = FactQAGenerator()\n",
    "\n",
    "def generateFactQuestions(df):\n",
    "    data = []\n",
    "    # Generate the data\n",
    "    for index, row in tqdm(df.iterrows(), total=df.shape[0],desc=\"Generating Fact QAs\"):\n",
    "        doc = row['Document']\n",
    "        # Assuming phone numbers are separated by commas\n",
    "        facts = row['Context Entities']\n",
    "        try:\n",
    "            for i in range(2):\n",
    "                for entity in extract_desired_entities(facts)[:5]:\n",
    "                    fact = entity[\"value\"]\n",
    "                    prompt = base_prompt.partial(\n",
    "                        n=num_questions_per_doc,\n",
    "                        document=doc)\n",
    "                    try:\n",
    "                        qa_list = FactQAGenerator.generate_question_for_fact(prompt, fact)\n",
    "                        for qa in qa_list:\n",
    "                            new_row = row.to_dict()\n",
    "                            new_row['Question'] = qa.question\n",
    "                            new_row['Answer'] = qa.answer\n",
    "                            new_row['Fact'] = entity\n",
    "                            print(entity)\n",
    "                            data.append(new_row)\n",
    "                    except:\n",
    "                        pass\n",
    "        except Exception as e:\n",
    "                print(f\"Failed to generate QA for document: {doc[:20]}. Error: {e:20}\")\n",
    "\n",
    "    if(len(data) == 0):\n",
    "        return pd.DataFrame()\n",
    "\n",
    "    result = pd.DataFrame(data)\n",
    "    result = result.dropna(subset=['Document', 'Question', 'Answer'])\n",
    "    result = result[(result['Document'] != '') & (result['Question'] != '') & (result['Answer'] != '')]\n",
    "    return result"
   ]
  },
  {
   "cell_type": "code",
   "execution_count": 6,
   "id": "f787ac7a-c5c3-4860-b48d-f0e87a9de224",
   "metadata": {
    "tags": []
   },
   "outputs": [],
   "source": [
    "def update_df_with_lambda(df, column_name, lambda_function):\n",
    "     # Check if the column does not exist in the DataFrame, if not, initialize it with NA\n",
    "    if column_name not in df.columns:\n",
    "        df[column_name] = pd.NA\n",
    "    \n",
    "    # Apply the lambda function only to rows where the column value is NA\n",
    "    df[column_name] = df.apply(lambda row: lambda_function(row) if pd.isna(row[column_name]) else row[column_name], axis=1)\n",
    "    return df"
   ]
  },
  {
   "cell_type": "raw",
   "id": "365f0336-8610-444f-b5bc-bdb42e7008a2",
   "metadata": {},
   "source": [
    "## BLEU / ROUGE filters"
   ]
  },
  {
   "cell_type": "code",
   "execution_count": 7,
   "id": "e6db7c09-fdfa-4770-b3ea-a177fc63c273",
   "metadata": {},
   "outputs": [],
   "source": [
    "from answer_context_filter import calculate_bleu_score, calculate_rouge_score\n",
    "\n",
    "def calculate_scores(df):\n",
    "    # Calculate BLEU and ROUGE scores\n",
    "    #df['Question-Context BLEU'] = df.apply(lambda row: calculate_bleu_score(row['Document'], row['Question']), axis=1)\n",
    "    #df['Answer-Context BLEU'] = df.apply(lambda row: calculate_bleu_score(row['Document'], row['Answer']), axis=1)\n",
    "\n",
    "    #df['Question-Context ROUGE'] = df.apply(lambda row: calculate_rouge_score(row['Document'], row['Question']), axis=1)\n",
    "    #df['Answer-Context ROUGE'] = df.apply(lambda row: calculate_rouge_score(row['Document'], row['Answer']), axis=1)\n",
    "    #df['Question-Context ROUGE-L F1'] = df['Question-Context ROUGE'].apply(lambda x: x[0]['rouge-l']['f'] if x else None)\n",
    "    #df['Answer-Context ROUGE-L F1'] = df['Answer-Context ROUGE'].apply(lambda x: x[0]['rouge-l']['f'] if x else None)\n",
    "\n",
    "    df = update_df_with_lambda(\n",
    "        df, 'Question-Context ROUGE',\n",
    "        lambda row: calculate_rouge_score(row['Document'], row['Question']) if pd.isna(row.get('Question-Context ROUGE')) else row['Question-Context ROUGE']\n",
    "    )\n",
    "\n",
    "    # Update 'Answer-Context ROUGE' only if it is NA\n",
    "    df = update_df_with_lambda(\n",
    "        df, 'Answer-Context ROUGE',\n",
    "        lambda row: calculate_rouge_score(row['Document'], row['Answer']) if pd.isna(row.get('Answer-Context ROUGE')) else row['Answer-Context ROUGE']\n",
    "    )\n",
    "\n",
    "    # Update 'Question-Context ROUGE-L F1' based on the 'Question-Context ROUGE' column, only if it is NA\n",
    "    df = update_df_with_lambda(\n",
    "        df, 'Question-Context ROUGE-L F1',\n",
    "        lambda row: row['Question-Context ROUGE'][0]['rouge-l']['f'] if pd.isna(row.get('Question-Context ROUGE-L F1')) and row['Question-Context ROUGE'] else None\n",
    "    )\n",
    "\n",
    "    # Update 'Answer-Context ROUGE-L F1' based on the 'Answer-Context ROUGE' column, only if it is NA\n",
    "    df = update_df_with_lambda(\n",
    "        df, 'Answer-Context ROUGE-L F1',\n",
    "        lambda row: row['Answer-Context ROUGE'][0]['rouge-l']['f'] if pd.isna(row.get('Answer-Context ROUGE-L F1')) and row['Answer-Context ROUGE'] else None\n",
    "    )\n",
    "\n",
    "    return df\n",
    "\n",
    "\n",
    "def rougeFilter(df):\n",
    "    df = calculate_scores(df)\n",
    "    df = df[df['Answer-Context ROUGE-L F1'] > 0.1]\n",
    "    return df"
   ]
  },
  {
   "cell_type": "markdown",
   "id": "af8284b6-8f1d-43c6-91e1-d79f69073451",
   "metadata": {},
   "source": [
    "## Vector filter"
   ]
  },
  {
   "cell_type": "code",
   "execution_count": 8,
   "id": "fbfb8afa3294a5ef",
   "metadata": {
    "ExecuteTime": {
     "start_time": "2024-01-10T09:48:24.206241400Z"
    },
    "collapsed": false,
    "jupyter": {
     "outputs_hidden": false
    }
   },
   "outputs": [],
   "source": [
    "from vector_filter import precompute_embeddings\n",
    "from vector_filter import filter_dataframe\n",
    "\n",
    "def vectorFilter(df):\n",
    "    df[\"Embedding\"] = precompute_embeddings(df, 'Question')\n",
    "    df = filter_dataframe(df, threshold=0.9)\n",
    "    return df"
   ]
  },
  {
   "cell_type": "markdown",
   "id": "210b8cdc-7171-4260-aa69-0926bc2d3b88",
   "metadata": {},
   "source": [
    "## Entity Filter"
   ]
  },
  {
   "cell_type": "code",
   "execution_count": 9,
   "id": "4788d3ba-d231-4b99-8018-190fc9244f55",
   "metadata": {
    "tags": []
   },
   "outputs": [],
   "source": [
    "def contains_all_elements(list1, list2):\n",
    "    \"\"\"\n",
    "    Check if list1 contains all elements of list2.\n",
    "    Each element is a dictionary with 'entityType' and 'value' keys.\n",
    "    \"\"\"\n",
    "    # Convert each dictionary in the lists to a tuple (entityType, value) for easy comparison\n",
    "    #set1 = {tuple(d.items()) for d in list1}\n",
    "    #set2 = {tuple(d.items()) for d in list2}\n",
    "    set1 = {d['value'] for d in list1 if 'value' in d}\n",
    "    set2 = {d['value'] for d in list2 if 'value' in d}\n",
    "\n",
    "    # Check if every element in set2 is also in set1\n",
    "    return set2.issubset(set1)\n",
    "\n",
    "def check_entity_match(row):\n",
    "    return contains_all_elements(row['Context Entities'], row['Answer Entities'])\n",
    "\n",
    "# Apply the function to each row to create the new column\n"
   ]
  },
  {
   "cell_type": "code",
   "execution_count": null,
   "id": "5567524d-e435-450d-93d4-340797dce1d1",
   "metadata": {},
   "outputs": [],
   "source": []
  },
  {
   "cell_type": "code",
   "execution_count": 10,
   "id": "e0436e31-26ff-40e2-86a3-9023cf182195",
   "metadata": {},
   "outputs": [
    {
     "name": "stderr",
     "output_type": "stream",
     "text": [
      "/home/jovyan/.local/lib/python3.8/site-packages/torch/cuda/__init__.py:138: UserWarning: CUDA initialization: The NVIDIA driver on your system is too old (found version 11060). Please update your GPU driver by downloading and installing a new version from the URL: http://www.nvidia.com/Download/index.aspx Alternatively, go to: https://pytorch.org to install a PyTorch version that has been compiled with your version of the CUDA driver. (Triggered internally at ../c10/cuda/CUDAFunctions.cpp:108.)\n",
      "  return torch._C._cuda_getDeviceCount() > 0\n",
      "2024-01-18 14:20:21.527565: I tensorflow/core/platform/cpu_feature_guard.cc:193] This TensorFlow binary is optimized with oneAPI Deep Neural Network Library (oneDNN) to use the following CPU instructions in performance-critical operations:  AVX2 AVX512F AVX512_VNNI FMA\n",
      "To enable them in other operations, rebuild TensorFlow with the appropriate compiler flags.\n",
      "2024-01-18 14:20:21.656910: I tensorflow/core/util/port.cc:104] oneDNN custom operations are on. You may see slightly different numerical results due to floating-point round-off errors from different computation orders. To turn them off, set the environment variable `TF_ENABLE_ONEDNN_OPTS=0`.\n",
      "2024-01-18 14:20:22.378435: W tensorflow/compiler/xla/stream_executor/platform/default/dso_loader.cc:64] Could not load dynamic library 'libnvinfer.so.7'; dlerror: libnvinfer.so.7: cannot open shared object file: No such file or directory; LD_LIBRARY_PATH: /usr/local/lib:/usr/local/nvidia/lib:/usr/local/nvidia/lib64\n",
      "2024-01-18 14:20:22.378512: W tensorflow/compiler/xla/stream_executor/platform/default/dso_loader.cc:64] Could not load dynamic library 'libnvinfer_plugin.so.7'; dlerror: libnvinfer_plugin.so.7: cannot open shared object file: No such file or directory; LD_LIBRARY_PATH: /usr/local/lib:/usr/local/nvidia/lib:/usr/local/nvidia/lib64\n",
      "2024-01-18 14:20:22.378516: W tensorflow/compiler/tf2tensorrt/utils/py_utils.cc:38] TF-TRT Warning: Cannot dlopen some TensorRT libraries. If you would like to use Nvidia GPU with TensorRT, please make sure the missing libraries mentioned above are installed properly.\n"
     ]
    },
    {
     "name": "stdout",
     "output_type": "stream",
     "text": [
      "2024-01-18 14:20:37,966 SequenceTagger predicts: Dictionary with 20 tags: <unk>, O, S-ORG, S-MISC, B-PER, E-PER, S-PER, S-LOC, B-MISC, E-MISC, B-ORG, E-ORG, I-ORG, I-PER, B-LOC, I-LOC, E-LOC, I-MISC, <START>, <STOP>\n"
     ]
    }
   ],
   "source": [
    "from extract import extract_all_entities\n",
    "\n",
    "def extractEntities(df):\n",
    "    df['Context Entities'] = df['Document'].apply(extract_all_entities)\n",
    "    df['Question Entities'] = df['Question'].apply(extract_all_entities)\n",
    "    df['Answer Entities'] = df['Answer'].apply(extract_all_entities)\n",
    "    df['Entity Match'] = df.apply(check_entity_match, axis=1)\n",
    "    \"\"\"  \n",
    "    df = update_df_with_lambda(df, 'Context Entities', \n",
    "                               lambda row: extract_all_entities(row['Document']) \n",
    "                                if row.get('Context Entities') is None else row['Context Entities'])\n",
    "\n",
    "    # Update or create 'Question Entities' column by applying entity extraction function if the value is NA\n",
    "    df = update_df_with_lambda(df, 'Question Entities', \n",
    "                               lambda row: extract_all_entities(row['Question']) \n",
    "                               if row.get('Question Entities')is None else row['Question Entities'])\n",
    "\n",
    "    # Update or create 'Answer Entities' column by applying entity extraction function if the value is NA\n",
    "    df = update_df_with_lambda(df, 'Answer Entities', \n",
    "                               lambda row: extract_all_entities(row['Answer']) \n",
    "                               if row.get('Answer Entities') is None else row['Answer Entities'])\n",
    "\n",
    "    # Update or create 'Entity Match' column by applying the check entity match function if the value is NA\n",
    "    df = update_df_with_lambda(df, 'Entity Match', \n",
    "                               lambda row: check_entity_match(row) \n",
    "                               if row.get('Entity Match') is None else row['Entity Match'])\n",
    "    \"\"\"\n",
    "    return df\n",
    "\n"
   ]
  },
  {
   "cell_type": "code",
   "execution_count": 11,
   "id": "a5897d99-c51d-45be-b21a-59a73df0d788",
   "metadata": {},
   "outputs": [],
   "source": [
    "def contains_desired_entity(entities_list):\n",
    "    desired_types = {'Phone', 'Email'}\n",
    "    return any(entity['entityType'] in desired_types for entity in entities_list)\n",
    "\n",
    "\n",
    "def filterFactQuestions(df):\n",
    "    df = extractEntities(df)\n",
    "    return df[~((df['Question'].str.split().str.len() < 30) & df['Answer Entities'].apply(contains_desired_entity))]\n",
    "\n",
    "def extract_desired_entities(entities_list):\n",
    "    # Define the desired entity types\n",
    "    desired_types = {'Phone', 'Email'}\n",
    "    \n",
    "    # Extract entities that match the desired types\n",
    "    matching_entities = [entity for entity in entities_list if entity['entityType'] in desired_types]\n",
    "    \n",
    "    return matching_entities"
   ]
  },
  {
   "cell_type": "code",
   "execution_count": 12,
   "id": "dcbbf2e3-a53d-4446-9831-a05d29bd72fd",
   "metadata": {},
   "outputs": [],
   "source": [
    "def filterFactQuestionCorrectness(df):\n",
    "    df['Answer Entities'] = df['Answer'].apply(extract_all_entities)\n",
    "    # Apply a filter condition to each row\n",
    "    #filtered_df = df[df.apply(lambda row: row[\"Fact\"] in row[\"Answer Entities\"], axis=1)]\n",
    "    filtered_df = df[df.apply(lambda row: any( row[\"Fact\"]['value'] == entity['value'] for entity in row[\"Answer Entities\"]) if isinstance(row[\"Answer Entities\"], list) else False, axis=1)]\n",
    "    return filtered_df"
   ]
  },
  {
   "cell_type": "markdown",
   "id": "63ae6feb2d769778",
   "metadata": {},
   "source": [
    "#### LLM Scoring"
   ]
  },
  {
   "cell_type": "code",
   "execution_count": 13,
   "id": "650847dd9a2eebd5",
   "metadata": {
    "ExecuteTime": {
     "start_time": "2024-01-10T09:48:24.212470700Z"
    },
    "collapsed": false,
    "jupyter": {
     "outputs_hidden": false
    }
   },
   "outputs": [],
   "source": [
    "from llm_filter import estimate_relevance\n",
    "\n",
    "def llmScore(df):\n",
    "    return update_df_with_lambda(df, 'LLM Score', lambda row: estimate_relevance(row['Question'], row['Document']))"
   ]
  },
  {
   "cell_type": "markdown",
   "id": "70453e90-de9d-4b6a-be9a-36eb52b53927",
   "metadata": {},
   "source": [
    "# Run"
   ]
  },
  {
   "cell_type": "code",
   "execution_count": 14,
   "id": "39fdd0e5-bed1-45e1-9317-970eff776385",
   "metadata": {},
   "outputs": [
    {
     "name": "stderr",
     "output_type": "stream",
     "text": [
      "Processing:   0%|          | 0/5 [00:00<?, ?it/s]\n",
      "Generating QAs:   0%|          | 0/200 [00:00<?, ?it/s]\u001b[A\n",
      "Generating QAs:   0%|          | 1/200 [00:13<45:55, 13.85s/it]\u001b[A\n",
      "Generating QAs:   1%|          | 2/200 [00:27<44:32, 13.50s/it]\u001b[A\n",
      "Generating QAs:   2%|▏         | 3/200 [00:39<42:37, 12.98s/it]\u001b[A\n",
      "Generating QAs:   2%|▏         | 4/200 [00:49<38:07, 11.67s/it]\u001b[A\n",
      "Generating QAs:   2%|▎         | 5/200 [00:57<33:50, 10.41s/it]\u001b[A\n",
      "Generating QAs:   3%|▎         | 6/200 [01:08<34:48, 10.76s/it]\u001b[A\n",
      "Generating QAs:   4%|▎         | 7/200 [01:17<32:46, 10.19s/it]\u001b[A"
     ]
    },
    {
     "name": "stdout",
     "output_type": "stream",
     "text": [
      "Failed to generate QA for doc: 31.0: Acupunctuur  (Nocepta): Nacontrole: In overleg met u wordt een afspraak voor de volgende behan. Error: 'list' object has no attribute 'qa_list'\n"
     ]
    },
    {
     "name": "stderr",
     "output_type": "stream",
     "text": [
      "\n",
      "Generating QAs:   4%|▍         | 8/200 [01:31<35:43, 11.17s/it]\u001b[A\n",
      "Generating QAs:   4%|▍         | 9/200 [01:55<48:28, 15.23s/it]\u001b[A\n",
      "Generating QAs:   5%|▌         | 10/200 [02:16<53:52, 17.01s/it]\u001b[A\n",
      "Generating QAs:   6%|▌         | 11/200 [02:29<49:55, 15.85s/it]\u001b[A\n",
      "Generating QAs:   6%|▌         | 12/200 [02:48<53:13, 16.99s/it]\u001b[A\n",
      "Generating QAs:   6%|▋         | 13/200 [02:58<45:25, 14.57s/it]\u001b[A\n",
      "Generating QAs:   7%|▋         | 14/200 [03:19<51:52, 16.74s/it]\u001b[A\n",
      "Generating QAs:   8%|▊         | 15/200 [03:36<51:49, 16.81s/it]\u001b[A\n",
      "Generating QAs:   8%|▊         | 16/200 [03:57<55:38, 18.14s/it]\u001b[A\n",
      "Generating QAs:   8%|▊         | 17/200 [04:12<52:00, 17.05s/it]\u001b[A\n",
      "Generating QAs:   9%|▉         | 18/200 [04:26<48:59, 16.15s/it]\u001b[A\n",
      "Generating QAs:  10%|▉         | 19/200 [04:39<45:52, 15.21s/it]\u001b[A\n",
      "Generating QAs:  10%|█         | 20/200 [04:50<41:58, 13.99s/it]\u001b[A\n",
      "Generating QAs:  10%|█         | 21/200 [04:59<37:27, 12.56s/it]\u001b[A\n",
      "Generating QAs:  11%|█         | 22/200 [05:11<36:15, 12.22s/it]\u001b[A\n",
      "Generating QAs:  12%|█▏        | 23/200 [05:28<40:31, 13.74s/it]\u001b[A\n",
      "Generating QAs:  12%|█▏        | 24/200 [05:40<38:25, 13.10s/it]\u001b[A\n",
      "Generating QAs:  12%|█▎        | 25/200 [05:49<34:35, 11.86s/it]\u001b[A\n",
      "Generating QAs:  13%|█▎        | 26/200 [06:01<35:05, 12.10s/it]\u001b[A\n",
      "Generating QAs:  14%|█▎        | 27/200 [06:17<38:19, 13.29s/it]\u001b[A\n",
      "Generating QAs:  14%|█▍        | 28/200 [06:37<43:42, 15.25s/it]\u001b[A\n",
      "Generating QAs:  14%|█▍        | 29/200 [07:01<50:24, 17.69s/it]\u001b[A\n",
      "Generating QAs:  15%|█▌        | 30/200 [07:25<55:38, 19.64s/it]\u001b[A\n",
      "Generating QAs:  16%|█▌        | 31/200 [07:45<55:39, 19.76s/it]\u001b[A"
     ]
    },
    {
     "name": "stdout",
     "output_type": "stream",
     "text": [
      "Failed to generate QA for doc: 0.0: Cystolithotripsie: Wanneer neemt u contact op?: U neemt contact op bij: \n",
      "- Koorts hoger dan 38,. Error: 'list' object has no attribute 'qa_list'\n"
     ]
    },
    {
     "name": "stderr",
     "output_type": "stream",
     "text": [
      "\n",
      "Generating QAs:  16%|█▌        | 32/200 [07:56<48:10, 17.20s/it]\u001b[A\n",
      "Generating QAs:  16%|█▋        | 33/200 [08:18<51:41, 18.57s/it]\u001b[A\n",
      "Generating QAs:  17%|█▋        | 34/200 [08:35<50:02, 18.09s/it]\u001b[A\n",
      "Generating QAs:  18%|█▊        | 35/200 [08:50<47:01, 17.10s/it]\u001b[A\n",
      "Generating QAs:  18%|█▊        | 36/200 [09:11<50:37, 18.52s/it]\u001b[A\n",
      "Generating QAs:  18%|█▊        | 37/200 [09:24<45:45, 16.85s/it]\u001b[A\n",
      "Generating QAs:  19%|█▉        | 38/200 [09:33<38:37, 14.31s/it]\u001b[A\n",
      "Generating QAs:  20%|█▉        | 39/200 [09:56<45:19, 16.89s/it]\u001b[A\n",
      "Generating QAs:  20%|██        | 40/200 [10:09<42:32, 15.95s/it]\u001b[A\n",
      "Generating QAs:  20%|██        | 41/200 [10:25<41:48, 15.78s/it]\u001b[A\n",
      "Generating QAs:  21%|██        | 42/200 [10:43<43:03, 16.35s/it]\u001b[A\n",
      "Generating QAs:  22%|██▏       | 43/200 [10:53<38:18, 14.64s/it]\u001b[A\n",
      "Generating QAs:  22%|██▏       | 44/200 [11:13<41:49, 16.09s/it]\u001b[A\n",
      "Generating QAs:  22%|██▎       | 45/200 [11:33<44:45, 17.33s/it]\u001b[A"
     ]
    },
    {
     "name": "stdout",
     "output_type": "stream",
     "text": [
      "Failed to generate QA for doc: 0.0: Polikliniek kindergeneeskunde: Bereikbaarheid van de polikliniek: De polikliniek kindergeneesku. Error: 'list' object has no attribute 'qa_list'\n"
     ]
    },
    {
     "name": "stderr",
     "output_type": "stream",
     "text": [
      "\n",
      "Generating QAs:  23%|██▎       | 46/200 [11:45<40:48, 15.90s/it]\u001b[A\n",
      "Generating QAs:  24%|██▎       | 47/200 [12:02<40:44, 15.97s/it]\u001b[A\n",
      "Generating QAs:  24%|██▍       | 48/200 [12:11<35:26, 13.99s/it]\u001b[A\n",
      "Generating QAs:  24%|██▍       | 49/200 [12:29<38:35, 15.33s/it]\u001b[A\n",
      "Generating QAs:  25%|██▌       | 50/200 [12:45<38:28, 15.39s/it]\u001b[A\n",
      "Generating QAs:  26%|██▌       | 51/200 [12:59<37:10, 14.97s/it]\u001b[A\n",
      "Generating QAs:  26%|██▌       | 52/200 [13:10<34:14, 13.88s/it]\u001b[A\n",
      "Generating QAs:  26%|██▋       | 53/200 [13:22<32:10, 13.13s/it]\u001b[A\n",
      "Generating QAs:  27%|██▋       | 54/200 [13:31<29:03, 11.94s/it]\u001b[A\n",
      "Generating QAs:  28%|██▊       | 55/200 [13:39<26:21, 10.91s/it]\u001b[A\n",
      "Generating QAs:  28%|██▊       | 56/200 [13:48<24:52, 10.37s/it]\u001b[A\n",
      "Generating QAs:  28%|██▊       | 57/200 [14:03<27:50, 11.68s/it]\u001b[A\n",
      "Generating QAs:  29%|██▉       | 58/200 [14:13<26:35, 11.23s/it]\u001b[A\n",
      "Generating QAs:  30%|██▉       | 59/200 [14:24<26:18, 11.20s/it]\u001b[A\n",
      "Generating QAs:  30%|███       | 60/200 [14:38<27:47, 11.91s/it]\u001b[A\n",
      "Generating QAs:  30%|███       | 61/200 [15:01<35:30, 15.33s/it]\u001b[A\n",
      "Generating QAs:  31%|███       | 62/200 [15:11<31:29, 13.69s/it]\u001b[A\n",
      "Generating QAs:  32%|███▏      | 63/200 [15:32<36:09, 15.84s/it]\u001b[A\n",
      "Generating QAs:  32%|███▏      | 64/200 [15:47<34:59, 15.44s/it]\u001b[A\n",
      "Generating QAs:  32%|███▎      | 65/200 [16:08<39:05, 17.37s/it]\u001b[A\n",
      "Generating QAs:  33%|███▎      | 66/200 [16:19<34:26, 15.42s/it]\u001b[A\n",
      "Generating QAs:  34%|███▎      | 67/200 [16:32<32:08, 14.50s/it]\u001b[A\n",
      "Generating QAs:  34%|███▍      | 68/200 [16:45<30:57, 14.07s/it]\u001b[A\n",
      "Generating QAs:  34%|███▍      | 69/200 [16:55<28:16, 12.95s/it]\u001b[A\n",
      "Generating QAs:  35%|███▌      | 70/200 [17:05<26:13, 12.10s/it]\u001b[A\n",
      "Generating QAs:  36%|███▌      | 71/200 [17:28<32:38, 15.18s/it]\u001b[A\n",
      "Generating QAs:  36%|███▌      | 72/200 [17:42<32:04, 15.03s/it]\u001b[A\n",
      "Generating QAs:  36%|███▋      | 73/200 [17:53<28:49, 13.62s/it]\u001b[A\n",
      "Generating QAs:  37%|███▋      | 74/200 [18:00<24:52, 11.85s/it]\u001b[A\n",
      "Generating QAs:  38%|███▊      | 75/200 [18:11<24:06, 11.57s/it]\u001b[A\n",
      "Generating QAs:  38%|███▊      | 76/200 [18:21<22:56, 11.10s/it]\u001b[A\n",
      "Generating QAs:  38%|███▊      | 77/200 [18:30<21:33, 10.51s/it]\u001b[A\n",
      "Generating QAs:  39%|███▉      | 78/200 [18:48<25:42, 12.64s/it]\u001b[A\n",
      "Generating QAs:  40%|███▉      | 79/200 [19:08<30:11, 14.97s/it]\u001b[A\n",
      "Generating QAs:  40%|████      | 80/200 [19:36<37:28, 18.74s/it]\u001b[A\n",
      "Generating QAs:  40%|████      | 81/200 [19:47<32:25, 16.35s/it]\u001b[A\n",
      "Generating QAs:  41%|████      | 82/200 [20:09<35:34, 18.09s/it]\u001b[A\n",
      "Generating QAs:  42%|████▏     | 83/200 [20:22<32:20, 16.59s/it]\u001b[A\n",
      "Generating QAs:  42%|████▏     | 84/200 [20:40<33:04, 17.11s/it]\u001b[A\n",
      "Generating QAs:  42%|████▎     | 85/200 [20:53<30:06, 15.71s/it]\u001b[A\n",
      "Generating QAs:  43%|████▎     | 86/200 [21:05<27:54, 14.69s/it]\u001b[A\n",
      "Generating QAs:  44%|████▎     | 87/200 [21:24<30:15, 16.07s/it]\u001b[A\n",
      "Generating QAs:  44%|████▍     | 88/200 [21:40<29:38, 15.88s/it]\u001b[A\n",
      "Generating QAs:  44%|████▍     | 89/200 [21:50<26:12, 14.17s/it]\u001b[A\n",
      "Generating QAs:  45%|████▌     | 90/200 [22:02<24:42, 13.48s/it]\u001b[A\n",
      "Generating QAs:  46%|████▌     | 91/200 [22:14<23:35, 12.99s/it]\u001b[A\n",
      "Generating QAs:  46%|████▌     | 92/200 [22:27<23:23, 12.99s/it]\u001b[A\n",
      "Generating QAs:  46%|████▋     | 93/200 [22:36<21:05, 11.83s/it]\u001b[A\n",
      "Generating QAs:  47%|████▋     | 94/200 [22:46<19:54, 11.27s/it]\u001b[A\n",
      "Generating QAs:  48%|████▊     | 95/200 [22:55<18:27, 10.55s/it]\u001b[A\n",
      "Generating QAs:  48%|████▊     | 96/200 [23:13<22:28, 12.96s/it]\u001b[A\n",
      "Generating QAs:  48%|████▊     | 97/200 [23:29<23:53, 13.92s/it]\u001b[A\n",
      "Generating QAs:  49%|████▉     | 98/200 [23:47<25:41, 15.11s/it]\u001b[A\n",
      "Generating QAs:  50%|████▉     | 99/200 [24:02<25:26, 15.11s/it]\u001b[A\n",
      "Generating QAs:  50%|█████     | 100/200 [24:31<31:50, 19.10s/it]\u001b[A\n",
      "Generating QAs:  50%|█████     | 101/200 [24:58<35:24, 21.46s/it]\u001b[A\n",
      "Generating QAs:  51%|█████     | 102/200 [25:09<30:00, 18.38s/it]\u001b[A\n",
      "Generating QAs:  52%|█████▏    | 103/200 [25:35<33:41, 20.84s/it]\u001b[A\n",
      "Generating QAs:  52%|█████▏    | 104/200 [25:53<31:56, 19.96s/it]\u001b[A\n",
      "Generating QAs:  52%|█████▎    | 105/200 [26:06<27:56, 17.64s/it]\u001b[A\n",
      "Generating QAs:  53%|█████▎    | 106/200 [26:18<25:21, 16.18s/it]\u001b[A\n",
      "Generating QAs:  54%|█████▎    | 107/200 [26:36<25:41, 16.57s/it]\u001b[A\n",
      "Generating QAs:  54%|█████▍    | 108/200 [26:51<24:58, 16.29s/it]\u001b[A\n",
      "Generating QAs:  55%|█████▍    | 109/200 [27:06<23:50, 15.72s/it]\u001b[A\n",
      "Generating QAs:  55%|█████▌    | 110/200 [27:23<24:05, 16.06s/it]\u001b[A\n",
      "Generating QAs:  56%|█████▌    | 111/200 [27:38<23:23, 15.77s/it]\u001b[A\n",
      "Generating QAs:  56%|█████▌    | 112/200 [27:57<24:28, 16.69s/it]\u001b[A\n",
      "Generating QAs:  56%|█████▋    | 113/200 [28:18<26:09, 18.04s/it]\u001b[A\n",
      "Generating QAs:  57%|█████▋    | 114/200 [28:45<29:40, 20.70s/it]\u001b[A\n",
      "Generating QAs:  57%|█████▊    | 115/200 [29:06<29:33, 20.86s/it]\u001b[A\n",
      "Generating QAs:  58%|█████▊    | 116/200 [29:17<25:09, 17.96s/it]\u001b[A\n",
      "Generating QAs:  58%|█████▊    | 117/200 [29:30<22:47, 16.47s/it]\u001b[A\n",
      "Generating QAs:  59%|█████▉    | 118/200 [29:40<19:46, 14.47s/it]\u001b[A"
     ]
    },
    {
     "name": "stdout",
     "output_type": "stream",
     "text": [
      "Failed to generate QA for doc: 4.0: Fistulografie: 23: Foto’s van fistelgang (Fistulografie) Uw behandelend specialist heeft u voor. Error: 'list' object has no attribute 'qa_list'\n"
     ]
    },
    {
     "name": "stderr",
     "output_type": "stream",
     "text": [
      "\n",
      "Generating QAs:  60%|█████▉    | 119/200 [29:52<18:44, 13.88s/it]\u001b[A\n",
      "Generating QAs:  60%|██████    | 120/200 [30:02<16:45, 12.56s/it]\u001b[A\n",
      "Generating QAs:  60%|██████    | 121/200 [30:13<15:48, 12.01s/it]\u001b[A\n",
      "Generating QAs:  61%|██████    | 122/200 [30:21<14:10, 10.91s/it]\u001b[A\n",
      "Generating QAs:  62%|██████▏   | 123/200 [30:34<14:57, 11.65s/it]\u001b[A\n",
      "Generating QAs:  62%|██████▏   | 124/200 [30:46<14:37, 11.54s/it]\u001b[A\n",
      "Generating QAs:  62%|██████▎   | 125/200 [30:54<13:23, 10.72s/it]\u001b[A\n",
      "Generating QAs:  63%|██████▎   | 126/200 [31:25<20:39, 16.76s/it]\u001b[A\n",
      "Generating QAs:  64%|██████▎   | 127/200 [31:26<14:21, 11.81s/it]\u001b[A"
     ]
    },
    {
     "name": "stdout",
     "output_type": "stream",
     "text": [
      "Failed to generate QA for doc: 7.0: Operatief verwijderen van de baarmoeder: Gevolgen van een baarmoederverwijdering: - Geen menstr. Error: Error code: 400 - {'error': {'message': \"This model's maximum context length is 4097 tokens, however you requested 4133 tokens (2085 in your prompt; 2048 for the completion). Please reduce your prompt; or completion length.\", 'type': 'invalid_request_error', 'param': None, 'code': None}}\n"
     ]
    },
    {
     "name": "stderr",
     "output_type": "stream",
     "text": [
      "\n",
      "Generating QAs:  64%|██████▍   | 128/200 [31:46<17:18, 14.42s/it]\u001b[A\n",
      "Generating QAs:  64%|██████▍   | 129/200 [32:01<17:07, 14.47s/it]\u001b[A\n",
      "Generating QAs:  65%|██████▌   | 130/200 [32:30<22:03, 18.91s/it]\u001b[A\n",
      "Generating QAs:  66%|██████▌   | 131/200 [32:40<18:31, 16.10s/it]\u001b[A\n",
      "Generating QAs:  66%|██████▌   | 132/200 [32:56<18:25, 16.25s/it]\u001b[A\n",
      "Generating QAs:  66%|██████▋   | 133/200 [33:07<16:26, 14.72s/it]\u001b[A\n",
      "Generating QAs:  67%|██████▋   | 134/200 [33:20<15:35, 14.18s/it]\u001b[A\n",
      "Generating QAs:  68%|██████▊   | 135/200 [33:28<13:23, 12.36s/it]\u001b[A\n",
      "Generating QAs:  68%|██████▊   | 136/200 [33:37<12:08, 11.39s/it]\u001b[A\n",
      "Generating QAs:  68%|██████▊   | 137/200 [33:47<11:21, 10.81s/it]\u001b[A\n",
      "Generating QAs:  69%|██████▉   | 138/200 [34:01<12:06, 11.72s/it]\u001b[A\n",
      "Generating QAs:  70%|██████▉   | 139/200 [34:11<11:37, 11.43s/it]\u001b[A\n",
      "Generating QAs:  70%|███████   | 140/200 [34:24<11:51, 11.86s/it]\u001b[A\n",
      "Generating QAs:  70%|███████   | 141/200 [34:49<15:24, 15.67s/it]\u001b[A\n",
      "Generating QAs:  71%|███████   | 142/200 [35:09<16:25, 16.99s/it]\u001b[A\n",
      "Generating QAs:  72%|███████▏  | 143/200 [35:27<16:32, 17.41s/it]\u001b[A\n",
      "Generating QAs:  72%|███████▏  | 144/200 [35:39<14:42, 15.76s/it]\u001b[A\n",
      "Generating QAs:  72%|███████▎  | 145/200 [35:54<14:05, 15.37s/it]\u001b[A\n",
      "Generating QAs:  73%|███████▎  | 146/200 [36:09<13:53, 15.44s/it]\u001b[A\n",
      "Generating QAs:  74%|███████▎  | 147/200 [36:23<13:11, 14.93s/it]\u001b[A\n",
      "Generating QAs:  74%|███████▍  | 148/200 [36:44<14:32, 16.78s/it]\u001b[A\n",
      "Generating QAs:  74%|███████▍  | 149/200 [36:56<12:54, 15.19s/it]\u001b[A\n",
      "Generating QAs:  75%|███████▌  | 150/200 [37:09<12:18, 14.77s/it]\u001b[A\n",
      "Generating QAs:  76%|███████▌  | 151/200 [37:22<11:25, 13.99s/it]\u001b[A\n",
      "Generating QAs:  76%|███████▌  | 152/200 [37:36<11:20, 14.18s/it]\u001b[A\n",
      "Generating QAs:  76%|███████▋  | 153/200 [37:51<11:15, 14.38s/it]\u001b[A\n",
      "Generating QAs:  77%|███████▋  | 154/200 [38:00<09:40, 12.62s/it]\u001b[A\n",
      "Generating QAs:  78%|███████▊  | 155/200 [38:08<08:33, 11.41s/it]\u001b[A\n",
      "Generating QAs:  78%|███████▊  | 156/200 [38:19<08:17, 11.31s/it]\u001b[A\n",
      "Generating QAs:  78%|███████▊  | 157/200 [38:34<08:44, 12.21s/it]\u001b[A\n",
      "Generating QAs:  79%|███████▉  | 158/200 [38:45<08:27, 12.08s/it]\u001b[A\n",
      "Generating QAs:  80%|███████▉  | 159/200 [39:04<09:32, 13.95s/it]\u001b[A\n",
      "Generating QAs:  80%|████████  | 160/200 [39:32<12:09, 18.23s/it]\u001b[A\n",
      "Generating QAs:  80%|████████  | 161/200 [39:48<11:28, 17.65s/it]\u001b[A\n",
      "Generating QAs:  81%|████████  | 162/200 [40:12<12:25, 19.61s/it]\u001b[A\n",
      "Generating QAs:  82%|████████▏ | 163/200 [40:27<11:07, 18.05s/it]\u001b[A\n",
      "Generating QAs:  82%|████████▏ | 164/200 [40:49<11:34, 19.28s/it]\u001b[A\n",
      "Generating QAs:  82%|████████▎ | 165/200 [41:02<10:13, 17.54s/it]\u001b[A\n",
      "Generating QAs:  83%|████████▎ | 166/200 [41:19<09:46, 17.24s/it]\u001b[A\n",
      "Generating QAs:  84%|████████▎ | 167/200 [41:32<08:51, 16.11s/it]\u001b[A\n",
      "Generating QAs:  84%|████████▍ | 168/200 [41:47<08:22, 15.70s/it]\u001b[A\n",
      "Generating QAs:  84%|████████▍ | 169/200 [41:57<07:12, 13.96s/it]\u001b[A\n",
      "Generating QAs:  85%|████████▌ | 170/200 [42:11<06:58, 13.96s/it]\u001b[A\n",
      "Generating QAs:  86%|████████▌ | 171/200 [42:26<06:50, 14.16s/it]\u001b[A\n",
      "Generating QAs:  86%|████████▌ | 172/200 [43:05<10:07, 21.70s/it]\u001b[A\n",
      "Generating QAs:  86%|████████▋ | 173/200 [43:19<08:47, 19.53s/it]\u001b[A\n",
      "Generating QAs:  87%|████████▋ | 174/200 [43:44<09:05, 20.99s/it]\u001b[A\n",
      "Generating QAs:  88%|████████▊ | 175/200 [44:13<09:45, 23.44s/it]\u001b[A\n",
      "Generating QAs:  88%|████████▊ | 176/200 [44:32<08:49, 22.06s/it]\u001b[A\n",
      "Generating QAs:  88%|████████▊ | 177/200 [44:49<07:51, 20.49s/it]\u001b[A\n",
      "Generating QAs:  89%|████████▉ | 178/200 [45:02<06:44, 18.38s/it]\u001b[A\n",
      "Generating QAs:  90%|████████▉ | 179/200 [45:16<05:59, 17.10s/it]\u001b[A\n",
      "Generating QAs:  90%|█████████ | 180/200 [45:29<05:17, 15.87s/it]\u001b[A\n",
      "Generating QAs:  90%|█████████ | 181/200 [45:41<04:38, 14.65s/it]\u001b[A\n",
      "Generating QAs:  91%|█████████ | 182/200 [45:53<04:10, 13.89s/it]\u001b[A\n",
      "Generating QAs:  92%|█████████▏| 183/200 [46:03<03:34, 12.62s/it]\u001b[A\n",
      "Generating QAs:  92%|█████████▏| 184/200 [46:12<03:06, 11.68s/it]\u001b[A"
     ]
    },
    {
     "name": "stdout",
     "output_type": "stream",
     "text": [
      "Failed to generate QA for doc: 48.0: RS-virus: Tot slot: Deze folder betreft een algemene voorlichting en is bedoeld als extra info. Error: 'list' object has no attribute 'qa_list'\n"
     ]
    },
    {
     "name": "stderr",
     "output_type": "stream",
     "text": [
      "\n",
      "Generating QAs:  92%|█████████▎| 185/200 [46:23<02:51, 11.41s/it]\u001b[A\n",
      "Generating QAs:  93%|█████████▎| 186/200 [46:57<04:15, 18.23s/it]\u001b[A\n",
      "Generating QAs:  94%|█████████▎| 187/200 [47:09<03:32, 16.33s/it]\u001b[A\n",
      "Generating QAs:  94%|█████████▍| 188/200 [47:28<03:25, 17.11s/it]\u001b[A\n",
      "Generating QAs:  94%|█████████▍| 189/200 [47:41<02:53, 15.77s/it]\u001b[A\n",
      "Generating QAs:  95%|█████████▌| 190/200 [48:03<02:58, 17.81s/it]\u001b[A\n",
      "Generating QAs:  96%|█████████▌| 191/200 [48:23<02:45, 18.34s/it]\u001b[A\n",
      "Generating QAs:  96%|█████████▌| 192/200 [48:41<02:25, 18.24s/it]\u001b[A\n",
      "Generating QAs:  96%|█████████▋| 193/200 [49:00<02:10, 18.67s/it]\u001b[A\n",
      "Generating QAs:  97%|█████████▋| 194/200 [49:15<01:44, 17.45s/it]\u001b[A\n",
      "Generating QAs:  98%|█████████▊| 195/200 [49:31<01:25, 17.12s/it]\u001b[A\n",
      "Generating QAs:  98%|█████████▊| 196/200 [49:44<01:02, 15.66s/it]\u001b[A\n",
      "Generating QAs:  98%|█████████▊| 197/200 [49:52<00:40, 13.41s/it]\u001b[A\n",
      "Generating QAs:  99%|█████████▉| 198/200 [50:07<00:27, 13.85s/it]\u001b[A\n",
      "Generating QAs: 100%|█████████▉| 199/200 [50:15<00:12, 12.18s/it]\u001b[A\n",
      "Generating QAs: 100%|██████████| 200/200 [50:35<00:00, 15.18s/it]\u001b[A\n",
      "Processing:  20%|██        | 1/5 [1:11:00<4:44:02, 4260.56s/it]\n",
      "Generating QAs:   0%|          | 0/22 [00:00<?, ?it/s]\u001b[A\n",
      "Generating QAs:   5%|▍         | 1/22 [00:24<08:32, 24.43s/it]\u001b[A\n",
      "Generating QAs:   9%|▉         | 2/22 [00:38<06:00, 18.04s/it]\u001b[A\n",
      "Generating QAs:  14%|█▎        | 3/22 [00:55<05:35, 17.63s/it]\u001b[A"
     ]
    },
    {
     "name": "stdout",
     "output_type": "stream",
     "text": [
      "Failed to generate QA for doc: 0.0: Cystolithotripsie: Wanneer neemt u contact op?: U neemt contact op bij: \n",
      "- Koorts hoger dan 38,. Error: 'list' object has no attribute 'qa_list'\n"
     ]
    },
    {
     "name": "stderr",
     "output_type": "stream",
     "text": [
      "\n",
      "Generating QAs:  23%|██▎       | 5/22 [01:26<04:28, 15.82s/it]\u001b[A\n",
      "Generating QAs:  27%|██▋       | 6/22 [01:44<04:26, 16.65s/it]\u001b[A\n",
      "Generating QAs:  32%|███▏      | 7/22 [01:56<03:46, 15.11s/it]\u001b[A\n",
      "Generating QAs:  36%|███▋      | 8/22 [02:12<03:34, 15.31s/it]\u001b[A\n",
      "Generating QAs:  41%|████      | 9/22 [02:26<03:13, 14.89s/it]\u001b[A\n",
      "Generating QAs:  45%|████▌     | 10/22 [02:38<02:49, 14.13s/it]\u001b[A\n",
      "Generating QAs:  50%|█████     | 11/22 [02:48<02:22, 12.94s/it]\u001b[A\n",
      "Generating QAs:  55%|█████▍    | 12/22 [02:58<01:58, 11.87s/it]\u001b[A\n",
      "Generating QAs:  59%|█████▉    | 13/22 [03:13<01:55, 12.83s/it]\u001b[A"
     ]
    },
    {
     "name": "stdout",
     "output_type": "stream",
     "text": [
      "Failed to generate QA for doc: 0.0: CT urografie: Vragen: Mocht u na het lezen van deze informatie nog vragen hebben, stel deze ger. Error: 'list' object has no attribute 'qa_list'\n"
     ]
    },
    {
     "name": "stderr",
     "output_type": "stream",
     "text": [
      "\n",
      "Generating QAs:  64%|██████▎   | 14/22 [03:23<01:35, 11.98s/it]\u001b[A\n",
      "Generating QAs:  68%|██████▊   | 15/22 [03:38<01:30, 12.95s/it]\u001b[A\n",
      "Generating QAs:  73%|███████▎  | 16/22 [03:51<01:18, 13.10s/it]\u001b[A\n",
      "Generating QAs:  77%|███████▋  | 17/22 [03:52<00:46,  9.27s/it]\u001b[A"
     ]
    },
    {
     "name": "stdout",
     "output_type": "stream",
     "text": [
      "Failed to generate QA for doc: 7.0: Operatief verwijderen van de baarmoeder: Gevolgen van een baarmoederverwijdering: - Geen menstr. Error: Error code: 400 - {'error': {'message': \"This model's maximum context length is 4097 tokens, however you requested 4135 tokens (2087 in your prompt; 2048 for the completion). Please reduce your prompt; or completion length.\", 'type': 'invalid_request_error', 'param': None, 'code': None}}\n"
     ]
    },
    {
     "name": "stderr",
     "output_type": "stream",
     "text": [
      "\n",
      "Generating QAs:  82%|████████▏ | 18/22 [04:09<00:46, 11.62s/it]\u001b[A\n",
      "Generating QAs:  86%|████████▋ | 19/22 [04:18<00:32, 10.93s/it]\u001b[A\n",
      "Generating QAs:  91%|█████████ | 20/22 [04:37<00:26, 13.47s/it]\u001b[A\n",
      "Generating QAs:  95%|█████████▌| 21/22 [04:56<00:15, 15.06s/it]\u001b[A"
     ]
    },
    {
     "name": "stdout",
     "output_type": "stream",
     "text": [
      "Failed to generate QA for doc: 52.0: Privacy en persoonsgegevens (privacyverklaring): Het gebruik van persoonsgegevens door ZGT: ZG. Error: 'list' object has no attribute 'qa_list'\n"
     ]
    },
    {
     "name": "stderr",
     "output_type": "stream",
     "text": [
      "\n",
      "Generating QAs: 100%|██████████| 22/22 [05:18<00:00, 14.48s/it]\u001b[A\n",
      "Processing:  40%|████      | 2/5 [1:23:59<1:50:37, 2212.56s/it]\n",
      "Generating QAs:   0%|          | 0/13 [00:00<?, ?it/s]\u001b[A\n",
      "Generating QAs:   8%|▊         | 1/13 [00:29<05:50, 29.19s/it]\u001b[A\n",
      "Generating QAs:  15%|█▌        | 2/13 [00:39<03:20, 18.27s/it]\u001b[A\n",
      "Generating QAs:  23%|██▎       | 3/13 [00:57<02:58, 17.83s/it]\u001b[A\n",
      "Generating QAs:  31%|███       | 4/13 [01:10<02:24, 16.00s/it]\u001b[A\n",
      "Generating QAs:  38%|███▊      | 5/13 [01:23<02:01, 15.15s/it]\u001b[A\n",
      "Generating QAs:  46%|████▌     | 6/13 [01:37<01:41, 14.45s/it]\u001b[A\n",
      "Generating QAs:  54%|█████▍    | 7/13 [01:48<01:21, 13.55s/it]\u001b[A\n",
      "Generating QAs:  62%|██████▏   | 8/13 [02:05<01:12, 14.46s/it]\u001b[A\n",
      "Generating QAs:  69%|██████▉   | 9/13 [02:05<00:40, 10.02s/it]\u001b[A"
     ]
    },
    {
     "name": "stdout",
     "output_type": "stream",
     "text": [
      "Failed to generate QA for doc: 7.0: Operatief verwijderen van de baarmoeder: Gevolgen van een baarmoederverwijdering: - Geen menstr. Error: Error code: 400 - {'error': {'message': \"This model's maximum context length is 4097 tokens, however you requested 4135 tokens (2087 in your prompt; 2048 for the completion). Please reduce your prompt; or completion length.\", 'type': 'invalid_request_error', 'param': None, 'code': None}}\n"
     ]
    },
    {
     "name": "stderr",
     "output_type": "stream",
     "text": [
      "\n",
      "Generating QAs:  77%|███████▋  | 10/13 [02:15<00:30, 10.13s/it]\u001b[A\n",
      "Generating QAs:  85%|████████▍ | 11/13 [02:25<00:19,  9.89s/it]\u001b[A\n",
      "Generating QAs:  92%|█████████▏| 12/13 [02:35<00:10, 10.16s/it]\u001b[A\n",
      "Generating QAs: 100%|██████████| 13/13 [02:46<00:00, 12.84s/it]\u001b[A\n",
      "Processing:  60%|██████    | 3/5 [1:34:27<49:37, 1488.84s/it]  \n",
      "Generating QAs:   0%|          | 0/9 [00:00<?, ?it/s]\u001b[A\n",
      "Generating QAs:  11%|█         | 1/9 [00:19<02:38, 19.78s/it]\u001b[A\n",
      "Generating QAs:  22%|██▏       | 2/9 [00:28<01:33, 13.31s/it]\u001b[A\n",
      "Generating QAs:  33%|███▎      | 3/9 [00:40<01:16, 12.81s/it]\u001b[A\n",
      "Generating QAs:  44%|████▍     | 4/9 [00:49<00:56, 11.26s/it]\u001b[A\n",
      "Generating QAs:  56%|█████▌    | 5/9 [01:02<00:46, 11.72s/it]\u001b[A\n",
      "Generating QAs:  67%|██████▋   | 6/9 [01:02<00:23,  7.83s/it]\u001b[A"
     ]
    },
    {
     "name": "stdout",
     "output_type": "stream",
     "text": [
      "Failed to generate QA for doc: 7.0: Operatief verwijderen van de baarmoeder: Gevolgen van een baarmoederverwijdering: - Geen menstr. Error: Error code: 400 - {'error': {'message': \"This model's maximum context length is 4097 tokens, however you requested 4127 tokens (2079 in your prompt; 2048 for the completion). Please reduce your prompt; or completion length.\", 'type': 'invalid_request_error', 'param': None, 'code': None}}\n"
     ]
    },
    {
     "name": "stderr",
     "output_type": "stream",
     "text": [
      "\n",
      "Generating QAs:  78%|███████▊  | 7/9 [01:12<00:16,  8.42s/it]\u001b[A\n",
      "Generating QAs:  89%|████████▉ | 8/9 [01:37<00:13, 13.78s/it]\u001b[A\n",
      "Generating QAs: 100%|██████████| 9/9 [01:50<00:00, 12.27s/it]\u001b[A\n",
      "Processing:  80%|████████  | 4/5 [1:43:51<18:43, 1123.75s/it]\n",
      "Generating QAs:   0%|          | 0/8 [00:00<?, ?it/s]\u001b[A\n",
      "Generating QAs:  12%|█▎        | 1/8 [00:19<02:15, 19.36s/it]\u001b[A\n",
      "Generating QAs:  25%|██▌       | 2/8 [00:33<01:38, 16.47s/it]\u001b[A\n",
      "Generating QAs:  38%|███▊      | 3/8 [01:02<01:50, 22.03s/it]\u001b[A\n",
      "Generating QAs:  50%|█████     | 4/8 [01:15<01:14, 18.54s/it]\u001b[A\n",
      "Generating QAs:  62%|██████▎   | 5/8 [01:41<01:03, 21.20s/it]\u001b[A\n",
      "Generating QAs:  75%|███████▌  | 6/8 [01:41<00:28, 14.08s/it]\u001b[A"
     ]
    },
    {
     "name": "stdout",
     "output_type": "stream",
     "text": [
      "Failed to generate QA for doc: 7.0: Operatief verwijderen van de baarmoeder: Gevolgen van een baarmoederverwijdering: - Geen menstr. Error: Error code: 400 - {'error': {'message': \"This model's maximum context length is 4097 tokens, however you requested 4126 tokens (2078 in your prompt; 2048 for the completion). Please reduce your prompt; or completion length.\", 'type': 'invalid_request_error', 'param': None, 'code': None}}\n"
     ]
    },
    {
     "name": "stderr",
     "output_type": "stream",
     "text": [
      "\n",
      "Generating QAs:  88%|████████▊ | 7/8 [01:54<00:13, 13.68s/it]\u001b[A\n",
      "Generating QAs: 100%|██████████| 8/8 [02:08<00:00, 16.12s/it]\u001b[A\n",
      "Processing: 100%|██████████| 5/5 [1:53:23<00:00, 1360.78s/it]\n"
     ]
    }
   ],
   "source": [
    "import os\n",
    "\n",
    "sample = loadData(fname, basepath)\n",
    "\n",
    "df = pd.DataFrame(columns = sample.columns)\n",
    "\n",
    "\n",
    "\n",
    "for i in tqdm(range(5), desc=\"Processing\"):\n",
    "    raw_file_path = f\"{basepath}/output_raw_{i}_{fname}.csv\"\n",
    "\n",
    "    if os.path.exists(raw_file_path):\n",
    "        # Load the file into a DataFrame if it exists\n",
    "        print(f\"Skipping generation: {i}\")\n",
    "        new_questions_df = pd.read_csv(raw_file_path)\n",
    "    else:\n",
    "        df_gen = sample[~sample['Document'].isin(df['Document'])]\n",
    "        new_questions_df = generateQuestions(df_gen)\n",
    "        if df_gen.empty:\n",
    "            break\n",
    "    new_questions_df.to_csv(raw_file_path)\n",
    "    df = pd.concat([df, new_questions_df], ignore_index=True, sort=False)\n",
    "    df = rougeFilter(df)\n",
    "    df = vectorFilter(df)\n",
    "    df = filterFactQuestions(df)\n",
    "    df = llmScore(df)\n",
    "\n",
    "\n",
    "## take top one for each doc\n",
    "idx = df.groupby('Document')['LLM Score'].idxmax()\n",
    "df = df.loc[idx]\n",
    "\n",
    "df.to_csv(f\"{basepath}/output_full_{fname}.csv\")\n",
    "df.to_csv(f\"{basepath}/output_{fname}.csv\", columns = ['topic_id', 'filename', 'header', 'section_text', 'Question', 'Answer'])\n"
   ]
  },
  {
   "cell_type": "markdown",
   "id": "69ee902da2eb2dc1",
   "metadata": {},
   "source": [
    "## Export Q&A Pairs"
   ]
  },
  {
   "cell_type": "code",
   "execution_count": 15,
   "id": "3fd39a727cda4981",
   "metadata": {
    "ExecuteTime": {
     "start_time": "2024-01-10T09:48:24.217551700Z"
    },
    "collapsed": false,
    "jupyter": {
     "outputs_hidden": false
    }
   },
   "outputs": [],
   "source": [
    "df.to_csv(f\"{basepath}/output_full_{fname}.csv\")\n",
    "df.to_csv(f\"{basepath}/output_{fname}.csv\", columns = ['topic_id', 'filename', 'header', 'section_text', 'Question', 'Answer'])"
   ]
  },
  {
   "cell_type": "code",
   "execution_count": 16,
   "id": "af0521bf00884206",
   "metadata": {
    "ExecuteTime": {
     "start_time": "2024-01-10T09:48:24.222233Z"
    },
    "collapsed": false,
    "jupyter": {
     "outputs_hidden": false
    }
   },
   "outputs": [
    {
     "data": {
      "text/html": [
       "<div>\n",
       "<style scoped>\n",
       "    .dataframe tbody tr th:only-of-type {\n",
       "        vertical-align: middle;\n",
       "    }\n",
       "\n",
       "    .dataframe tbody tr th {\n",
       "        vertical-align: top;\n",
       "    }\n",
       "\n",
       "    .dataframe thead th {\n",
       "        text-align: right;\n",
       "    }\n",
       "</style>\n",
       "<table border=\"1\" class=\"dataframe\">\n",
       "  <thead>\n",
       "    <tr style=\"text-align: right;\">\n",
       "      <th></th>\n",
       "      <th>topic_id</th>\n",
       "      <th>filename</th>\n",
       "      <th>header</th>\n",
       "      <th>section_text</th>\n",
       "      <th>Document</th>\n",
       "      <th>Question</th>\n",
       "      <th>Answer</th>\n",
       "      <th>Question-Context ROUGE</th>\n",
       "      <th>Answer-Context ROUGE</th>\n",
       "      <th>Question-Context ROUGE-L F1</th>\n",
       "      <th>Answer-Context ROUGE-L F1</th>\n",
       "      <th>Embedding</th>\n",
       "      <th>Context Entities</th>\n",
       "      <th>Question Entities</th>\n",
       "      <th>Answer Entities</th>\n",
       "      <th>Entity Match</th>\n",
       "      <th>LLM Score</th>\n",
       "    </tr>\n",
       "  </thead>\n",
       "  <tbody>\n",
       "    <tr>\n",
       "      <th>29</th>\n",
       "      <td>0.0</td>\n",
       "      <td>(Langdurig) gebroken vliezen</td>\n",
       "      <td>Contact opnemen</td>\n",
       "      <td>Wij vragen u contact op te nemen als: \\n- Uw t...</td>\n",
       "      <td>0.0: (Langdurig) gebroken vliezen: Contact opn...</td>\n",
       "      <td>Moet ik contact opnemen als mijn temperatuur h...</td>\n",
       "      <td>Ja, u moet contact opnemen als uw temperatuur ...</td>\n",
       "      <td>[{'rouge-1': {'r': 0.1206896551724138, 'p': 0....</td>\n",
       "      <td>[{'rouge-1': {'r': 0.1896551724137931, 'p': 0....</td>\n",
       "      <td>0.162162</td>\n",
       "      <td>0.213333</td>\n",
       "      <td>[-0.004962361079971868, -0.041561738727993854,...</td>\n",
       "      <td>[]</td>\n",
       "      <td>[]</td>\n",
       "      <td>[]</td>\n",
       "      <td>True</td>\n",
       "      <td>100.0</td>\n",
       "    </tr>\n",
       "    <tr>\n",
       "      <th>156</th>\n",
       "      <td>0.0</td>\n",
       "      <td>Aambeien (heamorroiden)</td>\n",
       "      <td>Vragen</td>\n",
       "      <td>Deze folder is niet bedoeld als vervanging van...</td>\n",
       "      <td>0.0: Aambeien (heamorroiden): Vragen: Deze fol...</td>\n",
       "      <td>Waar kan ik terecht voor vragen over aambeien ...</td>\n",
       "      <td>U kunt op werkdagen bellen met het secretariaa...</td>\n",
       "      <td>[{'rouge-1': {'r': 0.02531645569620253, 'p': 0...</td>\n",
       "      <td>[{'rouge-1': {'r': 0.189873417721519, 'p': 0.7...</td>\n",
       "      <td>0.044444</td>\n",
       "      <td>0.300000</td>\n",
       "      <td>[-0.007706894348600569, -0.030702567838503225,...</td>\n",
       "      <td>[{'entityType': 'Phone', 'value': '+3188708523...</td>\n",
       "      <td>[]</td>\n",
       "      <td>[]</td>\n",
       "      <td>True</td>\n",
       "      <td>100.0</td>\n",
       "    </tr>\n",
       "    <tr>\n",
       "      <th>135</th>\n",
       "      <td>0.0</td>\n",
       "      <td>Anale fissuur</td>\n",
       "      <td>Vragen</td>\n",
       "      <td>Deze brochure is niet bedoeld als vervanging v...</td>\n",
       "      <td>0.0: Anale fissuur: Vragen: Deze brochure is n...</td>\n",
       "      <td>Kan deze brochure een mondelinge informatie ve...</td>\n",
       "      <td>Nee, deze brochure is niet bedoeld als vervang...</td>\n",
       "      <td>[{'rouge-1': {'r': 0.045454545454545456, 'p': ...</td>\n",
       "      <td>[{'rouge-1': {'r': 0.13636363636363635, 'p': 0...</td>\n",
       "      <td>0.082192</td>\n",
       "      <td>0.233766</td>\n",
       "      <td>[-0.021418902809556963, -0.008482350689619944,...</td>\n",
       "      <td>[{'entityType': 'Phone', 'value': '+3188708523...</td>\n",
       "      <td>[]</td>\n",
       "      <td>[]</td>\n",
       "      <td>True</td>\n",
       "      <td>100.0</td>\n",
       "    </tr>\n",
       "    <tr>\n",
       "      <th>557</th>\n",
       "      <td>0.0</td>\n",
       "      <td>Anale fissuur</td>\n",
       "      <td>Vragen</td>\n",
       "      <td>Deze brochure is niet bedoeld als vervanging v...</td>\n",
       "      <td>0.0: Anale fissuur: Vragen: Deze brochure is n...</td>\n",
       "      <td>Wanneer is het mogelijk om meer informatie te ...</td>\n",
       "      <td>U kunt meer informatie over de proctologiepoli...</td>\n",
       "      <td>[{'rouge-1': {'r': 0.10126582278481013, 'p': 0...</td>\n",
       "      <td>[{'rouge-1': {'r': 0.08860759493670886, 'p': 0...</td>\n",
       "      <td>0.175824</td>\n",
       "      <td>0.155556</td>\n",
       "      <td>[0.008837624754946205, -0.014453528011422483, ...</td>\n",
       "      <td>[{'entityType': 'Phone', 'value': '+3188708523...</td>\n",
       "      <td>[]</td>\n",
       "      <td>[]</td>\n",
       "      <td>True</td>\n",
       "      <td>100.0</td>\n",
       "    </tr>\n",
       "    <tr>\n",
       "      <th>177</th>\n",
       "      <td>0.0</td>\n",
       "      <td>Angiografie, dotterbehandeling en_of stentplaa...</td>\n",
       "      <td>Neem contact op indien</td>\n",
       "      <td>- U koorts krijgt (38,5°C of hoger). \\n- De li...</td>\n",
       "      <td>0.0: Angiografie, dotterbehandeling en_of sten...</td>\n",
       "      <td>Wat moet ik doen als mijn lies rood verkleurt ...</td>\n",
       "      <td>Als uw lies rood verkleurt en erg warm aanvoel...</td>\n",
       "      <td>[{'rouge-1': {'r': 0.13432835820895522, 'p': 0...</td>\n",
       "      <td>[{'rouge-1': {'r': 0.29850746268656714, 'p': 0...</td>\n",
       "      <td>0.209302</td>\n",
       "      <td>0.371134</td>\n",
       "      <td>[-0.016909901298582258, -0.029433875324452668,...</td>\n",
       "      <td>[{'entityType': 'Phone', 'value': '+3188708524...</td>\n",
       "      <td>[]</td>\n",
       "      <td>[]</td>\n",
       "      <td>True</td>\n",
       "      <td>100.0</td>\n",
       "    </tr>\n",
       "    <tr>\n",
       "      <th>...</th>\n",
       "      <td>...</td>\n",
       "      <td>...</td>\n",
       "      <td>...</td>\n",
       "      <td>...</td>\n",
       "      <td>...</td>\n",
       "      <td>...</td>\n",
       "      <td>...</td>\n",
       "      <td>...</td>\n",
       "      <td>...</td>\n",
       "      <td>...</td>\n",
       "      <td>...</td>\n",
       "      <td>...</td>\n",
       "      <td>...</td>\n",
       "      <td>...</td>\n",
       "      <td>...</td>\n",
       "      <td>...</td>\n",
       "      <td>...</td>\n",
       "    </tr>\n",
       "    <tr>\n",
       "      <th>359</th>\n",
       "      <td>7.0</td>\n",
       "      <td>Serotiniteit</td>\n",
       "      <td>Wat is serotiniteit?</td>\n",
       "      <td>Als de bevalling twee weken na de uitgerekende...</td>\n",
       "      <td>7.0: Serotiniteit: Wat is serotiniteit?: Als d...</td>\n",
       "      <td>Wat is serotiniteit?</td>\n",
       "      <td>Serotiniteit is de medische term voor overdrag...</td>\n",
       "      <td>[{'rouge-1': {'r': 0.05263157894736842, 'p': 0...</td>\n",
       "      <td>[{'rouge-1': {'r': 0.34210526315789475, 'p': 0...</td>\n",
       "      <td>0.097561</td>\n",
       "      <td>0.440678</td>\n",
       "      <td>[0.019936117249290446, -0.024929900769007817, ...</td>\n",
       "      <td>[]</td>\n",
       "      <td>[]</td>\n",
       "      <td>[]</td>\n",
       "      <td>True</td>\n",
       "      <td>100.0</td>\n",
       "    </tr>\n",
       "    <tr>\n",
       "      <th>17</th>\n",
       "      <td>8.0</td>\n",
       "      <td>Borstvorming bij mannen _ gynaecomastie, behan...</td>\n",
       "      <td>Borstvorming bij mannen</td>\n",
       "      <td>Gynaecomastie Deze folder geeft u een globaal ...</td>\n",
       "      <td>8.0: Borstvorming bij mannen _ gynaecomastie, ...</td>\n",
       "      <td>Wat is gynaecomastie?</td>\n",
       "      <td>Gynaecomastie is borstvorming bij mannen. Het ...</td>\n",
       "      <td>[{'rouge-1': {'r': 0.021739130434782608, 'p': ...</td>\n",
       "      <td>[{'rouge-1': {'r': 0.1956521739130435, 'p': 0....</td>\n",
       "      <td>0.040816</td>\n",
       "      <td>0.262295</td>\n",
       "      <td>[-0.023004339812470277, -0.028726620355583557,...</td>\n",
       "      <td>[]</td>\n",
       "      <td>[]</td>\n",
       "      <td>[]</td>\n",
       "      <td>True</td>\n",
       "      <td>100.0</td>\n",
       "    </tr>\n",
       "    <tr>\n",
       "      <th>370</th>\n",
       "      <td>8.0</td>\n",
       "      <td>LAR-Syndroom, vervolgbehandeling</td>\n",
       "      <td>Vervolgbehandeling Low Anterior Resectie-</td>\n",
       "      <td>Syndroom; “LAR-Syndroom” Na een endeldarmopera...</td>\n",
       "      <td>8.0: LAR-Syndroom, vervolgbehandeling: Vervolg...</td>\n",
       "      <td>Wat is het LAR-Syndroom?</td>\n",
       "      <td>Het LAR-Syndroom is een verzameling van klacht...</td>\n",
       "      <td>[{'rouge-1': {'r': 0.028985507246376812, 'p': ...</td>\n",
       "      <td>[{'rouge-1': {'r': 0.13043478260869565, 'p': 0...</td>\n",
       "      <td>0.054795</td>\n",
       "      <td>0.148148</td>\n",
       "      <td>[0.00635609825801561, -0.012207640401298138, 0...</td>\n",
       "      <td>[{'entityType': 'MISC', 'value': 'LAR-Syndroom...</td>\n",
       "      <td>[{'entityType': 'MISC', 'value': 'LAR-Syndroom'}]</td>\n",
       "      <td>[{'entityType': 'MISC', 'value': 'LAR-Syndroom'}]</td>\n",
       "      <td>True</td>\n",
       "      <td>100.0</td>\n",
       "    </tr>\n",
       "    <tr>\n",
       "      <th>366</th>\n",
       "      <td>8.0</td>\n",
       "      <td>Verstuikte enkel</td>\n",
       "      <td>Verstuikte enkel</td>\n",
       "      <td>(enkelbanddistorsie) Deze folder geeft u een g...</td>\n",
       "      <td>8.0: Verstuikte enkel: Verstuikte enkel: (enke...</td>\n",
       "      <td>Wat is een verstuikte enkel?</td>\n",
       "      <td>Een verstuikte enkel, ook wel enkelbanddistors...</td>\n",
       "      <td>[{'rouge-1': {'r': 0.08333333333333333, 'p': 0...</td>\n",
       "      <td>[{'rouge-1': {'r': 0.16666666666666666, 'p': 0...</td>\n",
       "      <td>0.146341</td>\n",
       "      <td>0.181818</td>\n",
       "      <td>[0.00675508180116059, -0.021176334045558038, 0...</td>\n",
       "      <td>[]</td>\n",
       "      <td>[]</td>\n",
       "      <td>[]</td>\n",
       "      <td>True</td>\n",
       "      <td>100.0</td>\n",
       "    </tr>\n",
       "    <tr>\n",
       "      <th>373</th>\n",
       "      <td>8.0</td>\n",
       "      <td>Verwijderen van de neusamandel bij kinderen</td>\n",
       "      <td>Verwijderen van de neusamandel bij kinderen</td>\n",
       "      <td>Uw medisch specialist heeft u verwezen voor he...</td>\n",
       "      <td>8.0: Verwijderen van de neusamandel bij kinder...</td>\n",
       "      <td>Wat wordt er geadviseerd nadat ik de folder he...</td>\n",
       "      <td>Wij adviseren u om de folder goed door te leze...</td>\n",
       "      <td>[{'rouge-1': {'r': 0.03636363636363636, 'p': 0...</td>\n",
       "      <td>[{'rouge-1': {'r': 0.2545454545454545, 'p': 0....</td>\n",
       "      <td>0.061538</td>\n",
       "      <td>0.400000</td>\n",
       "      <td>[-0.008604078468139983, -0.01707992872019049, ...</td>\n",
       "      <td>[{'entityType': 'Phone', 'value': '+3188708701...</td>\n",
       "      <td>[]</td>\n",
       "      <td>[]</td>\n",
       "      <td>True</td>\n",
       "      <td>75.0</td>\n",
       "    </tr>\n",
       "  </tbody>\n",
       "</table>\n",
       "<p>190 rows × 17 columns</p>\n",
       "</div>"
      ],
      "text/plain": [
       "     topic_id                                           filename  \\\n",
       "29        0.0                       (Langdurig) gebroken vliezen   \n",
       "156       0.0                            Aambeien (heamorroiden)   \n",
       "135       0.0                                      Anale fissuur   \n",
       "557       0.0                                      Anale fissuur   \n",
       "177       0.0  Angiografie, dotterbehandeling en_of stentplaa...   \n",
       "..        ...                                                ...   \n",
       "359       7.0                                       Serotiniteit   \n",
       "17        8.0  Borstvorming bij mannen _ gynaecomastie, behan...   \n",
       "370       8.0                   LAR-Syndroom, vervolgbehandeling   \n",
       "366       8.0                                   Verstuikte enkel   \n",
       "373       8.0        Verwijderen van de neusamandel bij kinderen   \n",
       "\n",
       "                                          header  \\\n",
       "29                               Contact opnemen   \n",
       "156                                       Vragen   \n",
       "135                                       Vragen   \n",
       "557                                       Vragen   \n",
       "177                       Neem contact op indien   \n",
       "..                                           ...   \n",
       "359                         Wat is serotiniteit?   \n",
       "17                       Borstvorming bij mannen   \n",
       "370    Vervolgbehandeling Low Anterior Resectie-   \n",
       "366                             Verstuikte enkel   \n",
       "373  Verwijderen van de neusamandel bij kinderen   \n",
       "\n",
       "                                          section_text  \\\n",
       "29   Wij vragen u contact op te nemen als: \\n- Uw t...   \n",
       "156  Deze folder is niet bedoeld als vervanging van...   \n",
       "135  Deze brochure is niet bedoeld als vervanging v...   \n",
       "557  Deze brochure is niet bedoeld als vervanging v...   \n",
       "177  - U koorts krijgt (38,5°C of hoger). \\n- De li...   \n",
       "..                                                 ...   \n",
       "359  Als de bevalling twee weken na de uitgerekende...   \n",
       "17   Gynaecomastie Deze folder geeft u een globaal ...   \n",
       "370  Syndroom; “LAR-Syndroom” Na een endeldarmopera...   \n",
       "366  (enkelbanddistorsie) Deze folder geeft u een g...   \n",
       "373  Uw medisch specialist heeft u verwezen voor he...   \n",
       "\n",
       "                                              Document  \\\n",
       "29   0.0: (Langdurig) gebroken vliezen: Contact opn...   \n",
       "156  0.0: Aambeien (heamorroiden): Vragen: Deze fol...   \n",
       "135  0.0: Anale fissuur: Vragen: Deze brochure is n...   \n",
       "557  0.0: Anale fissuur: Vragen: Deze brochure is n...   \n",
       "177  0.0: Angiografie, dotterbehandeling en_of sten...   \n",
       "..                                                 ...   \n",
       "359  7.0: Serotiniteit: Wat is serotiniteit?: Als d...   \n",
       "17   8.0: Borstvorming bij mannen _ gynaecomastie, ...   \n",
       "370  8.0: LAR-Syndroom, vervolgbehandeling: Vervolg...   \n",
       "366  8.0: Verstuikte enkel: Verstuikte enkel: (enke...   \n",
       "373  8.0: Verwijderen van de neusamandel bij kinder...   \n",
       "\n",
       "                                              Question  \\\n",
       "29   Moet ik contact opnemen als mijn temperatuur h...   \n",
       "156  Waar kan ik terecht voor vragen over aambeien ...   \n",
       "135  Kan deze brochure een mondelinge informatie ve...   \n",
       "557  Wanneer is het mogelijk om meer informatie te ...   \n",
       "177  Wat moet ik doen als mijn lies rood verkleurt ...   \n",
       "..                                                 ...   \n",
       "359                               Wat is serotiniteit?   \n",
       "17                               Wat is gynaecomastie?   \n",
       "370                           Wat is het LAR-Syndroom?   \n",
       "366                       Wat is een verstuikte enkel?   \n",
       "373  Wat wordt er geadviseerd nadat ik de folder he...   \n",
       "\n",
       "                                                Answer  \\\n",
       "29   Ja, u moet contact opnemen als uw temperatuur ...   \n",
       "156  U kunt op werkdagen bellen met het secretariaa...   \n",
       "135  Nee, deze brochure is niet bedoeld als vervang...   \n",
       "557  U kunt meer informatie over de proctologiepoli...   \n",
       "177  Als uw lies rood verkleurt en erg warm aanvoel...   \n",
       "..                                                 ...   \n",
       "359  Serotiniteit is de medische term voor overdrag...   \n",
       "17   Gynaecomastie is borstvorming bij mannen. Het ...   \n",
       "370  Het LAR-Syndroom is een verzameling van klacht...   \n",
       "366  Een verstuikte enkel, ook wel enkelbanddistors...   \n",
       "373  Wij adviseren u om de folder goed door te leze...   \n",
       "\n",
       "                                Question-Context ROUGE  \\\n",
       "29   [{'rouge-1': {'r': 0.1206896551724138, 'p': 0....   \n",
       "156  [{'rouge-1': {'r': 0.02531645569620253, 'p': 0...   \n",
       "135  [{'rouge-1': {'r': 0.045454545454545456, 'p': ...   \n",
       "557  [{'rouge-1': {'r': 0.10126582278481013, 'p': 0...   \n",
       "177  [{'rouge-1': {'r': 0.13432835820895522, 'p': 0...   \n",
       "..                                                 ...   \n",
       "359  [{'rouge-1': {'r': 0.05263157894736842, 'p': 0...   \n",
       "17   [{'rouge-1': {'r': 0.021739130434782608, 'p': ...   \n",
       "370  [{'rouge-1': {'r': 0.028985507246376812, 'p': ...   \n",
       "366  [{'rouge-1': {'r': 0.08333333333333333, 'p': 0...   \n",
       "373  [{'rouge-1': {'r': 0.03636363636363636, 'p': 0...   \n",
       "\n",
       "                                  Answer-Context ROUGE  \\\n",
       "29   [{'rouge-1': {'r': 0.1896551724137931, 'p': 0....   \n",
       "156  [{'rouge-1': {'r': 0.189873417721519, 'p': 0.7...   \n",
       "135  [{'rouge-1': {'r': 0.13636363636363635, 'p': 0...   \n",
       "557  [{'rouge-1': {'r': 0.08860759493670886, 'p': 0...   \n",
       "177  [{'rouge-1': {'r': 0.29850746268656714, 'p': 0...   \n",
       "..                                                 ...   \n",
       "359  [{'rouge-1': {'r': 0.34210526315789475, 'p': 0...   \n",
       "17   [{'rouge-1': {'r': 0.1956521739130435, 'p': 0....   \n",
       "370  [{'rouge-1': {'r': 0.13043478260869565, 'p': 0...   \n",
       "366  [{'rouge-1': {'r': 0.16666666666666666, 'p': 0...   \n",
       "373  [{'rouge-1': {'r': 0.2545454545454545, 'p': 0....   \n",
       "\n",
       "     Question-Context ROUGE-L F1  Answer-Context ROUGE-L F1  \\\n",
       "29                      0.162162                   0.213333   \n",
       "156                     0.044444                   0.300000   \n",
       "135                     0.082192                   0.233766   \n",
       "557                     0.175824                   0.155556   \n",
       "177                     0.209302                   0.371134   \n",
       "..                           ...                        ...   \n",
       "359                     0.097561                   0.440678   \n",
       "17                      0.040816                   0.262295   \n",
       "370                     0.054795                   0.148148   \n",
       "366                     0.146341                   0.181818   \n",
       "373                     0.061538                   0.400000   \n",
       "\n",
       "                                             Embedding  \\\n",
       "29   [-0.004962361079971868, -0.041561738727993854,...   \n",
       "156  [-0.007706894348600569, -0.030702567838503225,...   \n",
       "135  [-0.021418902809556963, -0.008482350689619944,...   \n",
       "557  [0.008837624754946205, -0.014453528011422483, ...   \n",
       "177  [-0.016909901298582258, -0.029433875324452668,...   \n",
       "..                                                 ...   \n",
       "359  [0.019936117249290446, -0.024929900769007817, ...   \n",
       "17   [-0.023004339812470277, -0.028726620355583557,...   \n",
       "370  [0.00635609825801561, -0.012207640401298138, 0...   \n",
       "366  [0.00675508180116059, -0.021176334045558038, 0...   \n",
       "373  [-0.008604078468139983, -0.01707992872019049, ...   \n",
       "\n",
       "                                      Context Entities  \\\n",
       "29                                                  []   \n",
       "156  [{'entityType': 'Phone', 'value': '+3188708523...   \n",
       "135  [{'entityType': 'Phone', 'value': '+3188708523...   \n",
       "557  [{'entityType': 'Phone', 'value': '+3188708523...   \n",
       "177  [{'entityType': 'Phone', 'value': '+3188708524...   \n",
       "..                                                 ...   \n",
       "359                                                 []   \n",
       "17                                                  []   \n",
       "370  [{'entityType': 'MISC', 'value': 'LAR-Syndroom...   \n",
       "366                                                 []   \n",
       "373  [{'entityType': 'Phone', 'value': '+3188708701...   \n",
       "\n",
       "                                     Question Entities  \\\n",
       "29                                                  []   \n",
       "156                                                 []   \n",
       "135                                                 []   \n",
       "557                                                 []   \n",
       "177                                                 []   \n",
       "..                                                 ...   \n",
       "359                                                 []   \n",
       "17                                                  []   \n",
       "370  [{'entityType': 'MISC', 'value': 'LAR-Syndroom'}]   \n",
       "366                                                 []   \n",
       "373                                                 []   \n",
       "\n",
       "                                       Answer Entities  Entity Match  \\\n",
       "29                                                  []          True   \n",
       "156                                                 []          True   \n",
       "135                                                 []          True   \n",
       "557                                                 []          True   \n",
       "177                                                 []          True   \n",
       "..                                                 ...           ...   \n",
       "359                                                 []          True   \n",
       "17                                                  []          True   \n",
       "370  [{'entityType': 'MISC', 'value': 'LAR-Syndroom'}]          True   \n",
       "366                                                 []          True   \n",
       "373                                                 []          True   \n",
       "\n",
       "     LLM Score  \n",
       "29       100.0  \n",
       "156      100.0  \n",
       "135      100.0  \n",
       "557      100.0  \n",
       "177      100.0  \n",
       "..         ...  \n",
       "359      100.0  \n",
       "17       100.0  \n",
       "370      100.0  \n",
       "366      100.0  \n",
       "373       75.0  \n",
       "\n",
       "[190 rows x 17 columns]"
      ]
     },
     "execution_count": 16,
     "metadata": {},
     "output_type": "execute_result"
    }
   ],
   "source": [
    "df"
   ]
  },
  {
   "cell_type": "markdown",
   "id": "e6df4bff-331a-4e37-b0de-25cabd7fe31b",
   "metadata": {},
   "source": [
    "# Fact Q&A"
   ]
  },
  {
   "cell_type": "code",
   "execution_count": 17,
   "id": "f3ee7b2ff7da54de",
   "metadata": {
    "ExecuteTime": {
     "start_time": "2024-01-10T09:48:24.227287400Z"
    },
    "collapsed": false,
    "jupyter": {
     "outputs_hidden": false
    }
   },
   "outputs": [
    {
     "name": "stderr",
     "output_type": "stream",
     "text": [
      "Generating Fact QAs:   0%|          | 0/200 [00:00<?, ?it/s]"
     ]
    },
    {
     "name": "stdout",
     "output_type": "stream",
     "text": [
      "{'entityType': 'Email', 'value': 'info@heupafwijkingen.nl'}\n",
      "{'entityType': 'Email', 'value': 'info@heupafwijkingen.nl'}\n",
      "{'entityType': 'Email', 'value': 'info@heupafwijkingen.nl'}\n",
      "{'entityType': 'Email', 'value': 'info@heupafwijkingen.nl'}\n",
      "{'entityType': 'Email', 'value': 'info@heupafwijkingen.nl'}\n"
     ]
    },
    {
     "name": "stderr",
     "output_type": "stream",
     "text": [
      "Generating Fact QAs:   4%|▍         | 9/200 [00:09<03:22,  1.06s/it]"
     ]
    },
    {
     "name": "stdout",
     "output_type": "stream",
     "text": [
      "{'entityType': 'Email', 'value': 'info@heupafwijkingen.nl'}\n",
      "{'entityType': 'Email', 'value': 'info@heupafwijkingen.nl'}\n",
      "{'entityType': 'Email', 'value': 'info@heupafwijkingen.nl'}\n",
      "{'entityType': 'Email', 'value': 'info@heupafwijkingen.nl'}\n",
      "{'entityType': 'Email', 'value': 'info@heupafwijkingen.nl'}\n",
      "{'entityType': 'Phone', 'value': '+31887083220'}\n",
      "{'entityType': 'Phone', 'value': '+31887083220'}\n",
      "{'entityType': 'Phone', 'value': '+31887083220'}\n",
      "{'entityType': 'Phone', 'value': '+31887083220'}\n",
      "{'entityType': 'Phone', 'value': '+31887083220'}\n",
      "{'entityType': 'Email', 'value': 'dietisten@zgt.nl'}\n",
      "{'entityType': 'Email', 'value': 'dietisten@zgt.nl'}\n",
      "{'entityType': 'Email', 'value': 'dietisten@zgt.nl'}\n",
      "{'entityType': 'Email', 'value': 'dietisten@zgt.nl'}\n",
      "{'entityType': 'Email', 'value': 'dietisten@zgt.nl'}\n",
      "{'entityType': 'Phone', 'value': '+31887083220'}\n",
      "{'entityType': 'Phone', 'value': '+31887083220'}\n",
      "{'entityType': 'Phone', 'value': '+31887083220'}\n",
      "{'entityType': 'Phone', 'value': '+31887083220'}\n",
      "{'entityType': 'Phone', 'value': '+31887083220'}\n"
     ]
    },
    {
     "name": "stderr",
     "output_type": "stream",
     "text": [
      "Generating Fact QAs:   8%|▊         | 17/200 [00:27<05:19,  1.75s/it]"
     ]
    },
    {
     "name": "stdout",
     "output_type": "stream",
     "text": [
      "{'entityType': 'Email', 'value': 'dietisten@zgt.nl'}\n",
      "{'entityType': 'Email', 'value': 'dietisten@zgt.nl'}\n",
      "{'entityType': 'Email', 'value': 'dietisten@zgt.nl'}\n",
      "{'entityType': 'Email', 'value': 'dietisten@zgt.nl'}\n",
      "{'entityType': 'Email', 'value': 'dietisten@zgt.nl'}\n",
      "{'entityType': 'Phone', 'value': '+31887083300'}\n",
      "{'entityType': 'Phone', 'value': '+31887083300'}\n",
      "{'entityType': 'Phone', 'value': '+31887083300'}\n",
      "{'entityType': 'Phone', 'value': '+31887083300'}\n",
      "{'entityType': 'Phone', 'value': '+31887083300'}\n",
      "{'entityType': 'Email', 'value': 'cardiologie@zgt.nl'}\n",
      "{'entityType': 'Email', 'value': 'cardiologie@zgt.nl'}\n",
      "{'entityType': 'Email', 'value': 'cardiologie@zgt.nl'}\n",
      "{'entityType': 'Email', 'value': 'cardiologie@zgt.nl'}\n",
      "{'entityType': 'Email', 'value': 'cardiologie@zgt.nl'}\n",
      "{'entityType': 'Phone', 'value': '+31887083300'}\n",
      "{'entityType': 'Phone', 'value': '+31887083300'}\n",
      "{'entityType': 'Phone', 'value': '+31887083300'}\n",
      "{'entityType': 'Phone', 'value': '+31887083300'}\n",
      "{'entityType': 'Phone', 'value': '+31887083300'}\n"
     ]
    },
    {
     "name": "stderr",
     "output_type": "stream",
     "text": [
      "Generating Fact QAs:  14%|█▎        | 27/200 [00:49<05:41,  1.98s/it]"
     ]
    },
    {
     "name": "stdout",
     "output_type": "stream",
     "text": [
      "{'entityType': 'Email', 'value': 'cardiologie@zgt.nl'}\n",
      "{'entityType': 'Email', 'value': 'cardiologie@zgt.nl'}\n",
      "{'entityType': 'Email', 'value': 'cardiologie@zgt.nl'}\n",
      "{'entityType': 'Email', 'value': 'cardiologie@zgt.nl'}\n",
      "{'entityType': 'Email', 'value': 'cardiologie@zgt.nl'}\n",
      "{'entityType': 'Phone', 'value': '+31887087075'}\n",
      "{'entityType': 'Phone', 'value': '+31887087075'}\n",
      "{'entityType': 'Phone', 'value': '+31887087075'}\n",
      "{'entityType': 'Phone', 'value': '+31887087075'}\n",
      "{'entityType': 'Phone', 'value': '+31887087075'}\n"
     ]
    },
    {
     "name": "stderr",
     "output_type": "stream",
     "text": [
      "Generating Fact QAs:  14%|█▍        | 29/200 [00:58<06:32,  2.29s/it]"
     ]
    },
    {
     "name": "stdout",
     "output_type": "stream",
     "text": [
      "{'entityType': 'Phone', 'value': '+31887087075'}\n",
      "{'entityType': 'Phone', 'value': '+31887087075'}\n",
      "{'entityType': 'Phone', 'value': '+31887087075'}\n",
      "{'entityType': 'Phone', 'value': '+31887087075'}\n",
      "{'entityType': 'Phone', 'value': '+31887087075'}\n",
      "{'entityType': 'Phone', 'value': '+31887083390'}\n",
      "{'entityType': 'Phone', 'value': '+31887083390'}\n",
      "{'entityType': 'Phone', 'value': '+31887083390'}\n",
      "{'entityType': 'Phone', 'value': '+31887083390'}\n",
      "{'entityType': 'Phone', 'value': '+31887083390'}\n",
      "{'entityType': 'Phone', 'value': '+31887085513'}\n",
      "{'entityType': 'Phone', 'value': '+31887085513'}\n",
      "{'entityType': 'Phone', 'value': '+31887085513'}\n",
      "{'entityType': 'Phone', 'value': '+31887085513'}\n",
      "{'entityType': 'Phone', 'value': '+31887085513'}\n",
      "{'entityType': 'Phone', 'value': '+31887083390'}\n",
      "{'entityType': 'Phone', 'value': '+31887083390'}\n",
      "{'entityType': 'Phone', 'value': '+31887083390'}\n",
      "{'entityType': 'Phone', 'value': '+31887083390'}\n",
      "{'entityType': 'Phone', 'value': '+31887083390'}\n"
     ]
    },
    {
     "name": "stderr",
     "output_type": "stream",
     "text": [
      "Generating Fact QAs:  15%|█▌        | 30/200 [01:14<09:36,  3.39s/it]"
     ]
    },
    {
     "name": "stdout",
     "output_type": "stream",
     "text": [
      "{'entityType': 'Phone', 'value': '+31887085513'}\n",
      "{'entityType': 'Phone', 'value': '+31887085513'}\n",
      "{'entityType': 'Phone', 'value': '+31887085513'}\n",
      "{'entityType': 'Phone', 'value': '+31887085513'}\n",
      "{'entityType': 'Phone', 'value': '+31887085513'}\n",
      "{'entityType': 'Phone', 'value': '+31887083350'}\n",
      "{'entityType': 'Phone', 'value': '+31887083350'}\n",
      "{'entityType': 'Phone', 'value': '+31887083350'}\n",
      "{'entityType': 'Phone', 'value': '+31887083350'}\n",
      "{'entityType': 'Phone', 'value': '+31887083350'}\n"
     ]
    },
    {
     "name": "stderr",
     "output_type": "stream",
     "text": [
      "Generating Fact QAs:  16%|█▋        | 33/200 [01:22<08:56,  3.21s/it]"
     ]
    },
    {
     "name": "stdout",
     "output_type": "stream",
     "text": [
      "{'entityType': 'Phone', 'value': '+31887083350'}\n",
      "{'entityType': 'Phone', 'value': '+31887083350'}\n",
      "{'entityType': 'Phone', 'value': '+31887083350'}\n",
      "{'entityType': 'Phone', 'value': '+31887083350'}\n",
      "{'entityType': 'Phone', 'value': '+31887083350'}\n",
      "{'entityType': 'Phone', 'value': '+31887083300'}\n",
      "{'entityType': 'Phone', 'value': '+31887083300'}\n",
      "{'entityType': 'Phone', 'value': '+31887083300'}\n",
      "{'entityType': 'Phone', 'value': '+31887083300'}\n",
      "{'entityType': 'Phone', 'value': '+31887083300'}\n",
      "{'entityType': 'Email', 'value': 'hartrevalidatie@zgt.nl'}\n",
      "{'entityType': 'Email', 'value': 'hartrevalidatie@zgt.nl'}\n",
      "{'entityType': 'Email', 'value': 'hartrevalidatie@zgt.nl'}\n",
      "{'entityType': 'Email', 'value': 'hartrevalidatie@zgt.nl'}\n",
      "{'entityType': 'Email', 'value': 'hartrevalidatie@zgt.nl'}\n",
      "{'entityType': 'Phone', 'value': '+31887083300'}\n",
      "{'entityType': 'Phone', 'value': '+31887083300'}\n",
      "{'entityType': 'Phone', 'value': '+31887083300'}\n",
      "{'entityType': 'Phone', 'value': '+31887083300'}\n",
      "{'entityType': 'Phone', 'value': '+31887083300'}\n"
     ]
    },
    {
     "name": "stderr",
     "output_type": "stream",
     "text": [
      "Generating Fact QAs:  18%|█▊        | 35/200 [01:41<12:13,  4.45s/it]"
     ]
    },
    {
     "name": "stdout",
     "output_type": "stream",
     "text": [
      "{'entityType': 'Phone', 'value': '+31243010350'}\n",
      "{'entityType': 'Phone', 'value': '+31243010350'}\n",
      "{'entityType': 'Phone', 'value': '+31243010350'}\n",
      "{'entityType': 'Phone', 'value': '+31243010350'}\n",
      "{'entityType': 'Phone', 'value': '+31243010350'}\n",
      "{'entityType': 'Email', 'value': 'secretariaat@freya.nl'}\n",
      "{'entityType': 'Email', 'value': 'secretariaat@freya.nl'}\n",
      "{'entityType': 'Email', 'value': 'secretariaat@freya.nl'}\n",
      "{'entityType': 'Email', 'value': 'secretariaat@freya.nl'}\n",
      "{'entityType': 'Email', 'value': 'secretariaat@freya.nl'}\n",
      "{'entityType': 'Phone', 'value': '+31243010350'}\n",
      "{'entityType': 'Phone', 'value': '+31243010350'}\n",
      "{'entityType': 'Phone', 'value': '+31243010350'}\n",
      "{'entityType': 'Phone', 'value': '+31243010350'}\n",
      "{'entityType': 'Phone', 'value': '+31243010350'}\n"
     ]
    },
    {
     "name": "stderr",
     "output_type": "stream",
     "text": [
      "Generating Fact QAs:  18%|█▊        | 36/200 [01:53<14:47,  5.41s/it]"
     ]
    },
    {
     "name": "stdout",
     "output_type": "stream",
     "text": [
      "{'entityType': 'Email', 'value': 'secretariaat@freya.nl'}\n",
      "{'entityType': 'Email', 'value': 'secretariaat@freya.nl'}\n",
      "{'entityType': 'Email', 'value': 'secretariaat@freya.nl'}\n",
      "{'entityType': 'Email', 'value': 'secretariaat@freya.nl'}\n",
      "{'entityType': 'Email', 'value': 'secretariaat@freya.nl'}\n",
      "{'entityType': 'Phone', 'value': '+31887083120'}\n",
      "{'entityType': 'Phone', 'value': '+31887083120'}\n",
      "{'entityType': 'Phone', 'value': '+31887083120'}\n",
      "{'entityType': 'Phone', 'value': '+31887083120'}\n",
      "{'entityType': 'Phone', 'value': '+31887083120'}\n"
     ]
    },
    {
     "name": "stderr",
     "output_type": "stream",
     "text": [
      "Generating Fact QAs:  19%|█▉        | 38/200 [02:01<13:21,  4.95s/it]"
     ]
    },
    {
     "name": "stdout",
     "output_type": "stream",
     "text": [
      "{'entityType': 'Phone', 'value': '+31887083120'}\n",
      "{'entityType': 'Phone', 'value': '+31887083120'}\n",
      "{'entityType': 'Phone', 'value': '+31887083120'}\n",
      "{'entityType': 'Phone', 'value': '+31887083120'}\n",
      "{'entityType': 'Phone', 'value': '+31887083120'}\n",
      "{'entityType': 'Phone', 'value': '+31887085232'}\n",
      "{'entityType': 'Phone', 'value': '+31887085232'}\n",
      "{'entityType': 'Phone', 'value': '+31887085232'}\n",
      "{'entityType': 'Phone', 'value': '+31887085232'}\n",
      "{'entityType': 'Phone', 'value': '+31887085232'}\n",
      "{'entityType': 'Email', 'value': 'mammapoli@zgt.nl'}\n",
      "{'entityType': 'Email', 'value': 'mammapoli@zgt.nl'}\n",
      "{'entityType': 'Email', 'value': 'mammapoli@zgt.nl'}\n",
      "{'entityType': 'Email', 'value': 'mammapoli@zgt.nl'}\n",
      "{'entityType': 'Email', 'value': 'mammapoli@zgt.nl'}\n",
      "{'entityType': 'Phone', 'value': '+31887085232'}\n",
      "{'entityType': 'Phone', 'value': '+31887085232'}\n",
      "{'entityType': 'Phone', 'value': '+31887085232'}\n",
      "{'entityType': 'Phone', 'value': '+31887085232'}\n",
      "{'entityType': 'Phone', 'value': '+31887085232'}\n"
     ]
    },
    {
     "name": "stderr",
     "output_type": "stream",
     "text": [
      "Generating Fact QAs:  20%|██        | 40/200 [02:15<14:44,  5.53s/it]"
     ]
    },
    {
     "name": "stdout",
     "output_type": "stream",
     "text": [
      "{'entityType': 'Email', 'value': 'mammapoli@zgt.nl'}\n",
      "{'entityType': 'Email', 'value': 'mammapoli@zgt.nl'}\n",
      "{'entityType': 'Email', 'value': 'mammapoli@zgt.nl'}\n",
      "{'entityType': 'Email', 'value': 'mammapoli@zgt.nl'}\n",
      "{'entityType': 'Email', 'value': 'mammapoli@zgt.nl'}\n",
      "{'entityType': 'Phone', 'value': '+31887083130'}\n",
      "{'entityType': 'Phone', 'value': '+31887083130'}\n",
      "{'entityType': 'Phone', 'value': '+31887083130'}\n",
      "{'entityType': 'Phone', 'value': '+31887083130'}\n",
      "{'entityType': 'Phone', 'value': '+31887083130'}\n"
     ]
    },
    {
     "name": "stderr",
     "output_type": "stream",
     "text": [
      "Generating Fact QAs:  20%|██        | 41/200 [02:24<16:04,  6.07s/it]"
     ]
    },
    {
     "name": "stdout",
     "output_type": "stream",
     "text": [
      "{'entityType': 'Phone', 'value': '+31887083130'}\n",
      "{'entityType': 'Phone', 'value': '+31887083130'}\n",
      "{'entityType': 'Phone', 'value': '+31887083130'}\n",
      "{'entityType': 'Phone', 'value': '+31887083130'}\n",
      "{'entityType': 'Phone', 'value': '+31887083130'}\n",
      "{'entityType': 'Phone', 'value': '+31887083310'}\n",
      "{'entityType': 'Phone', 'value': '+31887083310'}\n",
      "{'entityType': 'Phone', 'value': '+31887083310'}\n",
      "{'entityType': 'Phone', 'value': '+31887083310'}\n",
      "{'entityType': 'Phone', 'value': '+31887083310'}\n",
      "{'entityType': 'Phone', 'value': '+31887085200'}\n",
      "{'entityType': 'Phone', 'value': '+31887085200'}\n",
      "{'entityType': 'Phone', 'value': '+31887085200'}\n",
      "{'entityType': 'Phone', 'value': '+31887085200'}\n",
      "{'entityType': 'Phone', 'value': '+31887085200'}\n",
      "{'entityType': 'Phone', 'value': '+31887083210'}\n",
      "{'entityType': 'Phone', 'value': '+31887083210'}\n",
      "{'entityType': 'Phone', 'value': '+31887083210'}\n",
      "{'entityType': 'Phone', 'value': '+31887083210'}\n",
      "{'entityType': 'Phone', 'value': '+31887083210'}\n",
      "{'entityType': 'Phone', 'value': '+31887083923'}\n",
      "{'entityType': 'Phone', 'value': '+31887083923'}\n",
      "{'entityType': 'Phone', 'value': '+31887083923'}\n",
      "{'entityType': 'Phone', 'value': '+31887083923'}\n",
      "{'entityType': 'Phone', 'value': '+31887083923'}\n",
      "{'entityType': 'Phone', 'value': '+31887085311'}\n",
      "{'entityType': 'Phone', 'value': '+31887085311'}\n",
      "{'entityType': 'Phone', 'value': '+31887085311'}\n",
      "{'entityType': 'Phone', 'value': '+31887085311'}\n",
      "{'entityType': 'Phone', 'value': '+31887085311'}\n",
      "{'entityType': 'Phone', 'value': '+31887083310'}\n",
      "{'entityType': 'Phone', 'value': '+31887083310'}\n",
      "{'entityType': 'Phone', 'value': '+31887083310'}\n",
      "{'entityType': 'Phone', 'value': '+31887083310'}\n",
      "{'entityType': 'Phone', 'value': '+31887083310'}\n",
      "{'entityType': 'Phone', 'value': '+31887085200'}\n",
      "{'entityType': 'Phone', 'value': '+31887085200'}\n",
      "{'entityType': 'Phone', 'value': '+31887085200'}\n",
      "{'entityType': 'Phone', 'value': '+31887085200'}\n",
      "{'entityType': 'Phone', 'value': '+31887085200'}\n",
      "{'entityType': 'Phone', 'value': '+31887083210'}\n",
      "{'entityType': 'Phone', 'value': '+31887083210'}\n",
      "{'entityType': 'Phone', 'value': '+31887083210'}\n",
      "{'entityType': 'Phone', 'value': '+31887083210'}\n",
      "{'entityType': 'Phone', 'value': '+31887083210'}\n",
      "{'entityType': 'Phone', 'value': '+31887083923'}\n",
      "{'entityType': 'Phone', 'value': '+31887083923'}\n",
      "{'entityType': 'Phone', 'value': '+31887083923'}\n",
      "{'entityType': 'Phone', 'value': '+31887083923'}\n",
      "{'entityType': 'Phone', 'value': '+31887083923'}\n"
     ]
    },
    {
     "name": "stderr",
     "output_type": "stream",
     "text": [
      "Generating Fact QAs:  22%|██▏       | 44/200 [03:10<25:57,  9.99s/it]"
     ]
    },
    {
     "name": "stdout",
     "output_type": "stream",
     "text": [
      "{'entityType': 'Phone', 'value': '+31887085311'}\n",
      "{'entityType': 'Phone', 'value': '+31887085311'}\n",
      "{'entityType': 'Phone', 'value': '+31887085311'}\n",
      "{'entityType': 'Phone', 'value': '+31887085311'}\n",
      "{'entityType': 'Phone', 'value': '+31887085311'}\n",
      "{'entityType': 'Email', 'value': 'kinderartsen@zgt.nl'}\n",
      "{'entityType': 'Email', 'value': 'kinderartsen@zgt.nl'}\n",
      "{'entityType': 'Email', 'value': 'kinderartsen@zgt.nl'}\n",
      "{'entityType': 'Email', 'value': 'kinderartsen@zgt.nl'}\n",
      "{'entityType': 'Email', 'value': 'kinderartsen@zgt.nl'}\n"
     ]
    },
    {
     "name": "stderr",
     "output_type": "stream",
     "text": [
      "Generating Fact QAs:  22%|██▎       | 45/200 [03:19<25:12,  9.76s/it]"
     ]
    },
    {
     "name": "stdout",
     "output_type": "stream",
     "text": [
      "{'entityType': 'Email', 'value': 'kinderartsen@zgt.nl'}\n",
      "{'entityType': 'Email', 'value': 'kinderartsen@zgt.nl'}\n",
      "{'entityType': 'Email', 'value': 'kinderartsen@zgt.nl'}\n",
      "{'entityType': 'Email', 'value': 'kinderartsen@zgt.nl'}\n",
      "{'entityType': 'Email', 'value': 'kinderartsen@zgt.nl'}\n",
      "{'entityType': 'Phone', 'value': '+31887083700'}\n",
      "{'entityType': 'Phone', 'value': '+31887083700'}\n",
      "{'entityType': 'Phone', 'value': '+31887083700'}\n",
      "{'entityType': 'Phone', 'value': '+31887083700'}\n",
      "{'entityType': 'Phone', 'value': '+31887083700'}\n"
     ]
    },
    {
     "name": "stderr",
     "output_type": "stream",
     "text": [
      "Generating Fact QAs:  23%|██▎       | 46/200 [03:28<24:44,  9.64s/it]"
     ]
    },
    {
     "name": "stdout",
     "output_type": "stream",
     "text": [
      "{'entityType': 'Phone', 'value': '+31887083700'}\n",
      "{'entityType': 'Phone', 'value': '+31887083700'}\n",
      "{'entityType': 'Phone', 'value': '+31887083700'}\n",
      "{'entityType': 'Phone', 'value': '+31887083700'}\n",
      "{'entityType': 'Phone', 'value': '+31887083700'}\n",
      "{'entityType': 'Phone', 'value': '+31887085231'}\n",
      "{'entityType': 'Phone', 'value': '+31887085231'}\n",
      "{'entityType': 'Phone', 'value': '+31887085231'}\n",
      "{'entityType': 'Phone', 'value': '+31887085231'}\n",
      "{'entityType': 'Phone', 'value': '+31887085231'}\n"
     ]
    },
    {
     "name": "stderr",
     "output_type": "stream",
     "text": [
      "Generating Fact QAs:  24%|██▎       | 47/200 [03:35<23:03,  9.04s/it]"
     ]
    },
    {
     "name": "stdout",
     "output_type": "stream",
     "text": [
      "{'entityType': 'Phone', 'value': '+31887085231'}\n",
      "{'entityType': 'Phone', 'value': '+31887085231'}\n",
      "{'entityType': 'Phone', 'value': '+31887085231'}\n",
      "{'entityType': 'Phone', 'value': '+31887085231'}\n",
      "{'entityType': 'Phone', 'value': '+31887085231'}\n",
      "{'entityType': 'Phone', 'value': '+31887087878'}\n",
      "{'entityType': 'Phone', 'value': '+31887087878'}\n",
      "{'entityType': 'Phone', 'value': '+31887087878'}\n",
      "{'entityType': 'Phone', 'value': '+31887087878'}\n",
      "{'entityType': 'Phone', 'value': '+31887087878'}\n",
      "{'entityType': 'Phone', 'value': '+31887085231'}\n",
      "{'entityType': 'Phone', 'value': '+31887085231'}\n",
      "{'entityType': 'Phone', 'value': '+31887085231'}\n",
      "{'entityType': 'Phone', 'value': '+31887085231'}\n",
      "{'entityType': 'Phone', 'value': '+31887085231'}\n",
      "{'entityType': 'Phone', 'value': '+31887085232'}\n",
      "{'entityType': 'Phone', 'value': '+31887085232'}\n",
      "{'entityType': 'Phone', 'value': '+31887085232'}\n",
      "{'entityType': 'Phone', 'value': '+31887085232'}\n",
      "{'entityType': 'Phone', 'value': '+31887085232'}\n",
      "{'entityType': 'Phone', 'value': '+31887085233'}\n",
      "{'entityType': 'Phone', 'value': '+31887085233'}\n",
      "{'entityType': 'Phone', 'value': '+31887085233'}\n",
      "{'entityType': 'Phone', 'value': '+31887085233'}\n",
      "{'entityType': 'Phone', 'value': '+31887085233'}\n",
      "{'entityType': 'Phone', 'value': '+31887085243'}\n",
      "{'entityType': 'Phone', 'value': '+31887085243'}\n",
      "{'entityType': 'Phone', 'value': '+31887085243'}\n",
      "{'entityType': 'Phone', 'value': '+31887085243'}\n",
      "{'entityType': 'Phone', 'value': '+31887085243'}\n",
      "{'entityType': 'Phone', 'value': '+31887087878'}\n",
      "{'entityType': 'Phone', 'value': '+31887087878'}\n",
      "{'entityType': 'Phone', 'value': '+31887087878'}\n",
      "{'entityType': 'Phone', 'value': '+31887087878'}\n",
      "{'entityType': 'Phone', 'value': '+31887087878'}\n",
      "{'entityType': 'Phone', 'value': '+31887085231'}\n",
      "{'entityType': 'Phone', 'value': '+31887085231'}\n",
      "{'entityType': 'Phone', 'value': '+31887085231'}\n",
      "{'entityType': 'Phone', 'value': '+31887085231'}\n",
      "{'entityType': 'Phone', 'value': '+31887085231'}\n",
      "{'entityType': 'Phone', 'value': '+31887085232'}\n",
      "{'entityType': 'Phone', 'value': '+31887085232'}\n",
      "{'entityType': 'Phone', 'value': '+31887085232'}\n",
      "{'entityType': 'Phone', 'value': '+31887085232'}\n",
      "{'entityType': 'Phone', 'value': '+31887085232'}\n",
      "{'entityType': 'Phone', 'value': '+31887085232'}\n",
      "{'entityType': 'Phone', 'value': '+31887085233'}\n",
      "{'entityType': 'Phone', 'value': '+31887085233'}\n",
      "{'entityType': 'Phone', 'value': '+31887085233'}\n",
      "{'entityType': 'Phone', 'value': '+31887085233'}\n",
      "{'entityType': 'Phone', 'value': '+31887085233'}\n"
     ]
    },
    {
     "name": "stderr",
     "output_type": "stream",
     "text": [
      "Generating Fact QAs:  24%|██▍       | 48/200 [04:11<38:48, 15.32s/it]"
     ]
    },
    {
     "name": "stdout",
     "output_type": "stream",
     "text": [
      "{'entityType': 'Phone', 'value': '+31887085243'}\n",
      "{'entityType': 'Phone', 'value': '+31887085243'}\n",
      "{'entityType': 'Phone', 'value': '+31887085243'}\n",
      "{'entityType': 'Phone', 'value': '+31887085243'}\n",
      "{'entityType': 'Phone', 'value': '+31887085243'}\n",
      "{'entityType': 'Phone', 'value': '+31887084320'}\n",
      "{'entityType': 'Phone', 'value': '+31887084320'}\n",
      "{'entityType': 'Phone', 'value': '+31887084320'}\n",
      "{'entityType': 'Phone', 'value': '+31887084320'}\n",
      "{'entityType': 'Phone', 'value': '+31887084320'}\n",
      "{'entityType': 'Phone', 'value': '+31887083313'}\n",
      "{'entityType': 'Phone', 'value': '+31887083313'}\n",
      "{'entityType': 'Phone', 'value': '+31887083313'}\n",
      "{'entityType': 'Phone', 'value': '+31887083313'}\n",
      "{'entityType': 'Phone', 'value': '+31887083313'}\n",
      "{'entityType': 'Phone', 'value': '+31887084320'}\n",
      "{'entityType': 'Phone', 'value': '+31887084320'}\n",
      "{'entityType': 'Phone', 'value': '+31887084320'}\n",
      "{'entityType': 'Phone', 'value': '+31887084320'}\n",
      "{'entityType': 'Phone', 'value': '+31887084320'}\n"
     ]
    },
    {
     "name": "stderr",
     "output_type": "stream",
     "text": [
      "Generating Fact QAs:  24%|██▍       | 49/200 [04:26<38:12, 15.18s/it]"
     ]
    },
    {
     "name": "stdout",
     "output_type": "stream",
     "text": [
      "{'entityType': 'Phone', 'value': '+31887083313'}\n",
      "{'entityType': 'Phone', 'value': '+31887083313'}\n",
      "{'entityType': 'Phone', 'value': '+31887083313'}\n",
      "{'entityType': 'Phone', 'value': '+31887083313'}\n",
      "{'entityType': 'Phone', 'value': '+31887083313'}\n",
      "{'entityType': 'Phone', 'value': '+31887083667'}\n",
      "{'entityType': 'Phone', 'value': '+31887083667'}\n",
      "{'entityType': 'Phone', 'value': '+31887083667'}\n",
      "{'entityType': 'Phone', 'value': '+31887083667'}\n",
      "{'entityType': 'Phone', 'value': '+31887083667'}\n",
      "{'entityType': 'Phone', 'value': '+31887085513'}\n",
      "{'entityType': 'Phone', 'value': '+31887085513'}\n",
      "{'entityType': 'Phone', 'value': '+31887085513'}\n",
      "{'entityType': 'Phone', 'value': '+31887085513'}\n",
      "{'entityType': 'Phone', 'value': '+31887085513'}\n",
      "{'entityType': 'Phone', 'value': '+31887087878'}\n",
      "{'entityType': 'Phone', 'value': '+31887087878'}\n",
      "{'entityType': 'Phone', 'value': '+31887083667'}\n",
      "{'entityType': 'Phone', 'value': '+31887083667'}\n",
      "{'entityType': 'Phone', 'value': '+31887083667'}\n",
      "{'entityType': 'Phone', 'value': '+31887083667'}\n",
      "{'entityType': 'Phone', 'value': '+31887083667'}\n",
      "{'entityType': 'Phone', 'value': '+31887085513'}\n",
      "{'entityType': 'Phone', 'value': '+31887085513'}\n",
      "{'entityType': 'Phone', 'value': '+31887085513'}\n",
      "{'entityType': 'Phone', 'value': '+31887085513'}\n",
      "{'entityType': 'Phone', 'value': '+31887085513'}\n"
     ]
    },
    {
     "name": "stderr",
     "output_type": "stream",
     "text": [
      "Generating Fact QAs:  26%|██▌       | 51/200 [04:48<33:16, 13.40s/it]"
     ]
    },
    {
     "name": "stdout",
     "output_type": "stream",
     "text": [
      "{'entityType': 'Phone', 'value': '+31887087878'}\n",
      "{'entityType': 'Phone', 'value': '+31887087878'}\n",
      "{'entityType': 'Phone', 'value': '+31887087878'}\n",
      "{'entityType': 'Phone', 'value': '+31887087878'}\n",
      "{'entityType': 'Phone', 'value': '+31887087878'}\n",
      "{'entityType': 'Phone', 'value': '+31887085232'}\n",
      "{'entityType': 'Phone', 'value': '+31887085232'}\n",
      "{'entityType': 'Phone', 'value': '+31887085232'}\n",
      "{'entityType': 'Phone', 'value': '+31887085232'}\n",
      "{'entityType': 'Phone', 'value': '+31887085232'}\n",
      "{'entityType': 'Email', 'value': 'mammapoli@zgt.nl'}\n",
      "{'entityType': 'Email', 'value': 'mammapoli@zgt.nl'}\n",
      "{'entityType': 'Email', 'value': 'mammapoli@zgt.nl'}\n",
      "{'entityType': 'Email', 'value': 'mammapoli@zgt.nl'}\n",
      "{'entityType': 'Email', 'value': 'mammapoli@zgt.nl'}\n",
      "{'entityType': 'Phone', 'value': '+31887085232'}\n",
      "{'entityType': 'Phone', 'value': '+31887085232'}\n",
      "{'entityType': 'Phone', 'value': '+31887085232'}\n",
      "{'entityType': 'Phone', 'value': '+31887085232'}\n",
      "{'entityType': 'Phone', 'value': '+31887085232'}\n"
     ]
    },
    {
     "name": "stderr",
     "output_type": "stream",
     "text": [
      "Generating Fact QAs:  26%|██▌       | 52/200 [05:06<36:10, 14.66s/it]"
     ]
    },
    {
     "name": "stdout",
     "output_type": "stream",
     "text": [
      "{'entityType': 'Email', 'value': 'mammapoli@zgt.nl'}\n",
      "{'entityType': 'Email', 'value': 'mammapoli@zgt.nl'}\n",
      "{'entityType': 'Email', 'value': 'mammapoli@zgt.nl'}\n",
      "{'entityType': 'Email', 'value': 'mammapoli@zgt.nl'}\n",
      "{'entityType': 'Email', 'value': 'mammapoli@zgt.nl'}\n",
      "{'entityType': 'Phone', 'value': '+31887083120'}\n",
      "{'entityType': 'Phone', 'value': '+31887083120'}\n",
      "{'entityType': 'Phone', 'value': '+31887083120'}\n",
      "{'entityType': 'Phone', 'value': '+31887083120'}\n",
      "{'entityType': 'Phone', 'value': '+31887083120'}\n",
      "{'entityType': 'Phone', 'value': '+31887084450'}\n",
      "{'entityType': 'Phone', 'value': '+31887084450'}\n",
      "{'entityType': 'Phone', 'value': '+31887084450'}\n",
      "{'entityType': 'Phone', 'value': '+31887084450'}\n",
      "{'entityType': 'Phone', 'value': '+31887084450'}\n",
      "{'entityType': 'Phone', 'value': '+31887083120'}\n",
      "{'entityType': 'Phone', 'value': '+31887083120'}\n",
      "{'entityType': 'Phone', 'value': '+31887083120'}\n",
      "{'entityType': 'Phone', 'value': '+31887083120'}\n",
      "{'entityType': 'Phone', 'value': '+31887083120'}\n"
     ]
    },
    {
     "name": "stderr",
     "output_type": "stream",
     "text": [
      "Generating Fact QAs:  26%|██▋       | 53/200 [05:21<36:01, 14.70s/it]"
     ]
    },
    {
     "name": "stdout",
     "output_type": "stream",
     "text": [
      "{'entityType': 'Phone', 'value': '+31887084450'}\n",
      "{'entityType': 'Phone', 'value': '+31887084450'}\n",
      "{'entityType': 'Phone', 'value': '+31887084450'}\n",
      "{'entityType': 'Phone', 'value': '+31887084450'}\n",
      "{'entityType': 'Phone', 'value': '+31887084450'}\n",
      "{'entityType': 'Phone', 'value': '+31887085231'}\n",
      "{'entityType': 'Phone', 'value': '+31887085231'}\n",
      "{'entityType': 'Phone', 'value': '+31887085231'}\n",
      "{'entityType': 'Phone', 'value': '+31887085231'}\n",
      "{'entityType': 'Phone', 'value': '+31887085231'}\n"
     ]
    },
    {
     "name": "stderr",
     "output_type": "stream",
     "text": [
      "Generating Fact QAs:  27%|██▋       | 54/200 [05:29<31:05, 12.77s/it]"
     ]
    },
    {
     "name": "stdout",
     "output_type": "stream",
     "text": [
      "{'entityType': 'Phone', 'value': '+31887085231'}\n",
      "{'entityType': 'Phone', 'value': '+31887085231'}\n",
      "{'entityType': 'Phone', 'value': '+31887085231'}\n",
      "{'entityType': 'Phone', 'value': '+31887085231'}\n",
      "{'entityType': 'Phone', 'value': '+31887085231'}\n",
      "{'entityType': 'Phone', 'value': '+31887085231'}\n",
      "{'entityType': 'Phone', 'value': '+31887085231'}\n",
      "{'entityType': 'Phone', 'value': '+31887085231'}\n",
      "{'entityType': 'Phone', 'value': '+31887085231'}\n",
      "{'entityType': 'Phone', 'value': '+31887085231'}\n"
     ]
    },
    {
     "name": "stderr",
     "output_type": "stream",
     "text": [
      "Generating Fact QAs:  28%|██▊       | 55/200 [05:36<27:08, 11.23s/it]"
     ]
    },
    {
     "name": "stdout",
     "output_type": "stream",
     "text": [
      "{'entityType': 'Phone', 'value': '+31887085231'}\n",
      "{'entityType': 'Phone', 'value': '+31887085231'}\n",
      "{'entityType': 'Phone', 'value': '+31887085231'}\n",
      "{'entityType': 'Phone', 'value': '+31887085231'}\n",
      "{'entityType': 'Phone', 'value': '+31887085231'}\n",
      "{'entityType': 'Phone', 'value': '+31887083350'}\n",
      "{'entityType': 'Phone', 'value': '+31887083350'}\n",
      "{'entityType': 'Phone', 'value': '+31887083350'}\n",
      "{'entityType': 'Phone', 'value': '+31887083350'}\n",
      "{'entityType': 'Phone', 'value': '+31887083350'}\n"
     ]
    },
    {
     "name": "stderr",
     "output_type": "stream",
     "text": [
      "Generating Fact QAs:  28%|██▊       | 56/200 [05:42<23:45,  9.90s/it]"
     ]
    },
    {
     "name": "stdout",
     "output_type": "stream",
     "text": [
      "{'entityType': 'Phone', 'value': '+31887083350'}\n",
      "{'entityType': 'Phone', 'value': '+31887083350'}\n",
      "{'entityType': 'Phone', 'value': '+31887083350'}\n",
      "{'entityType': 'Phone', 'value': '+31887083350'}\n",
      "{'entityType': 'Phone', 'value': '+31887083350'}\n",
      "{'entityType': 'Phone', 'value': '+31887085243'}\n",
      "{'entityType': 'Phone', 'value': '+31887085243'}\n",
      "{'entityType': 'Phone', 'value': '+31887085243'}\n",
      "{'entityType': 'Phone', 'value': '+31887085243'}\n",
      "{'entityType': 'Phone', 'value': '+31887085243'}\n",
      "{'entityType': 'Phone', 'value': '+31887087878'}\n",
      "{'entityType': 'Phone', 'value': '+31887087878'}\n",
      "{'entityType': 'Phone', 'value': '+31887087878'}\n",
      "{'entityType': 'Phone', 'value': '+31887087878'}\n",
      "{'entityType': 'Phone', 'value': '+31887087878'}\n",
      "{'entityType': 'Phone', 'value': '+31887085243'}\n",
      "{'entityType': 'Phone', 'value': '+31887085243'}\n",
      "{'entityType': 'Phone', 'value': '+31887085243'}\n",
      "{'entityType': 'Phone', 'value': '+31887085243'}\n",
      "{'entityType': 'Phone', 'value': '+31887085243'}\n"
     ]
    },
    {
     "name": "stderr",
     "output_type": "stream",
     "text": [
      "Generating Fact QAs:  28%|██▊       | 57/200 [06:02<30:08, 12.65s/it]"
     ]
    },
    {
     "name": "stdout",
     "output_type": "stream",
     "text": [
      "{'entityType': 'Phone', 'value': '+31887087878'}\n",
      "{'entityType': 'Phone', 'value': '+31887087878'}\n",
      "{'entityType': 'Phone', 'value': '+31887087878'}\n",
      "{'entityType': 'Phone', 'value': '+31887087878'}\n",
      "{'entityType': 'Phone', 'value': '+31887087878'}\n",
      "{'entityType': 'Phone', 'value': '+31887085231'}\n",
      "{'entityType': 'Phone', 'value': '+31887085231'}\n",
      "{'entityType': 'Phone', 'value': '+31887085231'}\n",
      "{'entityType': 'Phone', 'value': '+31887085231'}\n",
      "{'entityType': 'Phone', 'value': '+31887085231'}\n"
     ]
    },
    {
     "name": "stderr",
     "output_type": "stream",
     "text": [
      "Generating Fact QAs:  30%|██▉       | 59/200 [06:10<21:01,  8.95s/it]"
     ]
    },
    {
     "name": "stdout",
     "output_type": "stream",
     "text": [
      "{'entityType': 'Phone', 'value': '+31887085231'}\n",
      "{'entityType': 'Phone', 'value': '+31887085231'}\n",
      "{'entityType': 'Phone', 'value': '+31887085231'}\n",
      "{'entityType': 'Phone', 'value': '+31887085231'}\n",
      "{'entityType': 'Phone', 'value': '+31887085231'}\n",
      "{'entityType': 'Phone', 'value': '+31887083120'}\n",
      "{'entityType': 'Phone', 'value': '+31887083120'}\n",
      "{'entityType': 'Phone', 'value': '+31887083120'}\n",
      "{'entityType': 'Phone', 'value': '+31887083120'}\n",
      "{'entityType': 'Phone', 'value': '+31887083120'}\n"
     ]
    },
    {
     "name": "stderr",
     "output_type": "stream",
     "text": [
      "Generating Fact QAs:  30%|███       | 60/200 [06:17<19:40,  8.43s/it]"
     ]
    },
    {
     "name": "stdout",
     "output_type": "stream",
     "text": [
      "{'entityType': 'Phone', 'value': '+31887083120'}\n",
      "{'entityType': 'Phone', 'value': '+31887083120'}\n",
      "{'entityType': 'Phone', 'value': '+31887083120'}\n",
      "{'entityType': 'Phone', 'value': '+31887083120'}\n",
      "{'entityType': 'Phone', 'value': '+31887083120'}\n",
      "{'entityType': 'Phone', 'value': '+31887087070'}\n",
      "{'entityType': 'Phone', 'value': '+31887087070'}\n",
      "{'entityType': 'Phone', 'value': '+31887087070'}\n",
      "{'entityType': 'Phone', 'value': '+31887087070'}\n",
      "{'entityType': 'Phone', 'value': '+31887087070'}\n"
     ]
    },
    {
     "name": "stderr",
     "output_type": "stream",
     "text": [
      "Generating Fact QAs:  32%|███▏      | 64/200 [06:25<10:34,  4.66s/it]"
     ]
    },
    {
     "name": "stdout",
     "output_type": "stream",
     "text": [
      "{'entityType': 'Phone', 'value': '+31887087070'}\n",
      "{'entityType': 'Phone', 'value': '+31887087070'}\n",
      "{'entityType': 'Phone', 'value': '+31887087070'}\n",
      "{'entityType': 'Phone', 'value': '+31887087070'}\n",
      "{'entityType': 'Phone', 'value': '+31887087070'}\n",
      "{'entityType': 'Phone', 'value': '+31887083120'}\n",
      "{'entityType': 'Phone', 'value': '+31887083120'}\n",
      "{'entityType': 'Phone', 'value': '+31887083120'}\n",
      "{'entityType': 'Phone', 'value': '+31887083120'}\n",
      "{'entityType': 'Phone', 'value': '+31887083120'}\n"
     ]
    },
    {
     "name": "stderr",
     "output_type": "stream",
     "text": [
      "Generating Fact QAs:  33%|███▎      | 66/200 [06:34<10:23,  4.66s/it]"
     ]
    },
    {
     "name": "stdout",
     "output_type": "stream",
     "text": [
      "{'entityType': 'Phone', 'value': '+31887083120'}\n",
      "{'entityType': 'Phone', 'value': '+31887083120'}\n",
      "{'entityType': 'Phone', 'value': '+31887083120'}\n",
      "{'entityType': 'Phone', 'value': '+31887083120'}\n",
      "{'entityType': 'Phone', 'value': '+31887083120'}\n",
      "{'entityType': 'Phone', 'value': '+31887083700'}\n",
      "{'entityType': 'Phone', 'value': '+31887083700'}\n",
      "{'entityType': 'Phone', 'value': '+31887083700'}\n",
      "{'entityType': 'Phone', 'value': '+31887083700'}\n",
      "{'entityType': 'Phone', 'value': '+31887083700'}\n"
     ]
    },
    {
     "name": "stderr",
     "output_type": "stream",
     "text": [
      "Generating Fact QAs:  34%|███▎      | 67/200 [06:43<11:48,  5.32s/it]"
     ]
    },
    {
     "name": "stdout",
     "output_type": "stream",
     "text": [
      "{'entityType': 'Phone', 'value': '+31887083700'}\n",
      "{'entityType': 'Phone', 'value': '+31887083700'}\n",
      "{'entityType': 'Phone', 'value': '+31887083700'}\n",
      "{'entityType': 'Phone', 'value': '+31887083700'}\n",
      "{'entityType': 'Phone', 'value': '+31887083700'}\n",
      "{'entityType': 'Email', 'value': 'secretariaat@schisis-team.nl'}\n",
      "{'entityType': 'Email', 'value': 'secretariaat@schisis-team.nl'}\n",
      "{'entityType': 'Email', 'value': 'secretariaat@schisis-team.nl'}\n",
      "{'entityType': 'Email', 'value': 'secretariaat@schisis-team.nl'}\n",
      "{'entityType': 'Email', 'value': 'secretariaat@schisis-team.nl'}\n"
     ]
    },
    {
     "name": "stderr",
     "output_type": "stream",
     "text": [
      "Generating Fact QAs:  34%|███▍      | 68/200 [06:51<12:50,  5.83s/it]"
     ]
    },
    {
     "name": "stdout",
     "output_type": "stream",
     "text": [
      "{'entityType': 'Email', 'value': 'secretariaat@schisis-team.nl'}\n",
      "{'entityType': 'Email', 'value': 'secretariaat@schisis-team.nl'}\n",
      "{'entityType': 'Email', 'value': 'secretariaat@schisis-team.nl'}\n",
      "{'entityType': 'Email', 'value': 'secretariaat@schisis-team.nl'}\n",
      "{'entityType': 'Email', 'value': 'secretariaat@schisis-team.nl'}\n",
      "{'entityType': 'Phone', 'value': '+31887083110'}\n",
      "{'entityType': 'Phone', 'value': '+31887083110'}\n",
      "{'entityType': 'Phone', 'value': '+31887083110'}\n",
      "{'entityType': 'Phone', 'value': '+31887083110'}\n",
      "{'entityType': 'Phone', 'value': '+31887083110'}\n"
     ]
    },
    {
     "name": "stderr",
     "output_type": "stream",
     "text": [
      "Generating Fact QAs:  34%|███▍      | 69/200 [06:59<13:40,  6.26s/it]"
     ]
    },
    {
     "name": "stdout",
     "output_type": "stream",
     "text": [
      "{'entityType': 'Phone', 'value': '+31887083110'}\n",
      "{'entityType': 'Phone', 'value': '+31887083110'}\n",
      "{'entityType': 'Phone', 'value': '+31887083110'}\n",
      "{'entityType': 'Phone', 'value': '+31887083110'}\n",
      "{'entityType': 'Phone', 'value': '+31887083110'}\n",
      "{'entityType': 'Phone', 'value': '+31887085232'}\n",
      "{'entityType': 'Phone', 'value': '+31887085232'}\n",
      "{'entityType': 'Phone', 'value': '+31887085232'}\n",
      "{'entityType': 'Phone', 'value': '+31887085232'}\n",
      "{'entityType': 'Phone', 'value': '+31887085232'}\n",
      "{'entityType': 'Email', 'value': 'mammapoli@zgt.nl'}\n",
      "{'entityType': 'Email', 'value': 'mammapoli@zgt.nl'}\n",
      "{'entityType': 'Email', 'value': 'mammapoli@zgt.nl'}\n",
      "{'entityType': 'Email', 'value': 'mammapoli@zgt.nl'}\n",
      "{'entityType': 'Email', 'value': 'mammapoli@zgt.nl'}\n",
      "{'entityType': 'Phone', 'value': '+31887085232'}\n",
      "{'entityType': 'Phone', 'value': '+31887085232'}\n",
      "{'entityType': 'Phone', 'value': '+31887085232'}\n",
      "{'entityType': 'Phone', 'value': '+31887085232'}\n",
      "{'entityType': 'Phone', 'value': '+31887085232'}\n"
     ]
    },
    {
     "name": "stderr",
     "output_type": "stream",
     "text": [
      "Generating Fact QAs:  35%|███▌      | 70/200 [07:14<18:28,  8.53s/it]"
     ]
    },
    {
     "name": "stdout",
     "output_type": "stream",
     "text": [
      "{'entityType': 'Phone', 'value': '+31887087878'}\n",
      "{'entityType': 'Phone', 'value': '+31887087878'}\n",
      "{'entityType': 'Phone', 'value': '+31887087878'}\n",
      "{'entityType': 'Phone', 'value': '+31887087878'}\n",
      "{'entityType': 'Phone', 'value': '+31887087878'}\n",
      "{'entityType': 'Phone', 'value': '+31887085243'}\n",
      "{'entityType': 'Phone', 'value': '+31887085243'}\n",
      "{'entityType': 'Phone', 'value': '+31887085243'}\n",
      "{'entityType': 'Phone', 'value': '+31887085243'}\n",
      "{'entityType': 'Phone', 'value': '+31887085243'}\n"
     ]
    },
    {
     "name": "stderr",
     "output_type": "stream",
     "text": [
      "Generating Fact QAs:  36%|███▌      | 71/200 [07:38<26:41, 12.41s/it]"
     ]
    },
    {
     "name": "stdout",
     "output_type": "stream",
     "text": [
      "{'entityType': 'Phone', 'value': '+31887087878'}\n",
      "{'entityType': 'Phone', 'value': '+31887087878'}\n",
      "{'entityType': 'Phone', 'value': '+31887087878'}\n",
      "{'entityType': 'Phone', 'value': '+31887087878'}\n",
      "{'entityType': 'Phone', 'value': '+31887087878'}\n",
      "{'entityType': 'Phone', 'value': '+31887083700'}\n",
      "{'entityType': 'Phone', 'value': '+31887083700'}\n",
      "{'entityType': 'Phone', 'value': '+31887083700'}\n",
      "{'entityType': 'Phone', 'value': '+31887083700'}\n",
      "{'entityType': 'Phone', 'value': '+31887083700'}\n"
     ]
    },
    {
     "name": "stderr",
     "output_type": "stream",
     "text": [
      "Generating Fact QAs:  36%|███▌      | 72/200 [07:46<24:04, 11.29s/it]"
     ]
    },
    {
     "name": "stdout",
     "output_type": "stream",
     "text": [
      "{'entityType': 'Phone', 'value': '+31887083700'}\n",
      "{'entityType': 'Phone', 'value': '+31887083700'}\n",
      "{'entityType': 'Phone', 'value': '+31887083700'}\n",
      "{'entityType': 'Phone', 'value': '+31887083700'}\n",
      "{'entityType': 'Phone', 'value': '+31887083700'}\n",
      "{'entityType': 'Phone', 'value': '+31887083400'}\n",
      "{'entityType': 'Phone', 'value': '+31887083400'}\n",
      "{'entityType': 'Phone', 'value': '+31887083400'}\n",
      "{'entityType': 'Phone', 'value': '+31887083400'}\n",
      "{'entityType': 'Phone', 'value': '+31887083400'}\n"
     ]
    },
    {
     "name": "stderr",
     "output_type": "stream",
     "text": [
      "Generating Fact QAs:  36%|███▋      | 73/200 [07:53<21:14, 10.03s/it]"
     ]
    },
    {
     "name": "stdout",
     "output_type": "stream",
     "text": [
      "{'entityType': 'Phone', 'value': '+31887083400'}\n",
      "{'entityType': 'Phone', 'value': '+31887083400'}\n",
      "{'entityType': 'Phone', 'value': '+31887083400'}\n",
      "{'entityType': 'Phone', 'value': '+31887083400'}\n",
      "{'entityType': 'Phone', 'value': '+31887083400'}\n",
      "{'entityType': 'Phone', 'value': '+31887083620'}\n",
      "{'entityType': 'Phone', 'value': '+31887083620'}\n",
      "{'entityType': 'Phone', 'value': '+31887083620'}\n",
      "{'entityType': 'Phone', 'value': '+31887083620'}\n",
      "{'entityType': 'Phone', 'value': '+31887083620'}\n"
     ]
    },
    {
     "name": "stderr",
     "output_type": "stream",
     "text": [
      "Generating Fact QAs:  58%|█████▊    | 116/200 [08:01<01:02,  1.35it/s]"
     ]
    },
    {
     "name": "stdout",
     "output_type": "stream",
     "text": [
      "{'entityType': 'Phone', 'value': '+31887083620'}\n",
      "{'entityType': 'Phone', 'value': '+31887083620'}\n",
      "{'entityType': 'Phone', 'value': '+31887083620'}\n",
      "{'entityType': 'Phone', 'value': '+31887083620'}\n",
      "{'entityType': 'Phone', 'value': '+31887083620'}\n",
      "{'entityType': 'Phone', 'value': '+31887087010'}\n",
      "{'entityType': 'Phone', 'value': '+31887087010'}\n",
      "{'entityType': 'Phone', 'value': '+31887087010'}\n",
      "{'entityType': 'Phone', 'value': '+31887087010'}\n",
      "{'entityType': 'Phone', 'value': '+31887087010'}\n"
     ]
    },
    {
     "name": "stderr",
     "output_type": "stream",
     "text": [
      "Generating Fact QAs:  68%|██████▊   | 136/200 [08:09<00:38,  1.66it/s]"
     ]
    },
    {
     "name": "stdout",
     "output_type": "stream",
     "text": [
      "{'entityType': 'Phone', 'value': '+31887087010'}\n",
      "{'entityType': 'Phone', 'value': '+31887087010'}\n",
      "{'entityType': 'Phone', 'value': '+31887087010'}\n",
      "{'entityType': 'Phone', 'value': '+31887087010'}\n",
      "{'entityType': 'Phone', 'value': '+31887087010'}\n",
      "{'entityType': 'Phone', 'value': '+31887083220'}\n",
      "{'entityType': 'Phone', 'value': '+31887083220'}\n",
      "{'entityType': 'Phone', 'value': '+31887083220'}\n",
      "{'entityType': 'Phone', 'value': '+31887083220'}\n",
      "{'entityType': 'Phone', 'value': '+31887083220'}\n",
      "{'entityType': 'Email', 'value': 'dietisten@zgt.nl'}\n",
      "{'entityType': 'Email', 'value': 'dietisten@zgt.nl'}\n",
      "{'entityType': 'Email', 'value': 'dietisten@zgt.nl'}\n",
      "{'entityType': 'Email', 'value': 'dietisten@zgt.nl'}\n",
      "{'entityType': 'Email', 'value': 'dietisten@zgt.nl'}\n",
      "{'entityType': 'Phone', 'value': '+31887083220'}\n",
      "{'entityType': 'Phone', 'value': '+31887083220'}\n",
      "{'entityType': 'Phone', 'value': '+31887083220'}\n",
      "{'entityType': 'Phone', 'value': '+31887083220'}\n",
      "{'entityType': 'Phone', 'value': '+31887083220'}\n"
     ]
    },
    {
     "name": "stderr",
     "output_type": "stream",
     "text": [
      "Generating Fact QAs: 100%|██████████| 200/200 [08:23<00:00,  2.52s/it]"
     ]
    },
    {
     "name": "stdout",
     "output_type": "stream",
     "text": [
      "{'entityType': 'Email', 'value': 'dietisten@zgt.nl'}\n",
      "{'entityType': 'Email', 'value': 'dietisten@zgt.nl'}\n",
      "{'entityType': 'Email', 'value': 'dietisten@zgt.nl'}\n",
      "{'entityType': 'Email', 'value': 'dietisten@zgt.nl'}\n",
      "{'entityType': 'Email', 'value': 'dietisten@zgt.nl'}\n"
     ]
    },
    {
     "name": "stderr",
     "output_type": "stream",
     "text": [
      "\n"
     ]
    }
   ],
   "source": [
    "sample = loadData(fname, basepath)\n",
    "\n",
    "sample['Context Entities'] = sample['Document'].apply(extract_all_entities)\n",
    "\n",
    "new_questions_df = generateFactQuestions(sample)\n",
    "new_questions_df.to_csv(f\"{basepath}/output_fact_raw_{fname}.csv\")\n",
    "df = vectorFilter(new_questions_df)\n",
    "df = llmScore(df)\n",
    "df = filterFactQuestionCorrectness(df)\n",
    "\n",
    "## take top one for each doc\n",
    "df['Fact Value'] = df['Fact'].apply(lambda x: x.get('value'))\n",
    "idx = df.groupby(['Document', 'Fact Value'])['LLM Score'].idxmax()\n",
    "df = df.loc[idx]"
   ]
  },
  {
   "cell_type": "code",
   "execution_count": 18,
   "id": "76df93cf42a01abc",
   "metadata": {
    "ExecuteTime": {
     "start_time": "2024-01-10T09:48:24.229704200Z"
    },
    "collapsed": false,
    "jupyter": {
     "outputs_hidden": false
    }
   },
   "outputs": [],
   "source": [
    "\n",
    "df.to_csv(f\"{basepath}/output_full_fact_{fname}.csv\")\n",
    "df.to_csv(f\"{basepath}/output_fact_{fname}.csv\", columns = ['topic_id', 'filename', 'header', 'section_text', 'Fact', 'Question', 'Answer'])"
   ]
  },
  {
   "cell_type": "code",
   "execution_count": null,
   "id": "5348f230a06fdb78",
   "metadata": {
    "ExecuteTime": {
     "start_time": "2024-01-10T09:48:24.237078200Z"
    },
    "collapsed": false,
    "jupyter": {
     "outputs_hidden": false
    }
   },
   "outputs": [],
   "source": []
  },
  {
   "cell_type": "code",
   "execution_count": null,
   "id": "d0441a0ce23ddf03",
   "metadata": {
    "ExecuteTime": {
     "start_time": "2024-01-10T09:48:24.240504700Z"
    },
    "collapsed": false,
    "jupyter": {
     "outputs_hidden": false
    }
   },
   "outputs": [],
   "source": []
  },
  {
   "cell_type": "code",
   "execution_count": null,
   "id": "3f518a44f4699800",
   "metadata": {
    "ExecuteTime": {
     "start_time": "2024-01-10T09:48:24.243544100Z"
    },
    "collapsed": false,
    "jupyter": {
     "outputs_hidden": false
    }
   },
   "outputs": [],
   "source": []
  },
  {
   "cell_type": "code",
   "execution_count": null,
   "id": "d364889b905aecaf",
   "metadata": {
    "ExecuteTime": {
     "start_time": "2024-01-10T09:48:24.247209800Z"
    },
    "collapsed": false,
    "jupyter": {
     "outputs_hidden": false
    }
   },
   "outputs": [],
   "source": []
  },
  {
   "cell_type": "code",
   "execution_count": null,
   "id": "b84c7fd476e9c5f0",
   "metadata": {
    "ExecuteTime": {
     "start_time": "2024-01-10T09:48:24.251156600Z"
    },
    "collapsed": false,
    "jupyter": {
     "outputs_hidden": false
    }
   },
   "outputs": [],
   "source": []
  }
 ],
 "metadata": {
  "kernelspec": {
   "display_name": "Python",
   "language": "python",
   "name": "python3"
  },
  "language_info": {
   "codemirror_mode": {
    "name": "ipython",
    "version": 3
   },
   "file_extension": ".py",
   "mimetype": "text/x-python",
   "name": "python",
   "nbconvert_exporter": "python",
   "pygments_lexer": "ipython3",
   "version": "3.8.10"
  }
 },
 "nbformat": 4,
 "nbformat_minor": 5
}
