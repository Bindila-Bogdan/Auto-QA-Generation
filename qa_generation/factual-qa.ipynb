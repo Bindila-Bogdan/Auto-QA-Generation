{
 "cells": [
  {
   "cell_type": "code",
   "execution_count": 1,
   "id": "initial_id",
   "metadata": {},
   "outputs": [
    {
     "name": "stdout",
     "output_type": "stream",
     "text": [
      "Defaulting to user installation because normal site-packages is not writeable\n",
      "Requirement already satisfied: langchain in /home/jovyan/.local/lib/python3.8/site-packages (0.0.335)\n",
      "Requirement already satisfied: PyYAML>=5.3 in /usr/local/lib/python3.8/dist-packages (from langchain) (6.0.1)\n",
      "Requirement already satisfied: SQLAlchemy<3,>=1.4 in /usr/local/lib/python3.8/dist-packages (from langchain) (2.0.25)\n",
      "Requirement already satisfied: aiohttp<4.0.0,>=3.8.3 in /usr/local/lib/python3.8/dist-packages (from langchain) (3.9.1)\n",
      "Requirement already satisfied: anyio<4.0 in /home/jovyan/.local/lib/python3.8/site-packages (from langchain) (3.7.1)\n",
      "Requirement already satisfied: async-timeout<5.0.0,>=4.0.0 in /usr/local/lib/python3.8/dist-packages (from langchain) (4.0.3)\n",
      "Requirement already satisfied: dataclasses-json<0.7,>=0.5.7 in /home/jovyan/.local/lib/python3.8/site-packages (from langchain) (0.6.2)\n",
      "Requirement already satisfied: jsonpatch<2.0,>=1.33 in /home/jovyan/.local/lib/python3.8/site-packages (from langchain) (1.33)\n",
      "Requirement already satisfied: langsmith<0.1.0,>=0.0.63 in /home/jovyan/.local/lib/python3.8/site-packages (from langchain) (0.0.64)\n",
      "Requirement already satisfied: numpy<2,>=1 in /home/jovyan/.local/lib/python3.8/site-packages (from langchain) (1.24.4)\n",
      "Requirement already satisfied: pydantic<3,>=1 in /home/jovyan/.local/lib/python3.8/site-packages (from langchain) (2.3.0)\n",
      "Requirement already satisfied: requests<3,>=2 in /usr/local/lib/python3.8/dist-packages (from langchain) (2.31.0)\n",
      "Requirement already satisfied: tenacity<9.0.0,>=8.1.0 in /usr/local/lib/python3.8/dist-packages (from langchain) (8.2.3)\n",
      "Requirement already satisfied: attrs>=17.3.0 in /usr/local/lib/python3.8/dist-packages (from aiohttp<4.0.0,>=3.8.3->langchain) (23.2.0)\n",
      "Requirement already satisfied: multidict<7.0,>=4.5 in /usr/local/lib/python3.8/dist-packages (from aiohttp<4.0.0,>=3.8.3->langchain) (6.0.4)\n",
      "Requirement already satisfied: yarl<2.0,>=1.0 in /usr/local/lib/python3.8/dist-packages (from aiohttp<4.0.0,>=3.8.3->langchain) (1.9.4)\n",
      "Requirement already satisfied: frozenlist>=1.1.1 in /usr/local/lib/python3.8/dist-packages (from aiohttp<4.0.0,>=3.8.3->langchain) (1.4.1)\n",
      "Requirement already satisfied: aiosignal>=1.1.2 in /usr/local/lib/python3.8/dist-packages (from aiohttp<4.0.0,>=3.8.3->langchain) (1.3.1)\n",
      "Requirement already satisfied: idna>=2.8 in /usr/lib/python3/dist-packages (from anyio<4.0->langchain) (2.8)\n",
      "Requirement already satisfied: sniffio>=1.1 in /usr/local/lib/python3.8/dist-packages (from anyio<4.0->langchain) (1.3.0)\n",
      "Requirement already satisfied: exceptiongroup in /usr/local/lib/python3.8/dist-packages (from anyio<4.0->langchain) (1.2.0)\n",
      "Requirement already satisfied: marshmallow<4.0.0,>=3.18.0 in /home/jovyan/.local/lib/python3.8/site-packages (from dataclasses-json<0.7,>=0.5.7->langchain) (3.20.1)\n",
      "Requirement already satisfied: typing-inspect<1,>=0.4.0 in /home/jovyan/.local/lib/python3.8/site-packages (from dataclasses-json<0.7,>=0.5.7->langchain) (0.9.0)\n",
      "Requirement already satisfied: jsonpointer>=1.9 in /usr/local/lib/python3.8/dist-packages (from jsonpatch<2.0,>=1.33->langchain) (2.4)\n",
      "Requirement already satisfied: annotated-types>=0.4.0 in /home/jovyan/.local/lib/python3.8/site-packages (from pydantic<3,>=1->langchain) (0.5.0)\n",
      "Requirement already satisfied: pydantic-core==2.6.3 in /home/jovyan/.local/lib/python3.8/site-packages (from pydantic<3,>=1->langchain) (2.6.3)\n",
      "Requirement already satisfied: typing-extensions>=4.6.1 in /usr/local/lib/python3.8/dist-packages (from pydantic<3,>=1->langchain) (4.9.0)\n",
      "Requirement already satisfied: charset-normalizer<4,>=2 in /usr/local/lib/python3.8/dist-packages (from requests<3,>=2->langchain) (3.3.2)\n",
      "Requirement already satisfied: urllib3<3,>=1.21.1 in /home/jovyan/.local/lib/python3.8/site-packages (from requests<3,>=2->langchain) (1.26.18)\n",
      "Requirement already satisfied: certifi>=2017.4.17 in /usr/lib/python3/dist-packages (from requests<3,>=2->langchain) (2019.11.28)\n",
      "Requirement already satisfied: greenlet!=0.4.17 in /usr/local/lib/python3.8/dist-packages (from SQLAlchemy<3,>=1.4->langchain) (3.0.3)\n",
      "Requirement already satisfied: packaging>=17.0 in /usr/local/lib/python3.8/dist-packages (from marshmallow<4.0.0,>=3.18.0->dataclasses-json<0.7,>=0.5.7->langchain) (23.2)\n",
      "Requirement already satisfied: mypy-extensions>=0.3.0 in /home/jovyan/.local/lib/python3.8/site-packages (from typing-inspect<1,>=0.4.0->dataclasses-json<0.7,>=0.5.7->langchain) (1.0.0)\n",
      "Defaulting to user installation because normal site-packages is not writeable\n",
      "Requirement already satisfied: openai in /home/jovyan/.local/lib/python3.8/site-packages (1.6.1)\n",
      "Requirement already satisfied: anyio<5,>=3.5.0 in /home/jovyan/.local/lib/python3.8/site-packages (from openai) (3.7.1)\n",
      "Requirement already satisfied: distro<2,>=1.7.0 in /home/jovyan/.local/lib/python3.8/site-packages (from openai) (1.9.0)\n",
      "Requirement already satisfied: httpx<1,>=0.23.0 in /usr/local/lib/python3.8/dist-packages (from openai) (0.26.0)\n",
      "Requirement already satisfied: pydantic<3,>=1.9.0 in /home/jovyan/.local/lib/python3.8/site-packages (from openai) (2.3.0)\n",
      "Requirement already satisfied: sniffio in /usr/local/lib/python3.8/dist-packages (from openai) (1.3.0)\n",
      "Requirement already satisfied: tqdm>4 in /usr/local/lib/python3.8/dist-packages (from openai) (4.66.1)\n",
      "Requirement already satisfied: typing-extensions<5,>=4.7 in /usr/local/lib/python3.8/dist-packages (from openai) (4.9.0)\n",
      "Requirement already satisfied: idna>=2.8 in /usr/lib/python3/dist-packages (from anyio<5,>=3.5.0->openai) (2.8)\n",
      "Requirement already satisfied: exceptiongroup in /usr/local/lib/python3.8/dist-packages (from anyio<5,>=3.5.0->openai) (1.2.0)\n",
      "Requirement already satisfied: certifi in /usr/lib/python3/dist-packages (from httpx<1,>=0.23.0->openai) (2019.11.28)\n",
      "Requirement already satisfied: httpcore==1.* in /usr/local/lib/python3.8/dist-packages (from httpx<1,>=0.23.0->openai) (1.0.2)\n",
      "Requirement already satisfied: h11<0.15,>=0.13 in /usr/local/lib/python3.8/dist-packages (from httpcore==1.*->httpx<1,>=0.23.0->openai) (0.14.0)\n",
      "Requirement already satisfied: annotated-types>=0.4.0 in /home/jovyan/.local/lib/python3.8/site-packages (from pydantic<3,>=1.9.0->openai) (0.5.0)\n",
      "Requirement already satisfied: pydantic-core==2.6.3 in /home/jovyan/.local/lib/python3.8/site-packages (from pydantic<3,>=1.9.0->openai) (2.6.3)\n",
      "Defaulting to user installation because normal site-packages is not writeable\n",
      "Requirement already satisfied: seaborn in /home/jovyan/.local/lib/python3.8/site-packages (0.13.0)\n",
      "Requirement already satisfied: numpy!=1.24.0,>=1.20 in /home/jovyan/.local/lib/python3.8/site-packages (from seaborn) (1.24.4)\n",
      "Requirement already satisfied: pandas>=1.2 in /usr/local/lib/python3.8/dist-packages (from seaborn) (2.0.3)\n",
      "Requirement already satisfied: matplotlib!=3.6.1,>=3.3 in /usr/local/lib/python3.8/dist-packages (from seaborn) (3.7.4)\n",
      "Requirement already satisfied: contourpy>=1.0.1 in /usr/local/lib/python3.8/dist-packages (from matplotlib!=3.6.1,>=3.3->seaborn) (1.1.1)\n",
      "Requirement already satisfied: cycler>=0.10 in /usr/lib/python3/dist-packages (from matplotlib!=3.6.1,>=3.3->seaborn) (0.10.0)\n",
      "Requirement already satisfied: fonttools>=4.22.0 in /usr/local/lib/python3.8/dist-packages (from matplotlib!=3.6.1,>=3.3->seaborn) (4.47.2)\n",
      "Requirement already satisfied: kiwisolver>=1.0.1 in /usr/lib/python3/dist-packages (from matplotlib!=3.6.1,>=3.3->seaborn) (1.0.1)\n",
      "Requirement already satisfied: packaging>=20.0 in /usr/local/lib/python3.8/dist-packages (from matplotlib!=3.6.1,>=3.3->seaborn) (23.2)\n",
      "Requirement already satisfied: pillow>=6.2.0 in /usr/local/lib/python3.8/dist-packages (from matplotlib!=3.6.1,>=3.3->seaborn) (10.2.0)\n",
      "Requirement already satisfied: pyparsing>=2.3.1 in /usr/local/lib/python3.8/dist-packages (from matplotlib!=3.6.1,>=3.3->seaborn) (3.1.1)\n",
      "Requirement already satisfied: python-dateutil>=2.7 in /usr/local/lib/python3.8/dist-packages (from matplotlib!=3.6.1,>=3.3->seaborn) (2.8.2)\n",
      "Requirement already satisfied: importlib-resources>=3.2.0 in /usr/local/lib/python3.8/dist-packages (from matplotlib!=3.6.1,>=3.3->seaborn) (6.1.1)\n",
      "Requirement already satisfied: pytz>=2020.1 in /usr/local/lib/python3.8/dist-packages (from pandas>=1.2->seaborn) (2023.3.post1)\n",
      "Requirement already satisfied: tzdata>=2022.1 in /usr/local/lib/python3.8/dist-packages (from pandas>=1.2->seaborn) (2023.4)\n",
      "Requirement already satisfied: zipp>=3.1.0 in /usr/local/lib/python3.8/dist-packages (from importlib-resources>=3.2.0->matplotlib!=3.6.1,>=3.3->seaborn) (3.17.0)\n",
      "Requirement already satisfied: six>=1.5 in /usr/lib/python3/dist-packages (from python-dateutil>=2.7->matplotlib!=3.6.1,>=3.3->seaborn) (1.14.0)\n",
      "^C\n",
      "\u001b[31mERROR: Operation cancelled by user\u001b[0m\u001b[31m\n",
      "\u001b[0m"
     ]
    },
    {
     "name": "stderr",
     "output_type": "stream",
     "text": [
      "\n",
      "KeyboardInterrupt\n",
      "\n"
     ]
    }
   ],
   "source": [
    "!pip install langchain\n",
    "!pip install openai\n",
    "!pip install seaborn\n",
    "!pip install matplotlib\n",
    "!pip install pandas\n",
    "!pip install scikit-learn\n",
    "!pip install nltk\n",
    "!pip install tiktoken\n",
    "!pip install flair\n",
    "!pip install quantulum3\n",
    "!pip install pyap\n",
    "!pip install stemming"
   ]
  },
  {
   "cell_type": "code",
   "execution_count": null,
   "id": "5704c6ff-f819-4151-afdb-19e734857b84",
   "metadata": {},
   "outputs": [],
   "source": [
    "from tqdm.notebook import tqdm\n"
   ]
  },
  {
   "cell_type": "code",
   "execution_count": null,
   "id": "4b5ae7bdf19261ae",
   "metadata": {
    "ExecuteTime": {
     "start_time": "2024-01-10T10:05:27.347637300Z"
    },
    "collapsed": false,
    "is_executing": true,
    "jupyter": {
     "outputs_hidden": false
    }
   },
   "outputs": [],
   "source": [
    "import json\n",
    "with open(\"../scripts/datascraping/data/flyers_text.json\", 'r') as file:\n",
    "    data = json.load(file)\n",
    "\n",
    "docs = []\n",
    "for title, doc in data.items():\n",
    "    for header, section in data.items():\n",
    "        docs.append(str({title: {header: section}}))\n"
   ]
  },
  {
   "cell_type": "code",
   "execution_count": null,
   "id": "90035e67719a3285",
   "metadata": {
    "collapsed": false,
    "jupyter": {
     "outputs_hidden": false
    }
   },
   "outputs": [],
   "source": [
    "import random\n",
    "import pandas as pd\n",
    "docs = [doc for doc in docs if len(doc) < 3000]\n",
    "sample = random.sample(docs, 50)\n",
    "\n",
    "data = pd.DataFrame({\"documents\": sample})\n",
    "\n",
    "data.head()"
   ]
  },
  {
   "cell_type": "code",
   "execution_count": null,
   "id": "592ec4f2-dcfa-4be4-a0ff-c57e722ebec2",
   "metadata": {},
   "outputs": [],
   "source": [
    "from extract import extract_all_entities\n",
    "\n",
    "data['entities'] = data['documents'].apply(extract_all_entities)\n",
    "\n",
    "data.head()\n"
   ]
  },
  {
   "cell_type": "code",
   "execution_count": null,
   "id": "88653476-fb68-4c88-b8a3-8df07436d8e8",
   "metadata": {
    "tags": []
   },
   "outputs": [],
   "source": [
    "data.to_csv(\"entities.csv\")\n",
    "\n"
   ]
  },
  {
   "cell_type": "code",
   "execution_count": null,
   "id": "fcf49514-0c1b-4303-9028-e4a876c2b524",
   "metadata": {},
   "outputs": [],
   "source": [
    "from ner import extract_entities\n",
    "\n",
    "# Applying the function to the 'documents' column\n",
    "data['Entities'] = data['documents'].apply(extract_entities)\n",
    "\n",
    "data\n",
    "data.to_csv(\"entities.csv\")\n"
   ]
  },
  {
   "cell_type": "code",
   "execution_count": null,
   "id": "85b6c5b9-a96b-4116-a1bb-6f8b9431d3a4",
   "metadata": {},
   "outputs": [],
   "source": [
    "from fact_qa import FactQAGenerator\n",
    "from prompt_factory import PromptFactory\n",
    "import langchain\n",
    "\n",
    "template = '''\n",
    "Gedraag je als iemand die online informatie zoekt en stelt vragen gebaseerd op specifieke feiten zoals locatie, telefoonnummer, naam, enzovoort.\n",
    "\n",
    "Patiënten of gebruikers kunnen bijvoorbeeld vragen stellen als:\n",
    "{{\n",
    "    \"qa_list\": [\n",
    "        {{\n",
    "            \"question\": \"Wat is het telefoonnummer van de kliniek voor noodgevallen?\",\n",
    "            \"answer\": \"Het telefoonnummer van de kliniek voor noodgevallen is 012-345-6789.\"\n",
    "        }},\n",
    "        {{\n",
    "            \"question\": \"Waar is de hoofdingang van het ziekenhuis gelegen?\",\n",
    "            \"answer\": \"De hoofdingang van het ziekenhuis is gelegen aan de Eerste Gezondheidsstraat 123 in Amsterdam.\"\n",
    "        }}\n",
    "        // meer vragen en antwoorden gebaseerd op specifieke feiten\n",
    "    ]\n",
    "}}\n",
    "\n",
    "in het json formaat:\n",
    "{format}\n",
    "\n",
    "Document Informatie:\n",
    "{document}\n",
    "\n",
    "Belangrijke Opmerking: Bij het genereren van vragen, gebruik specifieke termen en benamingen uit het document in plaats van algemene termen. Verwijs direct naar de specifieke feit (zoals locatie, telefoonnummer, naam) om nauwkeurigheid en duidelijkheid in de vragen te waarborgen. Vermijd algemeenheden.\n",
    "\n",
    "Maak vragen die beantwoord kunnen worden met de volgende informatie: {fact}\n",
    "\n",
    "Stel {n} vragen die beantwoord kunnen worden op basis van deze paragraaf in het formaat:\n",
    "{format}\n",
    "\n",
    "Zorg ervoor dat elke vraag en antwoord paar in een geldig JSON-formaat is. Dit betekent dat vragen en antwoorden tussen dubbele aanhalingstekens moeten staan, en de algemene structuur moet overeenkomen met het vereiste JSON-schema.\n",
    "        '''\n",
    "\n",
    "base_prompt = langchain.PromptTemplate(\n",
    "            template=template,\n",
    "            input_variables=['fact', 'n', 'document', 'format']\n",
    "        )\n",
    "\n",
    "num_questions_per_doc = 5\n",
    "\n",
    "dfs = []\n",
    "\n",
    "FactQAGenerator = FactQAGenerator()\n",
    "# Generate the data\n",
    "for index, row in data.iterrows():\n",
    "    doc = row['documents']\n",
    "    # Assuming phone numbers are separated by commas\n",
    "    phone_numbers = row['phone_numbers'].split(',')\n",
    "    try:\n",
    "        for phone_number in phone_numbers:\n",
    "            # Trimming any extra whitespace\n",
    "            phone_number = phone_number.strip()\n",
    "            fact = {'type': 'phone_number', 'value': phone_number}\n",
    "            # Generate prompt for each document and phone number\n",
    "            prompt = base_prompt.partial(\n",
    "                n=num_questions_per_doc,\n",
    "                document=doc)\n",
    "            qa_list = FactQAGenerator.generate_question_for_fact(prompt, fact)\n",
    "            for qa in qa_list:\n",
    "                new_row = {'Document': doc, 'Question': qa.question, 'Answer': qa.answer, 'Fact': phone_number}\n",
    "                dfs.append(new_row)\n",
    "    except Exception as e:\n",
    "            print(f\"Failed to generate QA for document: {doc}. Error: {e}\")\n",
    "            continue\n",
    "\n",
    "# Convert to DataFrame\n",
    "df = pd.DataFrame(dfs)\n",
    "\n",
    "# Display the DataFrame\n",
    "print(df)\n"
   ]
  },
  {
   "cell_type": "code",
   "execution_count": null,
   "id": "b58629bf-da97-4489-a54d-5c1dd55f5189",
   "metadata": {},
   "outputs": [],
   "source": [
    "df.to_csv('./fact-output.csv')"
   ]
  },
  {
   "cell_type": "code",
   "execution_count": null,
   "id": "739045f2-2541-483a-8ae5-f6b3708a736d",
   "metadata": {},
   "outputs": [],
   "source": [
    "from phone import normalize_phone_number\n",
    "\n",
    "df['Normalized Fact'] = df['Fact'].apply(lambda x: normalize_phone_number(x) if x is not None else None)\n",
    "df['Normalized Answer'] = df['Answer'].apply(lambda x: extract_phone_numbers(x))\n",
    "\n",
    "# Filtering the DataFrame where normalized 'Answer' contains the normalized 'Fact'\n",
    "filtered_df = df[df.apply(lambda x: x['Normalized Fact'] is not None and x['Normalized Fact'] in x['Normalized Answer'], axis=1)]\n",
    "filtered_df\n"
   ]
  },
  {
   "cell_type": "code",
   "execution_count": null,
   "id": "f653a6c2-9db9-4210-bbf8-0b5851f53176",
   "metadata": {},
   "outputs": [],
   "source": [
    "df"
   ]
  },
  {
   "cell_type": "code",
   "execution_count": null,
   "id": "a1c64eff-e2e3-46ad-a9e1-0986c17fbb44",
   "metadata": {},
   "outputs": [],
   "source": []
  }
 ],
 "metadata": {
  "kernelspec": {
   "display_name": "Python",
   "language": "python",
   "name": "python3"
  },
  "language_info": {
   "codemirror_mode": {
    "name": "ipython",
    "version": 3
   },
   "file_extension": ".py",
   "mimetype": "text/x-python",
   "name": "python",
   "nbconvert_exporter": "python",
   "pygments_lexer": "ipython3",
   "version": "3.8.10"
  }
 },
 "nbformat": 4,
 "nbformat_minor": 5
}
