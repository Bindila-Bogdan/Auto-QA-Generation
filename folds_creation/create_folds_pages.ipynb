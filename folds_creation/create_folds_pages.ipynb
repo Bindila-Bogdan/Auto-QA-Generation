{
 "cells": [
  {
   "cell_type": "markdown",
   "metadata": {},
   "source": [
    "### 0. Import libraries and load data"
   ]
  },
  {
   "cell_type": "code",
   "execution_count": 1,
   "metadata": {},
   "outputs": [],
   "source": [
    "import os\n",
    "import json\n",
    "import pandas as pd\n",
    "\n",
    "DATA_FOLDER_PATH = \"./folds_data/-paraphrase-multilingual-MiniLM-L12-v2_3015/\"\n",
    "GROUPED_SECTIONS_FILE_PATH = \"../datascraping/data/grouped_sections.json\"\n",
    "STORAGE_PATH = \"./rag_pages/\""
   ]
  },
  {
   "cell_type": "code",
   "execution_count": 2,
   "metadata": {},
   "outputs": [],
   "source": [
    "# load grouped sections\n",
    "with open(GROUPED_SECTIONS_FILE_PATH) as file:\n",
    "    grouped_sections = dict(json.load(file))\n",
    "\n",
    "# get filenames of folds\n",
    "dataset_names = os.listdir(DATA_FOLDER_PATH)"
   ]
  },
  {
   "cell_type": "markdown",
   "metadata": {},
   "source": [
    "### 1. Get and store the pages that contain the sections from each fold"
   ]
  },
  {
   "cell_type": "code",
   "execution_count": 3,
   "metadata": {},
   "outputs": [],
   "source": [
    "def find_sections(grouped_sections, filename, section):\n",
    "    \"\"\"\n",
    "    It returns the file name, page number and group of sections that contains the input\n",
    "    section. If the section is not found or is duplicated, it raises an exception.\n",
    "    \"\"\"\n",
    "\n",
    "    found_info = \"\"\n",
    "    found_groups_count = 0\n",
    "\n",
    "    # iterate over PDFs\n",
    "    for current_filename, data in grouped_sections.items():\n",
    "        # iterate over grouped sections\n",
    "        for page_number, grouped_sections_ in data.items():\n",
    "            if section in grouped_sections_ and current_filename == filename:\n",
    "                found_groups_count += 1\n",
    "                found_info = (current_filename, page_number, grouped_sections_)\n",
    "                \n",
    "    if found_groups_count != 1:\n",
    "        raise Exception(\"Duplicated or not found section in the data.\")\n",
    "    else:\n",
    "        return found_info\n"
   ]
  },
  {
   "cell_type": "code",
   "execution_count": 4,
   "metadata": {},
   "outputs": [
    {
     "name": "stdout",
     "output_type": "stream",
     "text": [
      "test_fold_one.csv - 50 sections\n",
      "test_fold_two.csv - 50 sections\n",
      "train_fold_one.csv - 200 sections\n",
      "train_fold_two.csv - 200 sections\n"
     ]
    }
   ],
   "source": [
    "for dataset_name in dataset_names:\n",
    "    fold_sections = pd.read_csv(DATA_FOLDER_PATH + dataset_name, index_col=0)\n",
    "    sections = fold_sections[\"section_text\"].tolist()\n",
    "    filenames = fold_sections[\"filename\"].tolist()\n",
    "\n",
    "    print(f\"{dataset_name} - {len(sections)} sections\")\n",
    "\n",
    "    filtered_grouped_sections = []\n",
    "\n",
    "    for filename, section in zip(filenames, sections):\n",
    "        filtered_grouped_sections.append(\n",
    "            find_sections(grouped_sections, filename, section)\n",
    "        )\n",
    "\n",
    "    filtered_grouped_sections_df = pd.DataFrame(\n",
    "        filtered_grouped_sections, columns=[\"filename\", \"page number\", \"page text\"]\n",
    "    )\n",
    "    filtered_grouped_sections_df.to_csv(STORAGE_PATH + dataset_name[:-4] + \"_pages.csv\", index=None)\n"
   ]
  }
 ],
 "metadata": {
  "kernelspec": {
   "display_name": "auto_qa_gen",
   "language": "python",
   "name": "python3"
  },
  "language_info": {
   "codemirror_mode": {
    "name": "ipython",
    "version": 3
   },
   "file_extension": ".py",
   "mimetype": "text/x-python",
   "name": "python",
   "nbconvert_exporter": "python",
   "pygments_lexer": "ipython3",
   "version": "3.12.0"
  }
 },
 "nbformat": 4,
 "nbformat_minor": 2
}
