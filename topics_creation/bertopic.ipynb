{
 "cells": [
  {
   "cell_type": "code",
   "execution_count": 16,
   "id": "0ba5bbb4-4044-4330-8344-791a7806d467",
   "metadata": {},
   "outputs": [
    {
     "name": "stdout",
     "output_type": "stream",
     "text": [
      "Quantity of sections: 11292\n"
     ]
    }
   ],
   "source": [
    "from bertopic import BERTopic\n",
    "import statistics\n",
    "import numpy as np\n",
    "import json\n",
    "from umap import UMAP\n",
    "from hdbscan import HDBSCAN\n",
    "\n",
    "'''\n",
    "PDFs parsing:\n",
    "Output format: a dictionary of dictionaries\n",
    "The name of each document is used for the keys of the dictionary\n",
    "Then, the value associated to that key is another dictionary, whose \n",
    "keys are the names of the sections and theirs values, the paragraphs\n",
    "'''\n",
    "\n",
    "# First we import the files\n",
    "our_flyers_path = 'flyers_wo_outliers.json'\n",
    "\n",
    "with open(our_flyers_path, 'r') as file:\n",
    "    json_file = json.load(file)\n",
    "\n",
    "# A section\n",
    "#a = json_file[\"(Langdurig) gebroken vliezen\"]['Check uw dossier op MijnZGT']\n",
    "\n",
    "# The list of sections to analyze is the list of values of each value of the original dictionary (json file)\n",
    "'''sections_dict = {} # The dictionary is to avoid repeated elements\n",
    "saw_sections = []\n",
    "counter = -1\n",
    "for document in json_file.values(): \n",
    "    counter += 1\n",
    "    for section in document.values(): \n",
    "        if section not in saw_sections:\n",
    "            sections_dict[section] = counter\n",
    "            saw_sections.append(section)'''\n",
    "            \n",
    "sections_list = []\n",
    "saw_sections = []\n",
    "counter = -1\n",
    "for document in json_file.values(): \n",
    "    counter += 1\n",
    "    for section in document.values(): \n",
    "        if section not in saw_sections:\n",
    "            sections_list.append(section)\n",
    "            \n",
    "files_names_list = []\n",
    "extended_files_names_list = []\n",
    "sections_headers_list = []\n",
    "for file_name in json_file.keys():\n",
    "    files_names_list.append(file_name)\n",
    "    aux_list = [file_name]*len(document.keys())\n",
    "    extended_files_names_list.extend(aux_list)\n",
    "    document = json_file[file_name]\n",
    "    for header in document.keys():\n",
    "        sections_headers_list.append(header)\n",
    "'''\n",
    "SOME OF THE SECTIONS ARE REPEATED, SO THERE'S LITTLE POINT ON KEEPING THEM\n",
    "'''\n",
    "#sections = list(sections_dict.keys())\n",
    "#document_id_list = list(sections_dict.values())\n",
    "\n",
    "# We put together the sections with their headers\n",
    "section_headers_dict = {}\n",
    "file_names_dict = {}\n",
    "sections_list_ = []\n",
    "for index,section in enumerate(sections_list): \n",
    "    if section not in list(file_names_dict.keys()):\n",
    "        sections_list_.append(section)\n",
    "    section_headers_dict[section] = sections_headers_list[index] \n",
    "    file_names_dict[section] = extended_files_names_list[index]\n",
    "# Repeated sections we are only counting them once and putting them the header of the last document... \n",
    "# Hopefully, these headers would be the same for the repeated sections\n",
    "\n",
    "print(\"Quantity of sections:\", len(sections_list_))"
   ]
  },
  {
   "cell_type": "code",
   "execution_count": 25,
   "id": "da849f75-be44-49ea-b35d-dff35ea98eb2",
   "metadata": {},
   "outputs": [
    {
     "name": "stderr",
     "output_type": "stream",
     "text": [
      "[nltk_data] Downloading package stopwords to /home/jovyan/nltk_data...\n",
      "[nltk_data]   Package stopwords is already up-to-date!\n",
      "2024-01-17 12:58:31,299 - BERTopic - Embedding - Transforming documents to embeddings.\n"
     ]
    },
    {
     "data": {
      "application/vnd.jupyter.widget-view+json": {
       "model_id": "c2b24107b4c14ff092ec205db88bd20e",
       "version_major": 2,
       "version_minor": 0
      },
      "text/plain": [
       "Batches:   0%|          | 0/353 [00:00<?, ?it/s]"
      ]
     },
     "metadata": {},
     "output_type": "display_data"
    },
    {
     "name": "stderr",
     "output_type": "stream",
     "text": [
      "2024-01-17 12:59:03,166 - BERTopic - Embedding - Completed ✓\n",
      "2024-01-17 12:59:03,168 - BERTopic - Dimensionality - Fitting the dimensionality reduction algorithm\n",
      "2024-01-17 12:59:12,180 - BERTopic - Dimensionality - Completed ✓\n",
      "2024-01-17 12:59:12,183 - BERTopic - Cluster - Start clustering the reduced embeddings\n",
      "2024-01-17 12:59:15,361 - BERTopic - Cluster - Completed ✓\n",
      "2024-01-17 12:59:15,367 - BERTopic - Representation - Extracting topics from clusters using representation models.\n",
      "2024-01-17 12:59:17,604 - BERTopic - Representation - Completed ✓\n"
     ]
    }
   ],
   "source": [
    "# Apply BERTopic\n",
    "\n",
    "from bertopic.backend import BaseEmbedder\n",
    "from sentence_transformers import SentenceTransformer\n",
    "from sklearn.feature_extraction.text import CountVectorizer\n",
    "import nltk\n",
    "from nltk.corpus import stopwords\n",
    " \n",
    "nltk.download('stopwords')\n",
    "stopwords = stopwords.words('dutch')\n",
    "\n",
    "class CustomEmbedder(BaseEmbedder):\n",
    "    def __init__(self, embedding_model):\n",
    "        super().__init__()\n",
    "        self.embedding_model = embedding_model\n",
    "\n",
    "    def embed(self, documents, verbose=False):\n",
    "        embeddings = self.embedding_model.encode(documents, show_progress_bar=verbose)\n",
    "        return embeddings \n",
    "    \n",
    "# Add removing of stop words in CountVectorizer\n",
    "vectorizer_model = CountVectorizer(ngram_range=(2, 2), stop_words=stopwords)\n",
    "\n",
    "# Create custom backend\n",
    "embedding_model = SentenceTransformer(\"distiluse-base-multilingual-cased-v1\")\n",
    "custom_embedder = CustomEmbedder(embedding_model=embedding_model)\n",
    "\n",
    "n_components = 35\n",
    "min_cluster_size = 45\n",
    "\n",
    "umap_model = UMAP(n_neighbors=15, n_components=n_components, min_dist=0.0, metric='cosine')\n",
    "topic_model = BERTopic(embedding_model=custom_embedder, vectorizer_model=vectorizer_model, calculate_probabilities=True, verbose=True,\n",
    "                       min_topic_size=min_cluster_size, umap_model=umap_model)\n",
    "topics, probs = topic_model.fit_transform(sections_list_)"
   ]
  },
  {
   "cell_type": "code",
   "execution_count": 26,
   "id": "0b379e14-7aab-44e1-9c50-08d4a6437c31",
   "metadata": {},
   "outputs": [
    {
     "name": "stdout",
     "output_type": "stream",
     "text": [
      "Creating embeddings manually...\n"
     ]
    },
    {
     "data": {
      "application/vnd.jupyter.widget-view+json": {
       "model_id": "f9b6bb0f04154962828488136dc2245c",
       "version_major": 2,
       "version_minor": 0
      },
      "text/plain": [
       "Batches:   0%|          | 0/353 [00:00<?, ?it/s]"
      ]
     },
     "metadata": {},
     "output_type": "display_data"
    },
    {
     "name": "stdout",
     "output_type": "stream",
     "text": [
      "4\n"
     ]
    }
   ],
   "source": [
    "# Create the embeddings from the outside (need them to evaluate clusters without outliers)\n",
    "from sklearn.metrics.pairwise import cosine_similarity\n",
    "\n",
    "# Definir una función de distancia angular basada en la similitud del coseno\n",
    "def angular_distance(X, Y=None):\n",
    "    if Y is None:\n",
    "        Y = X\n",
    "    cosine_sim = cosine_similarity(X, Y)\n",
    "    return 1 - cosine_sim\n",
    "\n",
    "\n",
    "print(\"Creating embeddings manually...\")\n",
    "\n",
    "manual_embeddings = custom_embedder.embed(sections_list_, verbose=True)\n",
    "umap_model = UMAP(n_neighbors=15, n_components=n_components, min_dist=0.0, metric='cosine')\n",
    "reduced_embeddings = umap_model.fit_transform(manual_embeddings)\n",
    "hdbscan_model = HDBSCAN(min_cluster_size=min_cluster_size, metric=\"euclidean\", cluster_selection_method='eom', prediction_data=True)\n",
    "labels = hdbscan_model.fit_predict(reduced_embeddings)\n",
    "number_of_clusters = len(set(labels))\n",
    "\n",
    "list_of_centroids = []\n",
    "for label in labels:\n",
    "    if label != -1: \n",
    "        centroid = hdbscan_model.weighted_cluster_centroid(label)\n",
    "    else: \n",
    "        centroid = np.zeros(n_components)\n",
    "    list_of_centroids.append(centroid)\n",
    "    \n",
    "print(number_of_clusters)"
   ]
  },
  {
   "cell_type": "code",
   "execution_count": 27,
   "id": "e644b542-4e47-4d1c-8841-ba92248d8ac2",
   "metadata": {},
   "outputs": [],
   "source": [
    "import pandas as pd\n",
    "# CREATE BOGDAN'S DATAFRAME\n",
    "list_of_representations = []\n",
    "for key,value in topic_model.topic_representations_.items():\n",
    "    topic_words = []\n",
    "    for tuple_ in value: \n",
    "        topic_words.append(tuple_[0])\n",
    "    list_of_representations.append(topic_words)\n",
    "\n",
    "# For topic representations and embeddings we only have ~200 of them, so we have to expand them and put one for each sample\n",
    "expanded_topic_words_list = []\n",
    "expanded_centroid_list = []\n",
    "for topic_id in topic_model.topics_: \n",
    "    expanded_topic_words_list.append(list_of_representations[topic_id+1])\n",
    "    expanded_centroid_list.append(topic_model.topic_embeddings_[topic_id+1])\n",
    "    \n",
    "# Transform embeddings to lists\n",
    "large_embeddings = []\n",
    "small_embeddings = []\n",
    "for embed in manual_embeddings: \n",
    "    large_embeddings.append(list(embed))\n",
    "for embed in reduced_embeddings: \n",
    "    small_embeddings.append(list(embed))\n",
    "    \n",
    "bogdan_df = pd.DataFrame()\n",
    "bogdan_df[\"section_header\"] = list(section_headers_dict.values())\n",
    "bogdan_df[\"section_file\"] = list(file_names_dict.values())\n",
    "bogdan_df[\"section_text\"] = sections_list_\n",
    "bogdan_df[\"section_embedding\"] = large_embeddings\n",
    "bogdan_df[\"reduced_section_embedding\"] = small_embeddings\n",
    "bogdan_df[\"cluster_id\"] = topic_model.topics_\n",
    "bogdan_df[\"centroid\"] = expanded_centroid_list\n",
    "bogdan_df[\"topic centroid\"] = list_of_centroids\n",
    "bogdan_df[\"topic_words\"] = expanded_topic_words_list\n",
    "bogdan_df.to_csv(\"bertopic_df_distiluse-base-multilingual-cased-v1_4535.csv\", index=False)"
   ]
  },
  {
   "cell_type": "code",
   "execution_count": 29,
   "id": "5aa04aeb-97b7-4d08-b4c6-85e5969bbc12",
   "metadata": {},
   "outputs": [
    {
     "name": "stderr",
     "output_type": "stream",
     "text": [
      "2024-01-06 02:39:04,486 - BERTopic - Dimensionality - Fitting the dimensionality reduction algorithm\n",
      "2024-01-06 02:39:17,335 - BERTopic - Dimensionality - Completed ✓\n",
      "2024-01-06 02:39:17,340 - BERTopic - Cluster - Start clustering the reduced embeddings\n",
      "2024-01-06 02:39:36,368 - BERTopic - Cluster - Completed ✓\n",
      "2024-01-06 02:39:36,378 - BERTopic - Representation - Extracting topics from clusters using representation models.\n",
      "2024-01-06 02:39:37,669 - BERTopic - Representation - Completed ✓\n"
     ]
    }
   ],
   "source": [
    "# Generate the noisy embeddings\n",
    "noisy_embeddings = manual_embeddings.copy()\n",
    "\n",
    "for index,embedding in enumerate(noisy_embeddings): \n",
    "    noise = np.random.normal(0,0.0005, len(embedding))\n",
    "    noisy_embeddings[index] += 0 #noise\n",
    "    \n",
    "# Train a model with noisy embeddings\n",
    "\n",
    "noisy_model = BERTopic(language=\"multilingual\", calculate_probabilities=True, verbose=True)\n",
    "noisy_topics, noisy_probs = noisy_model.fit_transform(sections, noisy_embeddings)"
   ]
  },
  {
   "cell_type": "markdown",
   "id": "38242710-8b84-4be9-9bad-79c98c0afb32",
   "metadata": {},
   "source": [
    "## CLUSTERS EVALUATION (outdated)"
   ]
  },
  {
   "cell_type": "code",
   "execution_count": 30,
   "id": "d3fab8b3-144a-4b1f-8ce8-a6f0c297b5c5",
   "metadata": {},
   "outputs": [
    {
     "name": "stdout",
     "output_type": "stream",
     "text": [
      "Clustered elements (without outliers): 7207 7207 7207\n"
     ]
    }
   ],
   "source": [
    "# Remove outliers before clustering evaluation\n",
    "labels = []\n",
    "manual_embeddings_ = []\n",
    "noisy_labels = []\n",
    "\n",
    "for index,element in enumerate(topic_model.topics_): \n",
    "    if element != -1: \n",
    "        labels.append(element)\n",
    "        noisy_labels.append(noisy_model.topics_[index]) # ATTENTION: I DON'T REMEMBER THE OUTLIERS IN THE NOISY_LABELS, \n",
    "        # BUT THOSE POSITIONS WHERE OUTLIERS WHERE SPOTTED IN THE HEALTHY LABELS! IF CLUSTERS ARE ROBUST, THEY SHOULD BE THE SAME!!!!!\n",
    "        manual_embeddings_.append(manual_embeddings[index])\n",
    "    \n",
    "print(\"Clustered elements (without outliers):\", len(manual_embeddings_), len(labels), len(noisy_labels))"
   ]
  },
  {
   "cell_type": "code",
   "execution_count": 31,
   "id": "f99b0f43-680c-46c7-a425-06df6c6d8ec1",
   "metadata": {},
   "outputs": [
    {
     "name": "stdout",
     "output_type": "stream",
     "text": [
      "Davies Bouldin score: 2.5073791911987344\n",
      "Calinski Harabasz score 23.02730734507468\n",
      "Silhouette score 0.094600596\n",
      "\n",
      "Adjusted rand score: 0.3904031007576705\n",
      "Adjusted mutual information score: 0.8228815226510863\n",
      "Normalized mutual information score: 0.872004540990628\n",
      "\n",
      "Sematic score: 50.71%\n"
     ]
    }
   ],
   "source": [
    "# Davies Boulding test\n",
    "from sklearn.metrics import davies_bouldin_score, calinski_harabasz_score, silhouette_score\n",
    "from sklearn.metrics.cluster import adjusted_rand_score, adjusted_mutual_info_score, normalized_mutual_info_score\n",
    "\n",
    "# Distance metrics\n",
    "print(\"Davies Bouldin score:\", davies_bouldin_score(manual_embeddings_, labels)) # The lower the better\n",
    "print(\"Calinski Harabasz score\", calinski_harabasz_score(manual_embeddings_, labels)) # The higher the better\n",
    "print(\"Silhouette score\", silhouette_score(manual_embeddings_, labels, metric=\"cosine\")) # The higher the better\n",
    "\n",
    "# Robustness metrics\n",
    "print(\"\\nAdjusted rand score:\", adjusted_rand_score(labels,noisy_labels)) # The higher the better\n",
    "print(\"Adjusted mutual information score:\", adjusted_mutual_info_score(labels,noisy_labels)) # The higher the better\n",
    "print(\"Normalized mutual information score:\", normalized_mutual_info_score(labels,noisy_labels)) # The higher the better\n",
    "\n",
    "### Semantic metric\n",
    "\n",
    "# Create sublists with the labels assigned to sections in the same document (including outliers)\n",
    "prev = 0\n",
    "doc_labels = []\n",
    "docs_labels_list = []\n",
    "for index,element in enumerate(document_id_list): \n",
    "    if element == prev:\n",
    "        doc_labels.append(topic_model.topics_[index])\n",
    "    else: \n",
    "        docs_labels_list.append(doc_labels)\n",
    "        doc_labels = []\n",
    "        doc_labels.append(topic_model.topics_[index])\n",
    "    prev = element\n",
    "docs_labels_list.append(doc_labels)\n",
    "\n",
    "# Take the cluster that is the most frequent and see how frequent it is in the list\n",
    "scores_list = []\n",
    "for doc in docs_labels_list: # Each doc is a lists with the labels of its sections\n",
    "    # Find the most repeated label in the document\n",
    "    most_freq_label = max(set(doc), key=doc.count)\n",
    "    # Find how many time does that label appear and compare it with the total quantity of labels (sections) of the doc\n",
    "    label_repetitions = doc.count(most_freq_label)\n",
    "    score = (label_repetitions/len(doc))*100\n",
    "    scores_list.append(score)\n",
    "    \n",
    "# Compute the total score weighting the score of each doc with its number of sections\n",
    "sum_of_scores = 0\n",
    "for index,doc in enumerate(docs_labels_list): \n",
    "    sum_of_scores += scores_list[index]*len(doc)\n",
    "\n",
    "weighted_score = sum_of_scores/len(topic_model.topics_)\n",
    "\n",
    "'''\n",
    "This metric as it is is not very intuitive, because it is upper bounded by 84.68% (because we discard repeated sections) and\n",
    "lower bounded by the score that we would get if no repeated section would be in any document (11.16%)...\n",
    "\n",
    "Then, we should rescale it!\n",
    "'''\n",
    "\n",
    "weighted_score = (weighted_score - 11.16)*100/(84.68-11.16)\n",
    "\n",
    "    \n",
    "print(\"\\nSematic score:\", str(round(weighted_score,2))+\"%\")"
   ]
  },
  {
   "cell_type": "markdown",
   "id": "1f4f65b8-3a1b-422d-9774-bea266a908a1",
   "metadata": {},
   "source": [
    "## DATA VISUALIZATION"
   ]
  },
  {
   "cell_type": "code",
   "execution_count": 27,
   "id": "197f26c5-26a1-427e-9a90-c369298bb1e2",
   "metadata": {},
   "outputs": [
    {
     "name": "stdout",
     "output_type": "stream",
     "text": [
      "Number of topics: 216\n"
     ]
    },
    {
     "data": {
      "image/png": "[encoded data removed]",
      "text/plain": [
       "<Figure size 640x480 with 1 Axes>"
      ]
     },
     "metadata": {},
     "output_type": "display_data"
    }
   ],
   "source": [
    "import matplotlib.pyplot as plt\n",
    "import statistics as st\n",
    "\n",
    "# How many topics did we get\n",
    "topic_sizes = topic_model.topic_sizes_.values()\n",
    "print(\"Number of topics:\",len(topic_sizes)-1)\n",
    "\n",
    "topic_sizes = topic_model.topic_sizes_\n",
    "try:\n",
    "    topic_sizes.pop(-1)\n",
    "except: \n",
    "    pass\n",
    "\n",
    "mean = round(st.mean(topic_sizes.values()),2)\n",
    "median = round(st.median(topic_sizes.values()),2)\n",
    "\n",
    "plt.hist(topic_sizes.values(), color='blue', bins=21) \n",
    "\n",
    "plt.axvline(x=mean, color='red', linestyle='--', label=\"Mean\")\n",
    "plt.axvline(x=median, color='black', linestyle='--', label=\"Median\")\n",
    "plt.text(mean+1, plt.ylim()[1]-10, f'Mean: {mean}', color='red')\n",
    "plt.text(median+1, plt.ylim()[1]-30, f'Median: {median}', color='black')\n",
    "\n",
    "plt.xlabel('Sizes')\n",
    "plt.ylabel('Occurrences')\n",
    "plt.title('Topic sizes BERTopic')\n",
    "plt.show()"
   ]
  },
  {
   "cell_type": "code",
   "execution_count": null,
   "id": "43048f99-fea6-4ad3-a2d7-928817dbe5bc",
   "metadata": {},
   "outputs": [],
   "source": [
    "# Visualize topics\n",
    "topic_model.visualize_topics()"
   ]
  }
 ],
 "metadata": {
  "kernelspec": {
   "display_name": "Python",
   "language": "python",
   "name": "python3"
  },
  "language_info": {
   "codemirror_mode": {
    "name": "ipython",
    "version": 3
   },
   "file_extension": ".py",
   "mimetype": "text/x-python",
   "name": "python",
   "nbconvert_exporter": "python",
   "pygments_lexer": "ipython3",
   "version": "3.8.10"
  }
 },
 "nbformat": 4,
 "nbformat_minor": 5
}
