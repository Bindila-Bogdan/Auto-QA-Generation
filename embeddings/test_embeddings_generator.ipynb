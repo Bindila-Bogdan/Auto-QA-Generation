{
 "cells": [
  {
   "cell_type": "markdown",
   "metadata": {},
   "source": [
    "### 0. Import libraries, load data and define constants"
   ]
  },
  {
   "cell_type": "code",
   "execution_count": 2,
   "metadata": {},
   "outputs": [],
   "source": [
    "import json\n",
    "from tqdm import tqdm\n",
    "from langchain.embeddings.openai import OpenAIEmbeddings\n",
    "\n",
    "INPUT_FILE_PATH = \"../datascraping/data/flyers_wo_outliers.json\"\n",
    "OUTPUT_PER_SECTION_FILE_PATH = \"./data/flyers_embeddings.json\"\n",
    "OUTPUT_PER_PDF_FILE_PATH = \"./data/pdf_embeddings.json\""
   ]
  },
  {
   "cell_type": "code",
   "execution_count": 3,
   "metadata": {},
   "outputs": [],
   "source": [
    "# load filtered pdf data\n",
    "with open(INPUT_FILE_PATH) as file:\n",
    "    pdf_data = dict(json.load(file))"
   ]
  },
  {
   "cell_type": "code",
   "execution_count": 4,
   "metadata": {},
   "outputs": [],
   "source": [
    "# instantiate OpenAI Embeddings model\n",
    "embedder = OpenAIEmbeddings(model=\"text-embedding-ada-002\")"
   ]
  },
  {
   "cell_type": "markdown",
   "metadata": {},
   "source": [
    "### 1. Generate and store embeddings at section level"
   ]
  },
  {
   "cell_type": "code",
   "execution_count": 7,
   "metadata": {},
   "outputs": [
    {
     "name": "stderr",
     "output_type": "stream",
     "text": [
      "  0%|          | 0/1288 [00:00<?, ?it/s]"
     ]
    },
    {
     "name": "stderr",
     "output_type": "stream",
     "text": [
      "100%|██████████| 1288/1288 [1:13:18<00:00,  3.42s/it]\n"
     ]
    }
   ],
   "source": [
    "# dictionary that store the embeddings\n",
    "embeddings = dict()\n",
    "\n",
    "# number of files embedded when to store the current results\n",
    "files_no = 50\n",
    "\n",
    "# get number of pdfs\n",
    "pdfs_no = len(pdf_data)\n",
    "\n",
    "# iterate over PDFs\n",
    "for i, (file_name, data) in enumerate(tqdm(pdf_data.items())):\n",
    "    # dictionary that stores the embeddings of the current file\n",
    "    embeddings_current_pdf = dict()\n",
    "\n",
    "    # get each header and its section\n",
    "    for header, section in data.items():\n",
    "        text = f\"Filename: {file_name}\\nTitle: {header}\\n{section}\"\n",
    "\n",
    "        # embed text\n",
    "        embedding = embedder.embed_query(text)\n",
    "        embeddings_current_pdf[header] = embedding\n",
    "    \n",
    "    # add current embeddings to the rest ones previously generated\n",
    "    embeddings[file_name] = embeddings_current_pdf\n",
    "\n",
    "    if (i % files_no == 0 and i != 0) or (i == pdfs_no - 1):\n",
    "        # save data locally in JSON format\n",
    "        with open(OUTPUT_PER_SECTION_FILE_PATH, \"w\") as file:\n",
    "            file.write(json.dumps(embeddings, indent=4))"
   ]
  },
  {
   "cell_type": "markdown",
   "metadata": {},
   "source": [
    "### 2. Generate and store embeddings at PDF level"
   ]
  },
  {
   "cell_type": "code",
   "execution_count": 5,
   "metadata": {},
   "outputs": [
    {
     "name": "stderr",
     "output_type": "stream",
     "text": [
      "100%|██████████| 1288/1288 [09:06<00:00,  2.36it/s]\n"
     ]
    }
   ],
   "source": [
    "# dictionary that store the embeddings\n",
    "embeddings = dict()\n",
    "\n",
    "# number of files embedded when to store the current results\n",
    "files_no = 50\n",
    "\n",
    "# get number of pdfs\n",
    "pdfs_no = len(pdf_data)\n",
    "\n",
    "# iterate over PDFs\n",
    "for i, (file_name, data) in enumerate(tqdm(pdf_data.items())):\n",
    "    text = f\"Filename: {file_name}\\n\"\n",
    "\n",
    "    # get each header and its section\n",
    "    for header, section in data.items():\n",
    "        text += f\"Title: {header}\\n{section}\\n\\n\"\n",
    "\n",
    "    # embed text\n",
    "    embedding = embedder.embed_query(text)\n",
    "    embeddings[file_name] = embedding\n",
    "    \n",
    "    if (i % files_no == 0 and i != 0) or (i == pdfs_no - 1):\n",
    "        # save data locally in JSON format\n",
    "        with open(OUTPUT_PER_PDF_FILE_PATH, \"w\") as file:\n",
    "            file.write(json.dumps(embeddings, indent=4))"
   ]
  }
 ],
 "metadata": {
  "kernelspec": {
   "display_name": "auto_qa_gen",
   "language": "python",
   "name": "python3"
  },
  "language_info": {
   "codemirror_mode": {
    "name": "ipython",
    "version": 3
   },
   "file_extension": ".py",
   "mimetype": "text/x-python",
   "name": "python",
   "nbconvert_exporter": "python",
   "pygments_lexer": "ipython3",
   "version": "3.12.0"
  }
 },
 "nbformat": 4,
 "nbformat_minor": 2
}
